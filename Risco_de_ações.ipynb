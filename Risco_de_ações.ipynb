{
  "nbformat": 4,
  "nbformat_minor": 0,
  "metadata": {
    "colab": {
      "name": "Risco de ações.ipynb",
      "provenance": [],
      "collapsed_sections": [
        "xUnpCyZqFERv",
        "RAAWBxf3GMKV",
        "MAEA6W5lqAeu"
      ],
      "include_colab_link": true
    },
    "kernelspec": {
      "name": "python3",
      "display_name": "Python 3"
    }
  },
  "cells": [
    {
      "cell_type": "markdown",
      "metadata": {
        "id": "view-in-github",
        "colab_type": "text"
      },
      "source": [
        "<a href=\"https://colab.research.google.com/github/DeboraOliver/StockMarket_Analysis/blob/main/Risco_de_a%C3%A7%C3%B5es.ipynb\" target=\"_parent\"><img src=\"https://colab.research.google.com/assets/colab-badge.svg\" alt=\"Open In Colab\"/></a>"
      ]
    },
    {
      "cell_type": "markdown",
      "metadata": {
        "id": "Bgg_AisGjfoy"
      },
      "source": [
        "# Python para finanças - risco de ações"
      ]
    },
    {
      "cell_type": "markdown",
      "metadata": {
        "id": "x7M2Np1bji4T"
      },
      "source": [
        "## Importação das bibliotecas e base de dados"
      ]
    },
    {
      "cell_type": "code",
      "metadata": {
        "id": "WgwxIUe5XG42"
      },
      "source": [
        "import pandas as pd\n",
        "import numpy as np\n",
        "import math\n",
        "import matplotlib.pyplot as plt\n",
        "import seaborn as sns\n",
        "from scipy import stats"
      ],
      "execution_count": 1,
      "outputs": []
    },
    {
      "cell_type": "code",
      "metadata": {
        "colab": {
          "base_uri": "https://localhost:8080/",
          "height": 0
        },
        "id": "Bk2jXqp4BlZo",
        "outputId": "26785372-7d80-4595-d413-7d0eae54d5fe"
      },
      "source": [
        "dataset = pd.read_csv('acoes.csv')\n",
        "dataset"
      ],
      "execution_count": 2,
      "outputs": [
        {
          "output_type": "execute_result",
          "data": {
            "text/html": [
              "\n",
              "  <div id=\"df-470d567b-ec20-494e-91ec-bbbc4ee581e0\">\n",
              "    <div class=\"colab-df-container\">\n",
              "      <div>\n",
              "<style scoped>\n",
              "    .dataframe tbody tr th:only-of-type {\n",
              "        vertical-align: middle;\n",
              "    }\n",
              "\n",
              "    .dataframe tbody tr th {\n",
              "        vertical-align: top;\n",
              "    }\n",
              "\n",
              "    .dataframe thead th {\n",
              "        text-align: right;\n",
              "    }\n",
              "</style>\n",
              "<table border=\"1\" class=\"dataframe\">\n",
              "  <thead>\n",
              "    <tr style=\"text-align: right;\">\n",
              "      <th></th>\n",
              "      <th>Date</th>\n",
              "      <th>GOL</th>\n",
              "      <th>CVC</th>\n",
              "      <th>WEGE</th>\n",
              "      <th>MGLU</th>\n",
              "      <th>TOTS</th>\n",
              "      <th>BOVA</th>\n",
              "    </tr>\n",
              "  </thead>\n",
              "  <tbody>\n",
              "    <tr>\n",
              "      <th>0</th>\n",
              "      <td>2015-01-02</td>\n",
              "      <td>14.990000</td>\n",
              "      <td>15.20</td>\n",
              "      <td>11.846200</td>\n",
              "      <td>0.232812</td>\n",
              "      <td>35.732101</td>\n",
              "      <td>47.259998</td>\n",
              "    </tr>\n",
              "    <tr>\n",
              "      <th>1</th>\n",
              "      <td>2015-01-05</td>\n",
              "      <td>14.850000</td>\n",
              "      <td>15.00</td>\n",
              "      <td>11.926900</td>\n",
              "      <td>0.237187</td>\n",
              "      <td>34.634201</td>\n",
              "      <td>46.320000</td>\n",
              "    </tr>\n",
              "    <tr>\n",
              "      <th>2</th>\n",
              "      <td>2015-01-06</td>\n",
              "      <td>15.210000</td>\n",
              "      <td>14.80</td>\n",
              "      <td>11.750000</td>\n",
              "      <td>0.234062</td>\n",
              "      <td>32.468300</td>\n",
              "      <td>46.580002</td>\n",
              "    </tr>\n",
              "    <tr>\n",
              "      <th>3</th>\n",
              "      <td>2015-01-07</td>\n",
              "      <td>14.550000</td>\n",
              "      <td>14.67</td>\n",
              "      <td>11.615400</td>\n",
              "      <td>0.241875</td>\n",
              "      <td>32.238701</td>\n",
              "      <td>48.150002</td>\n",
              "    </tr>\n",
              "    <tr>\n",
              "      <th>4</th>\n",
              "      <td>2015-01-08</td>\n",
              "      <td>14.270000</td>\n",
              "      <td>14.15</td>\n",
              "      <td>11.811500</td>\n",
              "      <td>0.240000</td>\n",
              "      <td>32.987301</td>\n",
              "      <td>48.509998</td>\n",
              "    </tr>\n",
              "    <tr>\n",
              "      <th>...</th>\n",
              "      <td>...</td>\n",
              "      <td>...</td>\n",
              "      <td>...</td>\n",
              "      <td>...</td>\n",
              "      <td>...</td>\n",
              "      <td>...</td>\n",
              "      <td>...</td>\n",
              "    </tr>\n",
              "    <tr>\n",
              "      <th>1441</th>\n",
              "      <td>2020-10-27</td>\n",
              "      <td>18.600000</td>\n",
              "      <td>14.17</td>\n",
              "      <td>83.239998</td>\n",
              "      <td>25.450001</td>\n",
              "      <td>28.500000</td>\n",
              "      <td>95.800003</td>\n",
              "    </tr>\n",
              "    <tr>\n",
              "      <th>1442</th>\n",
              "      <td>2020-10-28</td>\n",
              "      <td>16.920000</td>\n",
              "      <td>12.77</td>\n",
              "      <td>79.139999</td>\n",
              "      <td>24.629999</td>\n",
              "      <td>27.500000</td>\n",
              "      <td>92.430000</td>\n",
              "    </tr>\n",
              "    <tr>\n",
              "      <th>1443</th>\n",
              "      <td>2020-10-29</td>\n",
              "      <td>16.610001</td>\n",
              "      <td>12.68</td>\n",
              "      <td>80.029999</td>\n",
              "      <td>25.360001</td>\n",
              "      <td>28.500000</td>\n",
              "      <td>92.910004</td>\n",
              "    </tr>\n",
              "    <tr>\n",
              "      <th>1444</th>\n",
              "      <td>2020-10-30</td>\n",
              "      <td>15.690000</td>\n",
              "      <td>12.28</td>\n",
              "      <td>75.830002</td>\n",
              "      <td>24.629999</td>\n",
              "      <td>27.000000</td>\n",
              "      <td>90.660004</td>\n",
              "    </tr>\n",
              "    <tr>\n",
              "      <th>1445</th>\n",
              "      <td>2020-11-03</td>\n",
              "      <td>16.070000</td>\n",
              "      <td>12.42</td>\n",
              "      <td>78.669998</td>\n",
              "      <td>25.309999</td>\n",
              "      <td>27.930000</td>\n",
              "      <td>92.410004</td>\n",
              "    </tr>\n",
              "  </tbody>\n",
              "</table>\n",
              "<p>1446 rows × 7 columns</p>\n",
              "</div>\n",
              "      <button class=\"colab-df-convert\" onclick=\"convertToInteractive('df-470d567b-ec20-494e-91ec-bbbc4ee581e0')\"\n",
              "              title=\"Convert this dataframe to an interactive table.\"\n",
              "              style=\"display:none;\">\n",
              "        \n",
              "  <svg xmlns=\"http://www.w3.org/2000/svg\" height=\"24px\"viewBox=\"0 0 24 24\"\n",
              "       width=\"24px\">\n",
              "    <path d=\"M0 0h24v24H0V0z\" fill=\"none\"/>\n",
              "    <path d=\"M18.56 5.44l.94 2.06.94-2.06 2.06-.94-2.06-.94-.94-2.06-.94 2.06-2.06.94zm-11 1L8.5 8.5l.94-2.06 2.06-.94-2.06-.94L8.5 2.5l-.94 2.06-2.06.94zm10 10l.94 2.06.94-2.06 2.06-.94-2.06-.94-.94-2.06-.94 2.06-2.06.94z\"/><path d=\"M17.41 7.96l-1.37-1.37c-.4-.4-.92-.59-1.43-.59-.52 0-1.04.2-1.43.59L10.3 9.45l-7.72 7.72c-.78.78-.78 2.05 0 2.83L4 21.41c.39.39.9.59 1.41.59.51 0 1.02-.2 1.41-.59l7.78-7.78 2.81-2.81c.8-.78.8-2.07 0-2.86zM5.41 20L4 18.59l7.72-7.72 1.47 1.35L5.41 20z\"/>\n",
              "  </svg>\n",
              "      </button>\n",
              "      \n",
              "  <style>\n",
              "    .colab-df-container {\n",
              "      display:flex;\n",
              "      flex-wrap:wrap;\n",
              "      gap: 12px;\n",
              "    }\n",
              "\n",
              "    .colab-df-convert {\n",
              "      background-color: #E8F0FE;\n",
              "      border: none;\n",
              "      border-radius: 50%;\n",
              "      cursor: pointer;\n",
              "      display: none;\n",
              "      fill: #1967D2;\n",
              "      height: 32px;\n",
              "      padding: 0 0 0 0;\n",
              "      width: 32px;\n",
              "    }\n",
              "\n",
              "    .colab-df-convert:hover {\n",
              "      background-color: #E2EBFA;\n",
              "      box-shadow: 0px 1px 2px rgba(60, 64, 67, 0.3), 0px 1px 3px 1px rgba(60, 64, 67, 0.15);\n",
              "      fill: #174EA6;\n",
              "    }\n",
              "\n",
              "    [theme=dark] .colab-df-convert {\n",
              "      background-color: #3B4455;\n",
              "      fill: #D2E3FC;\n",
              "    }\n",
              "\n",
              "    [theme=dark] .colab-df-convert:hover {\n",
              "      background-color: #434B5C;\n",
              "      box-shadow: 0px 1px 3px 1px rgba(0, 0, 0, 0.15);\n",
              "      filter: drop-shadow(0px 1px 2px rgba(0, 0, 0, 0.3));\n",
              "      fill: #FFFFFF;\n",
              "    }\n",
              "  </style>\n",
              "\n",
              "      <script>\n",
              "        const buttonEl =\n",
              "          document.querySelector('#df-470d567b-ec20-494e-91ec-bbbc4ee581e0 button.colab-df-convert');\n",
              "        buttonEl.style.display =\n",
              "          google.colab.kernel.accessAllowed ? 'block' : 'none';\n",
              "\n",
              "        async function convertToInteractive(key) {\n",
              "          const element = document.querySelector('#df-470d567b-ec20-494e-91ec-bbbc4ee581e0');\n",
              "          const dataTable =\n",
              "            await google.colab.kernel.invokeFunction('convertToInteractive',\n",
              "                                                     [key], {});\n",
              "          if (!dataTable) return;\n",
              "\n",
              "          const docLinkHtml = 'Like what you see? Visit the ' +\n",
              "            '<a target=\"_blank\" href=https://colab.research.google.com/notebooks/data_table.ipynb>data table notebook</a>'\n",
              "            + ' to learn more about interactive tables.';\n",
              "          element.innerHTML = '';\n",
              "          dataTable['output_type'] = 'display_data';\n",
              "          await google.colab.output.renderOutput(dataTable, element);\n",
              "          const docLink = document.createElement('div');\n",
              "          docLink.innerHTML = docLinkHtml;\n",
              "          element.appendChild(docLink);\n",
              "        }\n",
              "      </script>\n",
              "    </div>\n",
              "  </div>\n",
              "  "
            ],
            "text/plain": [
              "            Date        GOL    CVC       WEGE       MGLU       TOTS       BOVA\n",
              "0     2015-01-02  14.990000  15.20  11.846200   0.232812  35.732101  47.259998\n",
              "1     2015-01-05  14.850000  15.00  11.926900   0.237187  34.634201  46.320000\n",
              "2     2015-01-06  15.210000  14.80  11.750000   0.234062  32.468300  46.580002\n",
              "3     2015-01-07  14.550000  14.67  11.615400   0.241875  32.238701  48.150002\n",
              "4     2015-01-08  14.270000  14.15  11.811500   0.240000  32.987301  48.509998\n",
              "...          ...        ...    ...        ...        ...        ...        ...\n",
              "1441  2020-10-27  18.600000  14.17  83.239998  25.450001  28.500000  95.800003\n",
              "1442  2020-10-28  16.920000  12.77  79.139999  24.629999  27.500000  92.430000\n",
              "1443  2020-10-29  16.610001  12.68  80.029999  25.360001  28.500000  92.910004\n",
              "1444  2020-10-30  15.690000  12.28  75.830002  24.629999  27.000000  90.660004\n",
              "1445  2020-11-03  16.070000  12.42  78.669998  25.309999  27.930000  92.410004\n",
              "\n",
              "[1446 rows x 7 columns]"
            ]
          },
          "metadata": {},
          "execution_count": 2
        }
      ]
    },
    {
      "cell_type": "code",
      "metadata": {
        "colab": {
          "base_uri": "https://localhost:8080/",
          "height": 0
        },
        "id": "SxnQkBVhcVvf",
        "outputId": "5d0d9c97-8e2c-4b33-92e1-aa23ec8a6a46"
      },
      "source": [
        "dataset.describe()\n",
        "#o std é fundamental para medir o risco de umaação,\n",
        "#mostra o quanto o preço da ação varia em relação a média"
      ],
      "execution_count": 3,
      "outputs": [
        {
          "output_type": "execute_result",
          "data": {
            "text/html": [
              "\n",
              "  <div id=\"df-feea6304-e5c9-4bd1-99ca-38e14b26ebcd\">\n",
              "    <div class=\"colab-df-container\">\n",
              "      <div>\n",
              "<style scoped>\n",
              "    .dataframe tbody tr th:only-of-type {\n",
              "        vertical-align: middle;\n",
              "    }\n",
              "\n",
              "    .dataframe tbody tr th {\n",
              "        vertical-align: top;\n",
              "    }\n",
              "\n",
              "    .dataframe thead th {\n",
              "        text-align: right;\n",
              "    }\n",
              "</style>\n",
              "<table border=\"1\" class=\"dataframe\">\n",
              "  <thead>\n",
              "    <tr style=\"text-align: right;\">\n",
              "      <th></th>\n",
              "      <th>GOL</th>\n",
              "      <th>CVC</th>\n",
              "      <th>WEGE</th>\n",
              "      <th>MGLU</th>\n",
              "      <th>TOTS</th>\n",
              "      <th>BOVA</th>\n",
              "    </tr>\n",
              "  </thead>\n",
              "  <tbody>\n",
              "    <tr>\n",
              "      <th>count</th>\n",
              "      <td>1446.000000</td>\n",
              "      <td>1446.000000</td>\n",
              "      <td>1446.000000</td>\n",
              "      <td>1446.000000</td>\n",
              "      <td>1446.000000</td>\n",
              "      <td>1446.000000</td>\n",
              "    </tr>\n",
              "    <tr>\n",
              "      <th>mean</th>\n",
              "      <td>14.571473</td>\n",
              "      <td>32.860445</td>\n",
              "      <td>20.920034</td>\n",
              "      <td>4.634487</td>\n",
              "      <td>34.619463</td>\n",
              "      <td>71.770643</td>\n",
              "    </tr>\n",
              "    <tr>\n",
              "      <th>std</th>\n",
              "      <td>10.244303</td>\n",
              "      <td>16.118635</td>\n",
              "      <td>14.155955</td>\n",
              "      <td>6.023464</td>\n",
              "      <td>11.576407</td>\n",
              "      <td>19.913738</td>\n",
              "    </tr>\n",
              "    <tr>\n",
              "      <th>min</th>\n",
              "      <td>1.160000</td>\n",
              "      <td>6.490000</td>\n",
              "      <td>9.884610</td>\n",
              "      <td>0.030585</td>\n",
              "      <td>17.260000</td>\n",
              "      <td>36.450001</td>\n",
              "    </tr>\n",
              "    <tr>\n",
              "      <th>25%</th>\n",
              "      <td>6.635000</td>\n",
              "      <td>18.140224</td>\n",
              "      <td>12.640425</td>\n",
              "      <td>0.192734</td>\n",
              "      <td>28.196400</td>\n",
              "      <td>53.742500</td>\n",
              "    </tr>\n",
              "    <tr>\n",
              "      <th>50%</th>\n",
              "      <td>11.755000</td>\n",
              "      <td>29.105000</td>\n",
              "      <td>16.808849</td>\n",
              "      <td>2.315625</td>\n",
              "      <td>30.961201</td>\n",
              "      <td>71.090000</td>\n",
              "    </tr>\n",
              "    <tr>\n",
              "      <th>75%</th>\n",
              "      <td>20.355000</td>\n",
              "      <td>48.485000</td>\n",
              "      <td>19.480000</td>\n",
              "      <td>5.811485</td>\n",
              "      <td>36.226201</td>\n",
              "      <td>90.647503</td>\n",
              "    </tr>\n",
              "    <tr>\n",
              "      <th>max</th>\n",
              "      <td>43.790001</td>\n",
              "      <td>64.800003</td>\n",
              "      <td>83.550003</td>\n",
              "      <td>26.219999</td>\n",
              "      <td>83.720001</td>\n",
              "      <td>115.209999</td>\n",
              "    </tr>\n",
              "  </tbody>\n",
              "</table>\n",
              "</div>\n",
              "      <button class=\"colab-df-convert\" onclick=\"convertToInteractive('df-feea6304-e5c9-4bd1-99ca-38e14b26ebcd')\"\n",
              "              title=\"Convert this dataframe to an interactive table.\"\n",
              "              style=\"display:none;\">\n",
              "        \n",
              "  <svg xmlns=\"http://www.w3.org/2000/svg\" height=\"24px\"viewBox=\"0 0 24 24\"\n",
              "       width=\"24px\">\n",
              "    <path d=\"M0 0h24v24H0V0z\" fill=\"none\"/>\n",
              "    <path d=\"M18.56 5.44l.94 2.06.94-2.06 2.06-.94-2.06-.94-.94-2.06-.94 2.06-2.06.94zm-11 1L8.5 8.5l.94-2.06 2.06-.94-2.06-.94L8.5 2.5l-.94 2.06-2.06.94zm10 10l.94 2.06.94-2.06 2.06-.94-2.06-.94-.94-2.06-.94 2.06-2.06.94z\"/><path d=\"M17.41 7.96l-1.37-1.37c-.4-.4-.92-.59-1.43-.59-.52 0-1.04.2-1.43.59L10.3 9.45l-7.72 7.72c-.78.78-.78 2.05 0 2.83L4 21.41c.39.39.9.59 1.41.59.51 0 1.02-.2 1.41-.59l7.78-7.78 2.81-2.81c.8-.78.8-2.07 0-2.86zM5.41 20L4 18.59l7.72-7.72 1.47 1.35L5.41 20z\"/>\n",
              "  </svg>\n",
              "      </button>\n",
              "      \n",
              "  <style>\n",
              "    .colab-df-container {\n",
              "      display:flex;\n",
              "      flex-wrap:wrap;\n",
              "      gap: 12px;\n",
              "    }\n",
              "\n",
              "    .colab-df-convert {\n",
              "      background-color: #E8F0FE;\n",
              "      border: none;\n",
              "      border-radius: 50%;\n",
              "      cursor: pointer;\n",
              "      display: none;\n",
              "      fill: #1967D2;\n",
              "      height: 32px;\n",
              "      padding: 0 0 0 0;\n",
              "      width: 32px;\n",
              "    }\n",
              "\n",
              "    .colab-df-convert:hover {\n",
              "      background-color: #E2EBFA;\n",
              "      box-shadow: 0px 1px 2px rgba(60, 64, 67, 0.3), 0px 1px 3px 1px rgba(60, 64, 67, 0.15);\n",
              "      fill: #174EA6;\n",
              "    }\n",
              "\n",
              "    [theme=dark] .colab-df-convert {\n",
              "      background-color: #3B4455;\n",
              "      fill: #D2E3FC;\n",
              "    }\n",
              "\n",
              "    [theme=dark] .colab-df-convert:hover {\n",
              "      background-color: #434B5C;\n",
              "      box-shadow: 0px 1px 3px 1px rgba(0, 0, 0, 0.15);\n",
              "      filter: drop-shadow(0px 1px 2px rgba(0, 0, 0, 0.3));\n",
              "      fill: #FFFFFF;\n",
              "    }\n",
              "  </style>\n",
              "\n",
              "      <script>\n",
              "        const buttonEl =\n",
              "          document.querySelector('#df-feea6304-e5c9-4bd1-99ca-38e14b26ebcd button.colab-df-convert');\n",
              "        buttonEl.style.display =\n",
              "          google.colab.kernel.accessAllowed ? 'block' : 'none';\n",
              "\n",
              "        async function convertToInteractive(key) {\n",
              "          const element = document.querySelector('#df-feea6304-e5c9-4bd1-99ca-38e14b26ebcd');\n",
              "          const dataTable =\n",
              "            await google.colab.kernel.invokeFunction('convertToInteractive',\n",
              "                                                     [key], {});\n",
              "          if (!dataTable) return;\n",
              "\n",
              "          const docLinkHtml = 'Like what you see? Visit the ' +\n",
              "            '<a target=\"_blank\" href=https://colab.research.google.com/notebooks/data_table.ipynb>data table notebook</a>'\n",
              "            + ' to learn more about interactive tables.';\n",
              "          element.innerHTML = '';\n",
              "          dataTable['output_type'] = 'display_data';\n",
              "          await google.colab.output.renderOutput(dataTable, element);\n",
              "          const docLink = document.createElement('div');\n",
              "          docLink.innerHTML = docLinkHtml;\n",
              "          element.appendChild(docLink);\n",
              "        }\n",
              "      </script>\n",
              "    </div>\n",
              "  </div>\n",
              "  "
            ],
            "text/plain": [
              "               GOL          CVC         WEGE         MGLU         TOTS  \\\n",
              "count  1446.000000  1446.000000  1446.000000  1446.000000  1446.000000   \n",
              "mean     14.571473    32.860445    20.920034     4.634487    34.619463   \n",
              "std      10.244303    16.118635    14.155955     6.023464    11.576407   \n",
              "min       1.160000     6.490000     9.884610     0.030585    17.260000   \n",
              "25%       6.635000    18.140224    12.640425     0.192734    28.196400   \n",
              "50%      11.755000    29.105000    16.808849     2.315625    30.961201   \n",
              "75%      20.355000    48.485000    19.480000     5.811485    36.226201   \n",
              "max      43.790001    64.800003    83.550003    26.219999    83.720001   \n",
              "\n",
              "              BOVA  \n",
              "count  1446.000000  \n",
              "mean     71.770643  \n",
              "std      19.913738  \n",
              "min      36.450001  \n",
              "25%      53.742500  \n",
              "50%      71.090000  \n",
              "75%      90.647503  \n",
              "max     115.209999  "
            ]
          },
          "metadata": {},
          "execution_count": 3
        }
      ]
    },
    {
      "cell_type": "markdown",
      "metadata": {
        "id": "p4HqYENwJOwP"
      },
      "source": [
        "## Cálculo dos retornos anuais"
      ]
    },
    {
      "cell_type": "markdown",
      "metadata": {
        "id": "Whmrp519DLVC"
      },
      "source": [
        "### 2015"
      ]
    },
    {
      "cell_type": "code",
      "metadata": {
        "colab": {
          "base_uri": "https://localhost:8080/"
        },
        "id": "C4t39-TGcKbL",
        "outputId": "ace63086-8e07-4494-ff0a-fa3e16f42875"
      },
      "source": [
        "# o  primeiro preço em 2015 eo último do ano\n",
        "dataset['CVC'][dataset['Date'] == '2015-01-02'], dataset['CVC'][dataset['Date'] == '2015-12-30']"
      ],
      "execution_count": 4,
      "outputs": [
        {
          "output_type": "execute_result",
          "data": {
            "text/plain": [
              "(0    15.2\n",
              " Name: CVC, dtype: float64, 245    13.5\n",
              " Name: CVC, dtype: float64)"
            ]
          },
          "metadata": {},
          "execution_count": 4
        }
      ]
    },
    {
      "cell_type": "code",
      "metadata": {
        "colab": {
          "base_uri": "https://localhost:8080/"
        },
        "id": "K84oFZN_dtU9",
        "outputId": "5f1e4987-5a78-4792-b295-dbe59ebb3d5d"
      },
      "source": [
        "\n",
        "#taxa de retorno de umamesma ação\n",
        "np.log(13.5 / 15.2) * 100\n",
        "# taxa de reorno em 2015"
      ],
      "execution_count": 5,
      "outputs": [
        {
          "output_type": "execute_result",
          "data": {
            "text/plain": [
              "-11.86057424078469"
            ]
          },
          "metadata": {},
          "execution_count": 5
        }
      ]
    },
    {
      "cell_type": "code",
      "metadata": {
        "colab": {
          "base_uri": "https://localhost:8080/"
        },
        "id": "zgnFy-O7d7al",
        "outputId": "10cb9640-5f55-4c6c-e766-8ba2ec66bbab"
      },
      "source": [
        "dataset['MGLU'][dataset['Date'] == '2015-01-02'], dataset['MGLU'][dataset['Date'] == '2015-12-30']"
      ],
      "execution_count": 6,
      "outputs": [
        {
          "output_type": "execute_result",
          "data": {
            "text/plain": [
              "(0    0.232812\n",
              " Name: MGLU, dtype: float64, 245    0.068945\n",
              " Name: MGLU, dtype: float64)"
            ]
          },
          "metadata": {},
          "execution_count": 6
        }
      ]
    },
    {
      "cell_type": "code",
      "metadata": {
        "colab": {
          "base_uri": "https://localhost:8080/"
        },
        "id": "m6rjFAPgeCh8",
        "outputId": "ea635d9e-1953-4642-fcab-5e5cbdd1826d"
      },
      "source": [
        "np.log(0.06 / 0.23) * 100"
      ],
      "execution_count": 7,
      "outputs": [
        {
          "output_type": "execute_result",
          "data": {
            "text/plain": [
              "-134.37347467010946"
            ]
          },
          "metadata": {},
          "execution_count": 7
        }
      ]
    },
    {
      "cell_type": "markdown",
      "metadata": {
        "id": "6KClzeKHEIcs"
      },
      "source": [
        "### 2016"
      ]
    },
    {
      "cell_type": "code",
      "metadata": {
        "colab": {
          "base_uri": "https://localhost:8080/"
        },
        "id": "4mZ-GKTGeS2H",
        "outputId": "5a338c76-f54d-4f54-c2a5-23aeb4e9af8f"
      },
      "source": [
        "dataset['CVC'][dataset['Date'] == '2016-01-04'], dataset['CVC'][dataset['Date'] == '2016-12-29']"
      ],
      "execution_count": 8,
      "outputs": [
        {
          "output_type": "execute_result",
          "data": {
            "text/plain": [
              "(246    12.53\n",
              " Name: CVC, dtype: float64, 494    23.700001\n",
              " Name: CVC, dtype: float64)"
            ]
          },
          "metadata": {},
          "execution_count": 8
        }
      ]
    },
    {
      "cell_type": "code",
      "metadata": {
        "colab": {
          "base_uri": "https://localhost:8080/"
        },
        "id": "Nn4C20vzejNu",
        "outputId": "803320e4-2c42-43ab-cc4c-a784b123639e"
      },
      "source": [
        "np.log(23.70 / 12.53) * 100"
      ],
      "execution_count": 9,
      "outputs": [
        {
          "output_type": "execute_result",
          "data": {
            "text/plain": [
              "63.73492792331087"
            ]
          },
          "metadata": {},
          "execution_count": 9
        }
      ]
    },
    {
      "cell_type": "code",
      "metadata": {
        "colab": {
          "base_uri": "https://localhost:8080/"
        },
        "id": "-5atnPBPet1R",
        "outputId": "b7e1e431-ded6-4665-d49b-1255a6962292"
      },
      "source": [
        "dataset['MGLU'][dataset['Date'] == '2016-01-04'], dataset['MGLU'][dataset['Date'] == '2016-12-29']"
      ],
      "execution_count": 10,
      "outputs": [
        {
          "output_type": "execute_result",
          "data": {
            "text/plain": [
              "(246    0.070117\n",
              " Name: MGLU, dtype: float64, 494    0.414726\n",
              " Name: MGLU, dtype: float64)"
            ]
          },
          "metadata": {},
          "execution_count": 10
        }
      ]
    },
    {
      "cell_type": "code",
      "metadata": {
        "colab": {
          "base_uri": "https://localhost:8080/"
        },
        "id": "MKMFNfyieyjS",
        "outputId": "925dbe9f-9aba-4339-89bd-b823ef094d97"
      },
      "source": [
        "np.log(0.41 / 0.07) * 100"
      ],
      "execution_count": 11,
      "outputs": [
        {
          "output_type": "execute_result",
          "data": {
            "text/plain": [
              "176.76619176489942"
            ]
          },
          "metadata": {},
          "execution_count": 11
        }
      ]
    },
    {
      "cell_type": "markdown",
      "metadata": {
        "id": "leM7iEWiEkn1"
      },
      "source": [
        "### 2017"
      ]
    },
    {
      "cell_type": "code",
      "metadata": {
        "colab": {
          "base_uri": "https://localhost:8080/"
        },
        "id": "rH5pyrgGEoOZ",
        "outputId": "61bca66c-15da-4fae-9982-9b151f0c9a02"
      },
      "source": [
        "dataset['CVC'][dataset['Date'] == '2017-01-02'], dataset['CVC'][dataset['Date'] == '2017-12-29']"
      ],
      "execution_count": 12,
      "outputs": [
        {
          "output_type": "execute_result",
          "data": {
            "text/plain": [
              "(495    23.02\n",
              " Name: CVC, dtype: float64, 748    48.5\n",
              " Name: CVC, dtype: float64)"
            ]
          },
          "metadata": {},
          "execution_count": 12
        }
      ]
    },
    {
      "cell_type": "code",
      "metadata": {
        "colab": {
          "base_uri": "https://localhost:8080/"
        },
        "id": "EISOufnBE0Ov",
        "outputId": "b2c3586a-a304-4d66-a9ad-2c36754c8621"
      },
      "source": [
        "np.log(48.50 / 23.02) * 100"
      ],
      "execution_count": 13,
      "outputs": [
        {
          "output_type": "execute_result",
          "data": {
            "text/plain": [
              "74.5200394649701"
            ]
          },
          "metadata": {},
          "execution_count": 13
        }
      ]
    },
    {
      "cell_type": "code",
      "metadata": {
        "colab": {
          "base_uri": "https://localhost:8080/"
        },
        "id": "QNqG-w7kEmY7",
        "outputId": "377c0941-854d-44b3-eb2e-5e49d7c68105"
      },
      "source": [
        "dataset['MGLU'][dataset['Date'] == '2017-01-02'], dataset['MGLU'][dataset['Date'] == '2017-12-29']"
      ],
      "execution_count": 14,
      "outputs": [
        {
          "output_type": "execute_result",
          "data": {
            "text/plain": [
              "(495    0.397304\n",
              " Name: MGLU, dtype: float64, 748    2.50688\n",
              " Name: MGLU, dtype: float64)"
            ]
          },
          "metadata": {},
          "execution_count": 14
        }
      ]
    },
    {
      "cell_type": "code",
      "metadata": {
        "colab": {
          "base_uri": "https://localhost:8080/"
        },
        "id": "4ho7vtfcE8yJ",
        "outputId": "b5b13fb2-97b9-4e84-9dda-12d52f0df7e3"
      },
      "source": [
        "np.log(2.50 / 0.39) * 100"
      ],
      "execution_count": 15,
      "outputs": [
        {
          "output_type": "execute_result",
          "data": {
            "text/plain": [
              "185.78992717326"
            ]
          },
          "metadata": {},
          "execution_count": 15
        }
      ]
    },
    {
      "cell_type": "markdown",
      "metadata": {
        "id": "kn5DDNoIFDFA"
      },
      "source": [
        "### 2018"
      ]
    },
    {
      "cell_type": "code",
      "metadata": {
        "colab": {
          "base_uri": "https://localhost:8080/"
        },
        "id": "7igfkhKSFFXw",
        "outputId": "2d2f9afe-40ab-4c13-d4b2-112769b62c81"
      },
      "source": [
        "dataset['CVC'][dataset['Date'] == '2018-01-02'], dataset['CVC'][dataset['Date'] == '2018-12-28']"
      ],
      "execution_count": 16,
      "outputs": [
        {
          "output_type": "execute_result",
          "data": {
            "text/plain": [
              "(749    49.880001\n",
              " Name: CVC, dtype: float64, 993    61.18\n",
              " Name: CVC, dtype: float64)"
            ]
          },
          "metadata": {},
          "execution_count": 16
        }
      ]
    },
    {
      "cell_type": "code",
      "metadata": {
        "colab": {
          "base_uri": "https://localhost:8080/"
        },
        "id": "FEMFFi5NFSbJ",
        "outputId": "245ad6e3-7d34-418a-9585-7a49461db27f"
      },
      "source": [
        "np.log(61.18 / 49.88) * 100"
      ],
      "execution_count": 17,
      "outputs": [
        {
          "output_type": "execute_result",
          "data": {
            "text/plain": [
              "20.420021791092157"
            ]
          },
          "metadata": {},
          "execution_count": 17
        }
      ]
    },
    {
      "cell_type": "code",
      "metadata": {
        "colab": {
          "base_uri": "https://localhost:8080/"
        },
        "id": "8QjwGaq2FORp",
        "outputId": "45604985-6e03-41c7-ad0e-0668df988ebe"
      },
      "source": [
        "dataset['MGLU'][dataset['Date'] == '2018-01-02'], dataset['MGLU'][dataset['Date'] == '2018-12-28']"
      ],
      "execution_count": 18,
      "outputs": [
        {
          "output_type": "execute_result",
          "data": {
            "text/plain": [
              "(749    2.47813\n",
              " Name: MGLU, dtype: float64, 993    5.65844\n",
              " Name: MGLU, dtype: float64)"
            ]
          },
          "metadata": {},
          "execution_count": 18
        }
      ]
    },
    {
      "cell_type": "code",
      "metadata": {
        "colab": {
          "base_uri": "https://localhost:8080/"
        },
        "id": "mb3joDRUFXDi",
        "outputId": "abbe9cad-1db1-463b-a060-dd15c472f7fd"
      },
      "source": [
        "np.log(5.65 / 2.47) * 100"
      ],
      "execution_count": 19,
      "outputs": [
        {
          "output_type": "execute_result",
          "data": {
            "text/plain": [
              "82.74373945184638"
            ]
          },
          "metadata": {},
          "execution_count": 19
        }
      ]
    },
    {
      "cell_type": "markdown",
      "metadata": {
        "id": "xUnpCyZqFERv"
      },
      "source": [
        "### 2019"
      ]
    },
    {
      "cell_type": "code",
      "source": [
        "dataset = pd.read_csv('acoes.csv')\n",
        "dataset"
      ],
      "metadata": {
        "colab": {
          "base_uri": "https://localhost:8080/",
          "height": 0
        },
        "id": "yWyuiogq4zGZ",
        "outputId": "6efcfc0e-3595-498b-f8c1-adeaa9547809"
      },
      "execution_count": 20,
      "outputs": [
        {
          "output_type": "execute_result",
          "data": {
            "text/html": [
              "\n",
              "  <div id=\"df-5dfbd7e6-ab87-4779-a4f2-2e54635b233a\">\n",
              "    <div class=\"colab-df-container\">\n",
              "      <div>\n",
              "<style scoped>\n",
              "    .dataframe tbody tr th:only-of-type {\n",
              "        vertical-align: middle;\n",
              "    }\n",
              "\n",
              "    .dataframe tbody tr th {\n",
              "        vertical-align: top;\n",
              "    }\n",
              "\n",
              "    .dataframe thead th {\n",
              "        text-align: right;\n",
              "    }\n",
              "</style>\n",
              "<table border=\"1\" class=\"dataframe\">\n",
              "  <thead>\n",
              "    <tr style=\"text-align: right;\">\n",
              "      <th></th>\n",
              "      <th>Date</th>\n",
              "      <th>GOL</th>\n",
              "      <th>CVC</th>\n",
              "      <th>WEGE</th>\n",
              "      <th>MGLU</th>\n",
              "      <th>TOTS</th>\n",
              "      <th>BOVA</th>\n",
              "    </tr>\n",
              "  </thead>\n",
              "  <tbody>\n",
              "    <tr>\n",
              "      <th>0</th>\n",
              "      <td>2015-01-02</td>\n",
              "      <td>14.990000</td>\n",
              "      <td>15.20</td>\n",
              "      <td>11.846200</td>\n",
              "      <td>0.232812</td>\n",
              "      <td>35.732101</td>\n",
              "      <td>47.259998</td>\n",
              "    </tr>\n",
              "    <tr>\n",
              "      <th>1</th>\n",
              "      <td>2015-01-05</td>\n",
              "      <td>14.850000</td>\n",
              "      <td>15.00</td>\n",
              "      <td>11.926900</td>\n",
              "      <td>0.237187</td>\n",
              "      <td>34.634201</td>\n",
              "      <td>46.320000</td>\n",
              "    </tr>\n",
              "    <tr>\n",
              "      <th>2</th>\n",
              "      <td>2015-01-06</td>\n",
              "      <td>15.210000</td>\n",
              "      <td>14.80</td>\n",
              "      <td>11.750000</td>\n",
              "      <td>0.234062</td>\n",
              "      <td>32.468300</td>\n",
              "      <td>46.580002</td>\n",
              "    </tr>\n",
              "    <tr>\n",
              "      <th>3</th>\n",
              "      <td>2015-01-07</td>\n",
              "      <td>14.550000</td>\n",
              "      <td>14.67</td>\n",
              "      <td>11.615400</td>\n",
              "      <td>0.241875</td>\n",
              "      <td>32.238701</td>\n",
              "      <td>48.150002</td>\n",
              "    </tr>\n",
              "    <tr>\n",
              "      <th>4</th>\n",
              "      <td>2015-01-08</td>\n",
              "      <td>14.270000</td>\n",
              "      <td>14.15</td>\n",
              "      <td>11.811500</td>\n",
              "      <td>0.240000</td>\n",
              "      <td>32.987301</td>\n",
              "      <td>48.509998</td>\n",
              "    </tr>\n",
              "    <tr>\n",
              "      <th>...</th>\n",
              "      <td>...</td>\n",
              "      <td>...</td>\n",
              "      <td>...</td>\n",
              "      <td>...</td>\n",
              "      <td>...</td>\n",
              "      <td>...</td>\n",
              "      <td>...</td>\n",
              "    </tr>\n",
              "    <tr>\n",
              "      <th>1441</th>\n",
              "      <td>2020-10-27</td>\n",
              "      <td>18.600000</td>\n",
              "      <td>14.17</td>\n",
              "      <td>83.239998</td>\n",
              "      <td>25.450001</td>\n",
              "      <td>28.500000</td>\n",
              "      <td>95.800003</td>\n",
              "    </tr>\n",
              "    <tr>\n",
              "      <th>1442</th>\n",
              "      <td>2020-10-28</td>\n",
              "      <td>16.920000</td>\n",
              "      <td>12.77</td>\n",
              "      <td>79.139999</td>\n",
              "      <td>24.629999</td>\n",
              "      <td>27.500000</td>\n",
              "      <td>92.430000</td>\n",
              "    </tr>\n",
              "    <tr>\n",
              "      <th>1443</th>\n",
              "      <td>2020-10-29</td>\n",
              "      <td>16.610001</td>\n",
              "      <td>12.68</td>\n",
              "      <td>80.029999</td>\n",
              "      <td>25.360001</td>\n",
              "      <td>28.500000</td>\n",
              "      <td>92.910004</td>\n",
              "    </tr>\n",
              "    <tr>\n",
              "      <th>1444</th>\n",
              "      <td>2020-10-30</td>\n",
              "      <td>15.690000</td>\n",
              "      <td>12.28</td>\n",
              "      <td>75.830002</td>\n",
              "      <td>24.629999</td>\n",
              "      <td>27.000000</td>\n",
              "      <td>90.660004</td>\n",
              "    </tr>\n",
              "    <tr>\n",
              "      <th>1445</th>\n",
              "      <td>2020-11-03</td>\n",
              "      <td>16.070000</td>\n",
              "      <td>12.42</td>\n",
              "      <td>78.669998</td>\n",
              "      <td>25.309999</td>\n",
              "      <td>27.930000</td>\n",
              "      <td>92.410004</td>\n",
              "    </tr>\n",
              "  </tbody>\n",
              "</table>\n",
              "<p>1446 rows × 7 columns</p>\n",
              "</div>\n",
              "      <button class=\"colab-df-convert\" onclick=\"convertToInteractive('df-5dfbd7e6-ab87-4779-a4f2-2e54635b233a')\"\n",
              "              title=\"Convert this dataframe to an interactive table.\"\n",
              "              style=\"display:none;\">\n",
              "        \n",
              "  <svg xmlns=\"http://www.w3.org/2000/svg\" height=\"24px\"viewBox=\"0 0 24 24\"\n",
              "       width=\"24px\">\n",
              "    <path d=\"M0 0h24v24H0V0z\" fill=\"none\"/>\n",
              "    <path d=\"M18.56 5.44l.94 2.06.94-2.06 2.06-.94-2.06-.94-.94-2.06-.94 2.06-2.06.94zm-11 1L8.5 8.5l.94-2.06 2.06-.94-2.06-.94L8.5 2.5l-.94 2.06-2.06.94zm10 10l.94 2.06.94-2.06 2.06-.94-2.06-.94-.94-2.06-.94 2.06-2.06.94z\"/><path d=\"M17.41 7.96l-1.37-1.37c-.4-.4-.92-.59-1.43-.59-.52 0-1.04.2-1.43.59L10.3 9.45l-7.72 7.72c-.78.78-.78 2.05 0 2.83L4 21.41c.39.39.9.59 1.41.59.51 0 1.02-.2 1.41-.59l7.78-7.78 2.81-2.81c.8-.78.8-2.07 0-2.86zM5.41 20L4 18.59l7.72-7.72 1.47 1.35L5.41 20z\"/>\n",
              "  </svg>\n",
              "      </button>\n",
              "      \n",
              "  <style>\n",
              "    .colab-df-container {\n",
              "      display:flex;\n",
              "      flex-wrap:wrap;\n",
              "      gap: 12px;\n",
              "    }\n",
              "\n",
              "    .colab-df-convert {\n",
              "      background-color: #E8F0FE;\n",
              "      border: none;\n",
              "      border-radius: 50%;\n",
              "      cursor: pointer;\n",
              "      display: none;\n",
              "      fill: #1967D2;\n",
              "      height: 32px;\n",
              "      padding: 0 0 0 0;\n",
              "      width: 32px;\n",
              "    }\n",
              "\n",
              "    .colab-df-convert:hover {\n",
              "      background-color: #E2EBFA;\n",
              "      box-shadow: 0px 1px 2px rgba(60, 64, 67, 0.3), 0px 1px 3px 1px rgba(60, 64, 67, 0.15);\n",
              "      fill: #174EA6;\n",
              "    }\n",
              "\n",
              "    [theme=dark] .colab-df-convert {\n",
              "      background-color: #3B4455;\n",
              "      fill: #D2E3FC;\n",
              "    }\n",
              "\n",
              "    [theme=dark] .colab-df-convert:hover {\n",
              "      background-color: #434B5C;\n",
              "      box-shadow: 0px 1px 3px 1px rgba(0, 0, 0, 0.15);\n",
              "      filter: drop-shadow(0px 1px 2px rgba(0, 0, 0, 0.3));\n",
              "      fill: #FFFFFF;\n",
              "    }\n",
              "  </style>\n",
              "\n",
              "      <script>\n",
              "        const buttonEl =\n",
              "          document.querySelector('#df-5dfbd7e6-ab87-4779-a4f2-2e54635b233a button.colab-df-convert');\n",
              "        buttonEl.style.display =\n",
              "          google.colab.kernel.accessAllowed ? 'block' : 'none';\n",
              "\n",
              "        async function convertToInteractive(key) {\n",
              "          const element = document.querySelector('#df-5dfbd7e6-ab87-4779-a4f2-2e54635b233a');\n",
              "          const dataTable =\n",
              "            await google.colab.kernel.invokeFunction('convertToInteractive',\n",
              "                                                     [key], {});\n",
              "          if (!dataTable) return;\n",
              "\n",
              "          const docLinkHtml = 'Like what you see? Visit the ' +\n",
              "            '<a target=\"_blank\" href=https://colab.research.google.com/notebooks/data_table.ipynb>data table notebook</a>'\n",
              "            + ' to learn more about interactive tables.';\n",
              "          element.innerHTML = '';\n",
              "          dataTable['output_type'] = 'display_data';\n",
              "          await google.colab.output.renderOutput(dataTable, element);\n",
              "          const docLink = document.createElement('div');\n",
              "          docLink.innerHTML = docLinkHtml;\n",
              "          element.appendChild(docLink);\n",
              "        }\n",
              "      </script>\n",
              "    </div>\n",
              "  </div>\n",
              "  "
            ],
            "text/plain": [
              "            Date        GOL    CVC       WEGE       MGLU       TOTS       BOVA\n",
              "0     2015-01-02  14.990000  15.20  11.846200   0.232812  35.732101  47.259998\n",
              "1     2015-01-05  14.850000  15.00  11.926900   0.237187  34.634201  46.320000\n",
              "2     2015-01-06  15.210000  14.80  11.750000   0.234062  32.468300  46.580002\n",
              "3     2015-01-07  14.550000  14.67  11.615400   0.241875  32.238701  48.150002\n",
              "4     2015-01-08  14.270000  14.15  11.811500   0.240000  32.987301  48.509998\n",
              "...          ...        ...    ...        ...        ...        ...        ...\n",
              "1441  2020-10-27  18.600000  14.17  83.239998  25.450001  28.500000  95.800003\n",
              "1442  2020-10-28  16.920000  12.77  79.139999  24.629999  27.500000  92.430000\n",
              "1443  2020-10-29  16.610001  12.68  80.029999  25.360001  28.500000  92.910004\n",
              "1444  2020-10-30  15.690000  12.28  75.830002  24.629999  27.000000  90.660004\n",
              "1445  2020-11-03  16.070000  12.42  78.669998  25.309999  27.930000  92.410004\n",
              "\n",
              "[1446 rows x 7 columns]"
            ]
          },
          "metadata": {},
          "execution_count": 20
        }
      ]
    },
    {
      "cell_type": "code",
      "metadata": {
        "colab": {
          "base_uri": "https://localhost:8080/"
        },
        "id": "_z3YUXqgFcty",
        "outputId": "4a934f94-e070-4606-e157-506ecac7b189"
      },
      "source": [
        "dataset['CVC'][dataset['Date'] == '2019-01-02'], dataset['CVC'][dataset['Date'] == '2019-12-30']"
      ],
      "execution_count": 21,
      "outputs": [
        {
          "output_type": "execute_result",
          "data": {
            "text/plain": [
              "(994    61.099998\n",
              " Name: CVC, dtype: float64, 1240    43.799999\n",
              " Name: CVC, dtype: float64)"
            ]
          },
          "metadata": {},
          "execution_count": 21
        }
      ]
    },
    {
      "cell_type": "code",
      "metadata": {
        "colab": {
          "base_uri": "https://localhost:8080/"
        },
        "id": "8AEYO6coF2JQ",
        "outputId": "11eca5d7-acea-49a8-d521-de8e5eb6e69d"
      },
      "source": [
        "np.log(43.79 / 61.09) * 100"
      ],
      "execution_count": 22,
      "outputs": [
        {
          "output_type": "execute_result",
          "data": {
            "text/plain": [
              "-33.29427058483686"
            ]
          },
          "metadata": {},
          "execution_count": 22
        }
      ]
    },
    {
      "cell_type": "code",
      "metadata": {
        "colab": {
          "base_uri": "https://localhost:8080/"
        },
        "id": "PWmjM76MFyTS",
        "outputId": "69e33f1b-7f5f-4420-ff9a-544ffe9970c5"
      },
      "source": [
        "dataset['MGLU'][dataset['Date'] == '2019-01-02'], dataset['MGLU'][dataset['Date'] == '2019-12-30']"
      ],
      "execution_count": 23,
      "outputs": [
        {
          "output_type": "execute_result",
          "data": {
            "text/plain": [
              "(994    5.81219\n",
              " Name: MGLU, dtype: float64, 1240    11.925\n",
              " Name: MGLU, dtype: float64)"
            ]
          },
          "metadata": {},
          "execution_count": 23
        }
      ]
    },
    {
      "cell_type": "code",
      "metadata": {
        "colab": {
          "base_uri": "https://localhost:8080/"
        },
        "id": "mdoutn8sGAu4",
        "outputId": "ba8a74bb-fa5a-494f-9b33-f8a9bc0f79b0"
      },
      "source": [
        "np.log(11.92 / 5.81) * 100"
      ],
      "execution_count": 24,
      "outputs": [
        {
          "output_type": "execute_result",
          "data": {
            "text/plain": [
              "71.8637090773384"
            ]
          },
          "metadata": {},
          "execution_count": 24
        }
      ]
    },
    {
      "cell_type": "markdown",
      "metadata": {
        "id": "RAAWBxf3GMKV"
      },
      "source": [
        "### 2020"
      ]
    },
    {
      "cell_type": "code",
      "metadata": {
        "colab": {
          "base_uri": "https://localhost:8080/"
        },
        "id": "ljHHfqX2GNc8",
        "outputId": "263f15a8-f2d9-4aad-e2da-89f7edaec561"
      },
      "source": [
        "dataset['CVC'][dataset['Date'] == '2020-01-02'], dataset['CVC'][dataset['Date'] == '2020-11-03']"
      ],
      "execution_count": 25,
      "outputs": [
        {
          "output_type": "execute_result",
          "data": {
            "text/plain": [
              "(1241    44.709999\n",
              " Name: CVC, dtype: float64, 1445    12.42\n",
              " Name: CVC, dtype: float64)"
            ]
          },
          "metadata": {},
          "execution_count": 25
        }
      ]
    },
    {
      "cell_type": "code",
      "metadata": {
        "colab": {
          "base_uri": "https://localhost:8080/"
        },
        "id": "NH8Z1n56GY9d",
        "outputId": "bb7207ae-2fc9-4f9b-c08a-eab99f70f474"
      },
      "source": [
        "np.log(12.42 / 44.70) * 100"
      ],
      "execution_count": 26,
      "outputs": [
        {
          "output_type": "execute_result",
          "data": {
            "text/plain": [
              "-128.06654251141904"
            ]
          },
          "metadata": {},
          "execution_count": 26
        }
      ]
    },
    {
      "cell_type": "code",
      "metadata": {
        "colab": {
          "base_uri": "https://localhost:8080/"
        },
        "id": "tmyWjDDUGVko",
        "outputId": "a5a1c282-2659-4abe-8efa-c89f39524f0d"
      },
      "source": [
        "dataset['MGLU'][dataset['Date'] == '2020-01-02'], dataset['MGLU'][dataset['Date'] == '2020-11-03']"
      ],
      "execution_count": 27,
      "outputs": [
        {
          "output_type": "execute_result",
          "data": {
            "text/plain": [
              "(1241    12.3325\n",
              " Name: MGLU, dtype: float64, 1445    25.309999\n",
              " Name: MGLU, dtype: float64)"
            ]
          },
          "metadata": {},
          "execution_count": 27
        }
      ]
    },
    {
      "cell_type": "code",
      "metadata": {
        "colab": {
          "base_uri": "https://localhost:8080/"
        },
        "id": "vCCnup4OGest",
        "outputId": "52928d4d-2625-4c93-e89c-f0589eac9ec4"
      },
      "source": [
        "np.log(25.30 / 12.33) * 100"
      ],
      "execution_count": 28,
      "outputs": [
        {
          "output_type": "execute_result",
          "data": {
            "text/plain": [
              "71.87690785572217"
            ]
          },
          "metadata": {},
          "execution_count": 28
        }
      ]
    },
    {
      "cell_type": "markdown",
      "metadata": {
        "id": "RTnlua_dJVX1"
      },
      "source": [
        "## Variância\n",
        "\n",
        "Quanto os dados estão variando em relação à média. Para calcular achamos a média, o desvio padrão\n",
        "\n",
        "Nós buscamos ações por variância menor o que indicaria uma baixa volatilidade\n",
        "\n",
        "![image.png](data:image/png;base64,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)"
      ]
    },
    {
      "cell_type": "code",
      "metadata": {
        "id": "U0G1E5cekWqa"
      },
      "source": [
        "#vamos definir as taxas de retorno anual\n",
        "taxas_cvc = np.array([-11.86, 63.73, 74.52, 20.42, -33.29, -128.06])"
      ],
      "execution_count": 29,
      "outputs": []
    },
    {
      "cell_type": "code",
      "metadata": {
        "colab": {
          "base_uri": "https://localhost:8080/"
        },
        "id": "O8EthADGkmXV",
        "outputId": "7b3e0f38-5b50-46c1-f039-0fb9f27e719e"
      },
      "source": [
        "#para enconntrar a variancia primeiroencontramos a média\n",
        "media_cvc = taxas_cvc.sum() / len(taxas_cvc)\n",
        "media_cvc"
      ],
      "execution_count": 30,
      "outputs": [
        {
          "output_type": "execute_result",
          "data": {
            "text/plain": [
              "-2.423333333333332"
            ]
          },
          "metadata": {},
          "execution_count": 30
        }
      ]
    },
    {
      "cell_type": "code",
      "metadata": {
        "colab": {
          "base_uri": "https://localhost:8080/"
        },
        "id": "dKEGQBKClb08",
        "outputId": "6e0282b4-9d8d-4190-ed50-bf40e877ab94"
      },
      "source": [
        "media_cvc = taxas_cvc.mean()\n",
        "media_cvc"
      ],
      "execution_count": 31,
      "outputs": [
        {
          "output_type": "execute_result",
          "data": {
            "text/plain": [
              "-2.423333333333332"
            ]
          },
          "metadata": {},
          "execution_count": 31
        }
      ]
    },
    {
      "cell_type": "code",
      "metadata": {
        "colab": {
          "base_uri": "https://localhost:8080/"
        },
        "id": "X08UuySUk9jM",
        "outputId": "c4fd9aac-018e-451f-f758-98dcb53e7d4c"
      },
      "source": [
        "# dois asterisco eleva o numero ao quadrado\n",
        "((taxas_cvc - media_cvc) ** 2).sum() / len(taxas_cvc)"
      ],
      "execution_count": 32,
      "outputs": [
        {
          "output_type": "execute_result",
          "data": {
            "text/plain": [
              "4607.455288888889"
            ]
          },
          "metadata": {},
          "execution_count": 32
        }
      ]
    },
    {
      "cell_type": "code",
      "metadata": {
        "colab": {
          "base_uri": "https://localhost:8080/"
        },
        "id": "on_y8OfwllYv",
        "outputId": "3496885d-8b2f-4bb9-c049-bc4f0a2a6997"
      },
      "source": [
        "#calculo automático\n",
        "variancia_cvc = taxas_cvc.var()\n",
        "variancia_cvc"
      ],
      "execution_count": 33,
      "outputs": [
        {
          "output_type": "execute_result",
          "data": {
            "text/plain": [
              "4607.455288888889"
            ]
          },
          "metadata": {},
          "execution_count": 33
        }
      ]
    },
    {
      "cell_type": "code",
      "metadata": {
        "id": "CV3xn9sLluXg"
      },
      "source": [
        "#usanso a taxa de retorno anual\n",
        "taxas_mglu = np.array([-134.37, 176.76, 185.78, 82.74, 71.86, 71.87])"
      ],
      "execution_count": 34,
      "outputs": []
    },
    {
      "cell_type": "code",
      "metadata": {
        "colab": {
          "base_uri": "https://localhost:8080/"
        },
        "id": "Vmfzmj57l7qQ",
        "outputId": "f9bd0f4a-66f0-4782-df66-41a840e93204"
      },
      "source": [
        "variancia_mglu = taxas_mglu.var()\n",
        "variancia_mglu\n",
        "#a volatilidade é maior entre 2020 e 2015 11089,84"
      ],
      "execution_count": 35,
      "outputs": [
        {
          "output_type": "execute_result",
          "data": {
            "text/plain": [
              "11089.846455555555"
            ]
          },
          "metadata": {},
          "execution_count": 35
        }
      ]
    },
    {
      "cell_type": "code",
      "metadata": {
        "colab": {
          "base_uri": "https://localhost:8080/"
        },
        "id": "UVzOde3NmQbH",
        "outputId": "dc393dff-758b-4657-d184-99b7e5749367"
      },
      "source": [
        "#variancia dos preços nos ultimos 330 dias\n",
        "dataset['CVC'].tail(330).var(), dataset['MGLU'].tail(330).var()"
      ],
      "execution_count": 36,
      "outputs": [
        {
          "output_type": "execute_result",
          "data": {
            "text/plain": [
              "(259.985677904719, 28.190262814035485)"
            ]
          },
          "metadata": {},
          "execution_count": 36
        }
      ]
    },
    {
      "cell_type": "markdown",
      "metadata": {
        "id": "3yOrHmZJZZj2"
      },
      "source": [
        "## Desvio padrão\n",
        "\n",
        "é a raiz quadrada da variância\n",
        "\n",
        "![image.png](data:image/png;base64,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)"
      ]
    },
    {
      "cell_type": "code",
      "metadata": {
        "colab": {
          "base_uri": "https://localhost:8080/"
        },
        "id": "JRzvlIDRoJYW",
        "outputId": "db9b8c49-91d6-4547-d715-6267b6291a67"
      },
      "source": [
        "# a variância da taxa de retorno é o desvio padrão\n",
        "desvio_padrao_cvc = math.sqrt(variancia_cvc)\n",
        "desvio_padrao_cvc"
      ],
      "execution_count": 37,
      "outputs": [
        {
          "output_type": "execute_result",
          "data": {
            "text/plain": [
              "67.87823869907712"
            ]
          },
          "metadata": {},
          "execution_count": 37
        }
      ]
    },
    {
      "cell_type": "code",
      "metadata": {
        "colab": {
          "base_uri": "https://localhost:8080/"
        },
        "id": "YrlsXCMtowhU",
        "outputId": "be032c43-6bd1-4bbc-f1a3-20761b6627c7"
      },
      "source": [
        "taxas_cvc.std() #outra forma de encpntrar o desvio padrão"
      ],
      "execution_count": 38,
      "outputs": [
        {
          "output_type": "execute_result",
          "data": {
            "text/plain": [
              "67.87823869907712"
            ]
          },
          "metadata": {},
          "execution_count": 38
        }
      ]
    },
    {
      "cell_type": "code",
      "metadata": {
        "colab": {
          "base_uri": "https://localhost:8080/"
        },
        "id": "En-ACTmloSz4",
        "outputId": "a94d5882-7a93-4153-8650-63db981e7fbd"
      },
      "source": [
        "desvio_padrao_mglu = math.sqrt(variancia_mglu)\n",
        "desvio_padrao_mglu\n",
        "#a taxa de retorno no periodo possui uma volatilidade de 105%"
      ],
      "execution_count": 39,
      "outputs": [
        {
          "output_type": "execute_result",
          "data": {
            "text/plain": [
              "105.30833991453648"
            ]
          },
          "metadata": {},
          "execution_count": 39
        }
      ]
    },
    {
      "cell_type": "code",
      "metadata": {
        "colab": {
          "base_uri": "https://localhost:8080/"
        },
        "id": "m8iLutBAo15L",
        "outputId": "7f888ec7-2404-4073-ecc0-fb9be208d7d5"
      },
      "source": [
        "taxas_mglu.std()"
      ],
      "execution_count": 40,
      "outputs": [
        {
          "output_type": "execute_result",
          "data": {
            "text/plain": [
              "105.30833991453648"
            ]
          },
          "metadata": {},
          "execution_count": 40
        }
      ]
    },
    {
      "cell_type": "code",
      "metadata": {
        "colab": {
          "base_uri": "https://localhost:8080/"
        },
        "id": "KyptJCb4onvh",
        "outputId": "18dd32c3-d1c5-4a25-efa3-760acd159c36"
      },
      "source": [
        "#analisando ospreços ao invés das taxas de retorno\n",
        "dataset['CVC'].tail(330).std(), dataset['MGLU'].tail(330).std()\n",
        "#sabemos quehouve uma variação para cima ou para baixo de R$"
      ],
      "execution_count": 41,
      "outputs": [
        {
          "output_type": "execute_result",
          "data": {
            "text/plain": [
              "(16.124071381159258, 5.309450330687301)"
            ]
          },
          "metadata": {},
          "execution_count": 41
        }
      ]
    },
    {
      "cell_type": "markdown",
      "metadata": {
        "id": "KKuX4112bw_4"
      },
      "source": [
        "## Coeficiente de variação\n",
        "\n",
        "é o desvio padrão dividido pela média e multiplicado por 100.\n",
        "\n",
        "![image.png](data:image/png;base64,iVBORw0KGgoAAAANSUhEUgAAAb4AAAA6CAIAAABAuavEAAAAA3NCSVQICAjb4U/gAAAgAElEQVR4Xu2dB3wU1b7HZze9F1I3IZBAChC6dOkK0rtSlCbY3n1XLM/r0/u8ot5rBRteQBFRql5p0pvSa0BagBRAIZBeSS+77zs7ybLsbmAjEHc3M+aDyezZM+f85szv/PsoNBqNIB8yAjICMgINGQGNsLxLfp0AUNaptdxYRkBGQEbABhFQ1HlOMnXWGTL5CzICMgIyAjJ1ymtARkBGQEagzgjI1FlnyOQvyAjICMgIWCF1ym4tednKCMgI/NkIWCF16gy6cKhaEGQm/bPXkHx9GYEGiIC9Fc1ZXaXOz8vPzskuKiyqqqoSFIJCobCzswsJCW3k52tFE5GHKiMgI2DtCFgNdWZlZB0/ceLY0aMJiQlpaWmlpWUuLs5KpdLLy+u5Z5/r3be3td8JefwyAjICVoSAdVBnZkbm4sXf7Nu3VxWsio6OdndzjzseFxMd3Twy0svTM6xJmBUhLg9VRkBGwAYQsA7qXL169Zo1ax55ZOCUyVMCgwJTUq7NmfORh7vHUzNnuru7Ozg52MCdkKcgIyAjYEUIWIGbCFV91apV3t7e48aNi2ge4ebu1jg0NKxx2M8//3w99brMm1a02uShygjYDAJWQJ2XfxOP6OioJk2aSLjb2ds5ODqkpaenpqbZzJ1ooBORAyQa6I23+mlbAXWWl5cRgeTm6ubk5CThXVJcApn6+fmpVMFycJJ1r0H93OHb0OhtPrLu+cujt1YErMDWqVKpfHx9Uq6lFBQU+Pn7wZVnzp45f/788OHDwsPDCVGSj/pHICc7Jy01zdHJqXlkM+nq8WfiK6sq9Ufi7OQcFBTk5e2lf480ak1ubu7Vq1fz8wucnZwioyK5udK3SkpKLl+6bDAXR0fHxo0bO7lU75r1P1P5ijICJhGoG3WWl5WLkZXZ2WVlZc7Ozp5entSs8/X1JbgyMzOzsLDIzk7p5ubm4+Pj5OwktayoqPT29grwD1DY/UGSC48InzZt+qpVKzdv3tynTx8utGL5io4dOz799DMuri4mZ2V8Ul2pvlF448aNwsDAQAfHm7OurKhKT09jRp6enipViKOex6nwRhEfFRcXM/jA4EDjPhvgmarKKrD64Ycftm/fDpojR47861//SnQtt2bWrBfU6ip+Ly0tdXBw4L6Hhzed89Ec7pTSvka50QiHDx/mZH5BPlFleXn5RUWFzzzzzKOPPubi6rx3z95nn31WCtdlg+S/8vJyNs6P537co2ePBoi2PGVLRsBc6qysqExKStq/f396ejosg0CRl5+fnJykUChfmDXLP8D/wIEDi75ahBI9ddrUB3s8SJ5PclLyJ59+6uHhPn78eMjU0c7xDwMxadJER0eHEydOXLp0mXDO3n169+3b19/f38wONVWak6dOLV++DLlm9uzZjFb6IkRAwNO2rduCVcG5ObnBKtXEiRM8PDx4egmHWrLk2xs3Chg5UtLQoUM7d+ls5uVstZlGLVz5/crbb7+NzDh23Lg+fXoTKwZXAhckCG+OHTO2kV8jOK+svGzlypUhHKEhN3lTEOLjzz3//Cw3N9fPPv2sWfNmKVdTZsyc8fHHH8fExHTp2oW9Db185PARQcFBdFtZWblx40YM3BHNImwVUnle1ouAWdRZVlL2yy+/rFi5MiI8fMzYsZGRzRErEMeWLVsWFxeHmMkD07VL16+//hoO6tq1q4ubC8+PWqOOiAgfNWpUu3bt7lKtpv8nn3yy8EYhkoirq5tzHdW30rIyGP9i8kVRlNE74uPj//XPf8ECU6ZMPnfu3Kuvvuri7Dxx0kT2ieXLl2/evGne5/MIGv3yyy/ff+99nvCwpg06gDQtLXX2W2+dOxcPe/br1w9PXTWWGsHd3e35559/+umnHZ3EDfL0qTPr1/80ZPAQVYhKH3DMLGzAM2Y82bpNa85HxUQNGDDg888/v3DhAtTJvjt9+jS41dPLg0+5X8eOHqOB+Xuk9T6H8sitDgEzqFMj7D+w/4svvoiOif7Lf/9FtDZqDw9Pj/79+7u4uHj7ePNnRWUFWry/n7+rqyt/pqWlI3UOGzasXdu75U3pcjyoPo2qjWJ1RVkUVHv3Onbs6OlTp9Vq8t7FA+PD+nXrU9NSkZ6cXZxbtmzVtGlTGBORtiC/YP369d26dYuKjuK6PR/suWjR1xs2bnjuuf9SWIFfra7wmNUekRPxfPu2bS+++CJaRUVFBdtQdWSYQsCQolTaSbxZWlL6/apVxNv269/foGtHBwe0h/z8fDRxGrNFFRUVsWC8vcQlxO7bvn17iTe53Lp160i37dWzl72DGavUrEnIjWQE7hkCd16UZD2uXLmqtKz0iSee0PGmdP3QkNAuXbqQ28OfWL6QQ+FT7J54wOEpzP+xsbGCSa5RI5OKh/48MIUq7ZR3KZ+aBkYhONg7wPIKpVJUL7VHRkbmocOHfH0bBQSIdkxnZ6fIyMjNm7ckJCTk5OSgkz711FOSYNU4rDFmhwP7D0yZMsXdQ5xsAzyys7N27tppb2+PBrBs+TJut5OjU+8+fVq0aIHt2NPDU3ejz549u+vnXY9Pejw4OMgAqNjWsT179jp69OjatetatWp56eKl3b/sHjBgYPsOHcRb4OrMD7/gSvr999/XrF4zfMTwJk2rI9IaIObylOsTgUlHvep0uTtT5/Hjxw8fPjRq5KiICEOTk6u7K3Qj+X8QH2BCHx9fZE+eDSp09OvfD1eS8WiyMrMOHjzIs1etPdd4j+yUdgi2bdq0tdN5FYy/fO/O5OXlwp6q4GBoUexVIRB1X1xcdPUqrvx8DG04lKSrOSIgOTqyhTDHBkudeOcuX76MbpGYmIhjEMkRT9G27dtnv/lmx04ddbyJLL9lyxZEzhEjRyjYp249wsLCJk2c+OJLL32zeDE6OySL1I8qw13Qb1hRXkH+WElpCdq6LHLeuyUv93QvEbgzdWLNxLuCvVLSxA0urlvZiJyCRoMHAKnt1MlTo8eMDggIMClCIvfBRI4OjhTvEHureb7Q+OztHZS4HWoOpA/062rhVOtyFVubfA+d+CWqKNGHSSnXBGRQfFVlJblJyholnI4RmcvKSqFIqjQhqEpfQ1RlYOUV5fCpiY4axqni4hJgwaYxbtyjTZqElZdXMO+5c+biQG/dpo0uMuHixYv40B955BFcRNLtugmPRki9nrphw4aQENWUqVOaNWvWtm3b9957D19Ql85dmkc2r14JGiEpOWntmrV4AhFpGwa68iytD4E7UyduULLFUdPI4TGeH+yGcEHoD34Y1GFkSRxK/fr2I6bEJG/Sg4+vL6YxfpHMjqIGrS0fxxk7O3tdDBNegtU/rs7Ny3OoMXXVqPiGmr5uVEhDE8ZPUIXe4powHrN0Bn0ToRj6hp+VSE0aoaqqkj/d3T0wODCpKskqqhZgTAJuMJhiqautN5s/r64CDzWBtPCdqBZoBCzdc+bMSU5KKtNGI7EBgdvOnTuJUevXr7/BHsYK4cyePXvWrV9HPNPYsWPZjVq3bv3rr78S6oQxHYe7tAaoiUUnRC89+uij2KBtHlh5glaKwJ2oE0HM3g5xD6IxOUNJKSMAhWgeKObcufMP9e/fqlWrWqU/jYB8ivKLo0BPvhSpE9ry8fbxD6yOHMI0iWCC1lYtnJq8/K0n8fXzLTMaik18G2Hn9CUmCQFKlJ0VQlZWNtNET0d6RfwkAl+Um7SMwBEVGenu5mZm57bXDBbDcMEWQhCSHaAoBNAW9x6QsrOTBPesrCwKC3To0L5pTcqsDgdWSGV5JeIk0iuiq2RE5mYhtC5cuJB9F14GdQC/di2FTnr06NE6VvTCy4eMgGUicCfqVAg4PXft3HU2Pr5Dhw66pI6KsorCoqL8/Lym4U2liV1NScnLzfX09HjggQf0Q/kMpy1qbdeXfLtEJCa9A0mSJ7BXr14jRoyQjADIrWPGjTH8uhl/IwjTSizoqfU51HZgT2jTps2mjZtysrNd3ULLyyouX75EFbu2bdukp2cEB6vOnz83dOgQ9oD0jHQitzs+0BHbbm292fx5rNhhYY0vX/4tLy+PaCFAPnnyJDsK3h7SH6Tp7969OzExafq06b56lacxfSz9bml5RcXo0aOaN2/u7eUVF3f8MWLg3VzYa+nEr5FfTHQMphY64QwBwhhViZMHbWRV0bNnrg3G5m+CPEELQuBO1CkIffv03bFjx9q1a1rExLRt15YljmKbmZl16uRJKToPSQGDJCbCBzo9MHr0aA9tUF6th1LAqvX663+nAfKLrhnUif0T9rzpFjD0MdTapcEHCMJ4oubN+6J9u3ZDhw2V7Az4NzgYOf8SIY9ZgAsxWswL+/bvGzFiZHz8WbzqODECA4MQfrHW7du3b+zYcb6+Pji1KBJK5oy5I7C9dhohNDRk4sSJb7zxxnvvvT9mzGh2Fzw56OwkAkkIlxaXbtiwEczZY/QBQFBdtGgRO2WPHt179uyJU37/vn2rvl+F4h9/Nh4Bc/CQwV27dZX4EWV/7969sbGtkUZZV7fbg20PZHlGVoXAnakTI9RLL71EwOPCLxfiLEKfJQmnSl3VuVNnEpDFyeK5UavJVoZoULHvOH2ozZWY+ft5pKam4v+FewcMHOiCiVYjEAeTnZXNWJMvJhOIineI6/N8vvTiS8fijmGq+/33K8OGDiPxiWcY4ZoI/JKS4p/WryceC+fya6+93qCjZLTbGJsHrkJyLqkBiIGFqHhMlhHNwqU7iXWyWbMIVgUrQf/eYpkhso1Mdqq3kI3+wQfv//ifH48dO4Z7HVadMWMmtQiowSp9Bcxp06lTZ18f39ps5Xe7cIjrNRZjtQ5I+RARqB0KHnysZ8aBE+bgJskr5rS0ljYKg+BKk+NG54J3EpMS+RdhrVGjRlCkfoynlKZJoJKFhJKUFJUgS4aFNYmJiRaZvUrD4InS12jUJFaiHuosD8hKhASgkpPKgj9XPyk+NyfvXHw8Tz4JRewfJpG53yfLS8szsygOUMhtgq1AnjzRvNw8zhAuzlwk0zAlTcmLZdUTFRDauPF9je66UXCjsrLKiXgt4jn1qgFgwyH/0tnZxd5Bz52oEZDZSSUYP/6xF2a9IMHOE4jFs5wyCC7OcLGUylmNpAZLSymzsNPvpI4oF90oysjMCA4KlqJEdd8mzD4tNZW0WizrhEN5+4px+LqDeWWkZxQVF4FwCNUMnP8ElyAPWk4OntHcstIyBtmoka+/f4D+3czJzs3MzMAubG9nz26E5aSayLR8x8JgCtwFqi6wnnUYSr5cZkpZBsxlqH210R8DoBOWnFh6wsuLZDCd00L6KDcvFysNqieX5iI69IoLi3mIUBr8/fzIo9XtQ+oqTVZmJpfTZT/X8WZabnOFLrvGcsd4P0fGY2wycuB+XtPcvqlOtHXr1lOnTsNSJKGmpKSQ3URY/r59+3/etYv9n5zRhx9+mO1q3979S5Z8U1ZWjlI8efJkSaY29zL3tZ1GoLz/xYuXpk6dqv+k3adrcjexk2JfIq121vOzmtVUdeJyxIpiHMCQChdkZ2Yj5z722GPVapMgpF5Lxf6QnpFBbFxGRkav3r0GDRokpcndp6Ead0tILAkC2CsI+aBGxJWrV6iQMmHCBOxgUmNy4datXYcIz5YD0bPljBg+oseDPSSeuph0ccXKFYTcYZIioYtsgv4P3czmosxNQsIFNAaMJO9/8L5OzNcfBuglJyevXbuWoGyMzsSijRw1EvcDCwzhY8fOHaAHpXJdXHlQ8/jxjE00zjCYdevWc5IpEMP3xONPREVFSaEylMJaumxZh3bthw4fajxlqz5jrLqYPZ1bUoHM/paFNbRY3iRiYcGCBZ9++inOLviRx+DatWv468jn4XVM1GE5f+G8KObbiyaXEJWK8NuUq1dZsuT4WxTGZFI+/fRT9cCbiEswyyeffDp//nxYEuFLH4ekxCQqMBUVFQ94eECbtm2+XfItFliEOFE/FYQfV/+4ZesW0Bs0eBBm8Xnz5pHWUc8wUmls6bKlx+LiOnboSLmZqMiozZs2UxeCAA9GAjN+9NGcw0cOd+/WfcigIZ06dWINzH5rNmTHp+yyH370IQJ+j+49CA08feY05amSEpKk2UFt+Co+++yzLxd+uWfvHnYRk1NDweJyR48c7dCxI9YYEroIPoOvaYykuXTpUiLJsGUPGza0ZcuWMOyKFSvy80RnL3Hc69atpVDLgIEDMMUAZnFJMefF/IjNW07++qsY4m1zh705Cnuts7YJ9qx1dn/eByzujRs3sTQxLz7z9DPYl9ntMeAiUgUFBhHVQFITyxGziZQokJObg1KG14u8e8EsG0z9za2RfyMudlfLzLzBUlvkxK8nCI0i9C0xIQENVndRPPVIZFeuXHnllVe6de9G8BzlC3bt2gW8eKgy0jK///6H2NhWSJroyCRKUccE8oX067NOKDlr3bt35/4+MmgQBW6IWyB9AEGPYD42yNOnT+/du2f69OmDhwzBHE/e3ZEjRxcsmE+IAtYkmsFlBMw+POBh6BIcYL3NWzY/0+QZuoXysCxTTQKRE7Uaudvk7SBPjEwwPBbEF7q5u//2+2/vvPPOgYMHSKdG437wwZ5YOdjFwYS19+OPq/GsEnlCzQGYGmmTUBwiKBqHNmaoGJRc3VwJt2AMpIS1im0lxr3YljX57qjTvDUtt6orAknJyQSKY9nkGQ4IDIAfsf7xaiZ0KOx3GGSJqURvEs329krMtYsXL0b3HDZ8GKqc/lNRbeTSiEE/xmPAXoZyh9xdaxCu8Xcs+Awy+IwZM8impe5MwoUL2LV1UOQXFBBmHxAYiMUD3RNrZrfu3b/66svr16/T5syZ09dSUhCmfHy8gbpZs+bw19kzZ3Nyc4Ocjeq0qiVJzhAI6XJieLLZ+WwGXTAqYhigTIqkSKZtunJ1ccWHKSa5aZVhMWxZuyMQY0vVBYzCzJKNFp0DO2O7du2lq7ODYoiDLrGZEkIbHR3TJKwJH/2yeze77M0MvVtHsGnTJiLPcA+IBh+FhmBEPqeoFdZnd0/3CRPGs2AwAXN57fsaNC4urnA62xJeBGxKvMeBS5A7wxvDRN9gcenChQtIyR08eDArtjoZ0BA2K/5bpk6Lu3liyOSJX+PPnhWTu0NUIj9qn0ZKq/DDp+6u7ixZLJuoUbhZ9uzdiyL/wYcfkiFuKE2IaauaQwcOrVm7Bt+O3lTFhqQk4GvC3I8sQ2FNiwOijgOi3Aw/ONawzUE3fFuHBqUJqNCMPk4Mv0Yh6kpsS2wbxNjBSAcPHsI7hGtFGysCsbqHNg69dOlSIfVDNbdomujO1CFFqjIeGtdiC4qKjp4+fZpUQcq4zR3PSBUSYBn4PSkpGWafNm0a2yRnIptHEh+2bdu2kSNH8QvaNOp5i5YtCQXDvkkdVaZLNp00Ze4pWwhOXUqgwoN+CP4agaI28DukVht1Xrp0GY5GopRojusCI2aiwqJCNw83yYAu9U9dC+o/DB8+nDaA5iCuxjIMHXyKNwkcgHH7ju0YnWfPfgvW1t2IOyJgRQ3srcJNxErCelJbWhE8crN2pBVhX8tQcRAfPXaMFYnNS7w7iuqMVV1zJov0kZubQ6oVsCxbthRLKKXzcC+YkIik9K3UNBa3wQURkVDEWOii07yi0qS4xDNw6tQpnjeYGn2L9hy1DPzen5aSdOmXgSJkERph4DQ3vqSImFbKZsvRrW3SnBg/Z6BL6SQ0yy9Em3ISJNlC4DuRU9QalhMMyzRFkaqmRKF0If4kUg1/nX4oE3hI5bj4Cn5k8boO1YUNdcMDXj6le23szy0Hfd4Szqz9EEv3N98sjolpQblb6bZin3355f/5299eoew3hXgw3cBHn3zyCbFczEKsEq3tXBowPEeUNFzG1XSrAlITJwi7aQ+DYTBstG8eMSRK6VPSjpEZQUwfSb519fercz+ei2EEA5EImkbNBl9cVMwbU4iy4EU4lAzHRz937lyE344dOny9+OuECwm8UWLSpMfDI5oaXNd6/zRcHJY5E/Z5yhIb329Gi4SB6apFyxYmn3zLnM7tR4UL9cyZM4iQuEFNThmpCg8s7IAV7NChQ0gTL7/8Mqq6ycZcq3ff3t17dDfa+asZkP+JIWVGBC0NElal+B51DHjmeDLrO7OnprgBvBMaGrpg4QISwG6PHiBIM9XyQzVBiGeI7mL0SjvppCR8kZQhHmo1lAH1SB+JpWnsHYAXgdQAUuyPVGKGfAxwYHhEOnMR6i1wFYNv8RInXDSSP6d68HrbD5vR0CFDH5/8uG5e+HzefHM2XqN/vPmPiPAIemNs8GNiYgJjw3TYIqYF952SsgTYYqZgBugfNNJxfQU6vHaTEKdZJe6+HDSTKF7ExYg6MabTCVPQ4iHhpoE0+Yp4pqYTOP3td95mx37hrRewsUotSSD8acNPFD5v2bIFWwsJgRt+2oBxCXPTylUrCREhh+K7777DGI2nzk8vpOn2t9LCP4U6DbdBCxxxq1axUVHR1XfUYLwKsQ4TYolVTMQcbBGYCEXirRKNfP1MTopXKbt7ePCepcSEpK1bt/fr95AWnFrvI65nEqX0nxYtI2mFJYUC4QIFsLZ4JgT6Wc+/gBCBZFRDvvUpdYojBDT+xVgRHKS6zTQlbLU8g6glFtjSNSbqgBrL5WLpq0rpJJZBYPT2JvBe6e3lA6+SWFxRTqSaUrSEiNVeXLU8eyuqGoFdhOB//fuoGyEiHvZKooAlqtK1wS4ZGRmFJEhv0G6NkHqzD4yw6kpyp8QzFFX497//jaT/2v++1rlzF1GE1vIY8WfffbcMu+Frr/0dNxFlpDOzspcuXda3bz+EOxcXN+ZL8rE0YH5hFkTNUmFA3PO0kxCvLo5MfFIM5yUaNwQPd08oNzc3r7qTkjII2N3Tg/FLnWSkZy6YP59V98Yb/3igUyexGT0rhIiI5q/97+tHDh8hKPXll1/hGvsPHJgwfmJQYPDBA4eGodgPHwHC7737bvLFi768gsUmDsWNwsL1fU34EGxidvIkbBCBg93ftsFZ2fqU/vnm3/Hgh4eHk8dhG3O1ZwOyjZnIs5ARkBGwcATQCIwMRxY+5FqHpzS2etTaVv5ARkBGQEbgDyGA1RXLhoUkav+hGRh+SbJ11p/1yvD68t8yAjICDQABiuESjkzUKkZV2zjscZ/hYrWNycizkBGQEbBMBPDlEnYqxdta5gjrOip74g5k6qwranJ7GQEZgTohQDklMffJKKy1Tp1YVGMFmdEWNaA7Dmb7th1vvPF/hMLNmDlDLG8lHxaDAG9tI/OvqTbsmSwGAgCJPaSUBmnjN8eoDWfhIPn63X+9Sxo+1aafe+65SZMmEZlL/CDxj4T4UPSTAEnKc7z66t/Onzu/es1qElItZqL3bSA3CoXMLCE3S6gs0b6+0E4gfMrTRyCgx5H8KH1d9x4Y2aiQRCxUsCr4nhTBwQVUWy27+4bXn9kxCruVedjJDGFRubq5+Xj7ioM3Wbn2z4S04V6b+ESeH15VwqNIPHl2Vk5gYLC3t88ta0xLneQIrl/7U/NmkcQnbt60hTQo2kjE0Kx5cxDUxgxq8vLyCV9VqUKcnF14IanNZD2YXiJVlZRvI19SyM0TLp6jcpyDKlSoAhuF0sNVUBKUqV/nTIzQNN2PmWc1grOLS3CIWHT8npFAVa2GTPG9fvXyknAzZ3/3zSRb5933Ux89kMNAhRgSe0lG5qW1lLOtLjuon5xdHwNpcNeQYkqMtS2iu0XRqKbghSh3aCPYyTs8sP/AqdOnBg4cSMlhklL0H3M+pWBa8qXkWbNmkSQDz4qpOMipotm95tAy7J7du8l6nDlzJq8jNWxgezeB6ZeV8tZDITExfc/PanWlc5DKp+/DpChR1FqguqCdXg1pbXD7PcOgRhW4Zx0ad6QtmGB82nrP2JPraxWjJ0uMdIVr16/xhndSa7du23ot9ZpU0Mwqxm+9g4QQKZ+jTdw2cSCwBPj785aq6jICWrHjwvmEJd8tiW0dO3rMGEcXR3GN1TzmPD+UzqQWWafOncnFPnYsjo+gTirFcVtvvj1YI8Qdj9u0ZfNDDz1Ehr61rFITAJl/qqJCpM7KipL8XGR3f1VwRnGxB1VHibxGBjfUDu8db5o/QrmlHgL2YnaqxR9kUlOsJS8/r0/vPlR2oSxgxYaKpAtJsa1iLX7sVj9AqDPuWBxSpLGUo5U6NRS+pcytmCWirTx08dKlRV99xes3pk6eGhKiMlhgVRVVFCS+lnK9W9dulMU9dfI0qj3lIa5eSaHEPbn24AUdnz17Zv4X85uFR4wdM9bL08sqVund3mlRJuM9zUonP78ib6/0GwXOASq1WOrJXkEMDAmct9g6a1WN73YY8vfNQ8DSFXaUOwoK8NYBXBAjRo6ANxFbSKolyoEKCB06dsCfYEtxtubdtfpu1bt379atTbwVXVLPkRaplqYN1RCuXrn6nx9+QEVAy5YqU0hpzroRU2KH+o+8l5iqmpcvXeY1EpSh5KV7Qaog7qmo02mExITEZUuX8QqHCRMnUA1PPNkgZCyN4OQouLoKjZt42fWqKCpyCAiuwkdE2X+lEnuGYFP6bn2v4Xt+PRR2i74hvK3sQmIixQEbBfhRkaFSzeuAq6i01qZtWyxoCDjOri6UJrznuMgd6iPgHxjAz20wIb+OIkS417fv2Hk1JWXC+AnRLWLKqyqSL1x0c3UNaRxC0hqmagqaOTo7PzF5srjqtLHR1Og9dfpMx04PYBVlX+Q8r6hbs24thSemP/lk47AwKnFQNKtp06bU4rzNAGzkI2dngcWMO8jFFYm+0s5ecHcVvDwRRhHFbWSOtjINS5c6ediio6JQ3BAtqe6DAIL8gY0sJCSEcjrUWKX8mo2Zn613aZ2Nj9++fRslHgpuFOzftx8XEO8l7d2rNxLlb5d/45Uh3bt1Q1HQf6cYVlT0UKoKhYSG8gul0nFUBG4AAAJMSURBVPYf2H/kyJEuXbrgD+RIT08nemnmUzMp+Gi9yJg7cl58TYV2ZEwYE0lbaSfKoRQGE0MQzO1Dblc/CNhXmXr1Qv1c25yr4L319vbStZRGSx1vfgxOmtOb3Ob+IYBc+cvOXbxaLj8vLzkpSSzvVqWmGHOPbj24a7xmct+ePaqgoNatY3UxRlmZWXv37KG45Plz8dcpkRscXJBfcPjQobS0VFzwx+PiKNYrvleivEJJ1UjLXqj3CFht7X5XF95eIVo2xXAFVHW1UGkFDol7hIDVdGPpCrvVACkPVC106dq1SXhTpCXRfaQ9qPIZ0yIGNZyqzJSexLqiraNb4+JQKjp37dKufXt3N3fqaWKKsbO3f+ihh9t36IAVVTSkauOhyOELCg62cMvSfbn/ok1DljbvC7R336ni4KHDd9+L3IOMwG0QwKv++bx5JSXFvHaNV1DcbKmtSS5SJLopWqr2gFqViFr6YYsS0zYIT9FtUJQ/siwEUNjlbc2ybonVj0YXNlNDdrj1VKpgXsPg6+N7c73RTNtALOAohi3eXIeyL9nq10ADmIDil917GsA05SnedwQIxtSlFRlfjHQhpZ0sNxoDI5+xVgTsb33HrLVOQx63JSBw+7Wkto60NUsAUh6DFSAAdVZYwTDlIcoIyAjICFgSAvdS6iTR9qbh1MjgdftZi7qc7itGTT28PG/kFxidrv2E6Ju15SMwKCg9Lc2WZ2g0t9uvkJvNre3Wm1yoZpo2TH7XCDlzU7EsuTfjSZk8Y+YU+K45CN++t/8HMXphZ6ALPAMAAAAASUVORK5CYII=)"
      ]
    },
    {
      "cell_type": "code",
      "metadata": {
        "colab": {
          "base_uri": "https://localhost:8080/"
        },
        "id": "eYUnVoLAqTEl",
        "outputId": "87fd4538-8718-4df6-bcee-6384d8163b2d"
      },
      "source": [
        "#precisamos do desvio  paddrão e a média\n",
        "desvio_padrao_cvc, media_cvc"
      ],
      "execution_count": 42,
      "outputs": [
        {
          "output_type": "execute_result",
          "data": {
            "text/plain": [
              "(67.87823869907712, -2.423333333333332)"
            ]
          },
          "metadata": {},
          "execution_count": 42
        }
      ]
    },
    {
      "cell_type": "code",
      "metadata": {
        "colab": {
          "base_uri": "https://localhost:8080/"
        },
        "id": "C0YfW0G7qXxL",
        "outputId": "624595a7-dd10-48e6-d251-5f96b8e6abd7"
      },
      "source": [
        "#calculando manualmente\n",
        "coeficiente_variacao_cvc = (desvio_padrao_cvc / media_cvc) * 100\n",
        "coeficiente_variacao_cvc"
      ],
      "execution_count": 43,
      "outputs": [
        {
          "output_type": "execute_result",
          "data": {
            "text/plain": [
              "-2801.0277317363334"
            ]
          },
          "metadata": {},
          "execution_count": 43
        }
      ]
    },
    {
      "cell_type": "code",
      "metadata": {
        "colab": {
          "base_uri": "https://localhost:8080/"
        },
        "id": "VL4yfsy_qgf9",
        "outputId": "2117627a-09bf-45bb-920b-5e9f77ad7650"
      },
      "source": [
        "#calculo automático *100  para ficar em %\n",
        "stats.variation(taxas_cvc) * 100"
      ],
      "execution_count": 44,
      "outputs": [
        {
          "output_type": "execute_result",
          "data": {
            "text/plain": [
              "-2801.0277317363334"
            ]
          },
          "metadata": {},
          "execution_count": 44
        }
      ]
    },
    {
      "cell_type": "code",
      "metadata": {
        "colab": {
          "base_uri": "https://localhost:8080/"
        },
        "id": "KUvU-pXLqpAI",
        "outputId": "a0777e30-d1a7-49a7-9202-0dda46a64d82"
      },
      "source": [
        "stats.variation(taxas_mglu) * 100"
      ],
      "execution_count": 45,
      "outputs": [
        {
          "output_type": "execute_result",
          "data": {
            "text/plain": [
              "138.97810124212978"
            ]
          },
          "metadata": {},
          "execution_count": 45
        }
      ]
    },
    {
      "cell_type": "markdown",
      "metadata": {
        "id": "whH8oHumdpei"
      },
      "source": [
        "## Cálculos com todas as ações - risco médio anual"
      ]
    },
    {
      "cell_type": "code",
      "metadata": {
        "colab": {
          "base_uri": "https://localhost:8080/",
          "height": 424
        },
        "id": "-xoNpHbrsVYg",
        "outputId": "5aa310bf-9256-4847-84f6-09211a78b13b"
      },
      "source": [
        "#tirar a coluna date\n",
        "dataset.drop(labels = ['Date'], axis=1, inplace=True)\n",
        "dataset"
      ],
      "execution_count": 46,
      "outputs": [
        {
          "output_type": "execute_result",
          "data": {
            "text/html": [
              "\n",
              "  <div id=\"df-fd083f80-06a2-42d5-8e85-dc5ff08b42c0\">\n",
              "    <div class=\"colab-df-container\">\n",
              "      <div>\n",
              "<style scoped>\n",
              "    .dataframe tbody tr th:only-of-type {\n",
              "        vertical-align: middle;\n",
              "    }\n",
              "\n",
              "    .dataframe tbody tr th {\n",
              "        vertical-align: top;\n",
              "    }\n",
              "\n",
              "    .dataframe thead th {\n",
              "        text-align: right;\n",
              "    }\n",
              "</style>\n",
              "<table border=\"1\" class=\"dataframe\">\n",
              "  <thead>\n",
              "    <tr style=\"text-align: right;\">\n",
              "      <th></th>\n",
              "      <th>GOL</th>\n",
              "      <th>CVC</th>\n",
              "      <th>WEGE</th>\n",
              "      <th>MGLU</th>\n",
              "      <th>TOTS</th>\n",
              "      <th>BOVA</th>\n",
              "    </tr>\n",
              "  </thead>\n",
              "  <tbody>\n",
              "    <tr>\n",
              "      <th>0</th>\n",
              "      <td>14.990000</td>\n",
              "      <td>15.20</td>\n",
              "      <td>11.846200</td>\n",
              "      <td>0.232812</td>\n",
              "      <td>35.732101</td>\n",
              "      <td>47.259998</td>\n",
              "    </tr>\n",
              "    <tr>\n",
              "      <th>1</th>\n",
              "      <td>14.850000</td>\n",
              "      <td>15.00</td>\n",
              "      <td>11.926900</td>\n",
              "      <td>0.237187</td>\n",
              "      <td>34.634201</td>\n",
              "      <td>46.320000</td>\n",
              "    </tr>\n",
              "    <tr>\n",
              "      <th>2</th>\n",
              "      <td>15.210000</td>\n",
              "      <td>14.80</td>\n",
              "      <td>11.750000</td>\n",
              "      <td>0.234062</td>\n",
              "      <td>32.468300</td>\n",
              "      <td>46.580002</td>\n",
              "    </tr>\n",
              "    <tr>\n",
              "      <th>3</th>\n",
              "      <td>14.550000</td>\n",
              "      <td>14.67</td>\n",
              "      <td>11.615400</td>\n",
              "      <td>0.241875</td>\n",
              "      <td>32.238701</td>\n",
              "      <td>48.150002</td>\n",
              "    </tr>\n",
              "    <tr>\n",
              "      <th>4</th>\n",
              "      <td>14.270000</td>\n",
              "      <td>14.15</td>\n",
              "      <td>11.811500</td>\n",
              "      <td>0.240000</td>\n",
              "      <td>32.987301</td>\n",
              "      <td>48.509998</td>\n",
              "    </tr>\n",
              "    <tr>\n",
              "      <th>...</th>\n",
              "      <td>...</td>\n",
              "      <td>...</td>\n",
              "      <td>...</td>\n",
              "      <td>...</td>\n",
              "      <td>...</td>\n",
              "      <td>...</td>\n",
              "    </tr>\n",
              "    <tr>\n",
              "      <th>1441</th>\n",
              "      <td>18.600000</td>\n",
              "      <td>14.17</td>\n",
              "      <td>83.239998</td>\n",
              "      <td>25.450001</td>\n",
              "      <td>28.500000</td>\n",
              "      <td>95.800003</td>\n",
              "    </tr>\n",
              "    <tr>\n",
              "      <th>1442</th>\n",
              "      <td>16.920000</td>\n",
              "      <td>12.77</td>\n",
              "      <td>79.139999</td>\n",
              "      <td>24.629999</td>\n",
              "      <td>27.500000</td>\n",
              "      <td>92.430000</td>\n",
              "    </tr>\n",
              "    <tr>\n",
              "      <th>1443</th>\n",
              "      <td>16.610001</td>\n",
              "      <td>12.68</td>\n",
              "      <td>80.029999</td>\n",
              "      <td>25.360001</td>\n",
              "      <td>28.500000</td>\n",
              "      <td>92.910004</td>\n",
              "    </tr>\n",
              "    <tr>\n",
              "      <th>1444</th>\n",
              "      <td>15.690000</td>\n",
              "      <td>12.28</td>\n",
              "      <td>75.830002</td>\n",
              "      <td>24.629999</td>\n",
              "      <td>27.000000</td>\n",
              "      <td>90.660004</td>\n",
              "    </tr>\n",
              "    <tr>\n",
              "      <th>1445</th>\n",
              "      <td>16.070000</td>\n",
              "      <td>12.42</td>\n",
              "      <td>78.669998</td>\n",
              "      <td>25.309999</td>\n",
              "      <td>27.930000</td>\n",
              "      <td>92.410004</td>\n",
              "    </tr>\n",
              "  </tbody>\n",
              "</table>\n",
              "<p>1446 rows × 6 columns</p>\n",
              "</div>\n",
              "      <button class=\"colab-df-convert\" onclick=\"convertToInteractive('df-fd083f80-06a2-42d5-8e85-dc5ff08b42c0')\"\n",
              "              title=\"Convert this dataframe to an interactive table.\"\n",
              "              style=\"display:none;\">\n",
              "        \n",
              "  <svg xmlns=\"http://www.w3.org/2000/svg\" height=\"24px\"viewBox=\"0 0 24 24\"\n",
              "       width=\"24px\">\n",
              "    <path d=\"M0 0h24v24H0V0z\" fill=\"none\"/>\n",
              "    <path d=\"M18.56 5.44l.94 2.06.94-2.06 2.06-.94-2.06-.94-.94-2.06-.94 2.06-2.06.94zm-11 1L8.5 8.5l.94-2.06 2.06-.94-2.06-.94L8.5 2.5l-.94 2.06-2.06.94zm10 10l.94 2.06.94-2.06 2.06-.94-2.06-.94-.94-2.06-.94 2.06-2.06.94z\"/><path d=\"M17.41 7.96l-1.37-1.37c-.4-.4-.92-.59-1.43-.59-.52 0-1.04.2-1.43.59L10.3 9.45l-7.72 7.72c-.78.78-.78 2.05 0 2.83L4 21.41c.39.39.9.59 1.41.59.51 0 1.02-.2 1.41-.59l7.78-7.78 2.81-2.81c.8-.78.8-2.07 0-2.86zM5.41 20L4 18.59l7.72-7.72 1.47 1.35L5.41 20z\"/>\n",
              "  </svg>\n",
              "      </button>\n",
              "      \n",
              "  <style>\n",
              "    .colab-df-container {\n",
              "      display:flex;\n",
              "      flex-wrap:wrap;\n",
              "      gap: 12px;\n",
              "    }\n",
              "\n",
              "    .colab-df-convert {\n",
              "      background-color: #E8F0FE;\n",
              "      border: none;\n",
              "      border-radius: 50%;\n",
              "      cursor: pointer;\n",
              "      display: none;\n",
              "      fill: #1967D2;\n",
              "      height: 32px;\n",
              "      padding: 0 0 0 0;\n",
              "      width: 32px;\n",
              "    }\n",
              "\n",
              "    .colab-df-convert:hover {\n",
              "      background-color: #E2EBFA;\n",
              "      box-shadow: 0px 1px 2px rgba(60, 64, 67, 0.3), 0px 1px 3px 1px rgba(60, 64, 67, 0.15);\n",
              "      fill: #174EA6;\n",
              "    }\n",
              "\n",
              "    [theme=dark] .colab-df-convert {\n",
              "      background-color: #3B4455;\n",
              "      fill: #D2E3FC;\n",
              "    }\n",
              "\n",
              "    [theme=dark] .colab-df-convert:hover {\n",
              "      background-color: #434B5C;\n",
              "      box-shadow: 0px 1px 3px 1px rgba(0, 0, 0, 0.15);\n",
              "      filter: drop-shadow(0px 1px 2px rgba(0, 0, 0, 0.3));\n",
              "      fill: #FFFFFF;\n",
              "    }\n",
              "  </style>\n",
              "\n",
              "      <script>\n",
              "        const buttonEl =\n",
              "          document.querySelector('#df-fd083f80-06a2-42d5-8e85-dc5ff08b42c0 button.colab-df-convert');\n",
              "        buttonEl.style.display =\n",
              "          google.colab.kernel.accessAllowed ? 'block' : 'none';\n",
              "\n",
              "        async function convertToInteractive(key) {\n",
              "          const element = document.querySelector('#df-fd083f80-06a2-42d5-8e85-dc5ff08b42c0');\n",
              "          const dataTable =\n",
              "            await google.colab.kernel.invokeFunction('convertToInteractive',\n",
              "                                                     [key], {});\n",
              "          if (!dataTable) return;\n",
              "\n",
              "          const docLinkHtml = 'Like what you see? Visit the ' +\n",
              "            '<a target=\"_blank\" href=https://colab.research.google.com/notebooks/data_table.ipynb>data table notebook</a>'\n",
              "            + ' to learn more about interactive tables.';\n",
              "          element.innerHTML = '';\n",
              "          dataTable['output_type'] = 'display_data';\n",
              "          await google.colab.output.renderOutput(dataTable, element);\n",
              "          const docLink = document.createElement('div');\n",
              "          docLink.innerHTML = docLinkHtml;\n",
              "          element.appendChild(docLink);\n",
              "        }\n",
              "      </script>\n",
              "    </div>\n",
              "  </div>\n",
              "  "
            ],
            "text/plain": [
              "            GOL    CVC       WEGE       MGLU       TOTS       BOVA\n",
              "0     14.990000  15.20  11.846200   0.232812  35.732101  47.259998\n",
              "1     14.850000  15.00  11.926900   0.237187  34.634201  46.320000\n",
              "2     15.210000  14.80  11.750000   0.234062  32.468300  46.580002\n",
              "3     14.550000  14.67  11.615400   0.241875  32.238701  48.150002\n",
              "4     14.270000  14.15  11.811500   0.240000  32.987301  48.509998\n",
              "...         ...    ...        ...        ...        ...        ...\n",
              "1441  18.600000  14.17  83.239998  25.450001  28.500000  95.800003\n",
              "1442  16.920000  12.77  79.139999  24.629999  27.500000  92.430000\n",
              "1443  16.610001  12.68  80.029999  25.360001  28.500000  92.910004\n",
              "1444  15.690000  12.28  75.830002  24.629999  27.000000  90.660004\n",
              "1445  16.070000  12.42  78.669998  25.309999  27.930000  92.410004\n",
              "\n",
              "[1446 rows x 6 columns]"
            ]
          },
          "metadata": {},
          "execution_count": 46
        }
      ]
    },
    {
      "cell_type": "code",
      "metadata": {
        "colab": {
          "base_uri": "https://localhost:8080/",
          "height": 424
        },
        "id": "ltZbzHMmsuYL",
        "outputId": "82196544-7f7f-4c44-ed97-4161bccfe2dc"
      },
      "source": [
        "taxas_retorno = (dataset / dataset.shift(1)) - 1\n",
        "taxas_retorno\n",
        "#retorno diário simples! Pq  são ações diferentes para comparar"
      ],
      "execution_count": 47,
      "outputs": [
        {
          "output_type": "execute_result",
          "data": {
            "text/html": [
              "\n",
              "  <div id=\"df-2a021792-9540-47ba-8749-a23f59b579a6\">\n",
              "    <div class=\"colab-df-container\">\n",
              "      <div>\n",
              "<style scoped>\n",
              "    .dataframe tbody tr th:only-of-type {\n",
              "        vertical-align: middle;\n",
              "    }\n",
              "\n",
              "    .dataframe tbody tr th {\n",
              "        vertical-align: top;\n",
              "    }\n",
              "\n",
              "    .dataframe thead th {\n",
              "        text-align: right;\n",
              "    }\n",
              "</style>\n",
              "<table border=\"1\" class=\"dataframe\">\n",
              "  <thead>\n",
              "    <tr style=\"text-align: right;\">\n",
              "      <th></th>\n",
              "      <th>GOL</th>\n",
              "      <th>CVC</th>\n",
              "      <th>WEGE</th>\n",
              "      <th>MGLU</th>\n",
              "      <th>TOTS</th>\n",
              "      <th>BOVA</th>\n",
              "    </tr>\n",
              "  </thead>\n",
              "  <tbody>\n",
              "    <tr>\n",
              "      <th>0</th>\n",
              "      <td>NaN</td>\n",
              "      <td>NaN</td>\n",
              "      <td>NaN</td>\n",
              "      <td>NaN</td>\n",
              "      <td>NaN</td>\n",
              "      <td>NaN</td>\n",
              "    </tr>\n",
              "    <tr>\n",
              "      <th>1</th>\n",
              "      <td>-0.009340</td>\n",
              "      <td>-0.013158</td>\n",
              "      <td>0.006812</td>\n",
              "      <td>0.018792</td>\n",
              "      <td>-0.030726</td>\n",
              "      <td>-0.019890</td>\n",
              "    </tr>\n",
              "    <tr>\n",
              "      <th>2</th>\n",
              "      <td>0.024242</td>\n",
              "      <td>-0.013333</td>\n",
              "      <td>-0.014832</td>\n",
              "      <td>-0.013175</td>\n",
              "      <td>-0.062536</td>\n",
              "      <td>0.005613</td>\n",
              "    </tr>\n",
              "    <tr>\n",
              "      <th>3</th>\n",
              "      <td>-0.043392</td>\n",
              "      <td>-0.008784</td>\n",
              "      <td>-0.011455</td>\n",
              "      <td>0.033380</td>\n",
              "      <td>-0.007071</td>\n",
              "      <td>0.033705</td>\n",
              "    </tr>\n",
              "    <tr>\n",
              "      <th>4</th>\n",
              "      <td>-0.019244</td>\n",
              "      <td>-0.035447</td>\n",
              "      <td>0.016883</td>\n",
              "      <td>-0.007752</td>\n",
              "      <td>0.023221</td>\n",
              "      <td>0.007477</td>\n",
              "    </tr>\n",
              "    <tr>\n",
              "      <th>...</th>\n",
              "      <td>...</td>\n",
              "      <td>...</td>\n",
              "      <td>...</td>\n",
              "      <td>...</td>\n",
              "      <td>...</td>\n",
              "      <td>...</td>\n",
              "    </tr>\n",
              "    <tr>\n",
              "      <th>1441</th>\n",
              "      <td>-0.018987</td>\n",
              "      <td>-0.018018</td>\n",
              "      <td>0.005921</td>\n",
              "      <td>-0.000785</td>\n",
              "      <td>0.008136</td>\n",
              "      <td>-0.010024</td>\n",
              "    </tr>\n",
              "    <tr>\n",
              "      <th>1442</th>\n",
              "      <td>-0.090323</td>\n",
              "      <td>-0.098800</td>\n",
              "      <td>-0.049255</td>\n",
              "      <td>-0.032220</td>\n",
              "      <td>-0.035088</td>\n",
              "      <td>-0.035177</td>\n",
              "    </tr>\n",
              "    <tr>\n",
              "      <th>1443</th>\n",
              "      <td>-0.018321</td>\n",
              "      <td>-0.007048</td>\n",
              "      <td>0.011246</td>\n",
              "      <td>0.029639</td>\n",
              "      <td>0.036364</td>\n",
              "      <td>0.005193</td>\n",
              "    </tr>\n",
              "    <tr>\n",
              "      <th>1444</th>\n",
              "      <td>-0.055388</td>\n",
              "      <td>-0.031546</td>\n",
              "      <td>-0.052480</td>\n",
              "      <td>-0.028786</td>\n",
              "      <td>-0.052632</td>\n",
              "      <td>-0.024217</td>\n",
              "    </tr>\n",
              "    <tr>\n",
              "      <th>1445</th>\n",
              "      <td>0.024219</td>\n",
              "      <td>0.011401</td>\n",
              "      <td>0.037452</td>\n",
              "      <td>0.027609</td>\n",
              "      <td>0.034444</td>\n",
              "      <td>0.019303</td>\n",
              "    </tr>\n",
              "  </tbody>\n",
              "</table>\n",
              "<p>1446 rows × 6 columns</p>\n",
              "</div>\n",
              "      <button class=\"colab-df-convert\" onclick=\"convertToInteractive('df-2a021792-9540-47ba-8749-a23f59b579a6')\"\n",
              "              title=\"Convert this dataframe to an interactive table.\"\n",
              "              style=\"display:none;\">\n",
              "        \n",
              "  <svg xmlns=\"http://www.w3.org/2000/svg\" height=\"24px\"viewBox=\"0 0 24 24\"\n",
              "       width=\"24px\">\n",
              "    <path d=\"M0 0h24v24H0V0z\" fill=\"none\"/>\n",
              "    <path d=\"M18.56 5.44l.94 2.06.94-2.06 2.06-.94-2.06-.94-.94-2.06-.94 2.06-2.06.94zm-11 1L8.5 8.5l.94-2.06 2.06-.94-2.06-.94L8.5 2.5l-.94 2.06-2.06.94zm10 10l.94 2.06.94-2.06 2.06-.94-2.06-.94-.94-2.06-.94 2.06-2.06.94z\"/><path d=\"M17.41 7.96l-1.37-1.37c-.4-.4-.92-.59-1.43-.59-.52 0-1.04.2-1.43.59L10.3 9.45l-7.72 7.72c-.78.78-.78 2.05 0 2.83L4 21.41c.39.39.9.59 1.41.59.51 0 1.02-.2 1.41-.59l7.78-7.78 2.81-2.81c.8-.78.8-2.07 0-2.86zM5.41 20L4 18.59l7.72-7.72 1.47 1.35L5.41 20z\"/>\n",
              "  </svg>\n",
              "      </button>\n",
              "      \n",
              "  <style>\n",
              "    .colab-df-container {\n",
              "      display:flex;\n",
              "      flex-wrap:wrap;\n",
              "      gap: 12px;\n",
              "    }\n",
              "\n",
              "    .colab-df-convert {\n",
              "      background-color: #E8F0FE;\n",
              "      border: none;\n",
              "      border-radius: 50%;\n",
              "      cursor: pointer;\n",
              "      display: none;\n",
              "      fill: #1967D2;\n",
              "      height: 32px;\n",
              "      padding: 0 0 0 0;\n",
              "      width: 32px;\n",
              "    }\n",
              "\n",
              "    .colab-df-convert:hover {\n",
              "      background-color: #E2EBFA;\n",
              "      box-shadow: 0px 1px 2px rgba(60, 64, 67, 0.3), 0px 1px 3px 1px rgba(60, 64, 67, 0.15);\n",
              "      fill: #174EA6;\n",
              "    }\n",
              "\n",
              "    [theme=dark] .colab-df-convert {\n",
              "      background-color: #3B4455;\n",
              "      fill: #D2E3FC;\n",
              "    }\n",
              "\n",
              "    [theme=dark] .colab-df-convert:hover {\n",
              "      background-color: #434B5C;\n",
              "      box-shadow: 0px 1px 3px 1px rgba(0, 0, 0, 0.15);\n",
              "      filter: drop-shadow(0px 1px 2px rgba(0, 0, 0, 0.3));\n",
              "      fill: #FFFFFF;\n",
              "    }\n",
              "  </style>\n",
              "\n",
              "      <script>\n",
              "        const buttonEl =\n",
              "          document.querySelector('#df-2a021792-9540-47ba-8749-a23f59b579a6 button.colab-df-convert');\n",
              "        buttonEl.style.display =\n",
              "          google.colab.kernel.accessAllowed ? 'block' : 'none';\n",
              "\n",
              "        async function convertToInteractive(key) {\n",
              "          const element = document.querySelector('#df-2a021792-9540-47ba-8749-a23f59b579a6');\n",
              "          const dataTable =\n",
              "            await google.colab.kernel.invokeFunction('convertToInteractive',\n",
              "                                                     [key], {});\n",
              "          if (!dataTable) return;\n",
              "\n",
              "          const docLinkHtml = 'Like what you see? Visit the ' +\n",
              "            '<a target=\"_blank\" href=https://colab.research.google.com/notebooks/data_table.ipynb>data table notebook</a>'\n",
              "            + ' to learn more about interactive tables.';\n",
              "          element.innerHTML = '';\n",
              "          dataTable['output_type'] = 'display_data';\n",
              "          await google.colab.output.renderOutput(dataTable, element);\n",
              "          const docLink = document.createElement('div');\n",
              "          docLink.innerHTML = docLinkHtml;\n",
              "          element.appendChild(docLink);\n",
              "        }\n",
              "      </script>\n",
              "    </div>\n",
              "  </div>\n",
              "  "
            ],
            "text/plain": [
              "           GOL       CVC      WEGE      MGLU      TOTS      BOVA\n",
              "0          NaN       NaN       NaN       NaN       NaN       NaN\n",
              "1    -0.009340 -0.013158  0.006812  0.018792 -0.030726 -0.019890\n",
              "2     0.024242 -0.013333 -0.014832 -0.013175 -0.062536  0.005613\n",
              "3    -0.043392 -0.008784 -0.011455  0.033380 -0.007071  0.033705\n",
              "4    -0.019244 -0.035447  0.016883 -0.007752  0.023221  0.007477\n",
              "...        ...       ...       ...       ...       ...       ...\n",
              "1441 -0.018987 -0.018018  0.005921 -0.000785  0.008136 -0.010024\n",
              "1442 -0.090323 -0.098800 -0.049255 -0.032220 -0.035088 -0.035177\n",
              "1443 -0.018321 -0.007048  0.011246  0.029639  0.036364  0.005193\n",
              "1444 -0.055388 -0.031546 -0.052480 -0.028786 -0.052632 -0.024217\n",
              "1445  0.024219  0.011401  0.037452  0.027609  0.034444  0.019303\n",
              "\n",
              "[1446 rows x 6 columns]"
            ]
          },
          "metadata": {},
          "execution_count": 47
        }
      ]
    },
    {
      "cell_type": "code",
      "metadata": {
        "colab": {
          "base_uri": "https://localhost:8080/"
        },
        "id": "vC7pN4JJtNcS",
        "outputId": "5034a9f3-985b-41c1-bee4-2cc98252f57e"
      },
      "source": [
        "taxas_retorno.std() * 100\n",
        "#calculando o  desvio padrão para cada umas das ações em %\n",
        "# o menor risco seria da  bova  que tem menor std e a de maior risco seria a GOL\n"
      ],
      "execution_count": 48,
      "outputs": [
        {
          "output_type": "execute_result",
          "data": {
            "text/plain": [
              "GOL     5.159740\n",
              "CVC     3.468112\n",
              "WEGE    2.217699\n",
              "MGLU    4.222228\n",
              "TOTS    2.997335\n",
              "BOVA    1.730331\n",
              "dtype: float64"
            ]
          },
          "metadata": {},
          "execution_count": 48
        }
      ]
    },
    {
      "cell_type": "code",
      "metadata": {
        "colab": {
          "base_uri": "https://localhost:8080/"
        },
        "id": "BZ35FuAzt4DO",
        "outputId": "901f5299-09a2-4e06-bd94-336afce2a346"
      },
      "source": [
        "taxas_retorno.std() * 246\n",
        "#variação média anual\n",
        "#o bova é a me menor risco"
      ],
      "execution_count": 49,
      "outputs": [
        {
          "output_type": "execute_result",
          "data": {
            "text/plain": [
              "GOL     12.692961\n",
              "CVC      8.531555\n",
              "WEGE     5.455540\n",
              "MGLU    10.386681\n",
              "TOTS     7.373443\n",
              "BOVA     4.256615\n",
              "dtype: float64"
            ]
          },
          "metadata": {},
          "execution_count": 49
        }
      ]
    },
    {
      "cell_type": "code",
      "metadata": {
        "colab": {
          "base_uri": "https://localhost:8080/"
        },
        "id": "K62-NewLuiEx",
        "outputId": "d57e3f2b-320a-44c7-f437-32296a4e20b9"
      },
      "source": [
        "math.sqrt(246) # Anualizar"
      ],
      "execution_count": 50,
      "outputs": [
        {
          "output_type": "execute_result",
          "data": {
            "text/plain": [
              "15.684387141358123"
            ]
          },
          "metadata": {},
          "execution_count": 50
        }
      ]
    },
    {
      "cell_type": "code",
      "metadata": {
        "colab": {
          "base_uri": "https://localhost:8080/"
        },
        "id": "6XdhwPG6uZER",
        "outputId": "7dc7f889-e131-4922-e810-290e4b5f807b"
      },
      "source": [
        "taxas_retorno.std() * math.sqrt(246) #olhando anualmente\n",
        "# a ação com maior risco acaba sendo a GOL"
      ],
      "execution_count": 51,
      "outputs": [
        {
          "output_type": "execute_result",
          "data": {
            "text/plain": [
              "GOL     0.809274\n",
              "CVC     0.543952\n",
              "WEGE    0.347833\n",
              "MGLU    0.662231\n",
              "TOTS    0.470114\n",
              "BOVA    0.271392\n",
              "dtype: float64"
            ]
          },
          "metadata": {},
          "execution_count": 51
        }
      ]
    },
    {
      "cell_type": "markdown",
      "metadata": {
        "id": "t5-77djrvtGz"
      },
      "source": [
        "## Correlação entre ações\n",
        "\n",
        "![image.png](data:image/png;base64,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)"
      ]
    },
    {
      "cell_type": "code",
      "metadata": {
        "colab": {
          "base_uri": "https://localhost:8080/",
          "height": 424
        },
        "id": "UwMtgThGwg6Q",
        "outputId": "0cf3d2f4-acf9-4490-e575-aead8ade15f2"
      },
      "source": [
        "dataset"
      ],
      "execution_count": 52,
      "outputs": [
        {
          "output_type": "execute_result",
          "data": {
            "text/html": [
              "\n",
              "  <div id=\"df-72f86881-43bf-4ae1-9f62-2e6e928ce10f\">\n",
              "    <div class=\"colab-df-container\">\n",
              "      <div>\n",
              "<style scoped>\n",
              "    .dataframe tbody tr th:only-of-type {\n",
              "        vertical-align: middle;\n",
              "    }\n",
              "\n",
              "    .dataframe tbody tr th {\n",
              "        vertical-align: top;\n",
              "    }\n",
              "\n",
              "    .dataframe thead th {\n",
              "        text-align: right;\n",
              "    }\n",
              "</style>\n",
              "<table border=\"1\" class=\"dataframe\">\n",
              "  <thead>\n",
              "    <tr style=\"text-align: right;\">\n",
              "      <th></th>\n",
              "      <th>GOL</th>\n",
              "      <th>CVC</th>\n",
              "      <th>WEGE</th>\n",
              "      <th>MGLU</th>\n",
              "      <th>TOTS</th>\n",
              "      <th>BOVA</th>\n",
              "    </tr>\n",
              "  </thead>\n",
              "  <tbody>\n",
              "    <tr>\n",
              "      <th>0</th>\n",
              "      <td>14.990000</td>\n",
              "      <td>15.20</td>\n",
              "      <td>11.846200</td>\n",
              "      <td>0.232812</td>\n",
              "      <td>35.732101</td>\n",
              "      <td>47.259998</td>\n",
              "    </tr>\n",
              "    <tr>\n",
              "      <th>1</th>\n",
              "      <td>14.850000</td>\n",
              "      <td>15.00</td>\n",
              "      <td>11.926900</td>\n",
              "      <td>0.237187</td>\n",
              "      <td>34.634201</td>\n",
              "      <td>46.320000</td>\n",
              "    </tr>\n",
              "    <tr>\n",
              "      <th>2</th>\n",
              "      <td>15.210000</td>\n",
              "      <td>14.80</td>\n",
              "      <td>11.750000</td>\n",
              "      <td>0.234062</td>\n",
              "      <td>32.468300</td>\n",
              "      <td>46.580002</td>\n",
              "    </tr>\n",
              "    <tr>\n",
              "      <th>3</th>\n",
              "      <td>14.550000</td>\n",
              "      <td>14.67</td>\n",
              "      <td>11.615400</td>\n",
              "      <td>0.241875</td>\n",
              "      <td>32.238701</td>\n",
              "      <td>48.150002</td>\n",
              "    </tr>\n",
              "    <tr>\n",
              "      <th>4</th>\n",
              "      <td>14.270000</td>\n",
              "      <td>14.15</td>\n",
              "      <td>11.811500</td>\n",
              "      <td>0.240000</td>\n",
              "      <td>32.987301</td>\n",
              "      <td>48.509998</td>\n",
              "    </tr>\n",
              "    <tr>\n",
              "      <th>...</th>\n",
              "      <td>...</td>\n",
              "      <td>...</td>\n",
              "      <td>...</td>\n",
              "      <td>...</td>\n",
              "      <td>...</td>\n",
              "      <td>...</td>\n",
              "    </tr>\n",
              "    <tr>\n",
              "      <th>1441</th>\n",
              "      <td>18.600000</td>\n",
              "      <td>14.17</td>\n",
              "      <td>83.239998</td>\n",
              "      <td>25.450001</td>\n",
              "      <td>28.500000</td>\n",
              "      <td>95.800003</td>\n",
              "    </tr>\n",
              "    <tr>\n",
              "      <th>1442</th>\n",
              "      <td>16.920000</td>\n",
              "      <td>12.77</td>\n",
              "      <td>79.139999</td>\n",
              "      <td>24.629999</td>\n",
              "      <td>27.500000</td>\n",
              "      <td>92.430000</td>\n",
              "    </tr>\n",
              "    <tr>\n",
              "      <th>1443</th>\n",
              "      <td>16.610001</td>\n",
              "      <td>12.68</td>\n",
              "      <td>80.029999</td>\n",
              "      <td>25.360001</td>\n",
              "      <td>28.500000</td>\n",
              "      <td>92.910004</td>\n",
              "    </tr>\n",
              "    <tr>\n",
              "      <th>1444</th>\n",
              "      <td>15.690000</td>\n",
              "      <td>12.28</td>\n",
              "      <td>75.830002</td>\n",
              "      <td>24.629999</td>\n",
              "      <td>27.000000</td>\n",
              "      <td>90.660004</td>\n",
              "    </tr>\n",
              "    <tr>\n",
              "      <th>1445</th>\n",
              "      <td>16.070000</td>\n",
              "      <td>12.42</td>\n",
              "      <td>78.669998</td>\n",
              "      <td>25.309999</td>\n",
              "      <td>27.930000</td>\n",
              "      <td>92.410004</td>\n",
              "    </tr>\n",
              "  </tbody>\n",
              "</table>\n",
              "<p>1446 rows × 6 columns</p>\n",
              "</div>\n",
              "      <button class=\"colab-df-convert\" onclick=\"convertToInteractive('df-72f86881-43bf-4ae1-9f62-2e6e928ce10f')\"\n",
              "              title=\"Convert this dataframe to an interactive table.\"\n",
              "              style=\"display:none;\">\n",
              "        \n",
              "  <svg xmlns=\"http://www.w3.org/2000/svg\" height=\"24px\"viewBox=\"0 0 24 24\"\n",
              "       width=\"24px\">\n",
              "    <path d=\"M0 0h24v24H0V0z\" fill=\"none\"/>\n",
              "    <path d=\"M18.56 5.44l.94 2.06.94-2.06 2.06-.94-2.06-.94-.94-2.06-.94 2.06-2.06.94zm-11 1L8.5 8.5l.94-2.06 2.06-.94-2.06-.94L8.5 2.5l-.94 2.06-2.06.94zm10 10l.94 2.06.94-2.06 2.06-.94-2.06-.94-.94-2.06-.94 2.06-2.06.94z\"/><path d=\"M17.41 7.96l-1.37-1.37c-.4-.4-.92-.59-1.43-.59-.52 0-1.04.2-1.43.59L10.3 9.45l-7.72 7.72c-.78.78-.78 2.05 0 2.83L4 21.41c.39.39.9.59 1.41.59.51 0 1.02-.2 1.41-.59l7.78-7.78 2.81-2.81c.8-.78.8-2.07 0-2.86zM5.41 20L4 18.59l7.72-7.72 1.47 1.35L5.41 20z\"/>\n",
              "  </svg>\n",
              "      </button>\n",
              "      \n",
              "  <style>\n",
              "    .colab-df-container {\n",
              "      display:flex;\n",
              "      flex-wrap:wrap;\n",
              "      gap: 12px;\n",
              "    }\n",
              "\n",
              "    .colab-df-convert {\n",
              "      background-color: #E8F0FE;\n",
              "      border: none;\n",
              "      border-radius: 50%;\n",
              "      cursor: pointer;\n",
              "      display: none;\n",
              "      fill: #1967D2;\n",
              "      height: 32px;\n",
              "      padding: 0 0 0 0;\n",
              "      width: 32px;\n",
              "    }\n",
              "\n",
              "    .colab-df-convert:hover {\n",
              "      background-color: #E2EBFA;\n",
              "      box-shadow: 0px 1px 2px rgba(60, 64, 67, 0.3), 0px 1px 3px 1px rgba(60, 64, 67, 0.15);\n",
              "      fill: #174EA6;\n",
              "    }\n",
              "\n",
              "    [theme=dark] .colab-df-convert {\n",
              "      background-color: #3B4455;\n",
              "      fill: #D2E3FC;\n",
              "    }\n",
              "\n",
              "    [theme=dark] .colab-df-convert:hover {\n",
              "      background-color: #434B5C;\n",
              "      box-shadow: 0px 1px 3px 1px rgba(0, 0, 0, 0.15);\n",
              "      filter: drop-shadow(0px 1px 2px rgba(0, 0, 0, 0.3));\n",
              "      fill: #FFFFFF;\n",
              "    }\n",
              "  </style>\n",
              "\n",
              "      <script>\n",
              "        const buttonEl =\n",
              "          document.querySelector('#df-72f86881-43bf-4ae1-9f62-2e6e928ce10f button.colab-df-convert');\n",
              "        buttonEl.style.display =\n",
              "          google.colab.kernel.accessAllowed ? 'block' : 'none';\n",
              "\n",
              "        async function convertToInteractive(key) {\n",
              "          const element = document.querySelector('#df-72f86881-43bf-4ae1-9f62-2e6e928ce10f');\n",
              "          const dataTable =\n",
              "            await google.colab.kernel.invokeFunction('convertToInteractive',\n",
              "                                                     [key], {});\n",
              "          if (!dataTable) return;\n",
              "\n",
              "          const docLinkHtml = 'Like what you see? Visit the ' +\n",
              "            '<a target=\"_blank\" href=https://colab.research.google.com/notebooks/data_table.ipynb>data table notebook</a>'\n",
              "            + ' to learn more about interactive tables.';\n",
              "          element.innerHTML = '';\n",
              "          dataTable['output_type'] = 'display_data';\n",
              "          await google.colab.output.renderOutput(dataTable, element);\n",
              "          const docLink = document.createElement('div');\n",
              "          docLink.innerHTML = docLinkHtml;\n",
              "          element.appendChild(docLink);\n",
              "        }\n",
              "      </script>\n",
              "    </div>\n",
              "  </div>\n",
              "  "
            ],
            "text/plain": [
              "            GOL    CVC       WEGE       MGLU       TOTS       BOVA\n",
              "0     14.990000  15.20  11.846200   0.232812  35.732101  47.259998\n",
              "1     14.850000  15.00  11.926900   0.237187  34.634201  46.320000\n",
              "2     15.210000  14.80  11.750000   0.234062  32.468300  46.580002\n",
              "3     14.550000  14.67  11.615400   0.241875  32.238701  48.150002\n",
              "4     14.270000  14.15  11.811500   0.240000  32.987301  48.509998\n",
              "...         ...    ...        ...        ...        ...        ...\n",
              "1441  18.600000  14.17  83.239998  25.450001  28.500000  95.800003\n",
              "1442  16.920000  12.77  79.139999  24.629999  27.500000  92.430000\n",
              "1443  16.610001  12.68  80.029999  25.360001  28.500000  92.910004\n",
              "1444  15.690000  12.28  75.830002  24.629999  27.000000  90.660004\n",
              "1445  16.070000  12.42  78.669998  25.309999  27.930000  92.410004\n",
              "\n",
              "[1446 rows x 6 columns]"
            ]
          },
          "metadata": {},
          "execution_count": 52
        }
      ]
    },
    {
      "cell_type": "code",
      "metadata": {
        "colab": {
          "base_uri": "https://localhost:8080/",
          "height": 424
        },
        "id": "gbv8-fu4wUq5",
        "outputId": "b63b4901-290e-4616-fe5a-912d8233acb4"
      },
      "source": [
        "taxas_retorno\n",
        "#encontrar a dependencia entre as ações em diferentes momentos\n",
        "#o calculo das corrreções deve ser feito usandoas taxas de retorno ao invés dos preços"
      ],
      "execution_count": 53,
      "outputs": [
        {
          "output_type": "execute_result",
          "data": {
            "text/html": [
              "\n",
              "  <div id=\"df-f508d1aa-2f9c-4490-9eb1-0d2cb1fd98b0\">\n",
              "    <div class=\"colab-df-container\">\n",
              "      <div>\n",
              "<style scoped>\n",
              "    .dataframe tbody tr th:only-of-type {\n",
              "        vertical-align: middle;\n",
              "    }\n",
              "\n",
              "    .dataframe tbody tr th {\n",
              "        vertical-align: top;\n",
              "    }\n",
              "\n",
              "    .dataframe thead th {\n",
              "        text-align: right;\n",
              "    }\n",
              "</style>\n",
              "<table border=\"1\" class=\"dataframe\">\n",
              "  <thead>\n",
              "    <tr style=\"text-align: right;\">\n",
              "      <th></th>\n",
              "      <th>GOL</th>\n",
              "      <th>CVC</th>\n",
              "      <th>WEGE</th>\n",
              "      <th>MGLU</th>\n",
              "      <th>TOTS</th>\n",
              "      <th>BOVA</th>\n",
              "    </tr>\n",
              "  </thead>\n",
              "  <tbody>\n",
              "    <tr>\n",
              "      <th>0</th>\n",
              "      <td>NaN</td>\n",
              "      <td>NaN</td>\n",
              "      <td>NaN</td>\n",
              "      <td>NaN</td>\n",
              "      <td>NaN</td>\n",
              "      <td>NaN</td>\n",
              "    </tr>\n",
              "    <tr>\n",
              "      <th>1</th>\n",
              "      <td>-0.009340</td>\n",
              "      <td>-0.013158</td>\n",
              "      <td>0.006812</td>\n",
              "      <td>0.018792</td>\n",
              "      <td>-0.030726</td>\n",
              "      <td>-0.019890</td>\n",
              "    </tr>\n",
              "    <tr>\n",
              "      <th>2</th>\n",
              "      <td>0.024242</td>\n",
              "      <td>-0.013333</td>\n",
              "      <td>-0.014832</td>\n",
              "      <td>-0.013175</td>\n",
              "      <td>-0.062536</td>\n",
              "      <td>0.005613</td>\n",
              "    </tr>\n",
              "    <tr>\n",
              "      <th>3</th>\n",
              "      <td>-0.043392</td>\n",
              "      <td>-0.008784</td>\n",
              "      <td>-0.011455</td>\n",
              "      <td>0.033380</td>\n",
              "      <td>-0.007071</td>\n",
              "      <td>0.033705</td>\n",
              "    </tr>\n",
              "    <tr>\n",
              "      <th>4</th>\n",
              "      <td>-0.019244</td>\n",
              "      <td>-0.035447</td>\n",
              "      <td>0.016883</td>\n",
              "      <td>-0.007752</td>\n",
              "      <td>0.023221</td>\n",
              "      <td>0.007477</td>\n",
              "    </tr>\n",
              "    <tr>\n",
              "      <th>...</th>\n",
              "      <td>...</td>\n",
              "      <td>...</td>\n",
              "      <td>...</td>\n",
              "      <td>...</td>\n",
              "      <td>...</td>\n",
              "      <td>...</td>\n",
              "    </tr>\n",
              "    <tr>\n",
              "      <th>1441</th>\n",
              "      <td>-0.018987</td>\n",
              "      <td>-0.018018</td>\n",
              "      <td>0.005921</td>\n",
              "      <td>-0.000785</td>\n",
              "      <td>0.008136</td>\n",
              "      <td>-0.010024</td>\n",
              "    </tr>\n",
              "    <tr>\n",
              "      <th>1442</th>\n",
              "      <td>-0.090323</td>\n",
              "      <td>-0.098800</td>\n",
              "      <td>-0.049255</td>\n",
              "      <td>-0.032220</td>\n",
              "      <td>-0.035088</td>\n",
              "      <td>-0.035177</td>\n",
              "    </tr>\n",
              "    <tr>\n",
              "      <th>1443</th>\n",
              "      <td>-0.018321</td>\n",
              "      <td>-0.007048</td>\n",
              "      <td>0.011246</td>\n",
              "      <td>0.029639</td>\n",
              "      <td>0.036364</td>\n",
              "      <td>0.005193</td>\n",
              "    </tr>\n",
              "    <tr>\n",
              "      <th>1444</th>\n",
              "      <td>-0.055388</td>\n",
              "      <td>-0.031546</td>\n",
              "      <td>-0.052480</td>\n",
              "      <td>-0.028786</td>\n",
              "      <td>-0.052632</td>\n",
              "      <td>-0.024217</td>\n",
              "    </tr>\n",
              "    <tr>\n",
              "      <th>1445</th>\n",
              "      <td>0.024219</td>\n",
              "      <td>0.011401</td>\n",
              "      <td>0.037452</td>\n",
              "      <td>0.027609</td>\n",
              "      <td>0.034444</td>\n",
              "      <td>0.019303</td>\n",
              "    </tr>\n",
              "  </tbody>\n",
              "</table>\n",
              "<p>1446 rows × 6 columns</p>\n",
              "</div>\n",
              "      <button class=\"colab-df-convert\" onclick=\"convertToInteractive('df-f508d1aa-2f9c-4490-9eb1-0d2cb1fd98b0')\"\n",
              "              title=\"Convert this dataframe to an interactive table.\"\n",
              "              style=\"display:none;\">\n",
              "        \n",
              "  <svg xmlns=\"http://www.w3.org/2000/svg\" height=\"24px\"viewBox=\"0 0 24 24\"\n",
              "       width=\"24px\">\n",
              "    <path d=\"M0 0h24v24H0V0z\" fill=\"none\"/>\n",
              "    <path d=\"M18.56 5.44l.94 2.06.94-2.06 2.06-.94-2.06-.94-.94-2.06-.94 2.06-2.06.94zm-11 1L8.5 8.5l.94-2.06 2.06-.94-2.06-.94L8.5 2.5l-.94 2.06-2.06.94zm10 10l.94 2.06.94-2.06 2.06-.94-2.06-.94-.94-2.06-.94 2.06-2.06.94z\"/><path d=\"M17.41 7.96l-1.37-1.37c-.4-.4-.92-.59-1.43-.59-.52 0-1.04.2-1.43.59L10.3 9.45l-7.72 7.72c-.78.78-.78 2.05 0 2.83L4 21.41c.39.39.9.59 1.41.59.51 0 1.02-.2 1.41-.59l7.78-7.78 2.81-2.81c.8-.78.8-2.07 0-2.86zM5.41 20L4 18.59l7.72-7.72 1.47 1.35L5.41 20z\"/>\n",
              "  </svg>\n",
              "      </button>\n",
              "      \n",
              "  <style>\n",
              "    .colab-df-container {\n",
              "      display:flex;\n",
              "      flex-wrap:wrap;\n",
              "      gap: 12px;\n",
              "    }\n",
              "\n",
              "    .colab-df-convert {\n",
              "      background-color: #E8F0FE;\n",
              "      border: none;\n",
              "      border-radius: 50%;\n",
              "      cursor: pointer;\n",
              "      display: none;\n",
              "      fill: #1967D2;\n",
              "      height: 32px;\n",
              "      padding: 0 0 0 0;\n",
              "      width: 32px;\n",
              "    }\n",
              "\n",
              "    .colab-df-convert:hover {\n",
              "      background-color: #E2EBFA;\n",
              "      box-shadow: 0px 1px 2px rgba(60, 64, 67, 0.3), 0px 1px 3px 1px rgba(60, 64, 67, 0.15);\n",
              "      fill: #174EA6;\n",
              "    }\n",
              "\n",
              "    [theme=dark] .colab-df-convert {\n",
              "      background-color: #3B4455;\n",
              "      fill: #D2E3FC;\n",
              "    }\n",
              "\n",
              "    [theme=dark] .colab-df-convert:hover {\n",
              "      background-color: #434B5C;\n",
              "      box-shadow: 0px 1px 3px 1px rgba(0, 0, 0, 0.15);\n",
              "      filter: drop-shadow(0px 1px 2px rgba(0, 0, 0, 0.3));\n",
              "      fill: #FFFFFF;\n",
              "    }\n",
              "  </style>\n",
              "\n",
              "      <script>\n",
              "        const buttonEl =\n",
              "          document.querySelector('#df-f508d1aa-2f9c-4490-9eb1-0d2cb1fd98b0 button.colab-df-convert');\n",
              "        buttonEl.style.display =\n",
              "          google.colab.kernel.accessAllowed ? 'block' : 'none';\n",
              "\n",
              "        async function convertToInteractive(key) {\n",
              "          const element = document.querySelector('#df-f508d1aa-2f9c-4490-9eb1-0d2cb1fd98b0');\n",
              "          const dataTable =\n",
              "            await google.colab.kernel.invokeFunction('convertToInteractive',\n",
              "                                                     [key], {});\n",
              "          if (!dataTable) return;\n",
              "\n",
              "          const docLinkHtml = 'Like what you see? Visit the ' +\n",
              "            '<a target=\"_blank\" href=https://colab.research.google.com/notebooks/data_table.ipynb>data table notebook</a>'\n",
              "            + ' to learn more about interactive tables.';\n",
              "          element.innerHTML = '';\n",
              "          dataTable['output_type'] = 'display_data';\n",
              "          await google.colab.output.renderOutput(dataTable, element);\n",
              "          const docLink = document.createElement('div');\n",
              "          docLink.innerHTML = docLinkHtml;\n",
              "          element.appendChild(docLink);\n",
              "        }\n",
              "      </script>\n",
              "    </div>\n",
              "  </div>\n",
              "  "
            ],
            "text/plain": [
              "           GOL       CVC      WEGE      MGLU      TOTS      BOVA\n",
              "0          NaN       NaN       NaN       NaN       NaN       NaN\n",
              "1    -0.009340 -0.013158  0.006812  0.018792 -0.030726 -0.019890\n",
              "2     0.024242 -0.013333 -0.014832 -0.013175 -0.062536  0.005613\n",
              "3    -0.043392 -0.008784 -0.011455  0.033380 -0.007071  0.033705\n",
              "4    -0.019244 -0.035447  0.016883 -0.007752  0.023221  0.007477\n",
              "...        ...       ...       ...       ...       ...       ...\n",
              "1441 -0.018987 -0.018018  0.005921 -0.000785  0.008136 -0.010024\n",
              "1442 -0.090323 -0.098800 -0.049255 -0.032220 -0.035088 -0.035177\n",
              "1443 -0.018321 -0.007048  0.011246  0.029639  0.036364  0.005193\n",
              "1444 -0.055388 -0.031546 -0.052480 -0.028786 -0.052632 -0.024217\n",
              "1445  0.024219  0.011401  0.037452  0.027609  0.034444  0.019303\n",
              "\n",
              "[1446 rows x 6 columns]"
            ]
          },
          "metadata": {},
          "execution_count": 53
        }
      ]
    },
    {
      "cell_type": "code",
      "metadata": {
        "colab": {
          "base_uri": "https://localhost:8080/",
          "height": 238
        },
        "id": "A2dHlyuOw_wM",
        "outputId": "e86cb7c2-aad1-4873-93ad-dfbf29afc8d6"
      },
      "source": [
        "#calculando a covariância\n",
        "#se o valor por maior que 0 as taxas se movem juntas\n",
        "#se menor que 0 elas  se movem em direções opostas\n",
        "# se  igual a 0 elas são independentes\n",
        "taxas_retorno.cov()\n",
        "#aqui vemos valores positivos,mostrando que se umaaumenta a outra  também"
      ],
      "execution_count": 54,
      "outputs": [
        {
          "output_type": "execute_result",
          "data": {
            "text/html": [
              "\n",
              "  <div id=\"df-580776f9-2239-4046-b074-8589ab408f9f\">\n",
              "    <div class=\"colab-df-container\">\n",
              "      <div>\n",
              "<style scoped>\n",
              "    .dataframe tbody tr th:only-of-type {\n",
              "        vertical-align: middle;\n",
              "    }\n",
              "\n",
              "    .dataframe tbody tr th {\n",
              "        vertical-align: top;\n",
              "    }\n",
              "\n",
              "    .dataframe thead th {\n",
              "        text-align: right;\n",
              "    }\n",
              "</style>\n",
              "<table border=\"1\" class=\"dataframe\">\n",
              "  <thead>\n",
              "    <tr style=\"text-align: right;\">\n",
              "      <th></th>\n",
              "      <th>GOL</th>\n",
              "      <th>CVC</th>\n",
              "      <th>WEGE</th>\n",
              "      <th>MGLU</th>\n",
              "      <th>TOTS</th>\n",
              "      <th>BOVA</th>\n",
              "    </tr>\n",
              "  </thead>\n",
              "  <tbody>\n",
              "    <tr>\n",
              "      <th>GOL</th>\n",
              "      <td>0.002662</td>\n",
              "      <td>0.000895</td>\n",
              "      <td>0.000366</td>\n",
              "      <td>0.000710</td>\n",
              "      <td>0.000401</td>\n",
              "      <td>0.000528</td>\n",
              "    </tr>\n",
              "    <tr>\n",
              "      <th>CVC</th>\n",
              "      <td>0.000895</td>\n",
              "      <td>0.001203</td>\n",
              "      <td>0.000241</td>\n",
              "      <td>0.000479</td>\n",
              "      <td>0.000274</td>\n",
              "      <td>0.000336</td>\n",
              "    </tr>\n",
              "    <tr>\n",
              "      <th>WEGE</th>\n",
              "      <td>0.000366</td>\n",
              "      <td>0.000241</td>\n",
              "      <td>0.000492</td>\n",
              "      <td>0.000276</td>\n",
              "      <td>0.000199</td>\n",
              "      <td>0.000207</td>\n",
              "    </tr>\n",
              "    <tr>\n",
              "      <th>MGLU</th>\n",
              "      <td>0.000710</td>\n",
              "      <td>0.000479</td>\n",
              "      <td>0.000276</td>\n",
              "      <td>0.001783</td>\n",
              "      <td>0.000252</td>\n",
              "      <td>0.000335</td>\n",
              "    </tr>\n",
              "    <tr>\n",
              "      <th>TOTS</th>\n",
              "      <td>0.000401</td>\n",
              "      <td>0.000274</td>\n",
              "      <td>0.000199</td>\n",
              "      <td>0.000252</td>\n",
              "      <td>0.000898</td>\n",
              "      <td>0.000211</td>\n",
              "    </tr>\n",
              "    <tr>\n",
              "      <th>BOVA</th>\n",
              "      <td>0.000528</td>\n",
              "      <td>0.000336</td>\n",
              "      <td>0.000207</td>\n",
              "      <td>0.000335</td>\n",
              "      <td>0.000211</td>\n",
              "      <td>0.000299</td>\n",
              "    </tr>\n",
              "  </tbody>\n",
              "</table>\n",
              "</div>\n",
              "      <button class=\"colab-df-convert\" onclick=\"convertToInteractive('df-580776f9-2239-4046-b074-8589ab408f9f')\"\n",
              "              title=\"Convert this dataframe to an interactive table.\"\n",
              "              style=\"display:none;\">\n",
              "        \n",
              "  <svg xmlns=\"http://www.w3.org/2000/svg\" height=\"24px\"viewBox=\"0 0 24 24\"\n",
              "       width=\"24px\">\n",
              "    <path d=\"M0 0h24v24H0V0z\" fill=\"none\"/>\n",
              "    <path d=\"M18.56 5.44l.94 2.06.94-2.06 2.06-.94-2.06-.94-.94-2.06-.94 2.06-2.06.94zm-11 1L8.5 8.5l.94-2.06 2.06-.94-2.06-.94L8.5 2.5l-.94 2.06-2.06.94zm10 10l.94 2.06.94-2.06 2.06-.94-2.06-.94-.94-2.06-.94 2.06-2.06.94z\"/><path d=\"M17.41 7.96l-1.37-1.37c-.4-.4-.92-.59-1.43-.59-.52 0-1.04.2-1.43.59L10.3 9.45l-7.72 7.72c-.78.78-.78 2.05 0 2.83L4 21.41c.39.39.9.59 1.41.59.51 0 1.02-.2 1.41-.59l7.78-7.78 2.81-2.81c.8-.78.8-2.07 0-2.86zM5.41 20L4 18.59l7.72-7.72 1.47 1.35L5.41 20z\"/>\n",
              "  </svg>\n",
              "      </button>\n",
              "      \n",
              "  <style>\n",
              "    .colab-df-container {\n",
              "      display:flex;\n",
              "      flex-wrap:wrap;\n",
              "      gap: 12px;\n",
              "    }\n",
              "\n",
              "    .colab-df-convert {\n",
              "      background-color: #E8F0FE;\n",
              "      border: none;\n",
              "      border-radius: 50%;\n",
              "      cursor: pointer;\n",
              "      display: none;\n",
              "      fill: #1967D2;\n",
              "      height: 32px;\n",
              "      padding: 0 0 0 0;\n",
              "      width: 32px;\n",
              "    }\n",
              "\n",
              "    .colab-df-convert:hover {\n",
              "      background-color: #E2EBFA;\n",
              "      box-shadow: 0px 1px 2px rgba(60, 64, 67, 0.3), 0px 1px 3px 1px rgba(60, 64, 67, 0.15);\n",
              "      fill: #174EA6;\n",
              "    }\n",
              "\n",
              "    [theme=dark] .colab-df-convert {\n",
              "      background-color: #3B4455;\n",
              "      fill: #D2E3FC;\n",
              "    }\n",
              "\n",
              "    [theme=dark] .colab-df-convert:hover {\n",
              "      background-color: #434B5C;\n",
              "      box-shadow: 0px 1px 3px 1px rgba(0, 0, 0, 0.15);\n",
              "      filter: drop-shadow(0px 1px 2px rgba(0, 0, 0, 0.3));\n",
              "      fill: #FFFFFF;\n",
              "    }\n",
              "  </style>\n",
              "\n",
              "      <script>\n",
              "        const buttonEl =\n",
              "          document.querySelector('#df-580776f9-2239-4046-b074-8589ab408f9f button.colab-df-convert');\n",
              "        buttonEl.style.display =\n",
              "          google.colab.kernel.accessAllowed ? 'block' : 'none';\n",
              "\n",
              "        async function convertToInteractive(key) {\n",
              "          const element = document.querySelector('#df-580776f9-2239-4046-b074-8589ab408f9f');\n",
              "          const dataTable =\n",
              "            await google.colab.kernel.invokeFunction('convertToInteractive',\n",
              "                                                     [key], {});\n",
              "          if (!dataTable) return;\n",
              "\n",
              "          const docLinkHtml = 'Like what you see? Visit the ' +\n",
              "            '<a target=\"_blank\" href=https://colab.research.google.com/notebooks/data_table.ipynb>data table notebook</a>'\n",
              "            + ' to learn more about interactive tables.';\n",
              "          element.innerHTML = '';\n",
              "          dataTable['output_type'] = 'display_data';\n",
              "          await google.colab.output.renderOutput(dataTable, element);\n",
              "          const docLink = document.createElement('div');\n",
              "          docLink.innerHTML = docLinkHtml;\n",
              "          element.appendChild(docLink);\n",
              "        }\n",
              "      </script>\n",
              "    </div>\n",
              "  </div>\n",
              "  "
            ],
            "text/plain": [
              "           GOL       CVC      WEGE      MGLU      TOTS      BOVA\n",
              "GOL   0.002662  0.000895  0.000366  0.000710  0.000401  0.000528\n",
              "CVC   0.000895  0.001203  0.000241  0.000479  0.000274  0.000336\n",
              "WEGE  0.000366  0.000241  0.000492  0.000276  0.000199  0.000207\n",
              "MGLU  0.000710  0.000479  0.000276  0.001783  0.000252  0.000335\n",
              "TOTS  0.000401  0.000274  0.000199  0.000252  0.000898  0.000211\n",
              "BOVA  0.000528  0.000336  0.000207  0.000335  0.000211  0.000299"
            ]
          },
          "metadata": {},
          "execution_count": 54
        }
      ]
    },
    {
      "cell_type": "code",
      "metadata": {
        "colab": {
          "base_uri": "https://localhost:8080/",
          "height": 238
        },
        "id": "WsaMv-JzyBB8",
        "outputId": "1dc1e694-64e8-4e41-cfd2-86e366873d74"
      },
      "source": [
        "# Empresas BOVA: http://bvmf.bmfbovespa.com.br/indices/ResumoCarteiraQuadrimestre.aspx?Indice=IBOV&idioma=pt-br\n",
        "taxas_retorno.corr()\n",
        "#as empresas da bova (como aGol) quanto mais a bova sob mais essas ações sobem"
      ],
      "execution_count": 55,
      "outputs": [
        {
          "output_type": "execute_result",
          "data": {
            "text/html": [
              "\n",
              "  <div id=\"df-fd20c37e-a51a-4c62-a771-d756cda27451\">\n",
              "    <div class=\"colab-df-container\">\n",
              "      <div>\n",
              "<style scoped>\n",
              "    .dataframe tbody tr th:only-of-type {\n",
              "        vertical-align: middle;\n",
              "    }\n",
              "\n",
              "    .dataframe tbody tr th {\n",
              "        vertical-align: top;\n",
              "    }\n",
              "\n",
              "    .dataframe thead th {\n",
              "        text-align: right;\n",
              "    }\n",
              "</style>\n",
              "<table border=\"1\" class=\"dataframe\">\n",
              "  <thead>\n",
              "    <tr style=\"text-align: right;\">\n",
              "      <th></th>\n",
              "      <th>GOL</th>\n",
              "      <th>CVC</th>\n",
              "      <th>WEGE</th>\n",
              "      <th>MGLU</th>\n",
              "      <th>TOTS</th>\n",
              "      <th>BOVA</th>\n",
              "    </tr>\n",
              "  </thead>\n",
              "  <tbody>\n",
              "    <tr>\n",
              "      <th>GOL</th>\n",
              "      <td>1.000000</td>\n",
              "      <td>0.499884</td>\n",
              "      <td>0.319979</td>\n",
              "      <td>0.325900</td>\n",
              "      <td>0.259048</td>\n",
              "      <td>0.590888</td>\n",
              "    </tr>\n",
              "    <tr>\n",
              "      <th>CVC</th>\n",
              "      <td>0.499884</td>\n",
              "      <td>1.000000</td>\n",
              "      <td>0.313461</td>\n",
              "      <td>0.327040</td>\n",
              "      <td>0.263111</td>\n",
              "      <td>0.560705</td>\n",
              "    </tr>\n",
              "    <tr>\n",
              "      <th>WEGE</th>\n",
              "      <td>0.319979</td>\n",
              "      <td>0.313461</td>\n",
              "      <td>1.000000</td>\n",
              "      <td>0.295261</td>\n",
              "      <td>0.299640</td>\n",
              "      <td>0.539577</td>\n",
              "    </tr>\n",
              "    <tr>\n",
              "      <th>MGLU</th>\n",
              "      <td>0.325900</td>\n",
              "      <td>0.327040</td>\n",
              "      <td>0.295261</td>\n",
              "      <td>1.000000</td>\n",
              "      <td>0.199397</td>\n",
              "      <td>0.458245</td>\n",
              "    </tr>\n",
              "    <tr>\n",
              "      <th>TOTS</th>\n",
              "      <td>0.259048</td>\n",
              "      <td>0.263111</td>\n",
              "      <td>0.299640</td>\n",
              "      <td>0.199397</td>\n",
              "      <td>1.000000</td>\n",
              "      <td>0.407193</td>\n",
              "    </tr>\n",
              "    <tr>\n",
              "      <th>BOVA</th>\n",
              "      <td>0.590888</td>\n",
              "      <td>0.560705</td>\n",
              "      <td>0.539577</td>\n",
              "      <td>0.458245</td>\n",
              "      <td>0.407193</td>\n",
              "      <td>1.000000</td>\n",
              "    </tr>\n",
              "  </tbody>\n",
              "</table>\n",
              "</div>\n",
              "      <button class=\"colab-df-convert\" onclick=\"convertToInteractive('df-fd20c37e-a51a-4c62-a771-d756cda27451')\"\n",
              "              title=\"Convert this dataframe to an interactive table.\"\n",
              "              style=\"display:none;\">\n",
              "        \n",
              "  <svg xmlns=\"http://www.w3.org/2000/svg\" height=\"24px\"viewBox=\"0 0 24 24\"\n",
              "       width=\"24px\">\n",
              "    <path d=\"M0 0h24v24H0V0z\" fill=\"none\"/>\n",
              "    <path d=\"M18.56 5.44l.94 2.06.94-2.06 2.06-.94-2.06-.94-.94-2.06-.94 2.06-2.06.94zm-11 1L8.5 8.5l.94-2.06 2.06-.94-2.06-.94L8.5 2.5l-.94 2.06-2.06.94zm10 10l.94 2.06.94-2.06 2.06-.94-2.06-.94-.94-2.06-.94 2.06-2.06.94z\"/><path d=\"M17.41 7.96l-1.37-1.37c-.4-.4-.92-.59-1.43-.59-.52 0-1.04.2-1.43.59L10.3 9.45l-7.72 7.72c-.78.78-.78 2.05 0 2.83L4 21.41c.39.39.9.59 1.41.59.51 0 1.02-.2 1.41-.59l7.78-7.78 2.81-2.81c.8-.78.8-2.07 0-2.86zM5.41 20L4 18.59l7.72-7.72 1.47 1.35L5.41 20z\"/>\n",
              "  </svg>\n",
              "      </button>\n",
              "      \n",
              "  <style>\n",
              "    .colab-df-container {\n",
              "      display:flex;\n",
              "      flex-wrap:wrap;\n",
              "      gap: 12px;\n",
              "    }\n",
              "\n",
              "    .colab-df-convert {\n",
              "      background-color: #E8F0FE;\n",
              "      border: none;\n",
              "      border-radius: 50%;\n",
              "      cursor: pointer;\n",
              "      display: none;\n",
              "      fill: #1967D2;\n",
              "      height: 32px;\n",
              "      padding: 0 0 0 0;\n",
              "      width: 32px;\n",
              "    }\n",
              "\n",
              "    .colab-df-convert:hover {\n",
              "      background-color: #E2EBFA;\n",
              "      box-shadow: 0px 1px 2px rgba(60, 64, 67, 0.3), 0px 1px 3px 1px rgba(60, 64, 67, 0.15);\n",
              "      fill: #174EA6;\n",
              "    }\n",
              "\n",
              "    [theme=dark] .colab-df-convert {\n",
              "      background-color: #3B4455;\n",
              "      fill: #D2E3FC;\n",
              "    }\n",
              "\n",
              "    [theme=dark] .colab-df-convert:hover {\n",
              "      background-color: #434B5C;\n",
              "      box-shadow: 0px 1px 3px 1px rgba(0, 0, 0, 0.15);\n",
              "      filter: drop-shadow(0px 1px 2px rgba(0, 0, 0, 0.3));\n",
              "      fill: #FFFFFF;\n",
              "    }\n",
              "  </style>\n",
              "\n",
              "      <script>\n",
              "        const buttonEl =\n",
              "          document.querySelector('#df-fd20c37e-a51a-4c62-a771-d756cda27451 button.colab-df-convert');\n",
              "        buttonEl.style.display =\n",
              "          google.colab.kernel.accessAllowed ? 'block' : 'none';\n",
              "\n",
              "        async function convertToInteractive(key) {\n",
              "          const element = document.querySelector('#df-fd20c37e-a51a-4c62-a771-d756cda27451');\n",
              "          const dataTable =\n",
              "            await google.colab.kernel.invokeFunction('convertToInteractive',\n",
              "                                                     [key], {});\n",
              "          if (!dataTable) return;\n",
              "\n",
              "          const docLinkHtml = 'Like what you see? Visit the ' +\n",
              "            '<a target=\"_blank\" href=https://colab.research.google.com/notebooks/data_table.ipynb>data table notebook</a>'\n",
              "            + ' to learn more about interactive tables.';\n",
              "          element.innerHTML = '';\n",
              "          dataTable['output_type'] = 'display_data';\n",
              "          await google.colab.output.renderOutput(dataTable, element);\n",
              "          const docLink = document.createElement('div');\n",
              "          docLink.innerHTML = docLinkHtml;\n",
              "          element.appendChild(docLink);\n",
              "        }\n",
              "      </script>\n",
              "    </div>\n",
              "  </div>\n",
              "  "
            ],
            "text/plain": [
              "           GOL       CVC      WEGE      MGLU      TOTS      BOVA\n",
              "GOL   1.000000  0.499884  0.319979  0.325900  0.259048  0.590888\n",
              "CVC   0.499884  1.000000  0.313461  0.327040  0.263111  0.560705\n",
              "WEGE  0.319979  0.313461  1.000000  0.295261  0.299640  0.539577\n",
              "MGLU  0.325900  0.327040  0.295261  1.000000  0.199397  0.458245\n",
              "TOTS  0.259048  0.263111  0.299640  0.199397  1.000000  0.407193\n",
              "BOVA  0.590888  0.560705  0.539577  0.458245  0.407193  1.000000"
            ]
          },
          "metadata": {},
          "execution_count": 55
        }
      ]
    },
    {
      "cell_type": "code",
      "metadata": {
        "colab": {
          "base_uri": "https://localhost:8080/",
          "height": 487
        },
        "id": "LGkZkuG8zfcT",
        "outputId": "b9ceb84f-8309-45d9-e4f4-f9a4920bded9"
      },
      "source": [
        "plt.figure(figsize=(8,8))\n",
        "sns.heatmap(taxas_retorno.corr(), annot=True); #annot melhora a  visualização"
      ],
      "execution_count": 56,
      "outputs": [
        {
          "output_type": "display_data",
          "data": {
            "image/png": "[encoded data removed]",
            "text/plain": [
              "<Figure size 576x576 with 2 Axes>"
            ]
          },
          "metadata": {
            "needs_background": "light"
          }
        }
      ]
    },
    {
      "cell_type": "markdown",
      "metadata": {
        "id": "_leJrS3iJCWQ"
      },
      "source": [
        "## Risco de um portfólio"
      ]
    },
    {
      "cell_type": "markdown",
      "metadata": {
        "id": "OaQ_6HmNYXTX"
      },
      "source": [
        "### Somente duas ações"
      ]
    },
    {
      "cell_type": "code",
      "metadata": {
        "colab": {
          "base_uri": "https://localhost:8080/",
          "height": 424
        },
        "id": "Rl0_pBxZ1iKy",
        "outputId": "14f4ca60-8349-42b9-f5ea-b66e6f4cf122"
      },
      "source": [
        "taxas_retorno"
      ],
      "execution_count": 88,
      "outputs": [
        {
          "output_type": "execute_result",
          "data": {
            "text/html": [
              "\n",
              "  <div id=\"df-64638998-61f4-4333-a301-5a170fea6ee0\">\n",
              "    <div class=\"colab-df-container\">\n",
              "      <div>\n",
              "<style scoped>\n",
              "    .dataframe tbody tr th:only-of-type {\n",
              "        vertical-align: middle;\n",
              "    }\n",
              "\n",
              "    .dataframe tbody tr th {\n",
              "        vertical-align: top;\n",
              "    }\n",
              "\n",
              "    .dataframe thead th {\n",
              "        text-align: right;\n",
              "    }\n",
              "</style>\n",
              "<table border=\"1\" class=\"dataframe\">\n",
              "  <thead>\n",
              "    <tr style=\"text-align: right;\">\n",
              "      <th></th>\n",
              "      <th>GOL</th>\n",
              "      <th>CVC</th>\n",
              "      <th>WEGE</th>\n",
              "      <th>MGLU</th>\n",
              "      <th>TOTS</th>\n",
              "      <th>BOVA</th>\n",
              "    </tr>\n",
              "  </thead>\n",
              "  <tbody>\n",
              "    <tr>\n",
              "      <th>0</th>\n",
              "      <td>NaN</td>\n",
              "      <td>NaN</td>\n",
              "      <td>NaN</td>\n",
              "      <td>NaN</td>\n",
              "      <td>NaN</td>\n",
              "      <td>NaN</td>\n",
              "    </tr>\n",
              "    <tr>\n",
              "      <th>1</th>\n",
              "      <td>-0.009340</td>\n",
              "      <td>-0.013158</td>\n",
              "      <td>0.006812</td>\n",
              "      <td>0.018792</td>\n",
              "      <td>-0.030726</td>\n",
              "      <td>-0.019890</td>\n",
              "    </tr>\n",
              "    <tr>\n",
              "      <th>2</th>\n",
              "      <td>0.024242</td>\n",
              "      <td>-0.013333</td>\n",
              "      <td>-0.014832</td>\n",
              "      <td>-0.013175</td>\n",
              "      <td>-0.062536</td>\n",
              "      <td>0.005613</td>\n",
              "    </tr>\n",
              "    <tr>\n",
              "      <th>3</th>\n",
              "      <td>-0.043392</td>\n",
              "      <td>-0.008784</td>\n",
              "      <td>-0.011455</td>\n",
              "      <td>0.033380</td>\n",
              "      <td>-0.007071</td>\n",
              "      <td>0.033705</td>\n",
              "    </tr>\n",
              "    <tr>\n",
              "      <th>4</th>\n",
              "      <td>-0.019244</td>\n",
              "      <td>-0.035447</td>\n",
              "      <td>0.016883</td>\n",
              "      <td>-0.007752</td>\n",
              "      <td>0.023221</td>\n",
              "      <td>0.007477</td>\n",
              "    </tr>\n",
              "    <tr>\n",
              "      <th>...</th>\n",
              "      <td>...</td>\n",
              "      <td>...</td>\n",
              "      <td>...</td>\n",
              "      <td>...</td>\n",
              "      <td>...</td>\n",
              "      <td>...</td>\n",
              "    </tr>\n",
              "    <tr>\n",
              "      <th>1441</th>\n",
              "      <td>-0.018987</td>\n",
              "      <td>-0.018018</td>\n",
              "      <td>0.005921</td>\n",
              "      <td>-0.000785</td>\n",
              "      <td>0.008136</td>\n",
              "      <td>-0.010024</td>\n",
              "    </tr>\n",
              "    <tr>\n",
              "      <th>1442</th>\n",
              "      <td>-0.090323</td>\n",
              "      <td>-0.098800</td>\n",
              "      <td>-0.049255</td>\n",
              "      <td>-0.032220</td>\n",
              "      <td>-0.035088</td>\n",
              "      <td>-0.035177</td>\n",
              "    </tr>\n",
              "    <tr>\n",
              "      <th>1443</th>\n",
              "      <td>-0.018321</td>\n",
              "      <td>-0.007048</td>\n",
              "      <td>0.011246</td>\n",
              "      <td>0.029639</td>\n",
              "      <td>0.036364</td>\n",
              "      <td>0.005193</td>\n",
              "    </tr>\n",
              "    <tr>\n",
              "      <th>1444</th>\n",
              "      <td>-0.055388</td>\n",
              "      <td>-0.031546</td>\n",
              "      <td>-0.052480</td>\n",
              "      <td>-0.028786</td>\n",
              "      <td>-0.052632</td>\n",
              "      <td>-0.024217</td>\n",
              "    </tr>\n",
              "    <tr>\n",
              "      <th>1445</th>\n",
              "      <td>0.024219</td>\n",
              "      <td>0.011401</td>\n",
              "      <td>0.037452</td>\n",
              "      <td>0.027609</td>\n",
              "      <td>0.034444</td>\n",
              "      <td>0.019303</td>\n",
              "    </tr>\n",
              "  </tbody>\n",
              "</table>\n",
              "<p>1446 rows × 6 columns</p>\n",
              "</div>\n",
              "      <button class=\"colab-df-convert\" onclick=\"convertToInteractive('df-64638998-61f4-4333-a301-5a170fea6ee0')\"\n",
              "              title=\"Convert this dataframe to an interactive table.\"\n",
              "              style=\"display:none;\">\n",
              "        \n",
              "  <svg xmlns=\"http://www.w3.org/2000/svg\" height=\"24px\"viewBox=\"0 0 24 24\"\n",
              "       width=\"24px\">\n",
              "    <path d=\"M0 0h24v24H0V0z\" fill=\"none\"/>\n",
              "    <path d=\"M18.56 5.44l.94 2.06.94-2.06 2.06-.94-2.06-.94-.94-2.06-.94 2.06-2.06.94zm-11 1L8.5 8.5l.94-2.06 2.06-.94-2.06-.94L8.5 2.5l-.94 2.06-2.06.94zm10 10l.94 2.06.94-2.06 2.06-.94-2.06-.94-.94-2.06-.94 2.06-2.06.94z\"/><path d=\"M17.41 7.96l-1.37-1.37c-.4-.4-.92-.59-1.43-.59-.52 0-1.04.2-1.43.59L10.3 9.45l-7.72 7.72c-.78.78-.78 2.05 0 2.83L4 21.41c.39.39.9.59 1.41.59.51 0 1.02-.2 1.41-.59l7.78-7.78 2.81-2.81c.8-.78.8-2.07 0-2.86zM5.41 20L4 18.59l7.72-7.72 1.47 1.35L5.41 20z\"/>\n",
              "  </svg>\n",
              "      </button>\n",
              "      \n",
              "  <style>\n",
              "    .colab-df-container {\n",
              "      display:flex;\n",
              "      flex-wrap:wrap;\n",
              "      gap: 12px;\n",
              "    }\n",
              "\n",
              "    .colab-df-convert {\n",
              "      background-color: #E8F0FE;\n",
              "      border: none;\n",
              "      border-radius: 50%;\n",
              "      cursor: pointer;\n",
              "      display: none;\n",
              "      fill: #1967D2;\n",
              "      height: 32px;\n",
              "      padding: 0 0 0 0;\n",
              "      width: 32px;\n",
              "    }\n",
              "\n",
              "    .colab-df-convert:hover {\n",
              "      background-color: #E2EBFA;\n",
              "      box-shadow: 0px 1px 2px rgba(60, 64, 67, 0.3), 0px 1px 3px 1px rgba(60, 64, 67, 0.15);\n",
              "      fill: #174EA6;\n",
              "    }\n",
              "\n",
              "    [theme=dark] .colab-df-convert {\n",
              "      background-color: #3B4455;\n",
              "      fill: #D2E3FC;\n",
              "    }\n",
              "\n",
              "    [theme=dark] .colab-df-convert:hover {\n",
              "      background-color: #434B5C;\n",
              "      box-shadow: 0px 1px 3px 1px rgba(0, 0, 0, 0.15);\n",
              "      filter: drop-shadow(0px 1px 2px rgba(0, 0, 0, 0.3));\n",
              "      fill: #FFFFFF;\n",
              "    }\n",
              "  </style>\n",
              "\n",
              "      <script>\n",
              "        const buttonEl =\n",
              "          document.querySelector('#df-64638998-61f4-4333-a301-5a170fea6ee0 button.colab-df-convert');\n",
              "        buttonEl.style.display =\n",
              "          google.colab.kernel.accessAllowed ? 'block' : 'none';\n",
              "\n",
              "        async function convertToInteractive(key) {\n",
              "          const element = document.querySelector('#df-64638998-61f4-4333-a301-5a170fea6ee0');\n",
              "          const dataTable =\n",
              "            await google.colab.kernel.invokeFunction('convertToInteractive',\n",
              "                                                     [key], {});\n",
              "          if (!dataTable) return;\n",
              "\n",
              "          const docLinkHtml = 'Like what you see? Visit the ' +\n",
              "            '<a target=\"_blank\" href=https://colab.research.google.com/notebooks/data_table.ipynb>data table notebook</a>'\n",
              "            + ' to learn more about interactive tables.';\n",
              "          element.innerHTML = '';\n",
              "          dataTable['output_type'] = 'display_data';\n",
              "          await google.colab.output.renderOutput(dataTable, element);\n",
              "          const docLink = document.createElement('div');\n",
              "          docLink.innerHTML = docLinkHtml;\n",
              "          element.appendChild(docLink);\n",
              "        }\n",
              "      </script>\n",
              "    </div>\n",
              "  </div>\n",
              "  "
            ],
            "text/plain": [
              "           GOL       CVC      WEGE      MGLU      TOTS      BOVA\n",
              "0          NaN       NaN       NaN       NaN       NaN       NaN\n",
              "1    -0.009340 -0.013158  0.006812  0.018792 -0.030726 -0.019890\n",
              "2     0.024242 -0.013333 -0.014832 -0.013175 -0.062536  0.005613\n",
              "3    -0.043392 -0.008784 -0.011455  0.033380 -0.007071  0.033705\n",
              "4    -0.019244 -0.035447  0.016883 -0.007752  0.023221  0.007477\n",
              "...        ...       ...       ...       ...       ...       ...\n",
              "1441 -0.018987 -0.018018  0.005921 -0.000785  0.008136 -0.010024\n",
              "1442 -0.090323 -0.098800 -0.049255 -0.032220 -0.035088 -0.035177\n",
              "1443 -0.018321 -0.007048  0.011246  0.029639  0.036364  0.005193\n",
              "1444 -0.055388 -0.031546 -0.052480 -0.028786 -0.052632 -0.024217\n",
              "1445  0.024219  0.011401  0.037452  0.027609  0.034444  0.019303\n",
              "\n",
              "[1446 rows x 6 columns]"
            ]
          },
          "metadata": {},
          "execution_count": 88
        }
      ]
    },
    {
      "cell_type": "code",
      "metadata": {
        "colab": {
          "base_uri": "https://localhost:8080/",
          "height": 424
        },
        "id": "8zzZJquB1p1P",
        "outputId": "b3976d18-e219-4cff-ac16-105fbd2ae895"
      },
      "source": [
        "taxas_retorno_gol_cvc = taxas_retorno.drop(columns = ['WEGE', 'MGLU', 'TOTS', 'BOVA'])\n",
        "taxas_retorno_gol_cvc"
      ],
      "execution_count": 89,
      "outputs": [
        {
          "output_type": "execute_result",
          "data": {
            "text/html": [
              "\n",
              "  <div id=\"df-7a31bd9e-665e-42b9-8ba2-bbc7fef3cbdf\">\n",
              "    <div class=\"colab-df-container\">\n",
              "      <div>\n",
              "<style scoped>\n",
              "    .dataframe tbody tr th:only-of-type {\n",
              "        vertical-align: middle;\n",
              "    }\n",
              "\n",
              "    .dataframe tbody tr th {\n",
              "        vertical-align: top;\n",
              "    }\n",
              "\n",
              "    .dataframe thead th {\n",
              "        text-align: right;\n",
              "    }\n",
              "</style>\n",
              "<table border=\"1\" class=\"dataframe\">\n",
              "  <thead>\n",
              "    <tr style=\"text-align: right;\">\n",
              "      <th></th>\n",
              "      <th>GOL</th>\n",
              "      <th>CVC</th>\n",
              "    </tr>\n",
              "  </thead>\n",
              "  <tbody>\n",
              "    <tr>\n",
              "      <th>0</th>\n",
              "      <td>NaN</td>\n",
              "      <td>NaN</td>\n",
              "    </tr>\n",
              "    <tr>\n",
              "      <th>1</th>\n",
              "      <td>-0.009340</td>\n",
              "      <td>-0.013158</td>\n",
              "    </tr>\n",
              "    <tr>\n",
              "      <th>2</th>\n",
              "      <td>0.024242</td>\n",
              "      <td>-0.013333</td>\n",
              "    </tr>\n",
              "    <tr>\n",
              "      <th>3</th>\n",
              "      <td>-0.043392</td>\n",
              "      <td>-0.008784</td>\n",
              "    </tr>\n",
              "    <tr>\n",
              "      <th>4</th>\n",
              "      <td>-0.019244</td>\n",
              "      <td>-0.035447</td>\n",
              "    </tr>\n",
              "    <tr>\n",
              "      <th>...</th>\n",
              "      <td>...</td>\n",
              "      <td>...</td>\n",
              "    </tr>\n",
              "    <tr>\n",
              "      <th>1441</th>\n",
              "      <td>-0.018987</td>\n",
              "      <td>-0.018018</td>\n",
              "    </tr>\n",
              "    <tr>\n",
              "      <th>1442</th>\n",
              "      <td>-0.090323</td>\n",
              "      <td>-0.098800</td>\n",
              "    </tr>\n",
              "    <tr>\n",
              "      <th>1443</th>\n",
              "      <td>-0.018321</td>\n",
              "      <td>-0.007048</td>\n",
              "    </tr>\n",
              "    <tr>\n",
              "      <th>1444</th>\n",
              "      <td>-0.055388</td>\n",
              "      <td>-0.031546</td>\n",
              "    </tr>\n",
              "    <tr>\n",
              "      <th>1445</th>\n",
              "      <td>0.024219</td>\n",
              "      <td>0.011401</td>\n",
              "    </tr>\n",
              "  </tbody>\n",
              "</table>\n",
              "<p>1446 rows × 2 columns</p>\n",
              "</div>\n",
              "      <button class=\"colab-df-convert\" onclick=\"convertToInteractive('df-7a31bd9e-665e-42b9-8ba2-bbc7fef3cbdf')\"\n",
              "              title=\"Convert this dataframe to an interactive table.\"\n",
              "              style=\"display:none;\">\n",
              "        \n",
              "  <svg xmlns=\"http://www.w3.org/2000/svg\" height=\"24px\"viewBox=\"0 0 24 24\"\n",
              "       width=\"24px\">\n",
              "    <path d=\"M0 0h24v24H0V0z\" fill=\"none\"/>\n",
              "    <path d=\"M18.56 5.44l.94 2.06.94-2.06 2.06-.94-2.06-.94-.94-2.06-.94 2.06-2.06.94zm-11 1L8.5 8.5l.94-2.06 2.06-.94-2.06-.94L8.5 2.5l-.94 2.06-2.06.94zm10 10l.94 2.06.94-2.06 2.06-.94-2.06-.94-.94-2.06-.94 2.06-2.06.94z\"/><path d=\"M17.41 7.96l-1.37-1.37c-.4-.4-.92-.59-1.43-.59-.52 0-1.04.2-1.43.59L10.3 9.45l-7.72 7.72c-.78.78-.78 2.05 0 2.83L4 21.41c.39.39.9.59 1.41.59.51 0 1.02-.2 1.41-.59l7.78-7.78 2.81-2.81c.8-.78.8-2.07 0-2.86zM5.41 20L4 18.59l7.72-7.72 1.47 1.35L5.41 20z\"/>\n",
              "  </svg>\n",
              "      </button>\n",
              "      \n",
              "  <style>\n",
              "    .colab-df-container {\n",
              "      display:flex;\n",
              "      flex-wrap:wrap;\n",
              "      gap: 12px;\n",
              "    }\n",
              "\n",
              "    .colab-df-convert {\n",
              "      background-color: #E8F0FE;\n",
              "      border: none;\n",
              "      border-radius: 50%;\n",
              "      cursor: pointer;\n",
              "      display: none;\n",
              "      fill: #1967D2;\n",
              "      height: 32px;\n",
              "      padding: 0 0 0 0;\n",
              "      width: 32px;\n",
              "    }\n",
              "\n",
              "    .colab-df-convert:hover {\n",
              "      background-color: #E2EBFA;\n",
              "      box-shadow: 0px 1px 2px rgba(60, 64, 67, 0.3), 0px 1px 3px 1px rgba(60, 64, 67, 0.15);\n",
              "      fill: #174EA6;\n",
              "    }\n",
              "\n",
              "    [theme=dark] .colab-df-convert {\n",
              "      background-color: #3B4455;\n",
              "      fill: #D2E3FC;\n",
              "    }\n",
              "\n",
              "    [theme=dark] .colab-df-convert:hover {\n",
              "      background-color: #434B5C;\n",
              "      box-shadow: 0px 1px 3px 1px rgba(0, 0, 0, 0.15);\n",
              "      filter: drop-shadow(0px 1px 2px rgba(0, 0, 0, 0.3));\n",
              "      fill: #FFFFFF;\n",
              "    }\n",
              "  </style>\n",
              "\n",
              "      <script>\n",
              "        const buttonEl =\n",
              "          document.querySelector('#df-7a31bd9e-665e-42b9-8ba2-bbc7fef3cbdf button.colab-df-convert');\n",
              "        buttonEl.style.display =\n",
              "          google.colab.kernel.accessAllowed ? 'block' : 'none';\n",
              "\n",
              "        async function convertToInteractive(key) {\n",
              "          const element = document.querySelector('#df-7a31bd9e-665e-42b9-8ba2-bbc7fef3cbdf');\n",
              "          const dataTable =\n",
              "            await google.colab.kernel.invokeFunction('convertToInteractive',\n",
              "                                                     [key], {});\n",
              "          if (!dataTable) return;\n",
              "\n",
              "          const docLinkHtml = 'Like what you see? Visit the ' +\n",
              "            '<a target=\"_blank\" href=https://colab.research.google.com/notebooks/data_table.ipynb>data table notebook</a>'\n",
              "            + ' to learn more about interactive tables.';\n",
              "          element.innerHTML = '';\n",
              "          dataTable['output_type'] = 'display_data';\n",
              "          await google.colab.output.renderOutput(dataTable, element);\n",
              "          const docLink = document.createElement('div');\n",
              "          docLink.innerHTML = docLinkHtml;\n",
              "          element.appendChild(docLink);\n",
              "        }\n",
              "      </script>\n",
              "    </div>\n",
              "  </div>\n",
              "  "
            ],
            "text/plain": [
              "           GOL       CVC\n",
              "0          NaN       NaN\n",
              "1    -0.009340 -0.013158\n",
              "2     0.024242 -0.013333\n",
              "3    -0.043392 -0.008784\n",
              "4    -0.019244 -0.035447\n",
              "...        ...       ...\n",
              "1441 -0.018987 -0.018018\n",
              "1442 -0.090323 -0.098800\n",
              "1443 -0.018321 -0.007048\n",
              "1444 -0.055388 -0.031546\n",
              "1445  0.024219  0.011401\n",
              "\n",
              "[1446 rows x 2 columns]"
            ]
          },
          "metadata": {},
          "execution_count": 89
        }
      ]
    },
    {
      "cell_type": "markdown",
      "source": [
        "A seguir vamos fazer  o seguinte calculo para chegar ao risco deste portifólio ( o desvio padrão): \n",
        "![image.png](data:image/png;base64,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)"
      ],
      "metadata": {
        "id": "Xv4SB3flZG_D"
      }
    },
    {
      "cell_type": "code",
      "metadata": {
        "colab": {
          "base_uri": "https://localhost:8080/",
          "height": 112
        },
        "id": "pCjrtLl_2FbJ",
        "outputId": "ceb2614b-528a-4ef1-f7f8-8d8627006ba8"
      },
      "source": [
        "taxas_retorno_gol_cvc.cov()\n",
        "#geramos a matriz de covariância"
      ],
      "execution_count": 90,
      "outputs": [
        {
          "output_type": "execute_result",
          "data": {
            "text/html": [
              "\n",
              "  <div id=\"df-abead887-2685-4635-b080-d8c02b7f6c9b\">\n",
              "    <div class=\"colab-df-container\">\n",
              "      <div>\n",
              "<style scoped>\n",
              "    .dataframe tbody tr th:only-of-type {\n",
              "        vertical-align: middle;\n",
              "    }\n",
              "\n",
              "    .dataframe tbody tr th {\n",
              "        vertical-align: top;\n",
              "    }\n",
              "\n",
              "    .dataframe thead th {\n",
              "        text-align: right;\n",
              "    }\n",
              "</style>\n",
              "<table border=\"1\" class=\"dataframe\">\n",
              "  <thead>\n",
              "    <tr style=\"text-align: right;\">\n",
              "      <th></th>\n",
              "      <th>GOL</th>\n",
              "      <th>CVC</th>\n",
              "    </tr>\n",
              "  </thead>\n",
              "  <tbody>\n",
              "    <tr>\n",
              "      <th>GOL</th>\n",
              "      <td>0.002662</td>\n",
              "      <td>0.000895</td>\n",
              "    </tr>\n",
              "    <tr>\n",
              "      <th>CVC</th>\n",
              "      <td>0.000895</td>\n",
              "      <td>0.001203</td>\n",
              "    </tr>\n",
              "  </tbody>\n",
              "</table>\n",
              "</div>\n",
              "      <button class=\"colab-df-convert\" onclick=\"convertToInteractive('df-abead887-2685-4635-b080-d8c02b7f6c9b')\"\n",
              "              title=\"Convert this dataframe to an interactive table.\"\n",
              "              style=\"display:none;\">\n",
              "        \n",
              "  <svg xmlns=\"http://www.w3.org/2000/svg\" height=\"24px\"viewBox=\"0 0 24 24\"\n",
              "       width=\"24px\">\n",
              "    <path d=\"M0 0h24v24H0V0z\" fill=\"none\"/>\n",
              "    <path d=\"M18.56 5.44l.94 2.06.94-2.06 2.06-.94-2.06-.94-.94-2.06-.94 2.06-2.06.94zm-11 1L8.5 8.5l.94-2.06 2.06-.94-2.06-.94L8.5 2.5l-.94 2.06-2.06.94zm10 10l.94 2.06.94-2.06 2.06-.94-2.06-.94-.94-2.06-.94 2.06-2.06.94z\"/><path d=\"M17.41 7.96l-1.37-1.37c-.4-.4-.92-.59-1.43-.59-.52 0-1.04.2-1.43.59L10.3 9.45l-7.72 7.72c-.78.78-.78 2.05 0 2.83L4 21.41c.39.39.9.59 1.41.59.51 0 1.02-.2 1.41-.59l7.78-7.78 2.81-2.81c.8-.78.8-2.07 0-2.86zM5.41 20L4 18.59l7.72-7.72 1.47 1.35L5.41 20z\"/>\n",
              "  </svg>\n",
              "      </button>\n",
              "      \n",
              "  <style>\n",
              "    .colab-df-container {\n",
              "      display:flex;\n",
              "      flex-wrap:wrap;\n",
              "      gap: 12px;\n",
              "    }\n",
              "\n",
              "    .colab-df-convert {\n",
              "      background-color: #E8F0FE;\n",
              "      border: none;\n",
              "      border-radius: 50%;\n",
              "      cursor: pointer;\n",
              "      display: none;\n",
              "      fill: #1967D2;\n",
              "      height: 32px;\n",
              "      padding: 0 0 0 0;\n",
              "      width: 32px;\n",
              "    }\n",
              "\n",
              "    .colab-df-convert:hover {\n",
              "      background-color: #E2EBFA;\n",
              "      box-shadow: 0px 1px 2px rgba(60, 64, 67, 0.3), 0px 1px 3px 1px rgba(60, 64, 67, 0.15);\n",
              "      fill: #174EA6;\n",
              "    }\n",
              "\n",
              "    [theme=dark] .colab-df-convert {\n",
              "      background-color: #3B4455;\n",
              "      fill: #D2E3FC;\n",
              "    }\n",
              "\n",
              "    [theme=dark] .colab-df-convert:hover {\n",
              "      background-color: #434B5C;\n",
              "      box-shadow: 0px 1px 3px 1px rgba(0, 0, 0, 0.15);\n",
              "      filter: drop-shadow(0px 1px 2px rgba(0, 0, 0, 0.3));\n",
              "      fill: #FFFFFF;\n",
              "    }\n",
              "  </style>\n",
              "\n",
              "      <script>\n",
              "        const buttonEl =\n",
              "          document.querySelector('#df-abead887-2685-4635-b080-d8c02b7f6c9b button.colab-df-convert');\n",
              "        buttonEl.style.display =\n",
              "          google.colab.kernel.accessAllowed ? 'block' : 'none';\n",
              "\n",
              "        async function convertToInteractive(key) {\n",
              "          const element = document.querySelector('#df-abead887-2685-4635-b080-d8c02b7f6c9b');\n",
              "          const dataTable =\n",
              "            await google.colab.kernel.invokeFunction('convertToInteractive',\n",
              "                                                     [key], {});\n",
              "          if (!dataTable) return;\n",
              "\n",
              "          const docLinkHtml = 'Like what you see? Visit the ' +\n",
              "            '<a target=\"_blank\" href=https://colab.research.google.com/notebooks/data_table.ipynb>data table notebook</a>'\n",
              "            + ' to learn more about interactive tables.';\n",
              "          element.innerHTML = '';\n",
              "          dataTable['output_type'] = 'display_data';\n",
              "          await google.colab.output.renderOutput(dataTable, element);\n",
              "          const docLink = document.createElement('div');\n",
              "          docLink.innerHTML = docLinkHtml;\n",
              "          element.appendChild(docLink);\n",
              "        }\n",
              "      </script>\n",
              "    </div>\n",
              "  </div>\n",
              "  "
            ],
            "text/plain": [
              "          GOL       CVC\n",
              "GOL  0.002662  0.000895\n",
              "CVC  0.000895  0.001203"
            ]
          },
          "metadata": {},
          "execution_count": 90
        }
      ]
    },
    {
      "cell_type": "code",
      "metadata": {
        "colab": {
          "base_uri": "https://localhost:8080/",
          "height": 112
        },
        "id": "G_N-BvVk2UQv",
        "outputId": "52feeb4f-24c4-41f7-8c05-96a556b1ac6b"
      },
      "source": [
        "taxas_retorno_gol_cvc.cov() * 246\n",
        "#risco anual 246 dias"
      ],
      "execution_count": 91,
      "outputs": [
        {
          "output_type": "execute_result",
          "data": {
            "text/html": [
              "\n",
              "  <div id=\"df-c30df50d-7aec-4f22-a568-0fac70e2a12e\">\n",
              "    <div class=\"colab-df-container\">\n",
              "      <div>\n",
              "<style scoped>\n",
              "    .dataframe tbody tr th:only-of-type {\n",
              "        vertical-align: middle;\n",
              "    }\n",
              "\n",
              "    .dataframe tbody tr th {\n",
              "        vertical-align: top;\n",
              "    }\n",
              "\n",
              "    .dataframe thead th {\n",
              "        text-align: right;\n",
              "    }\n",
              "</style>\n",
              "<table border=\"1\" class=\"dataframe\">\n",
              "  <thead>\n",
              "    <tr style=\"text-align: right;\">\n",
              "      <th></th>\n",
              "      <th>GOL</th>\n",
              "      <th>CVC</th>\n",
              "    </tr>\n",
              "  </thead>\n",
              "  <tbody>\n",
              "    <tr>\n",
              "      <th>GOL</th>\n",
              "      <td>0.654924</td>\n",
              "      <td>0.220052</td>\n",
              "    </tr>\n",
              "    <tr>\n",
              "      <th>CVC</th>\n",
              "      <td>0.220052</td>\n",
              "      <td>0.295884</td>\n",
              "    </tr>\n",
              "  </tbody>\n",
              "</table>\n",
              "</div>\n",
              "      <button class=\"colab-df-convert\" onclick=\"convertToInteractive('df-c30df50d-7aec-4f22-a568-0fac70e2a12e')\"\n",
              "              title=\"Convert this dataframe to an interactive table.\"\n",
              "              style=\"display:none;\">\n",
              "        \n",
              "  <svg xmlns=\"http://www.w3.org/2000/svg\" height=\"24px\"viewBox=\"0 0 24 24\"\n",
              "       width=\"24px\">\n",
              "    <path d=\"M0 0h24v24H0V0z\" fill=\"none\"/>\n",
              "    <path d=\"M18.56 5.44l.94 2.06.94-2.06 2.06-.94-2.06-.94-.94-2.06-.94 2.06-2.06.94zm-11 1L8.5 8.5l.94-2.06 2.06-.94-2.06-.94L8.5 2.5l-.94 2.06-2.06.94zm10 10l.94 2.06.94-2.06 2.06-.94-2.06-.94-.94-2.06-.94 2.06-2.06.94z\"/><path d=\"M17.41 7.96l-1.37-1.37c-.4-.4-.92-.59-1.43-.59-.52 0-1.04.2-1.43.59L10.3 9.45l-7.72 7.72c-.78.78-.78 2.05 0 2.83L4 21.41c.39.39.9.59 1.41.59.51 0 1.02-.2 1.41-.59l7.78-7.78 2.81-2.81c.8-.78.8-2.07 0-2.86zM5.41 20L4 18.59l7.72-7.72 1.47 1.35L5.41 20z\"/>\n",
              "  </svg>\n",
              "      </button>\n",
              "      \n",
              "  <style>\n",
              "    .colab-df-container {\n",
              "      display:flex;\n",
              "      flex-wrap:wrap;\n",
              "      gap: 12px;\n",
              "    }\n",
              "\n",
              "    .colab-df-convert {\n",
              "      background-color: #E8F0FE;\n",
              "      border: none;\n",
              "      border-radius: 50%;\n",
              "      cursor: pointer;\n",
              "      display: none;\n",
              "      fill: #1967D2;\n",
              "      height: 32px;\n",
              "      padding: 0 0 0 0;\n",
              "      width: 32px;\n",
              "    }\n",
              "\n",
              "    .colab-df-convert:hover {\n",
              "      background-color: #E2EBFA;\n",
              "      box-shadow: 0px 1px 2px rgba(60, 64, 67, 0.3), 0px 1px 3px 1px rgba(60, 64, 67, 0.15);\n",
              "      fill: #174EA6;\n",
              "    }\n",
              "\n",
              "    [theme=dark] .colab-df-convert {\n",
              "      background-color: #3B4455;\n",
              "      fill: #D2E3FC;\n",
              "    }\n",
              "\n",
              "    [theme=dark] .colab-df-convert:hover {\n",
              "      background-color: #434B5C;\n",
              "      box-shadow: 0px 1px 3px 1px rgba(0, 0, 0, 0.15);\n",
              "      filter: drop-shadow(0px 1px 2px rgba(0, 0, 0, 0.3));\n",
              "      fill: #FFFFFF;\n",
              "    }\n",
              "  </style>\n",
              "\n",
              "      <script>\n",
              "        const buttonEl =\n",
              "          document.querySelector('#df-c30df50d-7aec-4f22-a568-0fac70e2a12e button.colab-df-convert');\n",
              "        buttonEl.style.display =\n",
              "          google.colab.kernel.accessAllowed ? 'block' : 'none';\n",
              "\n",
              "        async function convertToInteractive(key) {\n",
              "          const element = document.querySelector('#df-c30df50d-7aec-4f22-a568-0fac70e2a12e');\n",
              "          const dataTable =\n",
              "            await google.colab.kernel.invokeFunction('convertToInteractive',\n",
              "                                                     [key], {});\n",
              "          if (!dataTable) return;\n",
              "\n",
              "          const docLinkHtml = 'Like what you see? Visit the ' +\n",
              "            '<a target=\"_blank\" href=https://colab.research.google.com/notebooks/data_table.ipynb>data table notebook</a>'\n",
              "            + ' to learn more about interactive tables.';\n",
              "          element.innerHTML = '';\n",
              "          dataTable['output_type'] = 'display_data';\n",
              "          await google.colab.output.renderOutput(dataTable, element);\n",
              "          const docLink = document.createElement('div');\n",
              "          docLink.innerHTML = docLinkHtml;\n",
              "          element.appendChild(docLink);\n",
              "        }\n",
              "      </script>\n",
              "    </div>\n",
              "  </div>\n",
              "  "
            ],
            "text/plain": [
              "          GOL       CVC\n",
              "GOL  0.654924  0.220052\n",
              "CVC  0.220052  0.295884"
            ]
          },
          "metadata": {},
          "execution_count": 91
        }
      ]
    },
    {
      "cell_type": "code",
      "metadata": {
        "id": "BNzJdylB2gUx"
      },
      "source": [
        "pesos = np.array([0.5, 0.5])\n",
        "#a  soma dos pesos deve ser 1, tipo 500 reais em uma e em outra  por exemplo"
      ],
      "execution_count": 92,
      "outputs": []
    },
    {
      "cell_type": "code",
      "metadata": {
        "colab": {
          "base_uri": "https://localhost:8080/"
        },
        "id": "SOYUEJdg5AZu",
        "outputId": "08e18e07-4d2c-4f21-f135-2cf15e6c263a"
      },
      "source": [
        "np.dot(taxas_retorno_gol_cvc.cov() * 246, pesos)"
      ],
      "execution_count": 93,
      "outputs": [
        {
          "output_type": "execute_result",
          "data": {
            "text/plain": [
              "array([0.43748787, 0.25796791])"
            ]
          },
          "metadata": {},
          "execution_count": 93
        }
      ]
    },
    {
      "cell_type": "code",
      "metadata": {
        "colab": {
          "base_uri": "https://localhost:8080/"
        },
        "id": "_kMUpXQf5YdV",
        "outputId": "03bdf22d-1ef9-4830-abde-6d27bf6c878b"
      },
      "source": [
        "np.dot(pesos, np.dot(taxas_retorno_gol_cvc.cov() * 246, pesos))"
      ],
      "execution_count": 94,
      "outputs": [
        {
          "output_type": "execute_result",
          "data": {
            "text/plain": [
              "0.3477278915072454"
            ]
          },
          "metadata": {},
          "execution_count": 94
        }
      ]
    },
    {
      "cell_type": "code",
      "metadata": {
        "colab": {
          "base_uri": "https://localhost:8080/"
        },
        "id": "FVUlcRa25olE",
        "outputId": "60cfe438-e056-4002-acf7-0a4c7b41a2a2"
      },
      "source": [
        "#desvio padrão\n",
        "#ESSE  é o risco deste portifólio\n",
        "#ou a volatilidade da carteira\n",
        "#multiplicando por 100 para ter em porcentagem\n",
        "math.sqrt(np.dot(pesos, np.dot(taxas_retorno_gol_cvc.cov() * 246, pesos))) * 100"
      ],
      "execution_count": 95,
      "outputs": [
        {
          "output_type": "execute_result",
          "data": {
            "text/plain": [
              "58.968456950071655"
            ]
          },
          "metadata": {},
          "execution_count": 95
        }
      ]
    },
    {
      "cell_type": "markdown",
      "metadata": {
        "id": "c1wTpHntY717"
      },
      "source": [
        "### Todas as ações"
      ]
    },
    {
      "cell_type": "code",
      "metadata": {
        "colab": {
          "base_uri": "https://localhost:8080/"
        },
        "id": "_gGk8djnGW85",
        "outputId": "40d558bc-c273-47b3-c351-888b54ec6428"
      },
      "source": [
        "dataset.columns"
      ],
      "execution_count": 96,
      "outputs": [
        {
          "output_type": "execute_result",
          "data": {
            "text/plain": [
              "Index(['GOL', 'CVC', 'WEGE', 'MGLU', 'TOTS', 'BOVA'], dtype='object')"
            ]
          },
          "metadata": {},
          "execution_count": 96
        }
      ]
    },
    {
      "cell_type": "code",
      "metadata": {
        "id": "wl9N5jK1GQCO"
      },
      "source": [
        "pesos1 = np.array([0.2, 0.2, 0.2, 0.2, 0.2, 0.0])\n",
        "#bova = 0 pq as acoes são da bova\n",
        "#a ideia é saber se vale  a pena investir nessas empresas separadamente ou juntas"
      ],
      "execution_count": 97,
      "outputs": []
    },
    {
      "cell_type": "code",
      "metadata": {
        "colab": {
          "base_uri": "https://localhost:8080/"
        },
        "id": "sLrPy70XGkaT",
        "outputId": "647a6e82-a057-41ff-f0db-af41730a968b"
      },
      "source": [
        "pesos1.sum()"
      ],
      "execution_count": 98,
      "outputs": [
        {
          "output_type": "execute_result",
          "data": {
            "text/plain": [
              "1.0"
            ]
          },
          "metadata": {},
          "execution_count": 98
        }
      ]
    },
    {
      "cell_type": "code",
      "metadata": {
        "colab": {
          "base_uri": "https://localhost:8080/",
          "height": 238
        },
        "id": "V-KXY8uyGmoV",
        "outputId": "6ee0f94f-4dd1-4b0e-95a5-5e16ebe544b1"
      },
      "source": [
        "taxas_retorno.cov() * 246\n",
        "#matriz de covariância anual"
      ],
      "execution_count": 106,
      "outputs": [
        {
          "output_type": "execute_result",
          "data": {
            "text/html": [
              "\n",
              "  <div id=\"df-a9ed0cf3-3be9-407c-88e0-88fc6dc58b36\">\n",
              "    <div class=\"colab-df-container\">\n",
              "      <div>\n",
              "<style scoped>\n",
              "    .dataframe tbody tr th:only-of-type {\n",
              "        vertical-align: middle;\n",
              "    }\n",
              "\n",
              "    .dataframe tbody tr th {\n",
              "        vertical-align: top;\n",
              "    }\n",
              "\n",
              "    .dataframe thead th {\n",
              "        text-align: right;\n",
              "    }\n",
              "</style>\n",
              "<table border=\"1\" class=\"dataframe\">\n",
              "  <thead>\n",
              "    <tr style=\"text-align: right;\">\n",
              "      <th></th>\n",
              "      <th>GOL</th>\n",
              "      <th>CVC</th>\n",
              "      <th>WEGE</th>\n",
              "      <th>MGLU</th>\n",
              "      <th>TOTS</th>\n",
              "      <th>BOVA</th>\n",
              "    </tr>\n",
              "  </thead>\n",
              "  <tbody>\n",
              "    <tr>\n",
              "      <th>GOL</th>\n",
              "      <td>0.654924</td>\n",
              "      <td>0.220052</td>\n",
              "      <td>0.090071</td>\n",
              "      <td>0.174658</td>\n",
              "      <td>0.098555</td>\n",
              "      <td>0.129777</td>\n",
              "    </tr>\n",
              "    <tr>\n",
              "      <th>CVC</th>\n",
              "      <td>0.220052</td>\n",
              "      <td>0.295884</td>\n",
              "      <td>0.059308</td>\n",
              "      <td>0.117807</td>\n",
              "      <td>0.067282</td>\n",
              "      <td>0.082774</td>\n",
              "    </tr>\n",
              "    <tr>\n",
              "      <th>WEGE</th>\n",
              "      <td>0.090071</td>\n",
              "      <td>0.059308</td>\n",
              "      <td>0.120987</td>\n",
              "      <td>0.068012</td>\n",
              "      <td>0.048997</td>\n",
              "      <td>0.050935</td>\n",
              "    </tr>\n",
              "    <tr>\n",
              "      <th>MGLU</th>\n",
              "      <td>0.174658</td>\n",
              "      <td>0.117807</td>\n",
              "      <td>0.068012</td>\n",
              "      <td>0.438549</td>\n",
              "      <td>0.062077</td>\n",
              "      <td>0.082358</td>\n",
              "    </tr>\n",
              "    <tr>\n",
              "      <th>TOTS</th>\n",
              "      <td>0.098555</td>\n",
              "      <td>0.067282</td>\n",
              "      <td>0.048997</td>\n",
              "      <td>0.062077</td>\n",
              "      <td>0.221007</td>\n",
              "      <td>0.051952</td>\n",
              "    </tr>\n",
              "    <tr>\n",
              "      <th>BOVA</th>\n",
              "      <td>0.129777</td>\n",
              "      <td>0.082774</td>\n",
              "      <td>0.050935</td>\n",
              "      <td>0.082358</td>\n",
              "      <td>0.051952</td>\n",
              "      <td>0.073654</td>\n",
              "    </tr>\n",
              "  </tbody>\n",
              "</table>\n",
              "</div>\n",
              "      <button class=\"colab-df-convert\" onclick=\"convertToInteractive('df-a9ed0cf3-3be9-407c-88e0-88fc6dc58b36')\"\n",
              "              title=\"Convert this dataframe to an interactive table.\"\n",
              "              style=\"display:none;\">\n",
              "        \n",
              "  <svg xmlns=\"http://www.w3.org/2000/svg\" height=\"24px\"viewBox=\"0 0 24 24\"\n",
              "       width=\"24px\">\n",
              "    <path d=\"M0 0h24v24H0V0z\" fill=\"none\"/>\n",
              "    <path d=\"M18.56 5.44l.94 2.06.94-2.06 2.06-.94-2.06-.94-.94-2.06-.94 2.06-2.06.94zm-11 1L8.5 8.5l.94-2.06 2.06-.94-2.06-.94L8.5 2.5l-.94 2.06-2.06.94zm10 10l.94 2.06.94-2.06 2.06-.94-2.06-.94-.94-2.06-.94 2.06-2.06.94z\"/><path d=\"M17.41 7.96l-1.37-1.37c-.4-.4-.92-.59-1.43-.59-.52 0-1.04.2-1.43.59L10.3 9.45l-7.72 7.72c-.78.78-.78 2.05 0 2.83L4 21.41c.39.39.9.59 1.41.59.51 0 1.02-.2 1.41-.59l7.78-7.78 2.81-2.81c.8-.78.8-2.07 0-2.86zM5.41 20L4 18.59l7.72-7.72 1.47 1.35L5.41 20z\"/>\n",
              "  </svg>\n",
              "      </button>\n",
              "      \n",
              "  <style>\n",
              "    .colab-df-container {\n",
              "      display:flex;\n",
              "      flex-wrap:wrap;\n",
              "      gap: 12px;\n",
              "    }\n",
              "\n",
              "    .colab-df-convert {\n",
              "      background-color: #E8F0FE;\n",
              "      border: none;\n",
              "      border-radius: 50%;\n",
              "      cursor: pointer;\n",
              "      display: none;\n",
              "      fill: #1967D2;\n",
              "      height: 32px;\n",
              "      padding: 0 0 0 0;\n",
              "      width: 32px;\n",
              "    }\n",
              "\n",
              "    .colab-df-convert:hover {\n",
              "      background-color: #E2EBFA;\n",
              "      box-shadow: 0px 1px 2px rgba(60, 64, 67, 0.3), 0px 1px 3px 1px rgba(60, 64, 67, 0.15);\n",
              "      fill: #174EA6;\n",
              "    }\n",
              "\n",
              "    [theme=dark] .colab-df-convert {\n",
              "      background-color: #3B4455;\n",
              "      fill: #D2E3FC;\n",
              "    }\n",
              "\n",
              "    [theme=dark] .colab-df-convert:hover {\n",
              "      background-color: #434B5C;\n",
              "      box-shadow: 0px 1px 3px 1px rgba(0, 0, 0, 0.15);\n",
              "      filter: drop-shadow(0px 1px 2px rgba(0, 0, 0, 0.3));\n",
              "      fill: #FFFFFF;\n",
              "    }\n",
              "  </style>\n",
              "\n",
              "      <script>\n",
              "        const buttonEl =\n",
              "          document.querySelector('#df-a9ed0cf3-3be9-407c-88e0-88fc6dc58b36 button.colab-df-convert');\n",
              "        buttonEl.style.display =\n",
              "          google.colab.kernel.accessAllowed ? 'block' : 'none';\n",
              "\n",
              "        async function convertToInteractive(key) {\n",
              "          const element = document.querySelector('#df-a9ed0cf3-3be9-407c-88e0-88fc6dc58b36');\n",
              "          const dataTable =\n",
              "            await google.colab.kernel.invokeFunction('convertToInteractive',\n",
              "                                                     [key], {});\n",
              "          if (!dataTable) return;\n",
              "\n",
              "          const docLinkHtml = 'Like what you see? Visit the ' +\n",
              "            '<a target=\"_blank\" href=https://colab.research.google.com/notebooks/data_table.ipynb>data table notebook</a>'\n",
              "            + ' to learn more about interactive tables.';\n",
              "          element.innerHTML = '';\n",
              "          dataTable['output_type'] = 'display_data';\n",
              "          await google.colab.output.renderOutput(dataTable, element);\n",
              "          const docLink = document.createElement('div');\n",
              "          docLink.innerHTML = docLinkHtml;\n",
              "          element.appendChild(docLink);\n",
              "        }\n",
              "      </script>\n",
              "    </div>\n",
              "  </div>\n",
              "  "
            ],
            "text/plain": [
              "           GOL       CVC      WEGE      MGLU      TOTS      BOVA\n",
              "GOL   0.654924  0.220052  0.090071  0.174658  0.098555  0.129777\n",
              "CVC   0.220052  0.295884  0.059308  0.117807  0.067282  0.082774\n",
              "WEGE  0.090071  0.059308  0.120987  0.068012  0.048997  0.050935\n",
              "MGLU  0.174658  0.117807  0.068012  0.438549  0.062077  0.082358\n",
              "TOTS  0.098555  0.067282  0.048997  0.062077  0.221007  0.051952\n",
              "BOVA  0.129777  0.082774  0.050935  0.082358  0.051952  0.073654"
            ]
          },
          "metadata": {},
          "execution_count": 106
        }
      ]
    },
    {
      "cell_type": "code",
      "metadata": {
        "colab": {
          "base_uri": "https://localhost:8080/"
        },
        "id": "h-C4Z_fXG2q2",
        "outputId": "a74f49f3-0899-4840-ca5e-3bd9ceac741f"
      },
      "source": [
        "np.dot(taxas_retorno.cov() * 246, pesos1)\n",
        "#lembre-se que o dot multiplica e soma"
      ],
      "execution_count": 100,
      "outputs": [
        {
          "output_type": "execute_result",
          "data": {
            "text/plain": [
              "array([0.24765205, 0.15206665, 0.0774753 , 0.17222065, 0.09958374,\n",
              "       0.07955904])"
            ]
          },
          "metadata": {},
          "execution_count": 100
        }
      ]
    },
    {
      "cell_type": "code",
      "metadata": {
        "colab": {
          "base_uri": "https://localhost:8080/"
        },
        "id": "Rh8Q5vVLHFDe",
        "outputId": "6945b8c5-7c4e-4a18-c6ae-f6a2a0ffe238"
      },
      "source": [
        "variancia_portfolio1 = np.dot(pesos1, np.dot(taxas_retorno.cov() * 246, pesos1))\n",
        "variancia_portfolio1\n",
        "#a variancia"
      ],
      "execution_count": 101,
      "outputs": [
        {
          "output_type": "execute_result",
          "data": {
            "text/plain": [
              "0.14979967843761446"
            ]
          },
          "metadata": {},
          "execution_count": 101
        }
      ]
    },
    {
      "cell_type": "code",
      "metadata": {
        "colab": {
          "base_uri": "https://localhost:8080/"
        },
        "id": "q-u0ph4HHP1L",
        "outputId": "ed31ccdc-51f8-46e4-9dc8-87cd8de478e5"
      },
      "source": [
        "volatilidade_portfolio1 = math.sqrt(variancia_portfolio1)\n",
        "volatilidade_portfolio1\n",
        "#desvio padrão  que é a volatilidade"
      ],
      "execution_count": 102,
      "outputs": [
        {
          "output_type": "execute_result",
          "data": {
            "text/plain": [
              "0.38703963419476106"
            ]
          },
          "metadata": {},
          "execution_count": 102
        }
      ]
    },
    {
      "cell_type": "code",
      "metadata": {
        "id": "Bz5n1c6VHzwg"
      },
      "source": [
        "pesos2 = np.array([0.0, 0.0, 0.0, 0.0, 0.0, 1.0])\n",
        "#apenas investindo na BOVA"
      ],
      "execution_count": 103,
      "outputs": []
    },
    {
      "cell_type": "code",
      "metadata": {
        "colab": {
          "base_uri": "https://localhost:8080/"
        },
        "id": "otEgx6tgH9li",
        "outputId": "27cc97ed-1253-492b-f0b5-8e9d8115dc4f"
      },
      "source": [
        "variancia_portfolio2 = np.dot(pesos2, np.dot(taxas_retorno.cov() * 246, pesos2))\n",
        "variancia_portfolio2"
      ],
      "execution_count": 104,
      "outputs": [
        {
          "output_type": "execute_result",
          "data": {
            "text/plain": [
              "0.07365354752228817"
            ]
          },
          "metadata": {},
          "execution_count": 104
        }
      ]
    },
    {
      "cell_type": "code",
      "metadata": {
        "colab": {
          "base_uri": "https://localhost:8080/"
        },
        "id": "76SNhDpMIqZs",
        "outputId": "e6c224be-ff49-4343-dc2f-d21e54c5d5c4"
      },
      "source": [
        "volatilidade_portfolio2 = math.sqrt(variancia_portfolio2)\n",
        "volatilidade_portfolio2\n",
        "# a  volatididade é menor"
      ],
      "execution_count": 105,
      "outputs": [
        {
          "output_type": "execute_result",
          "data": {
            "text/plain": [
              "0.27139187077414123"
            ]
          },
          "metadata": {},
          "execution_count": 105
        }
      ]
    },
    {
      "cell_type": "markdown",
      "metadata": {
        "id": "n7kDc5w4cRK6"
      },
      "source": [
        "## Risco sistemático e não sistemático\n",
        "\n",
        "- Risco sistemático: mudança diária no preço das ações, devido a eventos como recessão da economia, comportamento do cliente (eventos externos). Não pode ser eliminado e pode afetar todas as empresas\n",
        "- Risco não sistemático: Eventos específicos na empresa (depende do tipo de empresa)"
      ]
    },
    {
      "cell_type": "code",
      "metadata": {
        "colab": {
          "base_uri": "https://localhost:8080/",
          "height": 424
        },
        "id": "MSRjmyHqKoHO",
        "outputId": "c459f9c9-9602-4a1b-fcb1-479229a64546"
      },
      "source": [
        "taxas_retorno"
      ],
      "execution_count": 75,
      "outputs": [
        {
          "output_type": "execute_result",
          "data": {
            "text/html": [
              "\n",
              "  <div id=\"df-0266d2fb-88f8-4722-9047-a6b1069cd88e\">\n",
              "    <div class=\"colab-df-container\">\n",
              "      <div>\n",
              "<style scoped>\n",
              "    .dataframe tbody tr th:only-of-type {\n",
              "        vertical-align: middle;\n",
              "    }\n",
              "\n",
              "    .dataframe tbody tr th {\n",
              "        vertical-align: top;\n",
              "    }\n",
              "\n",
              "    .dataframe thead th {\n",
              "        text-align: right;\n",
              "    }\n",
              "</style>\n",
              "<table border=\"1\" class=\"dataframe\">\n",
              "  <thead>\n",
              "    <tr style=\"text-align: right;\">\n",
              "      <th></th>\n",
              "      <th>GOL</th>\n",
              "      <th>CVC</th>\n",
              "      <th>WEGE</th>\n",
              "      <th>MGLU</th>\n",
              "      <th>TOTS</th>\n",
              "      <th>BOVA</th>\n",
              "    </tr>\n",
              "  </thead>\n",
              "  <tbody>\n",
              "    <tr>\n",
              "      <th>0</th>\n",
              "      <td>NaN</td>\n",
              "      <td>NaN</td>\n",
              "      <td>NaN</td>\n",
              "      <td>NaN</td>\n",
              "      <td>NaN</td>\n",
              "      <td>NaN</td>\n",
              "    </tr>\n",
              "    <tr>\n",
              "      <th>1</th>\n",
              "      <td>-0.009340</td>\n",
              "      <td>-0.013158</td>\n",
              "      <td>0.006812</td>\n",
              "      <td>0.018792</td>\n",
              "      <td>-0.030726</td>\n",
              "      <td>-0.019890</td>\n",
              "    </tr>\n",
              "    <tr>\n",
              "      <th>2</th>\n",
              "      <td>0.024242</td>\n",
              "      <td>-0.013333</td>\n",
              "      <td>-0.014832</td>\n",
              "      <td>-0.013175</td>\n",
              "      <td>-0.062536</td>\n",
              "      <td>0.005613</td>\n",
              "    </tr>\n",
              "    <tr>\n",
              "      <th>3</th>\n",
              "      <td>-0.043392</td>\n",
              "      <td>-0.008784</td>\n",
              "      <td>-0.011455</td>\n",
              "      <td>0.033380</td>\n",
              "      <td>-0.007071</td>\n",
              "      <td>0.033705</td>\n",
              "    </tr>\n",
              "    <tr>\n",
              "      <th>4</th>\n",
              "      <td>-0.019244</td>\n",
              "      <td>-0.035447</td>\n",
              "      <td>0.016883</td>\n",
              "      <td>-0.007752</td>\n",
              "      <td>0.023221</td>\n",
              "      <td>0.007477</td>\n",
              "    </tr>\n",
              "    <tr>\n",
              "      <th>...</th>\n",
              "      <td>...</td>\n",
              "      <td>...</td>\n",
              "      <td>...</td>\n",
              "      <td>...</td>\n",
              "      <td>...</td>\n",
              "      <td>...</td>\n",
              "    </tr>\n",
              "    <tr>\n",
              "      <th>1441</th>\n",
              "      <td>-0.018987</td>\n",
              "      <td>-0.018018</td>\n",
              "      <td>0.005921</td>\n",
              "      <td>-0.000785</td>\n",
              "      <td>0.008136</td>\n",
              "      <td>-0.010024</td>\n",
              "    </tr>\n",
              "    <tr>\n",
              "      <th>1442</th>\n",
              "      <td>-0.090323</td>\n",
              "      <td>-0.098800</td>\n",
              "      <td>-0.049255</td>\n",
              "      <td>-0.032220</td>\n",
              "      <td>-0.035088</td>\n",
              "      <td>-0.035177</td>\n",
              "    </tr>\n",
              "    <tr>\n",
              "      <th>1443</th>\n",
              "      <td>-0.018321</td>\n",
              "      <td>-0.007048</td>\n",
              "      <td>0.011246</td>\n",
              "      <td>0.029639</td>\n",
              "      <td>0.036364</td>\n",
              "      <td>0.005193</td>\n",
              "    </tr>\n",
              "    <tr>\n",
              "      <th>1444</th>\n",
              "      <td>-0.055388</td>\n",
              "      <td>-0.031546</td>\n",
              "      <td>-0.052480</td>\n",
              "      <td>-0.028786</td>\n",
              "      <td>-0.052632</td>\n",
              "      <td>-0.024217</td>\n",
              "    </tr>\n",
              "    <tr>\n",
              "      <th>1445</th>\n",
              "      <td>0.024219</td>\n",
              "      <td>0.011401</td>\n",
              "      <td>0.037452</td>\n",
              "      <td>0.027609</td>\n",
              "      <td>0.034444</td>\n",
              "      <td>0.019303</td>\n",
              "    </tr>\n",
              "  </tbody>\n",
              "</table>\n",
              "<p>1446 rows × 6 columns</p>\n",
              "</div>\n",
              "      <button class=\"colab-df-convert\" onclick=\"convertToInteractive('df-0266d2fb-88f8-4722-9047-a6b1069cd88e')\"\n",
              "              title=\"Convert this dataframe to an interactive table.\"\n",
              "              style=\"display:none;\">\n",
              "        \n",
              "  <svg xmlns=\"http://www.w3.org/2000/svg\" height=\"24px\"viewBox=\"0 0 24 24\"\n",
              "       width=\"24px\">\n",
              "    <path d=\"M0 0h24v24H0V0z\" fill=\"none\"/>\n",
              "    <path d=\"M18.56 5.44l.94 2.06.94-2.06 2.06-.94-2.06-.94-.94-2.06-.94 2.06-2.06.94zm-11 1L8.5 8.5l.94-2.06 2.06-.94-2.06-.94L8.5 2.5l-.94 2.06-2.06.94zm10 10l.94 2.06.94-2.06 2.06-.94-2.06-.94-.94-2.06-.94 2.06-2.06.94z\"/><path d=\"M17.41 7.96l-1.37-1.37c-.4-.4-.92-.59-1.43-.59-.52 0-1.04.2-1.43.59L10.3 9.45l-7.72 7.72c-.78.78-.78 2.05 0 2.83L4 21.41c.39.39.9.59 1.41.59.51 0 1.02-.2 1.41-.59l7.78-7.78 2.81-2.81c.8-.78.8-2.07 0-2.86zM5.41 20L4 18.59l7.72-7.72 1.47 1.35L5.41 20z\"/>\n",
              "  </svg>\n",
              "      </button>\n",
              "      \n",
              "  <style>\n",
              "    .colab-df-container {\n",
              "      display:flex;\n",
              "      flex-wrap:wrap;\n",
              "      gap: 12px;\n",
              "    }\n",
              "\n",
              "    .colab-df-convert {\n",
              "      background-color: #E8F0FE;\n",
              "      border: none;\n",
              "      border-radius: 50%;\n",
              "      cursor: pointer;\n",
              "      display: none;\n",
              "      fill: #1967D2;\n",
              "      height: 32px;\n",
              "      padding: 0 0 0 0;\n",
              "      width: 32px;\n",
              "    }\n",
              "\n",
              "    .colab-df-convert:hover {\n",
              "      background-color: #E2EBFA;\n",
              "      box-shadow: 0px 1px 2px rgba(60, 64, 67, 0.3), 0px 1px 3px 1px rgba(60, 64, 67, 0.15);\n",
              "      fill: #174EA6;\n",
              "    }\n",
              "\n",
              "    [theme=dark] .colab-df-convert {\n",
              "      background-color: #3B4455;\n",
              "      fill: #D2E3FC;\n",
              "    }\n",
              "\n",
              "    [theme=dark] .colab-df-convert:hover {\n",
              "      background-color: #434B5C;\n",
              "      box-shadow: 0px 1px 3px 1px rgba(0, 0, 0, 0.15);\n",
              "      filter: drop-shadow(0px 1px 2px rgba(0, 0, 0, 0.3));\n",
              "      fill: #FFFFFF;\n",
              "    }\n",
              "  </style>\n",
              "\n",
              "      <script>\n",
              "        const buttonEl =\n",
              "          document.querySelector('#df-0266d2fb-88f8-4722-9047-a6b1069cd88e button.colab-df-convert');\n",
              "        buttonEl.style.display =\n",
              "          google.colab.kernel.accessAllowed ? 'block' : 'none';\n",
              "\n",
              "        async function convertToInteractive(key) {\n",
              "          const element = document.querySelector('#df-0266d2fb-88f8-4722-9047-a6b1069cd88e');\n",
              "          const dataTable =\n",
              "            await google.colab.kernel.invokeFunction('convertToInteractive',\n",
              "                                                     [key], {});\n",
              "          if (!dataTable) return;\n",
              "\n",
              "          const docLinkHtml = 'Like what you see? Visit the ' +\n",
              "            '<a target=\"_blank\" href=https://colab.research.google.com/notebooks/data_table.ipynb>data table notebook</a>'\n",
              "            + ' to learn more about interactive tables.';\n",
              "          element.innerHTML = '';\n",
              "          dataTable['output_type'] = 'display_data';\n",
              "          await google.colab.output.renderOutput(dataTable, element);\n",
              "          const docLink = document.createElement('div');\n",
              "          docLink.innerHTML = docLinkHtml;\n",
              "          element.appendChild(docLink);\n",
              "        }\n",
              "      </script>\n",
              "    </div>\n",
              "  </div>\n",
              "  "
            ],
            "text/plain": [
              "           GOL       CVC      WEGE      MGLU      TOTS      BOVA\n",
              "0          NaN       NaN       NaN       NaN       NaN       NaN\n",
              "1    -0.009340 -0.013158  0.006812  0.018792 -0.030726 -0.019890\n",
              "2     0.024242 -0.013333 -0.014832 -0.013175 -0.062536  0.005613\n",
              "3    -0.043392 -0.008784 -0.011455  0.033380 -0.007071  0.033705\n",
              "4    -0.019244 -0.035447  0.016883 -0.007752  0.023221  0.007477\n",
              "...        ...       ...       ...       ...       ...       ...\n",
              "1441 -0.018987 -0.018018  0.005921 -0.000785  0.008136 -0.010024\n",
              "1442 -0.090323 -0.098800 -0.049255 -0.032220 -0.035088 -0.035177\n",
              "1443 -0.018321 -0.007048  0.011246  0.029639  0.036364  0.005193\n",
              "1444 -0.055388 -0.031546 -0.052480 -0.028786 -0.052632 -0.024217\n",
              "1445  0.024219  0.011401  0.037452  0.027609  0.034444  0.019303\n",
              "\n",
              "[1446 rows x 6 columns]"
            ]
          },
          "metadata": {},
          "execution_count": 75
        }
      ]
    },
    {
      "cell_type": "code",
      "metadata": {
        "colab": {
          "base_uri": "https://localhost:8080/"
        },
        "id": "FCDxowKVKsfS",
        "outputId": "fe429571-c70c-4965-eb6b-2194303b140e"
      },
      "source": [
        "pesos1"
      ],
      "execution_count": 76,
      "outputs": [
        {
          "output_type": "execute_result",
          "data": {
            "text/plain": [
              "array([0.2, 0.2, 0.2, 0.2, 0.2, 0. ])"
            ]
          },
          "metadata": {},
          "execution_count": 76
        }
      ]
    },
    {
      "cell_type": "code",
      "metadata": {
        "colab": {
          "base_uri": "https://localhost:8080/"
        },
        "id": "cZUl4RjJK408",
        "outputId": "5fd92d6b-e691-40b8-928d-b5c1865e8491"
      },
      "source": [
        "pesos2"
      ],
      "execution_count": 77,
      "outputs": [
        {
          "output_type": "execute_result",
          "data": {
            "text/plain": [
              "array([0., 0., 0., 0., 0., 1.])"
            ]
          },
          "metadata": {},
          "execution_count": 77
        }
      ]
    },
    {
      "cell_type": "code",
      "metadata": {
        "colab": {
          "base_uri": "https://localhost:8080/"
        },
        "id": "RBSTwW0qK8rf",
        "outputId": "239969a8-682f-4a2a-84e3-9d74aa1df5b0"
      },
      "source": [
        "taxas_retorno.var() * 246"
      ],
      "execution_count": 78,
      "outputs": [
        {
          "output_type": "execute_result",
          "data": {
            "text/plain": [
              "GOL     0.654924\n",
              "CVC     0.295884\n",
              "WEGE    0.120987\n",
              "MGLU    0.438549\n",
              "TOTS    0.221007\n",
              "BOVA    0.073654\n",
              "dtype: float64"
            ]
          },
          "metadata": {},
          "execution_count": 78
        }
      ]
    },
    {
      "cell_type": "code",
      "metadata": {
        "colab": {
          "base_uri": "https://localhost:8080/"
        },
        "id": "ANESMtW1LcSA",
        "outputId": "1e882b9f-1569-4ee9-fcfd-4ea146f0844b"
      },
      "source": [
        "variancia_pesos1 = (taxas_retorno.var() * 246) * pesos1\n",
        "variancia_pesos1"
      ],
      "execution_count": 79,
      "outputs": [
        {
          "output_type": "execute_result",
          "data": {
            "text/plain": [
              "GOL     0.130985\n",
              "CVC     0.059177\n",
              "WEGE    0.024197\n",
              "MGLU    0.087710\n",
              "TOTS    0.044201\n",
              "BOVA    0.000000\n",
              "dtype: float64"
            ]
          },
          "metadata": {},
          "execution_count": 79
        }
      ]
    },
    {
      "cell_type": "code",
      "metadata": {
        "colab": {
          "base_uri": "https://localhost:8080/"
        },
        "id": "nONXZUzyLzfD",
        "outputId": "7f49079f-17b8-4596-b4f1-6624bba1bf67"
      },
      "source": [
        "sub1 = - variancia_pesos1[0] - variancia_pesos1[1] - variancia_pesos1[2] - variancia_pesos1[3] - variancia_pesos1[4] - variancia_pesos1[5] #Atualizado: 02/05/2021\n",
        "sub1"
      ],
      "execution_count": 80,
      "outputs": [
        {
          "output_type": "execute_result",
          "data": {
            "text/plain": [
              "-0.34627025459782085"
            ]
          },
          "metadata": {},
          "execution_count": 80
        }
      ]
    },
    {
      "cell_type": "code",
      "metadata": {
        "colab": {
          "base_uri": "https://localhost:8080/"
        },
        "id": "34Q_JMRMMIUT",
        "outputId": "30bc25eb-98ba-4e85-c220-79b26cd96647"
      },
      "source": [
        "variancia_portfolio1"
      ],
      "execution_count": 81,
      "outputs": [
        {
          "output_type": "execute_result",
          "data": {
            "text/plain": [
              "0.14979967843761446"
            ]
          },
          "metadata": {},
          "execution_count": 81
        }
      ]
    },
    {
      "cell_type": "code",
      "metadata": {
        "colab": {
          "base_uri": "https://localhost:8080/"
        },
        "id": "L4q3AgcvMP0h",
        "outputId": "6007b991-f975-4475-c83c-6385eaf27b05"
      },
      "source": [
        "risco_nao_sistematico1 = (variancia_portfolio1 - sub1)\n",
        "risco_nao_sistematico1"
      ],
      "execution_count": 82,
      "outputs": [
        {
          "output_type": "execute_result",
          "data": {
            "text/plain": [
              "0.49606993303543534"
            ]
          },
          "metadata": {},
          "execution_count": 82
        }
      ]
    },
    {
      "cell_type": "code",
      "metadata": {
        "colab": {
          "base_uri": "https://localhost:8080/"
        },
        "id": "Wak9fBVoMqL7",
        "outputId": "385a2f8c-3f05-493a-ba05-f2974f624ab3"
      },
      "source": [
        "variancia_pesos2 = (taxas_retorno.var() * 246) * pesos2\n",
        "variancia_pesos2"
      ],
      "execution_count": 83,
      "outputs": [
        {
          "output_type": "execute_result",
          "data": {
            "text/plain": [
              "GOL     0.000000\n",
              "CVC     0.000000\n",
              "WEGE    0.000000\n",
              "MGLU    0.000000\n",
              "TOTS    0.000000\n",
              "BOVA    0.073654\n",
              "dtype: float64"
            ]
          },
          "metadata": {},
          "execution_count": 83
        }
      ]
    },
    {
      "cell_type": "code",
      "metadata": {
        "colab": {
          "base_uri": "https://localhost:8080/"
        },
        "id": "xWv0vjrAM1Kv",
        "outputId": "758566a4-5db3-43dc-d096-09922a5a8663"
      },
      "source": [
        "sub2 = variancia_pesos2[0] - variancia_pesos2[1] - variancia_pesos2[2] - variancia_pesos2[3] - variancia_pesos2[4] - variancia_pesos2[5]\n",
        "sub2"
      ],
      "execution_count": 84,
      "outputs": [
        {
          "output_type": "execute_result",
          "data": {
            "text/plain": [
              "-0.07365354752228802"
            ]
          },
          "metadata": {},
          "execution_count": 84
        }
      ]
    },
    {
      "cell_type": "code",
      "metadata": {
        "colab": {
          "base_uri": "https://localhost:8080/"
        },
        "id": "eS3DGJgAM76q",
        "outputId": "abc547c5-64da-4e3a-e574-354e32688df7"
      },
      "source": [
        "variancia_portfolio2"
      ],
      "execution_count": 85,
      "outputs": [
        {
          "output_type": "execute_result",
          "data": {
            "text/plain": [
              "0.07365354752228817"
            ]
          },
          "metadata": {},
          "execution_count": 85
        }
      ]
    },
    {
      "cell_type": "code",
      "metadata": {
        "colab": {
          "base_uri": "https://localhost:8080/"
        },
        "id": "9Aq29L-VNAJ0",
        "outputId": "aca93c3f-dc1d-470f-a414-d8379c7185c2"
      },
      "source": [
        "risco_nao_sistematico2 = (variancia_portfolio2 - sub2)\n",
        "risco_nao_sistematico2"
      ],
      "execution_count": 86,
      "outputs": [
        {
          "output_type": "execute_result",
          "data": {
            "text/plain": [
              "0.14730709504457618"
            ]
          },
          "metadata": {},
          "execution_count": 86
        }
      ]
    },
    {
      "cell_type": "markdown",
      "metadata": {
        "id": "MAEA6W5lqAeu"
      },
      "source": [
        "## Exercício"
      ]
    },
    {
      "cell_type": "code",
      "metadata": {
        "colab": {
          "base_uri": "https://localhost:8080/",
          "height": 328
        },
        "id": "KdBstl18qCA5",
        "outputId": "97fd2c47-c775-4ff2-a196-bbe3d10a18ba"
      },
      "source": [
        "dataset = pd.read_csv('acoes_ex.csv')\n",
        "dataset"
      ],
      "execution_count": 87,
      "outputs": [
        {
          "output_type": "error",
          "ename": "FileNotFoundError",
          "evalue": "ignored",
          "traceback": [
            "\u001b[0;31m---------------------------------------------------------------------------\u001b[0m",
            "\u001b[0;31mFileNotFoundError\u001b[0m                         Traceback (most recent call last)",
            "\u001b[0;32m<ipython-input-87-96b1e2888978>\u001b[0m in \u001b[0;36m<module>\u001b[0;34m()\u001b[0m\n\u001b[0;32m----> 1\u001b[0;31m \u001b[0mdataset\u001b[0m \u001b[0;34m=\u001b[0m \u001b[0mpd\u001b[0m\u001b[0;34m.\u001b[0m\u001b[0mread_csv\u001b[0m\u001b[0;34m(\u001b[0m\u001b[0;34m'acoes_ex.csv'\u001b[0m\u001b[0;34m)\u001b[0m\u001b[0;34m\u001b[0m\u001b[0;34m\u001b[0m\u001b[0m\n\u001b[0m\u001b[1;32m      2\u001b[0m \u001b[0mdataset\u001b[0m\u001b[0;34m\u001b[0m\u001b[0;34m\u001b[0m\u001b[0m\n",
            "\u001b[0;32m/usr/local/lib/python3.7/dist-packages/pandas/util/_decorators.py\u001b[0m in \u001b[0;36mwrapper\u001b[0;34m(*args, **kwargs)\u001b[0m\n\u001b[1;32m    309\u001b[0m                     \u001b[0mstacklevel\u001b[0m\u001b[0;34m=\u001b[0m\u001b[0mstacklevel\u001b[0m\u001b[0;34m,\u001b[0m\u001b[0;34m\u001b[0m\u001b[0;34m\u001b[0m\u001b[0m\n\u001b[1;32m    310\u001b[0m                 )\n\u001b[0;32m--> 311\u001b[0;31m             \u001b[0;32mreturn\u001b[0m \u001b[0mfunc\u001b[0m\u001b[0;34m(\u001b[0m\u001b[0;34m*\u001b[0m\u001b[0margs\u001b[0m\u001b[0;34m,\u001b[0m \u001b[0;34m**\u001b[0m\u001b[0mkwargs\u001b[0m\u001b[0;34m)\u001b[0m\u001b[0;34m\u001b[0m\u001b[0;34m\u001b[0m\u001b[0m\n\u001b[0m\u001b[1;32m    312\u001b[0m \u001b[0;34m\u001b[0m\u001b[0m\n\u001b[1;32m    313\u001b[0m         \u001b[0;32mreturn\u001b[0m \u001b[0mwrapper\u001b[0m\u001b[0;34m\u001b[0m\u001b[0;34m\u001b[0m\u001b[0m\n",
            "\u001b[0;32m/usr/local/lib/python3.7/dist-packages/pandas/io/parsers/readers.py\u001b[0m in \u001b[0;36mread_csv\u001b[0;34m(filepath_or_buffer, sep, delimiter, header, names, index_col, usecols, squeeze, prefix, mangle_dupe_cols, dtype, engine, converters, true_values, false_values, skipinitialspace, skiprows, skipfooter, nrows, na_values, keep_default_na, na_filter, verbose, skip_blank_lines, parse_dates, infer_datetime_format, keep_date_col, date_parser, dayfirst, cache_dates, iterator, chunksize, compression, thousands, decimal, lineterminator, quotechar, quoting, doublequote, escapechar, comment, encoding, encoding_errors, dialect, error_bad_lines, warn_bad_lines, on_bad_lines, delim_whitespace, low_memory, memory_map, float_precision, storage_options)\u001b[0m\n\u001b[1;32m    584\u001b[0m     \u001b[0mkwds\u001b[0m\u001b[0;34m.\u001b[0m\u001b[0mupdate\u001b[0m\u001b[0;34m(\u001b[0m\u001b[0mkwds_defaults\u001b[0m\u001b[0;34m)\u001b[0m\u001b[0;34m\u001b[0m\u001b[0;34m\u001b[0m\u001b[0m\n\u001b[1;32m    585\u001b[0m \u001b[0;34m\u001b[0m\u001b[0m\n\u001b[0;32m--> 586\u001b[0;31m     \u001b[0;32mreturn\u001b[0m \u001b[0m_read\u001b[0m\u001b[0;34m(\u001b[0m\u001b[0mfilepath_or_buffer\u001b[0m\u001b[0;34m,\u001b[0m \u001b[0mkwds\u001b[0m\u001b[0;34m)\u001b[0m\u001b[0;34m\u001b[0m\u001b[0;34m\u001b[0m\u001b[0m\n\u001b[0m\u001b[1;32m    587\u001b[0m \u001b[0;34m\u001b[0m\u001b[0m\n\u001b[1;32m    588\u001b[0m \u001b[0;34m\u001b[0m\u001b[0m\n",
            "\u001b[0;32m/usr/local/lib/python3.7/dist-packages/pandas/io/parsers/readers.py\u001b[0m in \u001b[0;36m_read\u001b[0;34m(filepath_or_buffer, kwds)\u001b[0m\n\u001b[1;32m    480\u001b[0m \u001b[0;34m\u001b[0m\u001b[0m\n\u001b[1;32m    481\u001b[0m     \u001b[0;31m# Create the parser.\u001b[0m\u001b[0;34m\u001b[0m\u001b[0;34m\u001b[0m\u001b[0;34m\u001b[0m\u001b[0m\n\u001b[0;32m--> 482\u001b[0;31m     \u001b[0mparser\u001b[0m \u001b[0;34m=\u001b[0m \u001b[0mTextFileReader\u001b[0m\u001b[0;34m(\u001b[0m\u001b[0mfilepath_or_buffer\u001b[0m\u001b[0;34m,\u001b[0m \u001b[0;34m**\u001b[0m\u001b[0mkwds\u001b[0m\u001b[0;34m)\u001b[0m\u001b[0;34m\u001b[0m\u001b[0;34m\u001b[0m\u001b[0m\n\u001b[0m\u001b[1;32m    483\u001b[0m \u001b[0;34m\u001b[0m\u001b[0m\n\u001b[1;32m    484\u001b[0m     \u001b[0;32mif\u001b[0m \u001b[0mchunksize\u001b[0m \u001b[0;32mor\u001b[0m \u001b[0miterator\u001b[0m\u001b[0;34m:\u001b[0m\u001b[0;34m\u001b[0m\u001b[0;34m\u001b[0m\u001b[0m\n",
            "\u001b[0;32m/usr/local/lib/python3.7/dist-packages/pandas/io/parsers/readers.py\u001b[0m in \u001b[0;36m__init__\u001b[0;34m(self, f, engine, **kwds)\u001b[0m\n\u001b[1;32m    809\u001b[0m             \u001b[0mself\u001b[0m\u001b[0;34m.\u001b[0m\u001b[0moptions\u001b[0m\u001b[0;34m[\u001b[0m\u001b[0;34m\"has_index_names\"\u001b[0m\u001b[0;34m]\u001b[0m \u001b[0;34m=\u001b[0m \u001b[0mkwds\u001b[0m\u001b[0;34m[\u001b[0m\u001b[0;34m\"has_index_names\"\u001b[0m\u001b[0;34m]\u001b[0m\u001b[0;34m\u001b[0m\u001b[0;34m\u001b[0m\u001b[0m\n\u001b[1;32m    810\u001b[0m \u001b[0;34m\u001b[0m\u001b[0m\n\u001b[0;32m--> 811\u001b[0;31m         \u001b[0mself\u001b[0m\u001b[0;34m.\u001b[0m\u001b[0m_engine\u001b[0m \u001b[0;34m=\u001b[0m \u001b[0mself\u001b[0m\u001b[0;34m.\u001b[0m\u001b[0m_make_engine\u001b[0m\u001b[0;34m(\u001b[0m\u001b[0mself\u001b[0m\u001b[0;34m.\u001b[0m\u001b[0mengine\u001b[0m\u001b[0;34m)\u001b[0m\u001b[0;34m\u001b[0m\u001b[0;34m\u001b[0m\u001b[0m\n\u001b[0m\u001b[1;32m    812\u001b[0m \u001b[0;34m\u001b[0m\u001b[0m\n\u001b[1;32m    813\u001b[0m     \u001b[0;32mdef\u001b[0m \u001b[0mclose\u001b[0m\u001b[0;34m(\u001b[0m\u001b[0mself\u001b[0m\u001b[0;34m)\u001b[0m\u001b[0;34m:\u001b[0m\u001b[0;34m\u001b[0m\u001b[0;34m\u001b[0m\u001b[0m\n",
            "\u001b[0;32m/usr/local/lib/python3.7/dist-packages/pandas/io/parsers/readers.py\u001b[0m in \u001b[0;36m_make_engine\u001b[0;34m(self, engine)\u001b[0m\n\u001b[1;32m   1038\u001b[0m             )\n\u001b[1;32m   1039\u001b[0m         \u001b[0;31m# error: Too many arguments for \"ParserBase\"\u001b[0m\u001b[0;34m\u001b[0m\u001b[0;34m\u001b[0m\u001b[0;34m\u001b[0m\u001b[0m\n\u001b[0;32m-> 1040\u001b[0;31m         \u001b[0;32mreturn\u001b[0m \u001b[0mmapping\u001b[0m\u001b[0;34m[\u001b[0m\u001b[0mengine\u001b[0m\u001b[0;34m]\u001b[0m\u001b[0;34m(\u001b[0m\u001b[0mself\u001b[0m\u001b[0;34m.\u001b[0m\u001b[0mf\u001b[0m\u001b[0;34m,\u001b[0m \u001b[0;34m**\u001b[0m\u001b[0mself\u001b[0m\u001b[0;34m.\u001b[0m\u001b[0moptions\u001b[0m\u001b[0;34m)\u001b[0m  \u001b[0;31m# type: ignore[call-arg]\u001b[0m\u001b[0;34m\u001b[0m\u001b[0;34m\u001b[0m\u001b[0m\n\u001b[0m\u001b[1;32m   1041\u001b[0m \u001b[0;34m\u001b[0m\u001b[0m\n\u001b[1;32m   1042\u001b[0m     \u001b[0;32mdef\u001b[0m \u001b[0m_failover_to_python\u001b[0m\u001b[0;34m(\u001b[0m\u001b[0mself\u001b[0m\u001b[0;34m)\u001b[0m\u001b[0;34m:\u001b[0m\u001b[0;34m\u001b[0m\u001b[0;34m\u001b[0m\u001b[0m\n",
            "\u001b[0;32m/usr/local/lib/python3.7/dist-packages/pandas/io/parsers/c_parser_wrapper.py\u001b[0m in \u001b[0;36m__init__\u001b[0;34m(self, src, **kwds)\u001b[0m\n\u001b[1;32m     49\u001b[0m \u001b[0;34m\u001b[0m\u001b[0m\n\u001b[1;32m     50\u001b[0m         \u001b[0;31m# open handles\u001b[0m\u001b[0;34m\u001b[0m\u001b[0;34m\u001b[0m\u001b[0;34m\u001b[0m\u001b[0m\n\u001b[0;32m---> 51\u001b[0;31m         \u001b[0mself\u001b[0m\u001b[0;34m.\u001b[0m\u001b[0m_open_handles\u001b[0m\u001b[0;34m(\u001b[0m\u001b[0msrc\u001b[0m\u001b[0;34m,\u001b[0m \u001b[0mkwds\u001b[0m\u001b[0;34m)\u001b[0m\u001b[0;34m\u001b[0m\u001b[0;34m\u001b[0m\u001b[0m\n\u001b[0m\u001b[1;32m     52\u001b[0m         \u001b[0;32massert\u001b[0m \u001b[0mself\u001b[0m\u001b[0;34m.\u001b[0m\u001b[0mhandles\u001b[0m \u001b[0;32mis\u001b[0m \u001b[0;32mnot\u001b[0m \u001b[0;32mNone\u001b[0m\u001b[0;34m\u001b[0m\u001b[0;34m\u001b[0m\u001b[0m\n\u001b[1;32m     53\u001b[0m \u001b[0;34m\u001b[0m\u001b[0m\n",
            "\u001b[0;32m/usr/local/lib/python3.7/dist-packages/pandas/io/parsers/base_parser.py\u001b[0m in \u001b[0;36m_open_handles\u001b[0;34m(self, src, kwds)\u001b[0m\n\u001b[1;32m    227\u001b[0m             \u001b[0mmemory_map\u001b[0m\u001b[0;34m=\u001b[0m\u001b[0mkwds\u001b[0m\u001b[0;34m.\u001b[0m\u001b[0mget\u001b[0m\u001b[0;34m(\u001b[0m\u001b[0;34m\"memory_map\"\u001b[0m\u001b[0;34m,\u001b[0m \u001b[0;32mFalse\u001b[0m\u001b[0;34m)\u001b[0m\u001b[0;34m,\u001b[0m\u001b[0;34m\u001b[0m\u001b[0;34m\u001b[0m\u001b[0m\n\u001b[1;32m    228\u001b[0m             \u001b[0mstorage_options\u001b[0m\u001b[0;34m=\u001b[0m\u001b[0mkwds\u001b[0m\u001b[0;34m.\u001b[0m\u001b[0mget\u001b[0m\u001b[0;34m(\u001b[0m\u001b[0;34m\"storage_options\"\u001b[0m\u001b[0;34m,\u001b[0m \u001b[0;32mNone\u001b[0m\u001b[0;34m)\u001b[0m\u001b[0;34m,\u001b[0m\u001b[0;34m\u001b[0m\u001b[0;34m\u001b[0m\u001b[0m\n\u001b[0;32m--> 229\u001b[0;31m             \u001b[0merrors\u001b[0m\u001b[0;34m=\u001b[0m\u001b[0mkwds\u001b[0m\u001b[0;34m.\u001b[0m\u001b[0mget\u001b[0m\u001b[0;34m(\u001b[0m\u001b[0;34m\"encoding_errors\"\u001b[0m\u001b[0;34m,\u001b[0m \u001b[0;34m\"strict\"\u001b[0m\u001b[0;34m)\u001b[0m\u001b[0;34m,\u001b[0m\u001b[0;34m\u001b[0m\u001b[0;34m\u001b[0m\u001b[0m\n\u001b[0m\u001b[1;32m    230\u001b[0m         )\n\u001b[1;32m    231\u001b[0m \u001b[0;34m\u001b[0m\u001b[0m\n",
            "\u001b[0;32m/usr/local/lib/python3.7/dist-packages/pandas/io/common.py\u001b[0m in \u001b[0;36mget_handle\u001b[0;34m(path_or_buf, mode, encoding, compression, memory_map, is_text, errors, storage_options)\u001b[0m\n\u001b[1;32m    705\u001b[0m                 \u001b[0mencoding\u001b[0m\u001b[0;34m=\u001b[0m\u001b[0mioargs\u001b[0m\u001b[0;34m.\u001b[0m\u001b[0mencoding\u001b[0m\u001b[0;34m,\u001b[0m\u001b[0;34m\u001b[0m\u001b[0;34m\u001b[0m\u001b[0m\n\u001b[1;32m    706\u001b[0m                 \u001b[0merrors\u001b[0m\u001b[0;34m=\u001b[0m\u001b[0merrors\u001b[0m\u001b[0;34m,\u001b[0m\u001b[0;34m\u001b[0m\u001b[0;34m\u001b[0m\u001b[0m\n\u001b[0;32m--> 707\u001b[0;31m                 \u001b[0mnewline\u001b[0m\u001b[0;34m=\u001b[0m\u001b[0;34m\"\"\u001b[0m\u001b[0;34m,\u001b[0m\u001b[0;34m\u001b[0m\u001b[0;34m\u001b[0m\u001b[0m\n\u001b[0m\u001b[1;32m    708\u001b[0m             )\n\u001b[1;32m    709\u001b[0m         \u001b[0;32melse\u001b[0m\u001b[0;34m:\u001b[0m\u001b[0;34m\u001b[0m\u001b[0;34m\u001b[0m\u001b[0m\n",
            "\u001b[0;31mFileNotFoundError\u001b[0m: [Errno 2] No such file or directory: 'acoes_ex.csv'"
          ]
        }
      ]
    },
    {
      "cell_type": "code",
      "metadata": {
        "id": "w6nJw2ETqKGQ"
      },
      "source": [
        "dataset.drop(labels=['Date'], axis = 1, inplace = True)\n",
        "dataset.head()"
      ],
      "execution_count": null,
      "outputs": []
    },
    {
      "cell_type": "code",
      "metadata": {
        "id": "gKxOPCrxrDPs"
      },
      "source": [
        "taxas_retorno = (dataset / dataset.shift(1)) - 1\n",
        "taxas_retorno"
      ],
      "execution_count": null,
      "outputs": []
    },
    {
      "cell_type": "code",
      "metadata": {
        "id": "hsjpcPaSNvG8"
      },
      "source": [
        "# Empresas BOVA: http://bvmf.bmfbovespa.com.br/indices/ResumoCarteiraQuadrimestre.aspx?Indice=IBOV&idioma=pt-br\n",
        "plt.figure(figsize=(8,8))\n",
        "sns.heatmap(taxas_retorno.corr(), annot=True);"
      ],
      "execution_count": null,
      "outputs": []
    },
    {
      "cell_type": "code",
      "metadata": {
        "id": "sq9Ahe4frGqE"
      },
      "source": [
        "taxas_retorno.std() * math.sqrt(246) # Anualizado"
      ],
      "execution_count": null,
      "outputs": []
    },
    {
      "cell_type": "code",
      "metadata": {
        "id": "0XHlmb4jrMjn"
      },
      "source": [
        "pesos1 = np.array([0.2, 0.2, 0.2, 0.2, 0.2, 0.0])"
      ],
      "execution_count": null,
      "outputs": []
    },
    {
      "cell_type": "code",
      "metadata": {
        "id": "CyzleQy4Qjno"
      },
      "source": [
        "variancia_portfolio1 = np.dot(pesos1, np.dot(taxas_retorno.cov() * 246, pesos1))\n",
        "variancia_portfolio1"
      ],
      "execution_count": null,
      "outputs": []
    },
    {
      "cell_type": "code",
      "metadata": {
        "id": "6V2Le03ZrO0e"
      },
      "source": [
        "volatidade_portfolio1 = math.sqrt(np.dot(pesos1, np.dot(taxas_retorno.cov() * 246, pesos1)))\n",
        "volatidade_portfolio1"
      ],
      "execution_count": null,
      "outputs": []
    },
    {
      "cell_type": "code",
      "metadata": {
        "id": "v-Cd9Oj1rgcL"
      },
      "source": [
        "variancia_acoes1 = (taxas_retorno.var() * 246) * pesos1\n",
        "sub = variancia_acoes1[0] - variancia_acoes1[1] - variancia_acoes1[2] - variancia_acoes1[3] - variancia_acoes1[4] - variancia_acoes1[5] \n",
        "risco_nao_sistematico1 = (variancia_portfolio1 - sub)\n",
        "risco_nao_sistematico1"
      ],
      "execution_count": null,
      "outputs": []
    },
    {
      "cell_type": "code",
      "metadata": {
        "id": "cYGbYfJOrW9Y"
      },
      "source": [
        "pesos2 = np.array([0.0, 0.0, 0.0, 0.0, 0.0, 1.0])"
      ],
      "execution_count": null,
      "outputs": []
    },
    {
      "cell_type": "code",
      "metadata": {
        "id": "-NL-exKcRGAx"
      },
      "source": [
        "variancia_portfolio2 = np.dot(pesos2, np.dot(taxas_retorno.cov() * 246, pesos2))\n",
        "variancia_portfolio2"
      ],
      "execution_count": null,
      "outputs": []
    },
    {
      "cell_type": "code",
      "metadata": {
        "id": "4PBrxmYnraIE"
      },
      "source": [
        "volatidade_portfolio2 = math.sqrt(np.dot(pesos2, np.dot(taxas_retorno.cov() * 246, pesos2)))\n",
        "volatidade_portfolio2"
      ],
      "execution_count": null,
      "outputs": []
    },
    {
      "cell_type": "code",
      "metadata": {
        "id": "kN6M3UXhru9i"
      },
      "source": [
        "variancia_acoes2 = (taxas_retorno.var() * 246) * pesos2\n",
        "sub = variancia_acoes2[0] - variancia_acoes2[1] - variancia_acoes2[2] - variancia_acoes2[3] - variancia_acoes2[4] - variancia_acoes2[5] \n",
        "risco_nao_sistematico2 = (variancia_portfolio2 - sub)\n",
        "risco_nao_sistematico2"
      ],
      "execution_count": null,
      "outputs": []
    }
  ]
}