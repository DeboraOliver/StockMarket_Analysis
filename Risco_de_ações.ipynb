{
  "nbformat": 4,
  "nbformat_minor": 0,
  "metadata": {
    "colab": {
      "name": "Risco de ações.ipynb",
      "provenance": [],
      "collapsed_sections": [
        "xUnpCyZqFERv",
        "RAAWBxf3GMKV",
        "MAEA6W5lqAeu"
      ],
      "include_colab_link": true
    },
    "kernelspec": {
      "name": "python3",
      "display_name": "Python 3"
    }
  },
  "cells": [
    {
      "cell_type": "markdown",
      "metadata": {
        "id": "view-in-github",
        "colab_type": "text"
      },
      "source": [
        "<a href=\"https://colab.research.google.com/github/DeboraOliver/StockMarket_Analysis/blob/main/Risco_de_a%C3%A7%C3%B5es.ipynb\" target=\"_parent\"><img src=\"https://colab.research.google.com/assets/colab-badge.svg\" alt=\"Open In Colab\"/></a>"
      ]
    },
    {
      "cell_type": "markdown",
      "metadata": {
        "id": "Bgg_AisGjfoy"
      },
      "source": [
        "# Python para finanças - risco de ações"
      ]
    },
    {
      "cell_type": "markdown",
      "metadata": {
        "id": "x7M2Np1bji4T"
      },
      "source": [
        "## Importação das bibliotecas e base de dados"
      ]
    },
    {
      "cell_type": "code",
      "metadata": {
        "id": "WgwxIUe5XG42"
      },
      "source": [
        "import pandas as pd\n",
        "import numpy as np\n",
        "import math\n",
        "import matplotlib.pyplot as plt\n",
        "import seaborn as sns\n",
        "from scipy import stats"
      ],
      "execution_count": 1,
      "outputs": []
    },
    {
      "cell_type": "code",
      "metadata": {
        "colab": {
          "base_uri": "https://localhost:8080/",
          "height": 424
        },
        "id": "Bk2jXqp4BlZo",
        "outputId": "525c0b9e-d988-40f4-94c2-c63863d0e282"
      },
      "source": [
        "dataset = pd.read_csv('acoes.csv')\n",
        "dataset"
      ],
      "execution_count": 2,
      "outputs": [
        {
          "output_type": "execute_result",
          "data": {
            "text/html": [
              "\n",
              "  <div id=\"df-be042c84-4e7f-47b2-99d3-9a2326fa66ea\">\n",
              "    <div class=\"colab-df-container\">\n",
              "      <div>\n",
              "<style scoped>\n",
              "    .dataframe tbody tr th:only-of-type {\n",
              "        vertical-align: middle;\n",
              "    }\n",
              "\n",
              "    .dataframe tbody tr th {\n",
              "        vertical-align: top;\n",
              "    }\n",
              "\n",
              "    .dataframe thead th {\n",
              "        text-align: right;\n",
              "    }\n",
              "</style>\n",
              "<table border=\"1\" class=\"dataframe\">\n",
              "  <thead>\n",
              "    <tr style=\"text-align: right;\">\n",
              "      <th></th>\n",
              "      <th>Date</th>\n",
              "      <th>GOL</th>\n",
              "      <th>CVC</th>\n",
              "      <th>WEGE</th>\n",
              "      <th>MGLU</th>\n",
              "      <th>TOTS</th>\n",
              "      <th>BOVA</th>\n",
              "    </tr>\n",
              "  </thead>\n",
              "  <tbody>\n",
              "    <tr>\n",
              "      <th>0</th>\n",
              "      <td>2015-01-02</td>\n",
              "      <td>14.990000</td>\n",
              "      <td>15.20</td>\n",
              "      <td>11.846200</td>\n",
              "      <td>0.232812</td>\n",
              "      <td>35.732101</td>\n",
              "      <td>47.259998</td>\n",
              "    </tr>\n",
              "    <tr>\n",
              "      <th>1</th>\n",
              "      <td>2015-01-05</td>\n",
              "      <td>14.850000</td>\n",
              "      <td>15.00</td>\n",
              "      <td>11.926900</td>\n",
              "      <td>0.237187</td>\n",
              "      <td>34.634201</td>\n",
              "      <td>46.320000</td>\n",
              "    </tr>\n",
              "    <tr>\n",
              "      <th>2</th>\n",
              "      <td>2015-01-06</td>\n",
              "      <td>15.210000</td>\n",
              "      <td>14.80</td>\n",
              "      <td>11.750000</td>\n",
              "      <td>0.234062</td>\n",
              "      <td>32.468300</td>\n",
              "      <td>46.580002</td>\n",
              "    </tr>\n",
              "    <tr>\n",
              "      <th>3</th>\n",
              "      <td>2015-01-07</td>\n",
              "      <td>14.550000</td>\n",
              "      <td>14.67</td>\n",
              "      <td>11.615400</td>\n",
              "      <td>0.241875</td>\n",
              "      <td>32.238701</td>\n",
              "      <td>48.150002</td>\n",
              "    </tr>\n",
              "    <tr>\n",
              "      <th>4</th>\n",
              "      <td>2015-01-08</td>\n",
              "      <td>14.270000</td>\n",
              "      <td>14.15</td>\n",
              "      <td>11.811500</td>\n",
              "      <td>0.240000</td>\n",
              "      <td>32.987301</td>\n",
              "      <td>48.509998</td>\n",
              "    </tr>\n",
              "    <tr>\n",
              "      <th>...</th>\n",
              "      <td>...</td>\n",
              "      <td>...</td>\n",
              "      <td>...</td>\n",
              "      <td>...</td>\n",
              "      <td>...</td>\n",
              "      <td>...</td>\n",
              "      <td>...</td>\n",
              "    </tr>\n",
              "    <tr>\n",
              "      <th>1441</th>\n",
              "      <td>2020-10-27</td>\n",
              "      <td>18.600000</td>\n",
              "      <td>14.17</td>\n",
              "      <td>83.239998</td>\n",
              "      <td>25.450001</td>\n",
              "      <td>28.500000</td>\n",
              "      <td>95.800003</td>\n",
              "    </tr>\n",
              "    <tr>\n",
              "      <th>1442</th>\n",
              "      <td>2020-10-28</td>\n",
              "      <td>16.920000</td>\n",
              "      <td>12.77</td>\n",
              "      <td>79.139999</td>\n",
              "      <td>24.629999</td>\n",
              "      <td>27.500000</td>\n",
              "      <td>92.430000</td>\n",
              "    </tr>\n",
              "    <tr>\n",
              "      <th>1443</th>\n",
              "      <td>2020-10-29</td>\n",
              "      <td>16.610001</td>\n",
              "      <td>12.68</td>\n",
              "      <td>80.029999</td>\n",
              "      <td>25.360001</td>\n",
              "      <td>28.500000</td>\n",
              "      <td>92.910004</td>\n",
              "    </tr>\n",
              "    <tr>\n",
              "      <th>1444</th>\n",
              "      <td>2020-10-30</td>\n",
              "      <td>15.690000</td>\n",
              "      <td>12.28</td>\n",
              "      <td>75.830002</td>\n",
              "      <td>24.629999</td>\n",
              "      <td>27.000000</td>\n",
              "      <td>90.660004</td>\n",
              "    </tr>\n",
              "    <tr>\n",
              "      <th>1445</th>\n",
              "      <td>2020-11-03</td>\n",
              "      <td>16.070000</td>\n",
              "      <td>12.42</td>\n",
              "      <td>78.669998</td>\n",
              "      <td>25.309999</td>\n",
              "      <td>27.930000</td>\n",
              "      <td>92.410004</td>\n",
              "    </tr>\n",
              "  </tbody>\n",
              "</table>\n",
              "<p>1446 rows × 7 columns</p>\n",
              "</div>\n",
              "      <button class=\"colab-df-convert\" onclick=\"convertToInteractive('df-be042c84-4e7f-47b2-99d3-9a2326fa66ea')\"\n",
              "              title=\"Convert this dataframe to an interactive table.\"\n",
              "              style=\"display:none;\">\n",
              "        \n",
              "  <svg xmlns=\"http://www.w3.org/2000/svg\" height=\"24px\"viewBox=\"0 0 24 24\"\n",
              "       width=\"24px\">\n",
              "    <path d=\"M0 0h24v24H0V0z\" fill=\"none\"/>\n",
              "    <path d=\"M18.56 5.44l.94 2.06.94-2.06 2.06-.94-2.06-.94-.94-2.06-.94 2.06-2.06.94zm-11 1L8.5 8.5l.94-2.06 2.06-.94-2.06-.94L8.5 2.5l-.94 2.06-2.06.94zm10 10l.94 2.06.94-2.06 2.06-.94-2.06-.94-.94-2.06-.94 2.06-2.06.94z\"/><path d=\"M17.41 7.96l-1.37-1.37c-.4-.4-.92-.59-1.43-.59-.52 0-1.04.2-1.43.59L10.3 9.45l-7.72 7.72c-.78.78-.78 2.05 0 2.83L4 21.41c.39.39.9.59 1.41.59.51 0 1.02-.2 1.41-.59l7.78-7.78 2.81-2.81c.8-.78.8-2.07 0-2.86zM5.41 20L4 18.59l7.72-7.72 1.47 1.35L5.41 20z\"/>\n",
              "  </svg>\n",
              "      </button>\n",
              "      \n",
              "  <style>\n",
              "    .colab-df-container {\n",
              "      display:flex;\n",
              "      flex-wrap:wrap;\n",
              "      gap: 12px;\n",
              "    }\n",
              "\n",
              "    .colab-df-convert {\n",
              "      background-color: #E8F0FE;\n",
              "      border: none;\n",
              "      border-radius: 50%;\n",
              "      cursor: pointer;\n",
              "      display: none;\n",
              "      fill: #1967D2;\n",
              "      height: 32px;\n",
              "      padding: 0 0 0 0;\n",
              "      width: 32px;\n",
              "    }\n",
              "\n",
              "    .colab-df-convert:hover {\n",
              "      background-color: #E2EBFA;\n",
              "      box-shadow: 0px 1px 2px rgba(60, 64, 67, 0.3), 0px 1px 3px 1px rgba(60, 64, 67, 0.15);\n",
              "      fill: #174EA6;\n",
              "    }\n",
              "\n",
              "    [theme=dark] .colab-df-convert {\n",
              "      background-color: #3B4455;\n",
              "      fill: #D2E3FC;\n",
              "    }\n",
              "\n",
              "    [theme=dark] .colab-df-convert:hover {\n",
              "      background-color: #434B5C;\n",
              "      box-shadow: 0px 1px 3px 1px rgba(0, 0, 0, 0.15);\n",
              "      filter: drop-shadow(0px 1px 2px rgba(0, 0, 0, 0.3));\n",
              "      fill: #FFFFFF;\n",
              "    }\n",
              "  </style>\n",
              "\n",
              "      <script>\n",
              "        const buttonEl =\n",
              "          document.querySelector('#df-be042c84-4e7f-47b2-99d3-9a2326fa66ea button.colab-df-convert');\n",
              "        buttonEl.style.display =\n",
              "          google.colab.kernel.accessAllowed ? 'block' : 'none';\n",
              "\n",
              "        async function convertToInteractive(key) {\n",
              "          const element = document.querySelector('#df-be042c84-4e7f-47b2-99d3-9a2326fa66ea');\n",
              "          const dataTable =\n",
              "            await google.colab.kernel.invokeFunction('convertToInteractive',\n",
              "                                                     [key], {});\n",
              "          if (!dataTable) return;\n",
              "\n",
              "          const docLinkHtml = 'Like what you see? Visit the ' +\n",
              "            '<a target=\"_blank\" href=https://colab.research.google.com/notebooks/data_table.ipynb>data table notebook</a>'\n",
              "            + ' to learn more about interactive tables.';\n",
              "          element.innerHTML = '';\n",
              "          dataTable['output_type'] = 'display_data';\n",
              "          await google.colab.output.renderOutput(dataTable, element);\n",
              "          const docLink = document.createElement('div');\n",
              "          docLink.innerHTML = docLinkHtml;\n",
              "          element.appendChild(docLink);\n",
              "        }\n",
              "      </script>\n",
              "    </div>\n",
              "  </div>\n",
              "  "
            ],
            "text/plain": [
              "            Date        GOL    CVC       WEGE       MGLU       TOTS       BOVA\n",
              "0     2015-01-02  14.990000  15.20  11.846200   0.232812  35.732101  47.259998\n",
              "1     2015-01-05  14.850000  15.00  11.926900   0.237187  34.634201  46.320000\n",
              "2     2015-01-06  15.210000  14.80  11.750000   0.234062  32.468300  46.580002\n",
              "3     2015-01-07  14.550000  14.67  11.615400   0.241875  32.238701  48.150002\n",
              "4     2015-01-08  14.270000  14.15  11.811500   0.240000  32.987301  48.509998\n",
              "...          ...        ...    ...        ...        ...        ...        ...\n",
              "1441  2020-10-27  18.600000  14.17  83.239998  25.450001  28.500000  95.800003\n",
              "1442  2020-10-28  16.920000  12.77  79.139999  24.629999  27.500000  92.430000\n",
              "1443  2020-10-29  16.610001  12.68  80.029999  25.360001  28.500000  92.910004\n",
              "1444  2020-10-30  15.690000  12.28  75.830002  24.629999  27.000000  90.660004\n",
              "1445  2020-11-03  16.070000  12.42  78.669998  25.309999  27.930000  92.410004\n",
              "\n",
              "[1446 rows x 7 columns]"
            ]
          },
          "metadata": {},
          "execution_count": 2
        }
      ]
    },
    {
      "cell_type": "code",
      "metadata": {
        "colab": {
          "base_uri": "https://localhost:8080/",
          "height": 344
        },
        "id": "SxnQkBVhcVvf",
        "outputId": "c915b8b4-4fc4-4d83-9fbe-c1d35f236278"
      },
      "source": [
        "dataset.describe()\n",
        "#o std é fundamental para medir o risco de umaação,\n",
        "#mostra o quanto o preço da ação varia em relação a média"
      ],
      "execution_count": 3,
      "outputs": [
        {
          "output_type": "execute_result",
          "data": {
            "text/html": [
              "\n",
              "  <div id=\"df-df9a4a6c-7f4a-4fca-afa2-e0b4ddbf1356\">\n",
              "    <div class=\"colab-df-container\">\n",
              "      <div>\n",
              "<style scoped>\n",
              "    .dataframe tbody tr th:only-of-type {\n",
              "        vertical-align: middle;\n",
              "    }\n",
              "\n",
              "    .dataframe tbody tr th {\n",
              "        vertical-align: top;\n",
              "    }\n",
              "\n",
              "    .dataframe thead th {\n",
              "        text-align: right;\n",
              "    }\n",
              "</style>\n",
              "<table border=\"1\" class=\"dataframe\">\n",
              "  <thead>\n",
              "    <tr style=\"text-align: right;\">\n",
              "      <th></th>\n",
              "      <th>GOL</th>\n",
              "      <th>CVC</th>\n",
              "      <th>WEGE</th>\n",
              "      <th>MGLU</th>\n",
              "      <th>TOTS</th>\n",
              "      <th>BOVA</th>\n",
              "    </tr>\n",
              "  </thead>\n",
              "  <tbody>\n",
              "    <tr>\n",
              "      <th>count</th>\n",
              "      <td>1446.000000</td>\n",
              "      <td>1446.000000</td>\n",
              "      <td>1446.000000</td>\n",
              "      <td>1446.000000</td>\n",
              "      <td>1446.000000</td>\n",
              "      <td>1446.000000</td>\n",
              "    </tr>\n",
              "    <tr>\n",
              "      <th>mean</th>\n",
              "      <td>14.571473</td>\n",
              "      <td>32.860445</td>\n",
              "      <td>20.920034</td>\n",
              "      <td>4.634487</td>\n",
              "      <td>34.619463</td>\n",
              "      <td>71.770643</td>\n",
              "    </tr>\n",
              "    <tr>\n",
              "      <th>std</th>\n",
              "      <td>10.244303</td>\n",
              "      <td>16.118635</td>\n",
              "      <td>14.155955</td>\n",
              "      <td>6.023464</td>\n",
              "      <td>11.576407</td>\n",
              "      <td>19.913738</td>\n",
              "    </tr>\n",
              "    <tr>\n",
              "      <th>min</th>\n",
              "      <td>1.160000</td>\n",
              "      <td>6.490000</td>\n",
              "      <td>9.884610</td>\n",
              "      <td>0.030585</td>\n",
              "      <td>17.260000</td>\n",
              "      <td>36.450001</td>\n",
              "    </tr>\n",
              "    <tr>\n",
              "      <th>25%</th>\n",
              "      <td>6.635000</td>\n",
              "      <td>18.140224</td>\n",
              "      <td>12.640425</td>\n",
              "      <td>0.192734</td>\n",
              "      <td>28.196400</td>\n",
              "      <td>53.742500</td>\n",
              "    </tr>\n",
              "    <tr>\n",
              "      <th>50%</th>\n",
              "      <td>11.755000</td>\n",
              "      <td>29.105000</td>\n",
              "      <td>16.808849</td>\n",
              "      <td>2.315625</td>\n",
              "      <td>30.961201</td>\n",
              "      <td>71.090000</td>\n",
              "    </tr>\n",
              "    <tr>\n",
              "      <th>75%</th>\n",
              "      <td>20.355000</td>\n",
              "      <td>48.485000</td>\n",
              "      <td>19.480000</td>\n",
              "      <td>5.811485</td>\n",
              "      <td>36.226201</td>\n",
              "      <td>90.647503</td>\n",
              "    </tr>\n",
              "    <tr>\n",
              "      <th>max</th>\n",
              "      <td>43.790001</td>\n",
              "      <td>64.800003</td>\n",
              "      <td>83.550003</td>\n",
              "      <td>26.219999</td>\n",
              "      <td>83.720001</td>\n",
              "      <td>115.209999</td>\n",
              "    </tr>\n",
              "  </tbody>\n",
              "</table>\n",
              "</div>\n",
              "      <button class=\"colab-df-convert\" onclick=\"convertToInteractive('df-df9a4a6c-7f4a-4fca-afa2-e0b4ddbf1356')\"\n",
              "              title=\"Convert this dataframe to an interactive table.\"\n",
              "              style=\"display:none;\">\n",
              "        \n",
              "  <svg xmlns=\"http://www.w3.org/2000/svg\" height=\"24px\"viewBox=\"0 0 24 24\"\n",
              "       width=\"24px\">\n",
              "    <path d=\"M0 0h24v24H0V0z\" fill=\"none\"/>\n",
              "    <path d=\"M18.56 5.44l.94 2.06.94-2.06 2.06-.94-2.06-.94-.94-2.06-.94 2.06-2.06.94zm-11 1L8.5 8.5l.94-2.06 2.06-.94-2.06-.94L8.5 2.5l-.94 2.06-2.06.94zm10 10l.94 2.06.94-2.06 2.06-.94-2.06-.94-.94-2.06-.94 2.06-2.06.94z\"/><path d=\"M17.41 7.96l-1.37-1.37c-.4-.4-.92-.59-1.43-.59-.52 0-1.04.2-1.43.59L10.3 9.45l-7.72 7.72c-.78.78-.78 2.05 0 2.83L4 21.41c.39.39.9.59 1.41.59.51 0 1.02-.2 1.41-.59l7.78-7.78 2.81-2.81c.8-.78.8-2.07 0-2.86zM5.41 20L4 18.59l7.72-7.72 1.47 1.35L5.41 20z\"/>\n",
              "  </svg>\n",
              "      </button>\n",
              "      \n",
              "  <style>\n",
              "    .colab-df-container {\n",
              "      display:flex;\n",
              "      flex-wrap:wrap;\n",
              "      gap: 12px;\n",
              "    }\n",
              "\n",
              "    .colab-df-convert {\n",
              "      background-color: #E8F0FE;\n",
              "      border: none;\n",
              "      border-radius: 50%;\n",
              "      cursor: pointer;\n",
              "      display: none;\n",
              "      fill: #1967D2;\n",
              "      height: 32px;\n",
              "      padding: 0 0 0 0;\n",
              "      width: 32px;\n",
              "    }\n",
              "\n",
              "    .colab-df-convert:hover {\n",
              "      background-color: #E2EBFA;\n",
              "      box-shadow: 0px 1px 2px rgba(60, 64, 67, 0.3), 0px 1px 3px 1px rgba(60, 64, 67, 0.15);\n",
              "      fill: #174EA6;\n",
              "    }\n",
              "\n",
              "    [theme=dark] .colab-df-convert {\n",
              "      background-color: #3B4455;\n",
              "      fill: #D2E3FC;\n",
              "    }\n",
              "\n",
              "    [theme=dark] .colab-df-convert:hover {\n",
              "      background-color: #434B5C;\n",
              "      box-shadow: 0px 1px 3px 1px rgba(0, 0, 0, 0.15);\n",
              "      filter: drop-shadow(0px 1px 2px rgba(0, 0, 0, 0.3));\n",
              "      fill: #FFFFFF;\n",
              "    }\n",
              "  </style>\n",
              "\n",
              "      <script>\n",
              "        const buttonEl =\n",
              "          document.querySelector('#df-df9a4a6c-7f4a-4fca-afa2-e0b4ddbf1356 button.colab-df-convert');\n",
              "        buttonEl.style.display =\n",
              "          google.colab.kernel.accessAllowed ? 'block' : 'none';\n",
              "\n",
              "        async function convertToInteractive(key) {\n",
              "          const element = document.querySelector('#df-df9a4a6c-7f4a-4fca-afa2-e0b4ddbf1356');\n",
              "          const dataTable =\n",
              "            await google.colab.kernel.invokeFunction('convertToInteractive',\n",
              "                                                     [key], {});\n",
              "          if (!dataTable) return;\n",
              "\n",
              "          const docLinkHtml = 'Like what you see? Visit the ' +\n",
              "            '<a target=\"_blank\" href=https://colab.research.google.com/notebooks/data_table.ipynb>data table notebook</a>'\n",
              "            + ' to learn more about interactive tables.';\n",
              "          element.innerHTML = '';\n",
              "          dataTable['output_type'] = 'display_data';\n",
              "          await google.colab.output.renderOutput(dataTable, element);\n",
              "          const docLink = document.createElement('div');\n",
              "          docLink.innerHTML = docLinkHtml;\n",
              "          element.appendChild(docLink);\n",
              "        }\n",
              "      </script>\n",
              "    </div>\n",
              "  </div>\n",
              "  "
            ],
            "text/plain": [
              "               GOL          CVC  ...         TOTS         BOVA\n",
              "count  1446.000000  1446.000000  ...  1446.000000  1446.000000\n",
              "mean     14.571473    32.860445  ...    34.619463    71.770643\n",
              "std      10.244303    16.118635  ...    11.576407    19.913738\n",
              "min       1.160000     6.490000  ...    17.260000    36.450001\n",
              "25%       6.635000    18.140224  ...    28.196400    53.742500\n",
              "50%      11.755000    29.105000  ...    30.961201    71.090000\n",
              "75%      20.355000    48.485000  ...    36.226201    90.647503\n",
              "max      43.790001    64.800003  ...    83.720001   115.209999\n",
              "\n",
              "[8 rows x 6 columns]"
            ]
          },
          "metadata": {},
          "execution_count": 3
        }
      ]
    },
    {
      "cell_type": "markdown",
      "metadata": {
        "id": "p4HqYENwJOwP"
      },
      "source": [
        "## Cálculo dos retornos anuais"
      ]
    },
    {
      "cell_type": "markdown",
      "metadata": {
        "id": "Whmrp519DLVC"
      },
      "source": [
        "### 2015"
      ]
    },
    {
      "cell_type": "code",
      "metadata": {
        "colab": {
          "base_uri": "https://localhost:8080/"
        },
        "id": "C4t39-TGcKbL",
        "outputId": "f51639f3-13ef-4eba-b943-1b44ad28708b"
      },
      "source": [
        "# o  primeiro preço em 2015 eo último do ano\n",
        "dataset['CVC'][dataset['Date'] == '2015-01-02'], dataset['CVC'][dataset['Date'] == '2015-12-30']"
      ],
      "execution_count": 4,
      "outputs": [
        {
          "output_type": "execute_result",
          "data": {
            "text/plain": [
              "(0    15.2\n",
              " Name: CVC, dtype: float64, 245    13.5\n",
              " Name: CVC, dtype: float64)"
            ]
          },
          "metadata": {},
          "execution_count": 4
        }
      ]
    },
    {
      "cell_type": "code",
      "metadata": {
        "colab": {
          "base_uri": "https://localhost:8080/"
        },
        "id": "K84oFZN_dtU9",
        "outputId": "fc129d59-00e2-46c8-92ad-861d1c899b5c"
      },
      "source": [
        "\n",
        "#taxa de retorno de umamesma ação\n",
        "np.log(13.5 / 15.2) * 100\n",
        "# taxa de reorno em 2015"
      ],
      "execution_count": 5,
      "outputs": [
        {
          "output_type": "execute_result",
          "data": {
            "text/plain": [
              "-11.86057424078469"
            ]
          },
          "metadata": {},
          "execution_count": 5
        }
      ]
    },
    {
      "cell_type": "code",
      "metadata": {
        "colab": {
          "base_uri": "https://localhost:8080/"
        },
        "id": "zgnFy-O7d7al",
        "outputId": "d280a18f-05b0-45e0-a998-a532f295b541"
      },
      "source": [
        "dataset['MGLU'][dataset['Date'] == '2015-01-02'], dataset['MGLU'][dataset['Date'] == '2015-12-30']"
      ],
      "execution_count": 6,
      "outputs": [
        {
          "output_type": "execute_result",
          "data": {
            "text/plain": [
              "(0    0.232812\n",
              " Name: MGLU, dtype: float64, 245    0.068945\n",
              " Name: MGLU, dtype: float64)"
            ]
          },
          "metadata": {},
          "execution_count": 6
        }
      ]
    },
    {
      "cell_type": "code",
      "metadata": {
        "colab": {
          "base_uri": "https://localhost:8080/"
        },
        "id": "m6rjFAPgeCh8",
        "outputId": "f97fc045-1750-48c1-d191-05da7f061d0b"
      },
      "source": [
        "np.log(0.06 / 0.23) * 100"
      ],
      "execution_count": 7,
      "outputs": [
        {
          "output_type": "execute_result",
          "data": {
            "text/plain": [
              "-134.37347467010946"
            ]
          },
          "metadata": {},
          "execution_count": 7
        }
      ]
    },
    {
      "cell_type": "markdown",
      "metadata": {
        "id": "6KClzeKHEIcs"
      },
      "source": [
        "### 2016"
      ]
    },
    {
      "cell_type": "code",
      "metadata": {
        "colab": {
          "base_uri": "https://localhost:8080/"
        },
        "id": "4mZ-GKTGeS2H",
        "outputId": "12290458-a21b-4fce-a6ac-06cf54c3c956"
      },
      "source": [
        "dataset['CVC'][dataset['Date'] == '2016-01-04'], dataset['CVC'][dataset['Date'] == '2016-12-29']"
      ],
      "execution_count": 8,
      "outputs": [
        {
          "output_type": "execute_result",
          "data": {
            "text/plain": [
              "(246    12.53\n",
              " Name: CVC, dtype: float64, 494    23.700001\n",
              " Name: CVC, dtype: float64)"
            ]
          },
          "metadata": {},
          "execution_count": 8
        }
      ]
    },
    {
      "cell_type": "code",
      "metadata": {
        "colab": {
          "base_uri": "https://localhost:8080/"
        },
        "id": "Nn4C20vzejNu",
        "outputId": "130e8b4f-90fc-48b2-bd0b-fdacc2b86d25"
      },
      "source": [
        "np.log(23.70 / 12.53) * 100"
      ],
      "execution_count": 9,
      "outputs": [
        {
          "output_type": "execute_result",
          "data": {
            "text/plain": [
              "63.73492792331087"
            ]
          },
          "metadata": {},
          "execution_count": 9
        }
      ]
    },
    {
      "cell_type": "code",
      "metadata": {
        "colab": {
          "base_uri": "https://localhost:8080/"
        },
        "id": "-5atnPBPet1R",
        "outputId": "b8cd1515-3cd2-4c81-f90a-c4266bd841f4"
      },
      "source": [
        "dataset['MGLU'][dataset['Date'] == '2016-01-04'], dataset['MGLU'][dataset['Date'] == '2016-12-29']"
      ],
      "execution_count": 10,
      "outputs": [
        {
          "output_type": "execute_result",
          "data": {
            "text/plain": [
              "(246    0.070117\n",
              " Name: MGLU, dtype: float64, 494    0.414726\n",
              " Name: MGLU, dtype: float64)"
            ]
          },
          "metadata": {},
          "execution_count": 10
        }
      ]
    },
    {
      "cell_type": "code",
      "metadata": {
        "colab": {
          "base_uri": "https://localhost:8080/"
        },
        "id": "MKMFNfyieyjS",
        "outputId": "636aa3e3-9001-4161-9701-e38781caf357"
      },
      "source": [
        "np.log(0.41 / 0.07) * 100"
      ],
      "execution_count": 11,
      "outputs": [
        {
          "output_type": "execute_result",
          "data": {
            "text/plain": [
              "176.76619176489942"
            ]
          },
          "metadata": {},
          "execution_count": 11
        }
      ]
    },
    {
      "cell_type": "markdown",
      "metadata": {
        "id": "leM7iEWiEkn1"
      },
      "source": [
        "### 2017"
      ]
    },
    {
      "cell_type": "code",
      "metadata": {
        "colab": {
          "base_uri": "https://localhost:8080/"
        },
        "id": "rH5pyrgGEoOZ",
        "outputId": "b6fb7801-63d7-4126-d8e1-e3239ecdd0c5"
      },
      "source": [
        "dataset['CVC'][dataset['Date'] == '2017-01-02'], dataset['CVC'][dataset['Date'] == '2017-12-29']"
      ],
      "execution_count": 12,
      "outputs": [
        {
          "output_type": "execute_result",
          "data": {
            "text/plain": [
              "(495    23.02\n",
              " Name: CVC, dtype: float64, 748    48.5\n",
              " Name: CVC, dtype: float64)"
            ]
          },
          "metadata": {},
          "execution_count": 12
        }
      ]
    },
    {
      "cell_type": "code",
      "metadata": {
        "colab": {
          "base_uri": "https://localhost:8080/"
        },
        "id": "EISOufnBE0Ov",
        "outputId": "d5e34975-9f53-4652-e51d-2e6d15305f1a"
      },
      "source": [
        "np.log(48.50 / 23.02) * 100"
      ],
      "execution_count": 13,
      "outputs": [
        {
          "output_type": "execute_result",
          "data": {
            "text/plain": [
              "74.5200394649701"
            ]
          },
          "metadata": {},
          "execution_count": 13
        }
      ]
    },
    {
      "cell_type": "code",
      "metadata": {
        "colab": {
          "base_uri": "https://localhost:8080/"
        },
        "id": "QNqG-w7kEmY7",
        "outputId": "981058ef-0eaa-4a07-8fa1-06c9891c5058"
      },
      "source": [
        "dataset['MGLU'][dataset['Date'] == '2017-01-02'], dataset['MGLU'][dataset['Date'] == '2017-12-29']"
      ],
      "execution_count": 14,
      "outputs": [
        {
          "output_type": "execute_result",
          "data": {
            "text/plain": [
              "(495    0.397304\n",
              " Name: MGLU, dtype: float64, 748    2.50688\n",
              " Name: MGLU, dtype: float64)"
            ]
          },
          "metadata": {},
          "execution_count": 14
        }
      ]
    },
    {
      "cell_type": "code",
      "metadata": {
        "colab": {
          "base_uri": "https://localhost:8080/"
        },
        "id": "4ho7vtfcE8yJ",
        "outputId": "bfb02dbe-bd4b-4aa2-e83e-4f3548825edf"
      },
      "source": [
        "np.log(2.50 / 0.39) * 100"
      ],
      "execution_count": 15,
      "outputs": [
        {
          "output_type": "execute_result",
          "data": {
            "text/plain": [
              "185.78992717326"
            ]
          },
          "metadata": {},
          "execution_count": 15
        }
      ]
    },
    {
      "cell_type": "markdown",
      "metadata": {
        "id": "kn5DDNoIFDFA"
      },
      "source": [
        "### 2018"
      ]
    },
    {
      "cell_type": "code",
      "metadata": {
        "colab": {
          "base_uri": "https://localhost:8080/"
        },
        "id": "7igfkhKSFFXw",
        "outputId": "f0c2eeb8-7abf-429d-d7a9-548f35986695"
      },
      "source": [
        "dataset['CVC'][dataset['Date'] == '2018-01-02'], dataset['CVC'][dataset['Date'] == '2018-12-28']"
      ],
      "execution_count": 16,
      "outputs": [
        {
          "output_type": "execute_result",
          "data": {
            "text/plain": [
              "(749    49.880001\n",
              " Name: CVC, dtype: float64, 993    61.18\n",
              " Name: CVC, dtype: float64)"
            ]
          },
          "metadata": {},
          "execution_count": 16
        }
      ]
    },
    {
      "cell_type": "code",
      "metadata": {
        "colab": {
          "base_uri": "https://localhost:8080/"
        },
        "id": "FEMFFi5NFSbJ",
        "outputId": "f993ae74-814f-4ac5-d006-128b6de0ef83"
      },
      "source": [
        "np.log(61.18 / 49.88) * 100"
      ],
      "execution_count": 17,
      "outputs": [
        {
          "output_type": "execute_result",
          "data": {
            "text/plain": [
              "20.420021791092157"
            ]
          },
          "metadata": {},
          "execution_count": 17
        }
      ]
    },
    {
      "cell_type": "code",
      "metadata": {
        "colab": {
          "base_uri": "https://localhost:8080/"
        },
        "id": "8QjwGaq2FORp",
        "outputId": "d2e4ae7b-c0ff-40ee-ec36-96e7aa5450a4"
      },
      "source": [
        "dataset['MGLU'][dataset['Date'] == '2018-01-02'], dataset['MGLU'][dataset['Date'] == '2018-12-28']"
      ],
      "execution_count": 18,
      "outputs": [
        {
          "output_type": "execute_result",
          "data": {
            "text/plain": [
              "(749    2.47813\n",
              " Name: MGLU, dtype: float64, 993    5.65844\n",
              " Name: MGLU, dtype: float64)"
            ]
          },
          "metadata": {},
          "execution_count": 18
        }
      ]
    },
    {
      "cell_type": "code",
      "metadata": {
        "colab": {
          "base_uri": "https://localhost:8080/"
        },
        "id": "mb3joDRUFXDi",
        "outputId": "18f1b7f5-db25-4fc7-981d-17dc2d9e8e9f"
      },
      "source": [
        "np.log(5.65 / 2.47) * 100"
      ],
      "execution_count": 19,
      "outputs": [
        {
          "output_type": "execute_result",
          "data": {
            "text/plain": [
              "82.74373945184638"
            ]
          },
          "metadata": {},
          "execution_count": 19
        }
      ]
    },
    {
      "cell_type": "markdown",
      "metadata": {
        "id": "xUnpCyZqFERv"
      },
      "source": [
        "### 2019"
      ]
    },
    {
      "cell_type": "code",
      "source": [
        "dataset = pd.read_csv('acoes.csv')\n",
        "dataset"
      ],
      "metadata": {
        "colab": {
          "base_uri": "https://localhost:8080/",
          "height": 424
        },
        "id": "yWyuiogq4zGZ",
        "outputId": "708f98ec-cce2-4824-8206-3f60656a8eb6"
      },
      "execution_count": 94,
      "outputs": [
        {
          "output_type": "execute_result",
          "data": {
            "text/html": [
              "\n",
              "  <div id=\"df-f8ff81d1-ce6d-45b0-8ae3-10427c28f9f0\">\n",
              "    <div class=\"colab-df-container\">\n",
              "      <div>\n",
              "<style scoped>\n",
              "    .dataframe tbody tr th:only-of-type {\n",
              "        vertical-align: middle;\n",
              "    }\n",
              "\n",
              "    .dataframe tbody tr th {\n",
              "        vertical-align: top;\n",
              "    }\n",
              "\n",
              "    .dataframe thead th {\n",
              "        text-align: right;\n",
              "    }\n",
              "</style>\n",
              "<table border=\"1\" class=\"dataframe\">\n",
              "  <thead>\n",
              "    <tr style=\"text-align: right;\">\n",
              "      <th></th>\n",
              "      <th>Date</th>\n",
              "      <th>GOL</th>\n",
              "      <th>CVC</th>\n",
              "      <th>WEGE</th>\n",
              "      <th>MGLU</th>\n",
              "      <th>TOTS</th>\n",
              "      <th>BOVA</th>\n",
              "    </tr>\n",
              "  </thead>\n",
              "  <tbody>\n",
              "    <tr>\n",
              "      <th>0</th>\n",
              "      <td>2015-01-02</td>\n",
              "      <td>14.990000</td>\n",
              "      <td>15.20</td>\n",
              "      <td>11.846200</td>\n",
              "      <td>0.232812</td>\n",
              "      <td>35.732101</td>\n",
              "      <td>47.259998</td>\n",
              "    </tr>\n",
              "    <tr>\n",
              "      <th>1</th>\n",
              "      <td>2015-01-05</td>\n",
              "      <td>14.850000</td>\n",
              "      <td>15.00</td>\n",
              "      <td>11.926900</td>\n",
              "      <td>0.237187</td>\n",
              "      <td>34.634201</td>\n",
              "      <td>46.320000</td>\n",
              "    </tr>\n",
              "    <tr>\n",
              "      <th>2</th>\n",
              "      <td>2015-01-06</td>\n",
              "      <td>15.210000</td>\n",
              "      <td>14.80</td>\n",
              "      <td>11.750000</td>\n",
              "      <td>0.234062</td>\n",
              "      <td>32.468300</td>\n",
              "      <td>46.580002</td>\n",
              "    </tr>\n",
              "    <tr>\n",
              "      <th>3</th>\n",
              "      <td>2015-01-07</td>\n",
              "      <td>14.550000</td>\n",
              "      <td>14.67</td>\n",
              "      <td>11.615400</td>\n",
              "      <td>0.241875</td>\n",
              "      <td>32.238701</td>\n",
              "      <td>48.150002</td>\n",
              "    </tr>\n",
              "    <tr>\n",
              "      <th>4</th>\n",
              "      <td>2015-01-08</td>\n",
              "      <td>14.270000</td>\n",
              "      <td>14.15</td>\n",
              "      <td>11.811500</td>\n",
              "      <td>0.240000</td>\n",
              "      <td>32.987301</td>\n",
              "      <td>48.509998</td>\n",
              "    </tr>\n",
              "    <tr>\n",
              "      <th>...</th>\n",
              "      <td>...</td>\n",
              "      <td>...</td>\n",
              "      <td>...</td>\n",
              "      <td>...</td>\n",
              "      <td>...</td>\n",
              "      <td>...</td>\n",
              "      <td>...</td>\n",
              "    </tr>\n",
              "    <tr>\n",
              "      <th>1441</th>\n",
              "      <td>2020-10-27</td>\n",
              "      <td>18.600000</td>\n",
              "      <td>14.17</td>\n",
              "      <td>83.239998</td>\n",
              "      <td>25.450001</td>\n",
              "      <td>28.500000</td>\n",
              "      <td>95.800003</td>\n",
              "    </tr>\n",
              "    <tr>\n",
              "      <th>1442</th>\n",
              "      <td>2020-10-28</td>\n",
              "      <td>16.920000</td>\n",
              "      <td>12.77</td>\n",
              "      <td>79.139999</td>\n",
              "      <td>24.629999</td>\n",
              "      <td>27.500000</td>\n",
              "      <td>92.430000</td>\n",
              "    </tr>\n",
              "    <tr>\n",
              "      <th>1443</th>\n",
              "      <td>2020-10-29</td>\n",
              "      <td>16.610001</td>\n",
              "      <td>12.68</td>\n",
              "      <td>80.029999</td>\n",
              "      <td>25.360001</td>\n",
              "      <td>28.500000</td>\n",
              "      <td>92.910004</td>\n",
              "    </tr>\n",
              "    <tr>\n",
              "      <th>1444</th>\n",
              "      <td>2020-10-30</td>\n",
              "      <td>15.690000</td>\n",
              "      <td>12.28</td>\n",
              "      <td>75.830002</td>\n",
              "      <td>24.629999</td>\n",
              "      <td>27.000000</td>\n",
              "      <td>90.660004</td>\n",
              "    </tr>\n",
              "    <tr>\n",
              "      <th>1445</th>\n",
              "      <td>2020-11-03</td>\n",
              "      <td>16.070000</td>\n",
              "      <td>12.42</td>\n",
              "      <td>78.669998</td>\n",
              "      <td>25.309999</td>\n",
              "      <td>27.930000</td>\n",
              "      <td>92.410004</td>\n",
              "    </tr>\n",
              "  </tbody>\n",
              "</table>\n",
              "<p>1446 rows × 7 columns</p>\n",
              "</div>\n",
              "      <button class=\"colab-df-convert\" onclick=\"convertToInteractive('df-f8ff81d1-ce6d-45b0-8ae3-10427c28f9f0')\"\n",
              "              title=\"Convert this dataframe to an interactive table.\"\n",
              "              style=\"display:none;\">\n",
              "        \n",
              "  <svg xmlns=\"http://www.w3.org/2000/svg\" height=\"24px\"viewBox=\"0 0 24 24\"\n",
              "       width=\"24px\">\n",
              "    <path d=\"M0 0h24v24H0V0z\" fill=\"none\"/>\n",
              "    <path d=\"M18.56 5.44l.94 2.06.94-2.06 2.06-.94-2.06-.94-.94-2.06-.94 2.06-2.06.94zm-11 1L8.5 8.5l.94-2.06 2.06-.94-2.06-.94L8.5 2.5l-.94 2.06-2.06.94zm10 10l.94 2.06.94-2.06 2.06-.94-2.06-.94-.94-2.06-.94 2.06-2.06.94z\"/><path d=\"M17.41 7.96l-1.37-1.37c-.4-.4-.92-.59-1.43-.59-.52 0-1.04.2-1.43.59L10.3 9.45l-7.72 7.72c-.78.78-.78 2.05 0 2.83L4 21.41c.39.39.9.59 1.41.59.51 0 1.02-.2 1.41-.59l7.78-7.78 2.81-2.81c.8-.78.8-2.07 0-2.86zM5.41 20L4 18.59l7.72-7.72 1.47 1.35L5.41 20z\"/>\n",
              "  </svg>\n",
              "      </button>\n",
              "      \n",
              "  <style>\n",
              "    .colab-df-container {\n",
              "      display:flex;\n",
              "      flex-wrap:wrap;\n",
              "      gap: 12px;\n",
              "    }\n",
              "\n",
              "    .colab-df-convert {\n",
              "      background-color: #E8F0FE;\n",
              "      border: none;\n",
              "      border-radius: 50%;\n",
              "      cursor: pointer;\n",
              "      display: none;\n",
              "      fill: #1967D2;\n",
              "      height: 32px;\n",
              "      padding: 0 0 0 0;\n",
              "      width: 32px;\n",
              "    }\n",
              "\n",
              "    .colab-df-convert:hover {\n",
              "      background-color: #E2EBFA;\n",
              "      box-shadow: 0px 1px 2px rgba(60, 64, 67, 0.3), 0px 1px 3px 1px rgba(60, 64, 67, 0.15);\n",
              "      fill: #174EA6;\n",
              "    }\n",
              "\n",
              "    [theme=dark] .colab-df-convert {\n",
              "      background-color: #3B4455;\n",
              "      fill: #D2E3FC;\n",
              "    }\n",
              "\n",
              "    [theme=dark] .colab-df-convert:hover {\n",
              "      background-color: #434B5C;\n",
              "      box-shadow: 0px 1px 3px 1px rgba(0, 0, 0, 0.15);\n",
              "      filter: drop-shadow(0px 1px 2px rgba(0, 0, 0, 0.3));\n",
              "      fill: #FFFFFF;\n",
              "    }\n",
              "  </style>\n",
              "\n",
              "      <script>\n",
              "        const buttonEl =\n",
              "          document.querySelector('#df-f8ff81d1-ce6d-45b0-8ae3-10427c28f9f0 button.colab-df-convert');\n",
              "        buttonEl.style.display =\n",
              "          google.colab.kernel.accessAllowed ? 'block' : 'none';\n",
              "\n",
              "        async function convertToInteractive(key) {\n",
              "          const element = document.querySelector('#df-f8ff81d1-ce6d-45b0-8ae3-10427c28f9f0');\n",
              "          const dataTable =\n",
              "            await google.colab.kernel.invokeFunction('convertToInteractive',\n",
              "                                                     [key], {});\n",
              "          if (!dataTable) return;\n",
              "\n",
              "          const docLinkHtml = 'Like what you see? Visit the ' +\n",
              "            '<a target=\"_blank\" href=https://colab.research.google.com/notebooks/data_table.ipynb>data table notebook</a>'\n",
              "            + ' to learn more about interactive tables.';\n",
              "          element.innerHTML = '';\n",
              "          dataTable['output_type'] = 'display_data';\n",
              "          await google.colab.output.renderOutput(dataTable, element);\n",
              "          const docLink = document.createElement('div');\n",
              "          docLink.innerHTML = docLinkHtml;\n",
              "          element.appendChild(docLink);\n",
              "        }\n",
              "      </script>\n",
              "    </div>\n",
              "  </div>\n",
              "  "
            ],
            "text/plain": [
              "            Date        GOL    CVC       WEGE       MGLU       TOTS       BOVA\n",
              "0     2015-01-02  14.990000  15.20  11.846200   0.232812  35.732101  47.259998\n",
              "1     2015-01-05  14.850000  15.00  11.926900   0.237187  34.634201  46.320000\n",
              "2     2015-01-06  15.210000  14.80  11.750000   0.234062  32.468300  46.580002\n",
              "3     2015-01-07  14.550000  14.67  11.615400   0.241875  32.238701  48.150002\n",
              "4     2015-01-08  14.270000  14.15  11.811500   0.240000  32.987301  48.509998\n",
              "...          ...        ...    ...        ...        ...        ...        ...\n",
              "1441  2020-10-27  18.600000  14.17  83.239998  25.450001  28.500000  95.800003\n",
              "1442  2020-10-28  16.920000  12.77  79.139999  24.629999  27.500000  92.430000\n",
              "1443  2020-10-29  16.610001  12.68  80.029999  25.360001  28.500000  92.910004\n",
              "1444  2020-10-30  15.690000  12.28  75.830002  24.629999  27.000000  90.660004\n",
              "1445  2020-11-03  16.070000  12.42  78.669998  25.309999  27.930000  92.410004\n",
              "\n",
              "[1446 rows x 7 columns]"
            ]
          },
          "metadata": {},
          "execution_count": 94
        }
      ]
    },
    {
      "cell_type": "code",
      "metadata": {
        "colab": {
          "base_uri": "https://localhost:8080/"
        },
        "id": "_z3YUXqgFcty",
        "outputId": "3570b6c8-1a2f-4d46-d0b3-530f379e7264"
      },
      "source": [
        "dataset['CVC'][dataset['Date'] == '2019-01-02'], dataset['CVC'][dataset['Date'] == '2019-12-30']"
      ],
      "execution_count": 95,
      "outputs": [
        {
          "output_type": "execute_result",
          "data": {
            "text/plain": [
              "(994    61.099998\n",
              " Name: CVC, dtype: float64, 1240    43.799999\n",
              " Name: CVC, dtype: float64)"
            ]
          },
          "metadata": {},
          "execution_count": 95
        }
      ]
    },
    {
      "cell_type": "code",
      "metadata": {
        "colab": {
          "base_uri": "https://localhost:8080/"
        },
        "id": "8AEYO6coF2JQ",
        "outputId": "064445e6-0923-420c-da30-bcb23f8a32ac"
      },
      "source": [
        "np.log(43.79 / 61.09) * 100"
      ],
      "execution_count": 96,
      "outputs": [
        {
          "output_type": "execute_result",
          "data": {
            "text/plain": [
              "-33.29427058483686"
            ]
          },
          "metadata": {},
          "execution_count": 96
        }
      ]
    },
    {
      "cell_type": "code",
      "metadata": {
        "colab": {
          "base_uri": "https://localhost:8080/"
        },
        "id": "PWmjM76MFyTS",
        "outputId": "3e1c086b-6146-4e06-a3e8-9a534d15ef28"
      },
      "source": [
        "dataset['MGLU'][dataset['Date'] == '2019-01-02'], dataset['MGLU'][dataset['Date'] == '2019-12-30']"
      ],
      "execution_count": 97,
      "outputs": [
        {
          "output_type": "execute_result",
          "data": {
            "text/plain": [
              "(994    5.81219\n",
              " Name: MGLU, dtype: float64, 1240    11.925\n",
              " Name: MGLU, dtype: float64)"
            ]
          },
          "metadata": {},
          "execution_count": 97
        }
      ]
    },
    {
      "cell_type": "code",
      "metadata": {
        "colab": {
          "base_uri": "https://localhost:8080/"
        },
        "id": "mdoutn8sGAu4",
        "outputId": "c5a56b9e-4d7f-4fc2-af9b-68a6ad78aabe"
      },
      "source": [
        "np.log(11.92 / 5.81) * 100"
      ],
      "execution_count": 98,
      "outputs": [
        {
          "output_type": "execute_result",
          "data": {
            "text/plain": [
              "71.8637090773384"
            ]
          },
          "metadata": {},
          "execution_count": 98
        }
      ]
    },
    {
      "cell_type": "markdown",
      "metadata": {
        "id": "RAAWBxf3GMKV"
      },
      "source": [
        "### 2020"
      ]
    },
    {
      "cell_type": "code",
      "metadata": {
        "colab": {
          "base_uri": "https://localhost:8080/"
        },
        "id": "ljHHfqX2GNc8",
        "outputId": "fd296262-f52c-47d9-fab1-fdf9b3145c6d"
      },
      "source": [
        "dataset['CVC'][dataset['Date'] == '2020-01-02'], dataset['CVC'][dataset['Date'] == '2020-11-03']"
      ],
      "execution_count": 99,
      "outputs": [
        {
          "output_type": "execute_result",
          "data": {
            "text/plain": [
              "(1241    44.709999\n",
              " Name: CVC, dtype: float64, 1445    12.42\n",
              " Name: CVC, dtype: float64)"
            ]
          },
          "metadata": {},
          "execution_count": 99
        }
      ]
    },
    {
      "cell_type": "code",
      "metadata": {
        "colab": {
          "base_uri": "https://localhost:8080/"
        },
        "id": "NH8Z1n56GY9d",
        "outputId": "bc09b56b-e2b4-4bfd-db3a-37b02e03ad9d"
      },
      "source": [
        "np.log(12.42 / 44.70) * 100"
      ],
      "execution_count": 100,
      "outputs": [
        {
          "output_type": "execute_result",
          "data": {
            "text/plain": [
              "-128.06654251141904"
            ]
          },
          "metadata": {},
          "execution_count": 100
        }
      ]
    },
    {
      "cell_type": "code",
      "metadata": {
        "colab": {
          "base_uri": "https://localhost:8080/"
        },
        "id": "tmyWjDDUGVko",
        "outputId": "15fd6289-bb30-49dd-cae8-b6c2cef177d7"
      },
      "source": [
        "dataset['MGLU'][dataset['Date'] == '2020-01-02'], dataset['MGLU'][dataset['Date'] == '2020-11-03']"
      ],
      "execution_count": 101,
      "outputs": [
        {
          "output_type": "execute_result",
          "data": {
            "text/plain": [
              "(1241    12.3325\n",
              " Name: MGLU, dtype: float64, 1445    25.309999\n",
              " Name: MGLU, dtype: float64)"
            ]
          },
          "metadata": {},
          "execution_count": 101
        }
      ]
    },
    {
      "cell_type": "code",
      "metadata": {
        "colab": {
          "base_uri": "https://localhost:8080/"
        },
        "id": "vCCnup4OGest",
        "outputId": "10cc2271-91e7-4bfb-82f5-ee0e7707d2b2"
      },
      "source": [
        "np.log(25.30 / 12.33) * 100"
      ],
      "execution_count": 102,
      "outputs": [
        {
          "output_type": "execute_result",
          "data": {
            "text/plain": [
              "71.87690785572217"
            ]
          },
          "metadata": {},
          "execution_count": 102
        }
      ]
    },
    {
      "cell_type": "markdown",
      "metadata": {
        "id": "RTnlua_dJVX1"
      },
      "source": [
        "## Variância\n",
        "\n",
        "Quanto os dados estão variando em relação à média. Para calcular achamos a média, o desvio padrão\n",
        "\n",
        "Nós buscamos ações por variância menor o que indicaria uma baixa volatilidade\n",
        "\n",
        "![image.png](data:image/png;base64,iVBORw0KGgoAAAANSUhEUgAAAmsAAADSCAIAAACadBAnAAAAA3NCSVQICAjb4U/gAAAgAElEQVR4XuydB2AUx7n494pOvRfUUG8gRO+992IbsDE2dlxj45SXxPFLe38ncfLiFOcltuMWN9wxYEwzGEwH0XsHIQkkVFHvV/+/2T0dQjoJIUSxs2v5uNudnfnmm5mvzzcam80mqZeKARUDKgZUDKgYUDFwnRjQXmd5tbiKARUDKgZUDKgYUDEgMKByUHUeqBhQMaBiQMWAioGOYEDloB3BmvqOigEVAyoGVAyoGFA5qDoHVAyoGFAxoGJAxUBHMKBy0I5gTX1HxYCKARUDKgZUDKgcVJ0DKgZUDKgYUDGgYqAjGFA5aEewpr6jYkDFgIoBFQMqBlQOqs4BFQMqBlQMqBhQMdARDOg78pL6TiMGvhXZKDRNxguA+eNO05u3bDxboqspGNbGzVUti90yCK/ZkAO224LANsBzjCxCMZjk550vHd+xyGy2ZMRPZdm0MQDqo/9IDKgctOPDbpGkBliRTLpsdxpBbdot2xWWCbBWGVQB9jWvTu2U08oAQ7lv0Qi6r1V+Oi16TWhvZgEHtgBSXBoZpfLdOwRYBUIFKrPGzkEdsN0hQDYdIoXNK3cUZn+nAalMTtYL09IVcFVi2XT81O8yBtRJ0cGJAMHKKbGu2ni4oaZcJ1P/O/OySVqTWSfZbG56jdVqgt5bZeWkfdRKlg6aX05vNi/U7Leg7E4btWlsGkGpGqwu9Warl0Gr1yCZ3KHoBHUNJslkaXD3cNHZLFohOmlhpvx1BCnXwNn1PVYGVPk02gz1JrO7QavVItpZHWLK9dV4k0tbJF2dSaPXiT+tZJLhVMwQ7ZmbzmdTR0FuPt8aJz3Ys9m0OsnSMHpw7z7dQjpa/215j060B5O3BbbvTqMqB+3gWDI36+pNJeX13eLi/LzcIKUdrOgmv2aVdGezL1eWl/fukSLZjJJkkTkoRL9jVwc5hVOCp+hwcFCLpK1skPYdPJaa2M3LXa+VYKJ33EXPLZL+wqWSgsJLsbGJngYdHFSwTzogCxq3fQbImieXttZkWL9pW++eyRFhQTJzuhNJqUVyycwpKSkpSktNdtXbtBKaM5ysfcBSvDMvRLjmoyeDQtJwJqf++LFDZVXVVimkc1vtzB5cVZcig9IDBZ86SeLvWwL7TUPKTapY5aAdR6xBq/HzcO8RFx3kKxv1mq/BjtfciW8K66jNpcBgS0sKcNUJMBV5+9oc9OZ3RyGWWMnMknS5SrqQcbJHQmignw6jWaeTfMf43MhAmRGUrBaNuSItMdLLVRj3hDAiI+rOMONDOgVE1UZp3y59UnREcrw3tNPJ1QzDyli3nBNN7gu8Od5q4/V2j50F7Nkkd6mmd0qIu4uAW9B4pUUF4hsZKid9vp5bgpkLUKxYR2xScZ6fiwaTw7fiYn2znpgJfOJl4idE3iBJLjIf5XvLYf5W9OsOBVLloDcwMGKJIQxbXLR6wZYaxVjHDFW+tDj9RhAGDaoL8m2LydzkpByKyDKwTEf4j0uYC+V3xA/xs9n7/Gxeo/y6RWuzAJ3NwmPWlb0OUVQubrOK2oTJDzOaaFXBCc8EOZZ/XCkra9tN6ZxSWK7HCUhXnjrqcdySaxEfGg3GWwGnBlCtOvGpBT90sBnVuqLqyyiR3xRG4MZL7oXFalEApJ8aOmUVzlW5zwKLcpNKPUrXHC9f+wvqu06H6ikZNJKrVjAAATyAigGVrFYr0FC3GFx5iMVDq1VGrHOMAZgCkeisY+xkSJVfys0r3b4GjLwmWqaUDtuo1QyEOmcmcTHQjK6G5wJOMCbbokVv7EMtwyuDbZ9kYNJisQh0Sxqrzap1QKugFfhFTXLH2ydNgEyb0DtNjSoSS0lxg9txRW2iIa2W6UmzfDoGzIFOUcYq90WZvY1QychX4Bcd4bJ3QxRQ6lcmWGOV4rbobmMxkCN3XtK5aDVMziujY6/vTvhHHm6xovmrk6R6yVYn2eolc73EErCaJU2tYKUCPXpJ6yoZPCVdkCTx53EnQP/dgEHloB0fR4Vc2SSEab1NwyS+ckFIWJL8QXS4C9U1m+EKMvnRaFnzjSRAWelNKINYw7IsLpY59FgsXZnio6rJMUB2vsJqt2g0TRUMUZa37eSnERbBUwRJt0ARZPLCT2XhQZvkpiBjoioeCQZAkwBntfBdPGskHFdIiMxgFY4Ad6B2BUY7xPKSbu0CDOdyPFKITB4BTfRVkH6Iu4BXMUMBklW+IxiVgklRUqBGo9PrrdCLxktUYbMo1JYQEL1GQ++sFpxZ0Gv4RCN4MnpbA7T1+7BnSLaASyigAlpGX4wOOLZazHoh5sucSfRHDDfOPbioPMDyx9X40Wp0dE3Gt0C46JCoU0avUlyM3ZWXHPTdGYR0jqLIC0hKOiEo0V/RTcXo0PQN7iogWWH7ol0hWwGmaJifOh0olSEQH6J/YuqKakVvRE8EjFaZX4r6BZMTbExIPAICK5UI17szIK/co1ZZzxM1ynNT7rS916LbMhbkS3yT25XXjlhEWlph0ooy9i+STgFJdETcBWa+yBKhXAMdQvoRU0WuVn5XQa5SQEAh48oOgeib6K3VZuEtwcQVWG7fp4KNRgQJUIVTRrLWSZpKqa5Aaig0G4s0Up3OjOqp47FFqhGOG4tZYzYzdHqDt+SbJvn2lzQRsj6qXp2AAZWD3iASxbR2LPSWdVks5pqaGoi+r6+PweAiKBQ03WwpL68wGo1dunSR2WpjBfJKh+levnzZaDS5uBj8/PxcXV0FEbVZq2uqKirKTSazp6dnQIC/Xs/YXXlRNC3WPP841tgVcFpK0JAEnKNV1VWQFg+5QrMZUGurq6t4zdPTy9fHz1ETUJlNltLSElkgEIQWmuLl5eXr61tf31BWXm4yGl3d3IICA+lOSyS0/46dSMg9aGioBw/yu/wWfaPjPj4+Cg55Wlpa6uXl7e3t1bTRqqrqiooKQTqFsKALDAzU61wAu7y8rLq6AmR7e/vwH0yuOfbaC6UgtQLAxpEHFTU1VWVl5dxjlMEJQ2MymWpra8rBjMlsMBiCg4P1ekGzZKp9paX6+vri4mL6RS8YI5PJWFZWxk2DwdXPz5dPmZ3ay8u8tBMu0MXsqqwsr66pplF/f38AoB24eHFxEQC76F28vH28PL1FY3aVEtjMtbW1okdmk6eHmDDILsxdo9HMxDCajEzvwIBAvd4FmOWYoI5A6+itYHkyrsAkuAV7vr5+NiGZWBsauFNSV1fLDGSBgF6mLjOwsqqqprqa3jEpPD08GAUxaRoxDvDVVVUNxgZ3dw9/Pz+4KRcv1tXXV1ZUGU0mD3d3hskpkuWedKQ7nTBaV6pwAABuqyWpQpLKpbrLUk2R2VjJHLRYa3S6BoMrCieuWyHDaGGxgoMS/GaUaussVRkN5XkeYXVSyBhJCu9U2P5zK1M5aMfH/ppLqqHBePDgwa++WuPu7v7YY48FB4ewPuvr6/bt2/vll1+y8n/2s2dZtHZiLDNXnn755Yq9e/fJsra2X79+c+bMdnV1y829uGLFl2fPnqVMWFj4/Pnzu3btKhsUr+O6sgStlqPHji5b+jnMhvf7D+h/9113Z2VnL1u6tLSsDNoUGxP3+ONPdOkS2li75tKlSx9//HFhYYHg8WhbJtPw4cPvmT17zZo1O3fubKivh2BNnDRp5owZ4pVGwf86gGtSFKLH34kTJ957733lNqpDbU3t2HHj5syZ4+7uBsFcuXLV11+vmzZt+tSpU7njeHv//v2ffvqJ0KN0WhcXF3qRmJh84sTxpUuXXr5cZLGYEpOSFixYEBZK1645gG2B38hApTNnzixbtiQvLx/+Fxsb+8ADD8bFxVVVVS1btuzAgQPwKk9Pj9mz5wwaNMjFRRF6rjDvtWvXrl69atKkybNmzTKbjV999dX27durqiph8MNHjJg1a6YsMTThom1B1N5n8CSm5fLlyxh9vqelpc27f15QUNDOHTtWrlplNDZYzNY+ffo+9NDDBlc3BUfMxuLLxZ98/PG5cxkIhW5ubo888miPHqlGi2X16pVbt24xW8yuBsPEiRMnTJgIE22UTjqGYbvIQL8Z9F27dq1dt64nQM6bh0iBhLFq1apDhw4iTSKsTJs2bdTo0Qz2sWPHli9fXi73KDQ09NFHHomMjFTmIUAg5C3/8st9+/bxHZlr+vTpDAdL6VJe3hdffJGZmUWXu3QJeeqppxBq24vH21MOERaD7WWp7oK5MlPTcFFnK9NjZTboJWYXQhos01wrmWolIxZdi2Cf/AmLg1XnWqe5XGrJ0+p8u0uuzP/rox63p7t3fKsqEjtpiBCOW1ybNm185ZWXd+/ec+DAwbq6OhQgqM+GDRvefvudPXv2bNmytboaWVJciugNrczOzn7ttdeQoSdNmuDt7bHog3fhnVVV5Z999hnrf+TIkVOmTOnTp4+Hhwfrv3mD16S0ja9cuHDh32+9hR48YeKE8RPGx8bE6l30589neHl7jR49OiY65rPFn23evMkhj8MQ0a769+83dNgwGGf37t0zMzOhPqggRYWFPXv2nDBhAsTr5X/+E/hl1iLzwBu44NPQdPo7bNiwIUOGxMbG7dq9q6ysVNbkNNDxd955Z8eOnefOnWuqgNJmlnz17t17qHyhg+q02oKCQujm2LFjYmJiVq9avXXLFtkuZ79uAEzxan5+Pjxj1KhRcXHxcETGF80Gur9ixUoY6qRJk9Ay33vvPUQQBy8EsVyMwjvvvL17926QCfdFSrh0KTc6OmrMmLG1dbXvv/9eVlY2xWQrpeAFHVZBHT2l07K5VbpccrlLaCiwhYeHf/Lpp/v3H8AucinvUnxcHB1hGnz62WenTp1mEIWNRLYrVFVWVlRUDho0sEda2tat2z777FOkhKNHj7zxxuvMjfHjxjK53nzzjYKCfNmU25HLMWXk5SDMukz7d9999+CBg8ePHwerSEU0WlRUzPiOGz/+wsWLixcvLiwsRID799tvZ2RkjB41asCAAUh1mzZvdkBAl3ft3r1q5crk5GQmKjz4k08+wbxBhZ9++umB/fsHDhgAJ2ZZIap2BO6b8A58EhMtrJJPYR8XTZgkqViSLljqThTnHy4sPN9grNO51UvuZZJrnmTONtdcrC6/VFGWW1l2zlh6WCrbK5UeMpaerqwsqqyqLy2RKss8ayzBJfUGyYyIo1L+zhk2VQftHDy2ZBfIxR4envfeex8Effv2bQp1YDHDGB5++GFF26CMsjoUdggoLGzIaK9ePcePH4s28NVXqzHeVmaU79mz++6775kxYwamXWySsu23iaPI0Yl20C4IBypIQUHB737328TEeNQ1YarTaiGdsFM3d7eU5OTPFi++dCmvKWqQ98eOHQc1p+UtWzajQPfu1QvL7QMPPojyATAXL15869//RoWFSwli30EOKhCpdA0NmP5SU0NDA8qom5v78OEjsGlXV9e89dabWPASEhLAp8ISFFCVwgEBgTNmTMe+B5aES89m69kzbeDAAR4erhkZ59LTd8GxLBYrVkc+HS+2fx4ozlSZHeJmk7p379a7dy8ModnZWehGfDKsGzdu9Pf3Q/VEs3F1Nbz00t9pNCqqK12jIWBGolq0aBGV9OrVC5TC2zDk3n//fJgEfaR3v/3t85mZ5xMS4ul4+2FrraRDzgAAk6lh0MCBI0cOd3N1w5KxatXKy8XFjOykiZNcDC6uBuB1275tR35eXo8ePeCf6Je8FRYW9oMfPOPt5Y3tN33HTtgVBn84KAzpgQfmA2dYWJef//y5Y8eORkREtubwbg08xyjIvNO+mGgUCw3Gmy1btuAsYNozXsyKxx571M0NY6UN6e2bb76pKC/38fbOOHeuV89e48ePx8781ptvFhYUiDqx62DZrKvbt3dvSEjI/fPmYbIGva+++irclyHYtnUrqu3cuXP1LgbcJ/J6vJ0XTLLBLBUVWzKzc3PzC6pqKt0Muq5hwYmJkTFhel1D9sULZ06dO9Pg4umiMfrYKhNDL4T45EnWsqpal6wCTWGdb72xwV+flxzaEOxV22D2btD6X6p0z7tUWXypWlPVYLL6eITourmXxnST3Aw3ZoS5nXi6g9pWOWinDYbMMsT/UEMEPHY+DB48iJ/IuaxMSANiPnZFZGQo5o4d2zF7wsy4r1BVaBzfoWiJiYkffPhBXX3dNxu+GTBgYER4+M6d6fjGeOvDDz/C/4QAjnIjqybXJ0iKtojYq687deqUh5tbdlbmvr17IiIiIOKQKryYpWXlFy/mfLX2K4OLC6ZdB2qAkC7IcIp4jU2bNqG7oHpCoXA44Y+8mJODVp2SkhIdFSXekjslU8PruhykUzBRmLTMHW25uZcglGPGjIFXgVv497Zt22Ew2N9krEJ23GhK1tI0YBg1aPXqNVFRUZSHmiNuQ3bhTFarwDY49/PzB9tNWW/7oQQFjj/h8JM0sq1bofsanG3QaFgLemd0dExgYABSFGZSjLFwGjiAcM7JMTionuvWrfvJT36anr4TxoBuzX0Gl44A2OXLxXwJDQ1DK5KZ3/VisnmHqFOZnzSt1+kD/P2xgl7IL1i1YqWHuweqp5vB1cVXD5CF+QV7du/GU8hNJolwi+r0ZovFC2etpxf11tfVwbQCAgLcXd3wPoINRCi9TsfU9fXxyTx/HqW/PSPfUthzvCXPHAExVnrCBfbt288nowuKkHtcXf3FWGPjra7xdPfwcMOK7zZi+PDNmzYv+fzz7KxsvVY3auRIQMKz66LXE3GAizQ+Pl5xUQMnk4QBKkaZLS42mc1Lli4FCXhMoqKjlYnUHH235Ddz/ViOtHT5hm1bthfl5UiWOh9vF42EIF3nERA0aXT83YOlrILKlz/aVOY9yFhV5F68/eGxRd+fE2JwqS2tCHx3adbe7BiL1c3PlPPUXJ+xQ6LO1/XYdqhu+66CsuxsbVlZsAXl06VIW2NZ9mrqgJOP3jdrUJ+wW9Kz73IjKgft+OhCtOU/cRHvSmChscGEhM5PiA7eL4x7ItKS37LmgXVLDrmE8YnwWCIyhBJjJ8jCvMbqjQiPePZnz/7iF//9hxf+EBgU+Ic//DEgMKi6puZizsX3318UFh6Wl5cX4B/wm//5TWr37lfTIAUQQQFadqnxmcigA8koKy07evQoNBS9JycnZ+DAgb/+9W+w3f3j//4vfVf6pdxLAwcNSohPaFR2BZ8GbB2Bo1bL6dOnof7zH3gAoR5KhB319y+8cP78edjGL3/5K3cPd9pSpIHmVN8JXI2wymqdHOYp/rW/SDCrSFogYb7GUvrLX/3S3c09Nzd3yedL5t9//8ABA5d/sVwnwl1FEKmCYYvZEhYW6u/nv/arryCOuJ8BCYciNB35o6G+YcP6DbzQr19fIKewoMPyALSTQ1FS7oQCoN26Jo+t1FBvRKExGU2DBg5Cb+MLOigAgDH4AWDCbBhiAa3NRnfwkmJRhO7v37cP7YdXlEeAeik395OPP0GvTYiPh7PqtCLgRbTRxtWIW3DoQHtT/NM0ypkiQgX4+2H5/Pvf/7Z3796ioiIU/eSkJCpAE/3Vr36FbbmktGzWzFkYS9D+FeVV1CrPLPr1zYYNqPLPP/98UFAg7kkAfPnllwcPGsTEyDyfSQHK2sFpPgOu6oDMBa9cclkboW242PmGqxXDuxy5JqJtuQMMirIuZopNOnvmzPZt25CrQrt08fLwfGjBgtOnTv/5xT8jozz66KPoo1QP+6TLYJ4LPwVIQAHlEqFeRmP2hQsMBBbdoMAg3NgYLV588UU8FK2guc3OtPJO+2/XWaSte7P/+s7K48fOGizGcSMGPLZgZnSoXmsrP3hg55/fWLxi2ebAev8Rk+d7BQScrgkFSX0j4rt18zZo8iWp1tc3YejonlveLrl8ubp7d9+ArsOPFmpfW1188nSdqagq0dt9wsi45ADvOvdYa/T4lXsufLV2o62mKuGFnwX6XZ8U3v4e/YeUVDloxwe6kYMKOoCSZjGa8Mrs2bMXgog2Nm/efeh1iPwwRhinCNxX+KisKyHUE8qIjRGKCW2QnVOCecDP3nv33X59+/Xr33/T1i0vv/KKn78/mzOiomOee+65vn37Hjly5IUXXsBxRRMwmKY0SKmhmfmU1iB+SidRb+ybWSSJqn79m18Rc/Hl8uUffPBhxvkMLHtz58wZMXLkoYMHP/7kk3feeYcWXYR6IboHJYLloArjmkI7HDZ0KEwIyh7ZteuPfvSj4pLLxHH89W9/Cw0LHTNmHNsZBHW8GjhgYPNEE3SLEsqWStHzRujtGyYaIc7Pz9vwzYbeffug8tL6urVrUR2GDB4Mm6mrrS25XFJaUoJ6JLReSQMyx4waPXjgIKAlwAf4P/n4owH9+xFaTJDxtm1bN2/aOPvue3p0T7Wa2YmIJCP0/vbPAKVPMpOiI5hw+RQ83GSyEIaDp23a1KlY4CkmCHeD0Wq2GPQugn9rNMLWLTqJ1GTdvWvXhazsu2fdhaUU/yLzoCA/H92Ih3n5+a+++grFFj71NJoi6hTUX2FjbcApGxcEuh2YlLEtfooNNRopNzfnlVdewYkI/3jiCaKr4h9csGDS5MmHDx1asmQpTcN1YJlPPvkkZQhkW7v2a+KhFix4CNBhY/L4WwnSYXp/+NEHM2fOmDp1Co/Q2/7rv/4Lq8DGjZuYDxic4UOyki3rzVeCzMFZi9nQOEEUmAEYu8v7771P2BcsE58C0VU+Pt6iNkHkxTDJ8iiRbGKZvPjinzDPzJk9mxhagmyXLVnKuvvhD3+A83jJkiVdu0bOmTMXozRTFMBkPmoCjSBT2IJtNm4CEFIgQkOf3n3OZZx7ZuHC3Xt2paQki9EScq6ycJTp4YCxjUG47kfy6IiL5b/tUPnvX191PqcYm8qCWWN//PTcruiMlmNS2SGvxFOmB2NefnVDRWmp1ZQTEWLZdrJKbzP7+lq6hnlL2mzmIQYiQoVcrNUBhpJpI0JMbl3fWJm/PyuuvuDMeN+Kh8f5Dk0x63XWOv8uPgOG9RoxOePsc+b6akb1uoFWX7gaAyoHvZEZocx/8cn/aJxIvl6eXrDGkOBgbx8fmX3CPOV96DJ9c9BrOJNQOsVGQpvFZOYrBkA407p1azMzM998443UHj169e618OmFG9d/Ex0dDRfz9/HxdHcPCwlxd3Wtq61h9juhSYJQNeVSNErWXqGZ8CfbYaEdOj9fn9rqypCgYOxyXSMjsdka69E3Grp160acCKwU7WT/vr1VlRWBQUF8ErgkrLiSLSvr/Ib1X8+cOQv1iNa542YwUJ5uBgUEbN+y9eD+AyNHjMJZ28i1m6BXxkAzdDswCJGUk+SJP4cQAPKOHz+Wk3Px6aeehlDCBXF90YdFi96HDp45fTov71JSUuITjz9RU1sDfYQsuuh1Bl8foE1L6xETE42eTeAw6CIw6l//ehV99O677qI7ikYl2wCu8xIjJrNPO7ey1tcbd2zfQeV4W2fPvgdLJsTa29MzNyenpqYajx1sEssnzADSXF1VCdXCgMjrS5Z8bjaZT546iUrEhFm48Gm8yB999OHZ06efffZn/fr2kbmXCJ+5JqEDjQpmlS9ir6odmWLSgTEvL8/Ro0exBYhZGtolhGK90tJwE6M7EvR0+PBhGCfTb+iQIbSF+QG9H4zNu+8+Oou/ENMCEdgnjh9//713o6O6Pvuzn/r7+cKxEAvuu/feyZMmAeeevXtPnTyZlJgo4/bqgRYdcKrrCM6kTCQxM/XaAQP6RUVFIq3Fxsa6uRoIsALVCIpWi0icizACF8/Oyvr3m2+WlZT84he/TEpMYNwzLmQvW7b0+099f968++nIM888s+LLL8ePG+fpxU4nMelZMoShseUFH29xUSFfWAIx0dGMjo+3F32Jj4tl4OprSUEgS0XiUyyWxtUkT8vOvpTJT0sFpdLir7Zml5oqKmr6xnZ5aPbQrsHlkvWErXijueqYn754dK/gUwOliKBKX0NefJhUvzvPx9Oztl5jEnh1sRhdi6t9d+0tNpefH9Y7Iq5r4Oojl48XhtfV670sVdP7evVL8dS61LgGxbh2Gyz5+Uf7+Dw0f2ZdVZUHaUHU68YwoHLQG8Nf49tItVA6PJS9e/eR7wmZvbCogLCgnNycstKSs2fPwBkiI7qKTKBchYVoVCdPn4Z6hoWGYZxEQyIOAj2PC0UEz1lpUbGbi4u/j29M1ygyA+zctpVUrAQBaSzmuKiuhiZRD1ct7quJF6sUYgoNFmRYkH4b1CQ5KfHwwf3pO3cS8b8rPR1qghN008ZNBJEQMIL9s7y0LC4u1uCiLy4sXL169eAhg9N69DAZ69evWwcVnjxpoit7W63m4qJidjLgYcLmduzIYdRVdokAKhRcFuGvvoT40PyeooNSTjaIi32EdlDlV+Wgle1dQoIFO5FskL9Zd80YMLA/NbG/My8vFzdnnz69TWbjpo3fBAUH4XFEScLdRVwPoS4XLmSzvwI9f9fu9H++/E94MB5frJQFhQVo8LB5AeQ1uVPzXsgJ0IWaJQ+yJB08eOD//u/vWAVRdmGNbI7EEpjWswdBuTt37oATrFy5IiDAD8bAZEBTnzx58rhxY2NjY+BAbEZsMNajQ4tOSbZlS5d8+eXysWPG+Pp4Hzx0ELYaERkJnO0AUvAhgfXGRIMKJoFdGB4kja+fz7RpU6hH2IqtVmBDjEDpRMWvrqzqlpzSUFf/1eo1ERHhBDGdPn2mrqa6DyFOGunokcN4zQlVxUX6z3/8HxP1kUceKcjPK7lcjAed+om+BtvwJ+ZGt5SUHqmpgiM6wWrzoZf5B/ZtZqbITQGvcnXRDx86VFZh7X70k6dOsZ26qLCACDsgAbFw0A8Xvb8rfSecGxv/kcOHAMNYTzoea0VZ2cULWUiicFyxwclm3b07HbBBeHxcDF3evSud6Y0dIiQ4CDkgMjLCy8ODCWbQ63Fq1NfVxsRE2WU4uQtNputN4ZQaDDYAACAASURBVKDKzGJ4zucVH826ZHL1ksyWQWmxPeMMUt0uc9kma+1ug0shqRL8tfrvzWIoDZ6GnJhgN53pstbmUVKuK6syWULdaqSQI+dc9h1piPBtmDES16Z2/+maMmmwwXIuyb92aKLRzb1e8o2UEidKoQNISETs4P1zp1rMZjcPhYk3m+Lqz+vAgMpBrwNZbRSFqIp1b09cIpKzoGKePHGaPYu5l3K1Wv2aNWv7FRTdc8+cY8dObtu2rbCwOCAweP3XG2pr6iBPu/fu+3Txkt79BgwbMerw0eMrVq1J37UHNjZ4yPDRY8dB6cZPmLT/4IHzWRcqKyuHDhvRu29/nIQiEvRqU2lzKiVL1AQ22Q3O4h9iglx4/dCRI0uXr2DbPtvVJ02dERIWvj1916FDh+CFbBMMDYuYe+88Lx+/02f2vb/og6DgkNTUnhWV1ZlZ2dOnz0xITNYSXYK9yWzZmb5767adGKThu9Omzxw1aqxOTxJO2YrbjIzKRswmOGwCvPxVBlImp436SnlFdfHl0jFjxwcFdxEZ9VxcU7qn8UclkOxDR47HxMR075FWVVO77MsV/fv3j09M3rlrNzIKOih7dfr0GzB77n1kLTp9NsNotgZ5+3y94RuACgkJ/nFsArXZ9Z82xvXqR7LiqcWqKCAUmXxggtazGZm1DSZU8C3bd0jbd/j4+P4oMmrchIkZmVnLV6wk5wP4vGv2nIiuMVg73373vR49e48dOzYmLoHKIPfns7KRlvr06280W06cPuPq7nGpoOjjzz5HtBo2bOjUkFC9oV3nFoC9xsmgkEUFk4w+FhCc2CI3Hv8yAJg+zp3PxG1JLG5pWWlUTNyMWXe5e3qdOHVm3fpvmAAIAXEJyXfdMxuU79y1h0jykaPH5uYVXMov8PLx3bNv/559B5g5d8na/OdLv0DmQ0+F0y+4/wH/wBDh+r16WspYbD5XhQVGDLROnhbC6itUPzFn4KfCYYxh5tChI/C2nNw8mlj2xQr6wlpgFXj5+p0+d/5cZjZC1fTpM1JTU6dMm3H02In8QqygZoOr++zZc5mHa9asq6yqnD5j1oiRYzLOZy1esgz5AJPv1KnTmeGs0EmTpxw8dCQr+yJOYooNGEDoH/DIbFRMSKBRZu2VOdnuydLegkyqvPyC0vIKg1soQx0fQ+j1aVPxZnPNHlddrmSuJHgLW0RECFmtNXW2oqigyBCXaqNFKjB2yS4y9oiJzSyN3Jh+tr6ieuwozz7RtkslxvIKjU3nZTWZAwODXXwsVt9Er6ThUugQSQpQzuPy9ITyq8S/vWPURjkViW0g5zoe2QMummhebOiPjY0fP34iC1V5itNFrzfExREewvbBMUrtbMtrMFm27UiPTUgKDgnz8/V99rlfwHSJMyRGH/stPipen3Pf/Wm9+yCJ42dCfwru0oVEdTBqhSNhqJKpZnMexS3WJ/5B+CZECouWQrUg348++RTmYig4W8ipEEIPDUpITIGkYgqN6hrFTcI4jh4/GdIlvHuPnhBTL2+/efMfjIyIdPPwpDaN1gUy9MSTTxGIS5AObCApKSkioitkrhGcqxAo6JEdXuW+nU7xo5G1QiMEnHwqJXx8/R9Y8DBs0tXdUyhZds4svnh4+c6ddz8UXG9wP3P8ZHllTXxSirev/12z56In1dfVQyvjUD2iiU60jB0/EebqgMaABu3qTsZTx532fiExoKQF83yCTgg9KBo0dHhoeFc5C4+42A5kcPeIjU/6/sIfnM84X99Qj97TLaWbxabZu/9QUkqqgEROAwyW3Dx0k6fNMIhNJB54U+9/8CE2XSr14KQF1Vq9wcSbIkneNWFUGKcoJmtMCjLhS0rSZjH0Sgn+mTHr7uTu5yorKuGX0THRmG3xqd83/wF5j0q1iM6Nj2fulVdWZl3MSU3rjSwVl5j0s5//wqGWYfLtEhZJqNSkqdMuF1/28HCPjcVzGsdME9yvHRxUdEiZmXbeSoJDpZN8UoHQQ7un9gwKDh09hmgs0a/IrjGEKz+18Ack/RCzXRh+dNFxCT4BgY8xnzMyEJsQ5kA4Wz+Z3rmX8idMnIgIkpic8uRTCzPOZeBqjY2JTUxMcPPwwi49/4EFffqexvDL7GXrDuyZQZH7qMxUWasXv8W0lMG6KRc28JrqKo1LoE5vMujLjMUZtuqD7posyVYu0gkBkxAuyEdocdWUhPoGJwW5HS1qqHCNPp1bPDgtdHV6w8Hjxd2jfcf19uxiKCgw+ZvqXeo0JgMTx+CtD+rilTRdCh8iaYlLV69OxoDKQTsHoUJYlWtyEDpuxMXGR0bGEEgicxR5JUqa2NiEOKF/2C9unTl3tqKyiiAO/4AANjAmpKTEJyfDd5Wd7NAR6Id/l9CBIV3EUpKjNiHcdqIiNyjojcy8WxqbiGIkS6rVJvJkyh4xAaZW7xodmxgVK8AQfJVPjRQS1jUkNBIRXgAsdlJqCwsK8wtL7n/gIWgORMTdy2vw0JEiPJKIDJGknrTbrimpvZK7pQGEqMamEclPmmhDjm7KmIEqXU2CqELGF28BHnBaZDhFun75gk0OGDSMrsl5exXUihr4pXP16J7Wm+/gYf+hY/0GDe03cIiLu0diSo+E5FSBDDkPKvtXCMKMS0qJSUhWpAxBHJFpdHBBoeUoDbXzkyBRAaT40xox5SLEaLXRcYnRcUkkuMMsBtYUiyv5yGMTkmPik2VXqwhxyszKKq2o/v7CH4aER5oUIQMDq0YXl5CCnVkUctH27T9YYVEyD8JaIEzvIiMwnb4ac60BrJRqRCZ9BGuKOKIMjMAB8kl4VGyXiGgxI2QmJP6RpK4x8TFxidgVFIGPJrJzT+tdPSZOne7h4+fu7Td6fJjySJSXJxMQDhs5htxbfGGTDCyQQ16ZC87As889xyP5MDMSSgsGD5xiJohhE8Mr/hMY0WJvSO0po1QeKDHLtZohw0fSkHwp814EiodHdkWOIY6XxabsEzuflZPcPW3K9FlgltCE2PjkqJgEWgBOLVn3qVCnZcIHBofJ6wYpRfD+phf3EQfF5EQsuGkaGyQ4KsjXT2vOK8z18vI5nZl1KbEyxNPqonWxWn2Nkl+dJSC3oEbTUJQWWqrT2wINteP6hx1fkW/yTNmT0SXiYNDm9RsDbOXTexkSg2xac6WXZA3XeZ3MP2919SnQJjREzZJCe0taX4FgeRXlFtSx52dgr2RXD6cj5Wz01HutYEDloK0gph23ZR1KaFyCS7XYbsBaFfmc5fztOvJtEQ0haI6woXGJ1S9f/OPnH/LjnzyXkJhgNBN1qBBPjYmM1mbBJYmNkc1vGHIgWILqiGXQSDsE5WGhK/8LSnCVlkf9ECKTxYoe0yD0JvsliosTOaziBA9BJ4DfDNOU6aOLSDNAKxbJ4OF71+x5RBSbbESE2uEV2QYFjAJyUvOazUJzEGz4ShJvAZ7TqxmFomkFJBpkIzndNVkkeLPj3A/hcFRYhyCtV5E3mpADmAWbHDFmIsqQi7tvRQ0bLgXDEEIGJ6OKzXRWgwsCBNgTW0oExeUxG3ME/xQDdF0XxTEmI9ow4rWk7xYkX/QAbcZAaKdGz2MxWFo2TQoCT2t8kD7WaJa8/IIffvzpyIgIi8bFJFio3LJNPngEFwCcXs+/Yv+OuC0/pQv0UfCS9l2Osac5/OnNkKlwJmoSIy7+xGjTXD1ygch8JGLeZN86lgqBbnLzhXWNn/fgI+HhEUacv2KUNfVG+9BSHlSLLVwYFrSuTNx6IVmJWer8ajElxLEsjLjZBrQi3LvJa5RVphDc0ChatD/kJhCCOkUak3shnjHcyoQkGone1dYymbWpPfsl9+jj7RdSJ3bHiMUqOqyVWAg2szjyQfBjMQyKDCnZRDFRueOSW5GseprTUppx6NyEC0rHGPC05NhRfVPe/WKjS4DngYMXD0ZqhqR5GvVBtFtU473raNnOXafCvYzx80M8PWxuOvOwVJ+P1+WX1Zmy8jzf+eiIrqx85oigsakWD1LMV2v9PXz7xwXvOpdbb+uSXe62+pBtVtdAPx9sJlJ1rXTw6Ikly78qyL/0z//9VWzMt+vMcOcz6/belf3l6tUhDGTk1n3yxUZWL5EIzQm8qFAmaPIqkRe48kNp6SqkC0IgOJpcxr6Am4xL4x17VfZydl6gVCeakYmuTPqa0ADxQFNRRfRPXWgwaQQai4u65Gblwvwvv3/Vi3JRmQ0I8Fs+Eo+VF+V/7fXYe+1o56ovSovOn9UZrQVFlwGScCTnjbV4TyBRIZ0yOmV21YjGxsKCwsrV2bvaopLrugGHKxPIrO0SEsg54HKtdqxdE2YZxubgOWvdUZN4ocnV7GfLV5lvyruIX7rMrAthXYJ8vNyRJRxAKu9cXZE8hs4vwWoFh3Q2+teLTzFQV7eDvbesiijp6pCgQKJw5cfKn2hVgcgpcFehWoZD3GnRCWXuNp26yov2gu3qAGOMlIGfMnvypOFj+8ffJIWDuXEqo/Cv/3h9/fp1Xm41cV01yTH6AG+8yw15BaWFRSU+OuvEISFTh4bq3cl769JgjnlpUebi9CA/bZmf5fz0XsYHp3dJjLjMYNWbfcr03co9ZyzZoXv1kw0NFm2Yn2f37gnJSfG4RkV4XXaWh4dh/n133X/PRC+PzhUJnE+j7/ZdlYN2fHyrGqRzWWX1yOeyW6v5JViak9vNi13nb0HOWq+1GRlReDOkRNiEoSXCGqhcdlJ1nY23VrydPZVVylYu+kUEitgzg6qgqGCtlLyNt9EU2XikcBSH6NnOzt8Y2O3SQxXNTDQEnOR/N7iSjYFfTSHs3IFvZ6dkOUxhx1cmAN9AJgqgrPs6SPm1AWw/wq9d1zU6AFTYkOt1OmNYuG+kH0fU38Srorhw+aK/b978VX5JgWQtR1NGlgzwd01JCBvWMzjY07g//UgNWeK1Umq8j9aj7+uf5tVUFAzs5rtggm9kaL1VV26yBkieSd4Jk6TwsTZN8pb92ctXbzp54kxNTaXZYnR39QwJCho6ZOCUyaNjunq639TO3EQ83VlVqxz0RscDy54yFVvnazfaRLP3W+VCDhn+6hccgLWLDHcysFeqa5ucIe2DRuEPuxlyRyd1SumCAqRDn79l437NTjSdGHwHsJukM10TknYWUPAJnAq07XyLYu3HeRuLpT3NOSYtLV6x4LTnzQ6UsV4u2/anusIDdZUFdRZTvbnBzdXFx0fy85M8DRpTfX1VWT2ZbZHXPcjA6BdTUuZOEkZvDynQ21Kr9zD5xgZHj5ZC+kru8ewet0murHeEVk6vYLM3QW+uroSISe7yVu32I7AD/fiPeuUOX2LfgrG49RhsY/a38QhU3nQScMPDdeuR2QGQvxVAdqBft/4VpqsyY9uetzcC2A3WfIOvXx/kGqt/kIdHDafDVggHtYhJb5D40zZIWGf0ercunsTzCVET45K13t9b5+kTatG5630C/QKSpOCekm8SSaA5wE2R6oVkr5X8fPiHRPxXrlvaqetDwdWlFfHnzgZXpQY3MsLquyoGVAyoGOgkDGhcpKg0l4pjmvIsyVItQpu0euHHJUJN5ym+W4mAqiH6rLpe6+IRqPOPdvVL0fklSb4xkq6LpA+StGzFdiH4DFn5zuY7zjEmQp8bvVRstWLLMvuMSaMRHMIhyu2+UL0dolm7X+pwQZWDdhh16osqBlQMqBjoRAy4Sz79tPFGa2GYpSJHY64w2epwEqOAaiRPsuJrDK5aN/Lz+Xh5h0q+0ZJnlOQaLOn9JQ1qJrrpVYpmJ4J1C6pi3wFnpGdlZbnoXbqndmdjMYcfHD585NjRoyQae/L7T7ZTImBrMlnbOJcppVvKLQCbJlQOeqN4vtrS0NTtcodLgTfoIWqKt/b3tD2Ntr+2Gx27b9X710Sdirdv1Xg6AZZMhPFScJDWP01bmS2ZCvXWMvJsSOz70XkJNdTDTzIECa7pFihJcE0PxU17VYi9vLenzetOdINy5BTH5QI2p+VwVM7vX/g9yRrvuftukndyRITQTdsRoU8+6lUrV73177cemP+AykHbnAN30sOrp+s1Ju+dC/gtguxbhJ9bhJF2N6Oirt2o+vYWZJDhlLoYKThEstVLGqO86Yy7LsKWy59QNPnjCwbbFtbKds2RdhW6xSj08/WbOXMmXHPnjp0v/f0lUjEPGz6Mk5fQKadMmdJUAUVbdcAmp6u80h326qzfsJ4TMioq7Ym9bkEvVB30FiBZbULFgIoBFQPtxAA02Vf8KayBzzuR5bWzL+0t5u3rPWb0GOKeyMWIzMAeJ3gnp9TFxMYOHjzYsQ0vfUf60mXLHJUOHz7snnvuUfBDVhMOlwwOCuacAzhrexu+4XK3rqUbBlWtQMWAigEVAyoGvqMY0ErlZeUbN24kQTEZtvft3bd121bOcv/k009Ic6302c/fj+PzHH/k9LaLFzZpy5at6enps+fM9vcPaLLx/abjStVBbzqK1QZUDKgYUDGgYqBtDFjN1jVr1nAUD2eeBwYFDho8qGsUiY7NHH7AsfDKu6iYnB/pqCc8PFz5XlFe8fprrw3oP4DTO6qrq0jZWFJcEhiMt/imXyoHvekoVhtQMaBiQMWAioE2MGCz2NauW/fxxx8/+OCCIYM5hU1ClQwI5Cy2qy6OX/zwww8dt0aOGvn4Y4/jCmXTC3md9+3fd+DggTMcEejmGh0V9eOf/LiNFjvrkZqTqLMwqdajYkDFgIoBFQMdwcDxY8cfe+wxjqW77777OLIwISExtUf3lhURlEvAreM+ySB1LnJGOKtUUFBAJkuOa3z55Zdxhf7617/x8SWzxE2/VB30pqNYbUDFgIoBFQMqBtrAgNFoSk5OwV6LL5OYIJPJlJravWUIFQ5Og5sIQm5+aaXQ8FBuEqk7fPhwTmq6NeyTFlUdtPlYqL9VDKgYUDGgYuBWYgDOV1lZCT8Sp9VarbBA55yyHTDV1dTBaDnovh1lO6HIt5CD3okbgjthJNQqVAyoGFAxoGLg24WB22rFFYcP2g4fOlxQWOAEa/JpSCSFtH/abH7+/r1798JK7qSwekvFgIoBFQMqBlQM3FoM3GYdlG2zP/7xj3EjK72O7Bp5VfdlJsr22JqamrLy8l69ev7+9y9Ex0TdWhSprakYUDGgYkDFgIoBJxi4rTqoDE9ZWdnJUydRRgMDA3/wwx/ExyfgT24GaUF+we9+/zv21bq6OnMjO+mXekvFgIoBFQMqBr6bGBCZcq+V//fW9Pw2c9CgoCDSIZJN//LlyxUVlVmZWSQF9vDyQPdkLy2xWHo92SClstLyV159JTwiwteXfFfqpWJAxYCKARUD/1kYqK2p3bFjR25ubs+0nr379NZz3Fv7r5sWPaP77W9/234wOr+kRmIP0Lmz586cOWs0NRQVFQ8YMCA6OgquqdVp+VMCmksuX161avWwYUP79++v08sbgNRLxYCKARUDKga+KxhgE8vx48fTd6ZHdY0yGIStMedCzvLlyz/7bDGcIDw8orS09NChg2hW3Ozbr6+fn981u95Q37B3994tm7ekpKQIZUySsjKzP/rww61btpLniKSAJOAlf/3qVauXf7G8qqoqMiLSxeByzWqbFritHFSWC7y9vPk8cGA/R6rWVNd4eHqQnKlZuJCnh+fYceP69evr5eUloP8PSLV8XaOoFlYxoGJAxcC3FwPkSSAh0R//+Mdt27aPGTM2KDjoUu6l3/3udydPnvTy8n7vvXdhdSNGDO/Tp4+nl+eRw0cGDRrkH+Dfdn/LSsve/vfbf/3rX9Fc5827H85y+NCRn/7kJ+XkAKyoXLZsWXx8fFhY+Isvvrhhwwa9i/69994n4Iaa2VHTds1Nn97WzPIyI8ScPXbs2FGjRmHarquvW7duHZtqm3WAxBNdoyIFyq51UgGVtL/zakkVAyoGVAyoGLjtGCDGhWCX8ePH+/r6aGUHJ+Gll0tK/vu///vFF/80efLk9J07S0vLKioq1q5dm5Sc5MiIa2owlZaUoUeWl5aXXi6tr2tw9AWd0sPTc/qM6ZJGg0GTxIEbNqxnn+g///HPP/zhhejo6E2bNp8+dWrr1q1PP/X03//+9wfmz1++/EvAuC5s3FYO2ggp+Q8ffvh7sXGxGo3m/PnMzz//vKiw6Lq64Sh8h7iXOwa8+paKARUDKgb+AzHg7eP905/+dPSo0Z6eXgTBcGVfuAA3xayKdtivX7/qmmpO4UZPJe0taiIqqYKlnJycDz/84O23337jzTf4hEc2NDLRqKioBQsWYL9VShpNxpyc3NTUVP9Afx9vn65du166dCkrKwvrblJyMsbbcePG1dXVFhZdH+u5IzgoPRw6ZMj3v/99b29vi9m8Yf0GBA2hTV5Ln0TuyMzILMgvFGFHksQrFy9c5GfTU1j/A6ej2mUVAyoGVAx8mzCgkVxcXUTgC7syZLhraqrx2XEwC989PDxJDFBcXHT27Nmo6KjzGeeLi4uV3sH5fH1xifqzlYOzz4T7T9Po5KNOfJ8i64CVwsYGIwzS10fEooqkRa6uZpMJiy4+V3e5FVLZo8JxU6m5nZ93CgfV6rXICyOGjyBQiJPJ33rrrfPnz1/T30kqhqXLlv71L38hEEngyGj69NNPly5dQn7hdvZfLaZiQMWAigEVA3cGBkT+HLL6oQuhGkLGOacMwGpra2CrxJyiZd016y4RRuRvDyNCWTI2cNXX14t/SKiLJmXvi03SG/SosHBfLm7qdXp0Wb5oNNoGYwOeUTdXN6PRiPeQmxUV5RTj5nWh4k7hoADdJbTLww8/HNpFJAgmUdEHiz5w6OOtdSkiPCIuLm79+vXbt28zGc35+XnHj59AYHE1NN9R2loN6n0VAyoGVAyoGLjtGCCYCE6JNVFhhFhZ2eKYlZ1VXVV9+PARLLqcd4YNNjUtNTklmXgiBWC0SZQunU6P91Qc1UIQkMNyqZHqa+vrasXBZ/BIioWGhcEgCgsKCwsK2BUTHR3DRbwuqm1VZdU3G75BkeWE0etCxW2NxW0BaUBAwMWci8RfIVBUVFaMGj0qpEtb/eEcOCKSt+/Ynp+fHxwcjAI6cODA6dOn+/j6tKhbvaFiQMWAigEVA3ciBuBz//zny4SRkl1HnFNmMqf17Ll3z97t27bv3bv3yJHD99xzD3sxUCibQe/n65eSnNKzZ89epKzr2ZNj0VwbD2/Ju5T31r/f+mrt2gsXsklbT7b6+Lg4HKX79+3fvmNHVWXl/fffj5f02PFjBADv27d3586dDzzwwPBhw68rmObO4qC4kTnabc+ePejv995779QpU9093NsecA83D3jtsqXL8IBOnDRx1sxZfgHX3ifUdp3qUxUDKgZUDKgYuGUYsJqtbPcMCw0dPGgwUbJElaalpSUmJuLXRK2aMWMG+zWc8wKcnQYXctWxvxOFqmm2ALPZzA7J2NhYzjuLjIxMTkru1bsXZ6jhHIyLjbtn9mx+YrNNSkz28fEJ8PefNm36lCmTr/dQl9ucF7flCKFK/+1vL02ZPPnJJ59097wG++R1UL96zZof/ehHo0aOfPe999DmW9Z5R9xRbAtOd7Li524Nat5y+sod0aW2gOiUtFsWk8V+gm5bTXXkmQO8ToGz/RAga2dnZUdERly3meTGZgI+jvMZGV1CQ/2RL1uvCq9S2xlL2Dwgtpy3NietEhYzEQ/SzquNmS/X0DY8aCotlZJ2tqwWu+MwYBVBPwpUwm0pzzElnlSja23CXasTTetszAJotdhE9U2SAopII5ucJvD622muFAPR0SPHTp061RI0PLx4YsdPmODn39mp9eQlzWrZuHHjRx99REjRvffObU9uCJbQiRMnvv7665SU5KPHjubm5kTHRNsht0kkuRBBz+1ezi27fIN3sOAfOnQoLDQsISnBPjY2CYPzyRMnhw0fdkXY0UqwipzcnBPHT2BtIAKt/4D+YeFhonWNVFtde/jI4cLCwpEjRgYGBzoBSTjfmRBOnnALrGZmZp4+fTopiZjtZOQyQCIEHDt5bEzM4MGDHbOThsBkXV0dfnaTyYhExxbm4KDgo8eOXcjO5vz3iIhIMkY5jCTO22u8q0xQZMDdu3ZjltHp9RaLGYmSXoSEypZ5m4R9hkgBpM4rK8Qm4dWms7j6S0ouA/wPf/RDXP3Hjh27ePEiA4rbu0daD+fe/lbwwCTJyMhgntA1wvaGDx/GxmLAK8gr2Ld/X3V1dbdu3TABNTfdWKWM8+dPnTo5bdo0WIKx3sgEI7oNBEZGdh04YEB7xLtmKCKG8M033xwyeMiVWeoMiTkXc9gzXlkl7E4DBw6KiAwHV2cIlsNbU1VFvDpbzr287X4gKsBaxcwpKy8DP7379GEtMG0uF13es3cPO8SJUxwyZCgCOoO+cuXKGTNndOvezVmz4p5O29Ze8j279+zbu48aWoVfrDYtXPZ85nkcSwDjYtBDsHJyLh47eqy6psbd3a137z4cDgFlvJB9AZSSqg3DEzvlm54qwda9I0ePkKoMdj5ixIjgkGAFYFxW9AI8xETH4Ax74/U34hPiR4wY2RQbrXVNvX+nY0AkoGvOwZqvyuvtg7M6tS34sUw8mzfdzqacWHHZInP2zJmaaqKWrvrDWAoNSuuZxsJuZ+3tLwapXbJkydKly+bOnYvOjj5+zXdZe6znTz75ZNasmQMHDFyzZg3UDQKtIB1QF72/CNexj4/3Navq9AJmkwVv7htvvPHCCy/ExMZAIGiC9b9t27aX/vbSihUrcNYqyZiUpmEPzz//2/qG+pDgkEWLFqXv2jVi+HD4DYmCX3311V3pu0JDQ1O6pbS0MKDTfLXmKziKiNJuMQfIyvHBBx+AIoOLAfYZGBS4adOmf/zjH/CAM2dOv/TS3/v07YPHXoEBvvXcc89Bns6dO7djx86tW7aMHTsOGvfaa68nJCaQIuTtd95JSkokmrwZusgkheUAxg9x8o6vHAAAIABJREFUb/YI5s1WZSQAFCB2LpMAeczYscHBQRQ7evToL3/5y+zs7MlTJjuSgMDPfvOb/9m9e/fFi3Dt7B49eqR2T2V/MLHZxBAA2fvvv58QHw9KmzXEjmycKC4u+paZShiIv/z5L+7uHt7eXq+88jIB23169wZvv//974uLimtr695++99UbhdZGuvl0Yt/+hOedaw9oBfZjo5w7EFpSckbb7xOjjFQ0QwGRBCSm7A6nOqXVEgN7Blneru4tKrGVZZXvvinFxGnukZ2/fSzz06ePDFy5KhLl3KZSC4uBs4pIoWK2WwSYocsRMOo/vqXv5IODWvVipUrNm/ePHTIUND405/8lJh2wiLIvXL5cvHgwYMoAANmn1if3n2cLmFym2VmZTLWzfql/Fz/9Xp2440YOaJ79+4C/lau8rLyNWu++sMLf2D4Zs6YAZB0/M9//jOcj5oZPpg9+/nYGv/rX/0a+tI1Kgokf/PNxpEjR+LBUWplqrC3j9hLGt2ydStyHo/YjfDFF198+OGHVquVyUzXWCDIBISFdO/WXVVGWxkQ9fbNxYATHXTwkMHE47RsVggIVyu/Lct05I5Ngn98+eWX+/btX7jwadY/O1vargelG91l546d/3z5nz/84Q/HjhlbUVnJrtulS5bOnj0nOTkJ/RWSiimgjaXedhM3+BQSRtBXYmISsr9SFTATcI0SExoWShgYzJ6NT0qMNQXYJsyjn/zkv8iYjA/4X6/9q6ioiKd//evfUNZ+8ctfwOecGscQFLZs3cJ+ZGKYm53qjtoE9STvxs9//vM+JGKWnfBdu0YtXLgQp8KBAwegXHCXIUOHKBAC6oIFD+EJII4c+lVYWNStWwqbpZ588gn2GqMD4Wl3bMNqih9UbSQDNNRmTIgyHu4e9913HxSTej5f/HlJaWlkZAT3K8orIeWMO7ueHUhQ6gwMCHjqqe8zmhaLFZ6HgwNv/7M/e5awMvjErl27iDVraYckfo+gAzhxXHxcU9j4TnzdgwsehAojRpDuKjs7i6i//fv3Hzp4CBEnOCRk06aNMOm+ffo6zBUIQN9s/IagBqpVdpcB59NPL5w4cQIwy+mtc1rCUFNbw5xEa29+SJ8MECjChDNh/ISWgk5TgJEdMfPQfX9/P2TZffv2YQ9A2CLqAeWVMYKLnD51muktDmCQJPAzfsL42JhY+BNP4VVFxUUnT57avWc3MiWchunEQM+bNw9NbsiQIatXrwb+GdNntLTNbNu6DW8SAk0zBPKTnC9oz4h9EyZMaFstyMrKJiSeuHq6CatjRNw9PNDjEYYQO+gRw4Tsq1gFnnr6qaHDhtbX1z3//PMiGFDWNdGkv173Nexz9uzZcP0f/OAH2GyGBwwnc+n7773/s2d/xr57A2c0aaQePXvMmjULwNBr+/YTQqp6qRi4xRhwzquUrO7NPjG1tb14OgA6qwUi/tGHH8Ew/uc3vxk+Yvg12SetQNTY/0MMFXJo3759eQXvDuuNdbtjx3YyTVjM1jNnz7Agg4OEunPrLz8/37vvvmvmzBn+/vbkjRgKfP18MVBjUlNUyaacA60FA9dp+GjGeaEHxCegz0Hp6A5ZgnNzctHeUPVadgQ2rGxB1rdQCy5cuEA6/u7du6Gy7N69h0QTEP3klKThw0fArWGHEDX4iqNOgpkffOABXHRwRIK57rrrLlz3PdJSKY8qDG/ghHModUsYoGVyCgtHFPmVIiTfmj5tOhwFIGl0QP/+Qk+1Sbt37yopKUHzQ8RpigckNIvVkpeXj82yvLwcXs6sg8ePGjOKSiGyBoMLW5icMiFedAIb28jCw+AxXt5eWMjJh6nkrT548BD8hvnDDIFM47aA/zleP3YU0/VxQvvgZ4plCQMAzIMCJSWlrAKhuLfQ+LGlY+uGbbQEA4aH7kU2sra9jLxIi1OnTdHptHv27L1w8QJ9B06s97DequrqjZs2klpl7LixDiUSsWnCxAm4CVDRmD8RERGBAYGlpSUk40ZiANQA/wAOEFQmD7MRkzVMlM1wzYBEwjOZSUviZBApyUTEFI9N4poUgPn2vYe/B+dm7BS3lreP16TJk5hX7FUgWoQvrm5uQMJygI+ePXMuMzOLDKWOlcJcQlzDGMNePYz28OCM8xkIne+8+25UdDTYwDqNHKPAzxxGPSXAsiXO1TsqBm4BBpzooLegVXsTNglVYNXKVahQj81/jPirlk2znFhmkN3wiPArTzUSwjIkHqLm7W3fuDJ50mQULCgs5kSyIEJNyFbPTVf3axuEW7bbnjsYrGD/eOlENIpG7AXmLb5gs4U6sNRROmX2doXWwjsdFsumJBiWiZazfv3XKDcYDJHZvTy9sFHzOkeLo4hgTZ0yZcrce+cqgLHPCUcRpkjYDPbVA/sPUC0CDsfaOHxU5zMzyYOFHnnixMnDhw9BW5955hlYdVFRITQUtKPowE6aYhXwzEbzN998ExoahuKoPIIco82s+3odhTEmO8rX1dZjia0Vh5+Xwa1xaqKpQDcTkxIdyih5RpTy27dvBxuEnNNrQmmoEE0Cszb7tJB4oPJePuLMABhqXFx8VmbmuXNnsf7NnjPbofRQDDct1hF8lg4YqIG9YpBmrIJQVeQMLHsMARyu2XRC7/l8yeccPQu/QSHGyUolWnaPaSV3N3f8hY46McauWr0qOioKjgLY2EKJjiHVNTJQaUnpOtJyJiVjCHWUJxXn0SNHMAYUXy7Ghbl33156ivQZHxcfjgtTvqifeoj9UwYd0yt6JNqhPXSicY4kJiRGdBU6OvaYVatWYlFn0DHecgf2v2XLZuz/sEbYRrPYClyPm7ds2ZWePv+B+fQdFPn6+Cz+fDFnGaG1o3PbJ5tGQv7Aqi+O2lUcJVYJSRQWiyzL3EOj3bxpC3MpKCiwe2p3Rx/Zn81BhIGBAdyhJAaMlvJcWHg4wZNMewo4XrzyxSZxIAaM8L5774NZMhAILgxofn4B05602GxLUwqDbRg84DEZhA3JJo4QzjyfyZ4EfPmnsAycOgnX/PWvf41UBGVAWz144GDbMUdO4FFvqRjoDAzcNg5aV1OHXWvVqlWQlSmTpzg1fNFBjEI4fuAoc+bOadpfIhSa2euI7Og/oJ9ShsCcosLChISE9vhTO4xGvEpHjxwl4gMuqVWMfRBlrRY6AgeFZkGJSK/R+MTejtVqaWa3hEbk5ObCAyCXKSnd4EYYGNn1C2eiKm6inrKzGFzNmTNHUQIgMahJ5WVlcCD8l5Ba7mMkNLi4wEPhClAxvF+uBgMG2379+uMgXPzZ4mlTp/Xs3ZPQkmFDh2EjXblixdZtW0XmZcelAZKc9F3p98+731M2EnJBpOBb9GXNV2uwgt4z5x7lPimy2KcF2JWVVSSHQpjA7erm7k7fm5lzuc+BRBjbw8JCAeyzTz/DHotN7/SZ07BAfJzsXOrZqyfVolE9/PBDsBaqxYKNExeHn4+fD8mjMSyT4ovjY/HmOuBFfMFTSP141DA7Z5zLgIIDKqPAXmmHwgSTw4aMe/WJx5/AZwZ+lCEgOE4E+8kj5aiTaYm3eNSo0Xgfod24pTF+okkz0MCDHft7jzwC1XaUxwiJJEF6MOYDeGAs4KaAigzk4KAY7TEIO3wKMNQTJ08gcDiCD6kN1ujj46tw0OSkJGn6jC9XfAmPIVLG188HyQC+iIDyzjvvIv0Qmu8w2tMFQqKWLVs6665Z5OCmd4MGDvr5cz+/XExqbtJxl/n4+jpc1CjBMPim+vq5cxmILMhqaJnIFgcPHAAhKJH4OxW+y5AhirGpQFF8+UnW75LSEgcGlC89TezGI2IOpb2Feo4Re+s20odNmTJ15KiRehfdhdMXwCRzG0WfbG1Et/ET9ZSqGBohj1rt2d0YSnwB9AMIx4wZQyCY32Y/fPmYtZkzDDH8GGDAOQy1GUjqTxUDNxsDt4OD2iSSTRD/sjM9HccSq4LM8q31ExqNToYDprUCTu9DrVDa7p17b1M9z2nJG7mJQjZz1kyIo7zqr9QUEmKXpkkxRQCqYmXlsVBVtYI0IC87bmJ8g0ZgRYSCDB06lDhJ8mX84Y9/gP9BcInOSUiIR7lEsbhw4aIjVo24oRkzptM0tlBMrPgIsbXCOMgPqfi3BN3x8ECnxA4WGBSQkJCIVgS7RfvBzDhg4ADcsZ8vXozwPmnSJJzKMB76wCPsdSjxgwbbFdDqKqGcDRw8kI0QW7ZsQfF1cFBOO8edht0S4yoUdsKEiamp3WFF/sBw9YVSS+/g5YoNk2A0LArY6NLTXVGPevRIQ79BK5KVLRvkks1bxPv07tXr6/VfE12lr3H5YNEiesqepcCgIJirEFDkCy7FpmGURVgdsSqwOiyN9N3fz++KvdEmbWfL9I4djz7yKJFTlMQcjcYPpyRUDtYCAwZL2DyNDSZsGCTx+N73vkfuaWy+cBQMjGhLoHrp0qUQ+h/+4IfwZvilI68Ym8mQ8MADngi4OD5jlHtgEGPReIk4Ji9vR7LJwMAgmIdQDZtcCjNA+IMfIB3GxMYWFhXi4CgrLfX08Kitq0X17JbSbdeu3dgksDkrcwk+ygRY8eUKDPLsOoe9YZnA/I5Tg+Zg0hs3fjN69CicwUpTiCyYeZV0o+KORiLiun//fkzIU6dP0d9777uX25wn6Fg7TAw4N0nTlBrIlIZVVslE3RR+GJiylwz5hRkrUrM1GrRxZC76YBGYmTxpkuxa1uD4J4SYOFsiqzHtEsTEmRhduiBgsZ1GzwxEZccBjFCC/57gNUUfjYuNxVODco+wiFKutC7kV60WyJsCo35XMXBrMHAbOChRNgTUwRcnTpwI5bp0KQ8S3Ky3rJAGozE7K4vgPfhQbGzz8JC2sUMTly+XOE7Aabtwh58Sr3SVbfnqijAbwvPQ0BAXiDSGzkLy+AJ9FKbXS5fwO0KXIZFx8fEREeGwMdSX4OAQNDOsmlCTPn36vv7aa2wDgFcRHwt/uhL9oZVggTTInhMMs1jAwsPCrook0kjx8QkwUezkNI2ZkeQdXUK6ELGFq/XxJx6/eDEHBQ5KzWF5mPUI6GALDeosOxbQYOwRrTYJcy9mADgK7AHFRSgZjRfsMCxCqGJQN3JuRUV1dbrJASL+xbIvpk6dGhtvt9IrDkUI/abNm9E/kKLgXh9+8GFEZCRJQ0gj8tCChyDHBw4eQA1C78EZDIRwegySiBr9+va7Z/Y9CoPEmNklTMgr9BQFDr9mTGzjdqZGODEaozsCbX5B/ttvv4PZ+YknnmCT9aJFH2zfvg2ln7GAN6PFEg1OPBF44Ca8HAa2dt3aYcOGYQmAdzJpe/XsxZ4SDNqwfFJ0KjAgmih4gC3h/4b9d42yhzc7cEUv0MthdbgbsQZjQRGxNs6uixdyXn31FZRy6kEuQdlls8fZc2cJLF/w0ALClAoK8pl18IzFixczkZ566mlUVaKdwyMisFKAH4Jr6AKsFFEDswGskUwrCjvE2IvNlnBoDNf2xjWSfa+ITUKZc9G7tASebsLDEK2QcjzlXTRtTHsMKpxugeUfmQmjNwYDBhrUYWNH8/7k00/A9oIHFyg1wEfpIFutAgIDGUEyWrPw59w7B+Mz1h3cN0g58PseqT3oBTjHDQwaEY6RuYlcAxKkkOKiIuQhEVt0G6+rfDW3EQ616VuNgbY4KLuymm9l7YyJApn+9NPPMjLOnT1zlq0awoDWNHxBDvjlPwRYCERZWTmxtegB14UY3k1L64HZDTriNIT1umrrWGH8gqtXr0GDJCyC+MnZ98xGMyC0h6Ae1Bei8PHz9evfj7AIpGwOgOUPXY2MU1hFf/XrX/Eibie0GmQISDOn/Nw//36BqKstZOidSN9CfZTPH2h64QHlzLjNmzcdPnyYAo8++ijEEb2ZrQKgHVPeI48+OnPmrOrqqv0H9itnABFDBDMmGNtRD7rL5k2bX375ZVCKigwba4kNqDkQKjmgWz7F9YVWJ+wBjZdC7GAPHh7u6L4kkwIw3If9rBZGDYEJhod0giHx8ccfR3tDuYTKY/Y8fuI4bcHgr1L55WqxAWCpbnlfJuiF8P7yknIYJAWwSAMAVtCFC59mLHCd4iCgX+g0DBnd76/pj9kc7QcZCBjYSEoGExycWL8v5uTAAED1zBkzW/ZU0YTsxserH8Mywd7rr72OBhygHHPb8n35jpeXJ6LABx98yBdw/v2nvo/CiqGCLjATUNPZCvnII4+4ubkDOZIiF7yKfjHQfKL4IlRRD/C/9+57TK2FC5+hF0pr+ALYhfmzZ59tvq55LIyvmtb2hCBGfLn8y0t5lwiGagVw+20k16VLlrDG0SbfePPNuXPnwK2xfAA5FmkYIdwOeaJ3r94E4jIV4f3l5RXPP///YI3sBVeC7FCmufn++4uwkBNJDv9Go33u588hK7zyyiug5amnnoqNjaFJ3LH4HUaNHNU2VDf9qRO79U1vU23gTsBAqzmJsCbhhxNGucajwGuqSJBva+5skJkfahYCb2v9YWWibwlPjDzPNm/cTAZ56BqGIOp3RCfayZ9wDbHQ7P9YrNbJkycR+dKMc7TWluM+llIqvF3sU4BhE2fFQEf4Cj9QukkGJTgNfVM6i/+MXeELn1mIdZHyMA9YPkFSAk/8L6OL0B5eoQaZxGmab0KwicAcRHKnexB5HasdyNRDGuWoGQGX1YbkTlVKmE/6znRUhB//6Mcp3VOAAVJ11Y5jm4izBTAwKQxlzigF4wibhPc4TbvF63TKEVIkIGi8FDMmo3T69Ck8WwQqY46mvyYz4NGcOO0IMY45oBjDocJ4Ltn135IBUIxd/PD7lvtBaY06FQlDQYVibKQZnMECo1ot6EH5fuedd5555ge9eguPrPIWHYfdMnZ0AYMBSKN1quKVllOLMmhayCgtt+1SG3h488230LnZmaNocg48NPvCAKHtgWpsp4y78pTK4aPcBAnADyP83e9+h1wyeepkvLzC+Yhyq9PK88c+TM3yB2FsQDTBQPrIo484adoqEQTOcnRqSGBn1NMLF8bHx/3kJz8lg1rLvosKZVIASsXhGgyZWUxahSU31BvF1LXZmMn2TskTieUAVkEvfzD3v/zlzzNnzhTbadiuJhaKpSl9oDxHTTAZOLKKyHNUeUYQysAm8v/93z+23KbspI8duoVYSS5y4EGKVXYQNauGaYy8gp9YWR0wdQQIug/RUzOMdgjl36aXWuWgRw8fffVfr7ID4aWXXmKTIgoTu6Rx/7z++uvNMsKwsDkcleiG1vrNeps/f/5vf/s7JHHK5OXmYVpUGElrr9jv4+HQCRcgjiWntPsar9/hj20SdiqUbDImC5LkUMSdcamb1RWbRJQjTrXU1B4tU3XcrEZb1As/YILhA3YcudCiyE2+IcbiPOp4r169W8vudOMQQGrXfrW2tKwUQyucXrHodqza/Ev5cGustQ4BtO16YDYrV6zEWUtIgfOMTm2/L7Ysn33tX/8izRDhbGxQuVbx635Oiii0SfBvaIzfvmYV69etX7lqJT0S8VNtrJoWlptr1mwvYJNwfi9e/HlEeDiB1nhDfvOb3xDT3rQt+CsWGhby3/72N4wHbAP797//7e3lJUKfrNZf/upXPXultbc5tVxnYKDDo92xxlu14hK0effdd5Ov4PPPl5D8Hm8/G9GI+sGq1qwlJEKcGTjzWoOAwAKcGXwqBQhQnBnpxAjW2uvf2fvCVRl/JeClDRJw81CgkeISrs/HfDNgIZe0U9XnZrTlvE6NlJDY6gR2/sr130UnmzZ9Wh07SeSwlxth1XheFedrO6FAF2QbD1FaHc4zzE7iH/34x2yLqqqqvBkcNDQ8lL92dodi2BWQ/IgO47TIttinQDR2F3vFYpE53wPvpGWz2YJ1bdy4sQ899HB6+s7n/9/z7OpRAoYdpQnwJjcIFn6ME8QYE6A+aNDAOXPmVpSXY4tmAxJptZyr7E4aVG+BgabeKIbrusnidb9wY1hvlYNSLTsCcRqxL23o0CHkeiMlCplNWi575sczC5/BBNc6JBp2pwlh2SYRiYf9CyMPRh+72bZVHNmVMsUtitlMbDzo0AWXks1HWAVvMXqvAe4V9nmNgt/1x3fWsNxEbLMKvJqktL2JLbWoml3XLe61+4Ys2McnxPHX7ndubkEwefc9d9vbaEXvwLBBckHIjob82I1FkfjZfq3sP24bRDgiMXT0nN2ruDA8vbwId2r6Ss7FXNgniSeJXcD1wCNSMJKeEEM69gycGoQ0C/KlXu3FgFmyWchLIkQenZ5NZnjA2vtqk3ImC+lB4DWiJq1eQulz0XWoona03RYHxbtG1gIybeIfIjieg8Oa5Y1z1M9stkf3tZwtMtdTZjDxnET0wTjhoApfFI9an2FNd8tRrOlPe9NObjnpNMH1uDHYKNmnLyfMtZU728nLrdwS+QSOHMXTyXMFChsAistmx4H41RIdooTY+tK45uXAk5YEQKlKru9mXsLdLHv1ZFDb2ajzTnUMTIEKgRD5H5HTx+KwVXSswht4SxmWpkjotJ6KipQu2odbAbMT6lcwp1TnNIipCULsXWuUXK+FqiuLS45LkIeJS/7eCZA3bZ7qFO9y+zpif5UwOvy+iocbFVCBl71kqMtKCeK/1q5dZyGDZpO5jb7IKYqJPleiykuKS0j6LXbFOLCp0RBN5nBpkzuFoKfU7t1J6eAAm8wb+JVxf7LLiBhAJYm/YoJmD9gSTHcpKYR8t/TZXwvvN/c5cRlsv6uplWrqxYkUaCWsfnc3ie3fGEY6hzheXw+MklQn1VZIlSVSdYVUWymZG8T8IlzcN1DyCZU8AyUNoeOtslK0MYrzx3ar0mrpUpGUl3+5vKKurIwIgQYIflior7+fe3SUfzj1wZevD7xrlG6Lg+I7IRKACCCC/Yjj9/Z1LsNiTiGtKK7N1ppi1bFb8b777sVjSiJvWQHtnEtezO2k+xJ7rhVC0Cltk2H8i+XLy8vkTWmCd9IrEt1KWvGhgKQMa6e0plaiYkDFQFsYEHF2MEA51trBQYnxZq+UEpboeBkFsUuXEIfUinOaDJdkcSRajSqUYixdclqhNqBHQgbJB1JUVPzQggVKvgulzMZNm8imRLg4UeVkrmBz0eTJU/B6EsJN6ihyhjz99NPk52oL6Fv+zEjyljIOayrLulhRWCJycxMhp9PZ/H1dk+JD4sP9ooIl97Z4QmdB3EQIqyuRis9IGYcteVlSRYm1rkxrrUeoNxvcDQFhmi5J2tg+UmSq5EbOAJioE+lNkebqOb/ogrTtYP6xzNKCwoqaWrPRRO+EkODlUejpromJCRmQFDg8LSRaPhrKWU0d6V2r2GJisY2BUH6CgDg0hd3W7H12anVEvWOfAVJYa+2j4rBRj3nMJrB7585tL8drrbom99vJQSnG0iKuTwllakfF1y6Cgj5v3r1sWpXHT9Y/Zc5pV0TFLWVkr12VWkLFgIqBG8eAYKEcJNAkZRUmXPaPEVDdVHRmzy7BHN1T7dlAoU5oloSy410SSplyaSQSg7BNmSVNBkpO6ONwAlIKc1IbNhKRFMViwSFF/k42QZEun213JIiAB/MflHDnzh2PPvYoRwHext10TfEpBHxSOtdKu49UpR89fzGnrKzCVAvpEtRKZLTWaS1BR3JjQr37pUYNG9AlxEsy3FzqpVDNeqkiSzqxtfbsbnNBlktdtc5s1Wks+NxkM52muiTXevGsNuOQb8oQKW24FIQ40vRYMLvyyT/lZmn30br1W4+fvVBWWss0MFgsipUTv52mus5WU2cuqcjPysg9m9ll+ti0HnEa907qoHMOyjzgXCG2CZI5hV0KmF7Jc8ZGeKdbBcic99jjjzk90qFxNmpI2of7AR5j0N3Wjc83vkwba0A4FVtQrqibnVe1WpOKARUDnYEBkjD07dsHDiqIT+OFR5MEII6feKA4NoA/YQd0SPeN5PXwwcPsPpg6dRpZTYj7JfM2wSE7tu9g9yra7ZAhgyGVGJDxTz366KOclEDmky++WJ6WlkZm6Q3ffINWPG78uNZ22XZGF9tVB0zyUqm0bMOF9CMX80rZcGSwSp5mG2flWWFXQrwwWauKbQWl5eculpzPC501rnfqlbSV7Wqi7UIwuRbxWxapOs+ya3nVya2eFdke5jphULbBI+Qsm1jR+eM1U5m5Jr+6slBbUeIx+C4pNIXUn4620C8pW22Uth6sXLz20MX8GqPVzaJ100l6m2hPcFEK2Dj3VvTTml9ZW3a4uKhiz4K7Bg5I0LZqF267M1c/dc5BSQVCFpiHHnpInHyi1ZKOi6huNuaTDdypWT+VYxy7p7bRrixStPH82/pIjLZ8Xa6Uamvqw8PcOmVUvq3o+NbCTaZ+bHFYStoTYPKt7eV/HOCxsbEcswphxgTVtPNNGaq473h4NY1iGyvnvXNMUE1N7VdfrSEvxLM/fxYj7bvvvTdhwviHv/cwmmt1ZTXH7bEbnpxWkEqScnAafFZWJsfFECQxbdrU0WNG314OilRwsUz6cMX5bQezquo1VjiQRgfTlI3bZGLRCeMZgSIaW63NraGyYeOe3KrKhsfuGRQX2pLtdXAKOWGfdRfN6Utrjmxwryl0seCSVYrIIowSSWL30Fn1tnpDZX7VqR0EGXmM+Z7kGwX8opSkRTKAyR45Z1m/9fTFfKPR6mnViKMxsRJoMQtqtFRHJ82SWbjXRMUGs8l29HzJ56vSA+cNTwzrhA4656DYJUgWIxRH+VBJ8kEzLUgIRxrSAYMGOMViyxhdp8W+YzfxyTOKNSZp0dL0jHOn7509bWT/Ls5x+h3r+XemO2TN3b79g0UfkChq/vwH+vTt/Z3pmdoReANZfDuMB3J6zJk7lxRd5HBWYpHQVZG0KirKyQylONKgkA8/9DB7ZMmfgHaBoQ5jr7JrAKMyeTQ57qbDANz4i8LCWSet3py3+0RxudHd+v/ZOw/AKKoQ4PXgAAAgAElEQVS8gc/W9N4LkBAChBp6lS4iiCIoqKBi7/Xsend66qmnYi/YwQJWkCod6T10QksICem9Z7Pl+72ZzWaz2dASFD93jGEzO/PK/73370UIQIJw0nKd45yoKoWrp1kkU9GZJF2pQbvzUG7Iqn03TegabC153vyBNGyhtkw6sL4waUVg6SmtqlZ43iJ9ijEpilmb4xcSitAz680VPpVZZQfWuwe3Uw+cIGmsHjl8l1Mmrdp87Ehaaa3Zk8HLnBL0UpBG0pCzAWiaP5gdbcnTd6+2mA6k5K/aeCj8igQ/kb+rWZfzjAoi9wfZxt3dbPHaJLfEoo7q8s/lp5o115Z+mdWGfFabpZXrs978bIW5tjrYT3XtuL7jRnb392oB7qalx+tqrxEELNKyZctff/1/d955J5l7HfNtNXrcdeNvDQFZQMLMSR7vyZOnuLk3MkgJUnRxQQj31A37aj/8bnNKLupMkddM1lQzynqHR1lcs5hQc0paHtBKtTpLebiv6oGpg4f1bBlzYUPAGKWcI+WL37YcW+8D+TQjhkDmZBlU8SJB+lTAKJNAWbeODKmrlNzzQ3u2vvZBKbKnohUmEGLdPuO7szbllhgNFnezSie3YNSQVw0dtWiXSlhmvI2hojI1phcUEgZ3c3HnKI9Hbx+e4LzW8DksojMGzSJZa2rKO0YZv9OEbefQz//HR6GgbNDte0s//WZplRTo7hNSaCid+c2KtIy8ieOGxLXSuzVSXvx/BMNfeE6UViWj4fDhIzBPkF5O2LSIWnZdLgg4hYCM1ikxJFx+6/LDNHjwIiOfjI3ojo17MrKLa81qb50c/GNH5K20lMcYOFRUmQsExyx55pYaft96qGeXnn6N+ASnsDmHm9VFUuouY16Kv2SQ42noUPFpqmvDOhCFfCqjE7pYd1W1tiStZv9Gt7AESeMJRSQOZvueo7klJO2EdsrPi9yRkCyrQ6cSYWi3LLKrmEVrUXll5NXsSc5oFxXdzPk5w/G2DpUPF9+2OIfVauLRvILS/PJahUNQHrH/3MRLDrcF73Q0o3b2vI05lV5qD+9qlUe1Lszi23Hpxox3v1i1KamkqL5sMxvXdV10ECBV/fHjx8i+Rs2Qt956i3pBhGZddKN0DehiggAJZJyTz4tpkMpY2Mo5pdIBrJ8mHUGfchQ+F7iIHyHoCcUmf2A2lOUkVJ5C6ykCRrU1Fo99KblpeS0zK3saJhkKTZm79dBR+uILeFZB/Ox/qN8rSvgqlL3uN6bNWh9jkSEzWSrJQf2HWrakSjp0LKPWokY9y/PCtit0t8IlScxEzEvInbJIC4PAPSHqqnne4lZm0B86ltmgvuB5zdUZBT2vhv5aL+XmFy9ZueXQieIa0l/IxPNc+QQYp5xiaf7SLQdSCohVMklatPBGyd2oDTC5h+1NLf74mxULVx3PLsXNja3yN4XzxbwrMFYR6AxaIXCeeGWK1ZA5JDMr82Ies2tsLgicEwTST1XlFlARBH9UxZnKiaTALbu74iMYi7oclTXSoaOFTl44pxE4PmySqkqNRVkaE2USzoR07WmoaMeiMxurSgqkimKhqlVJRcVSeXmNRcSJWhGsMhdFQ22zptqGUBepD02lPoQuO6eItBLNvP6mmD0oNCr5RMGXc37bkpRVUoE/97mBkR2G99Dvm49v3JFm1Pob1e5m/KcFEdUbJPdarZ/BPexYrurrX3d+8eO2fcfKqlE3WLsQ3N+5deZ6+gJBQHCqFhxALh97ee8+vcj5TBFvQuMvUG+uZl0Q+OMhUFhQXlWJLKrg+bPCPOIhIaxZVFqPDGJfWnLQtG2UDBXqqlIN2fvO4ZLFS1mcNDAfA8o98TqJFHHAJUayPlhGJpJNztOq3pV9dc3aqkqTwVo2/hyG4vCoMzvo+bfW8m9StYq601SlJhcXafkIkaYAtZeXF2E2VJ087/78fDVdO8V/N2dJTu6K4UN6jBrSNSJIOktYsHQQxM17ShauSCqs1Et63LnEBhUKCdnni3hgSaXXuPuXmCqXbjyWlVc6bki3fj1Dfd1JKPU3ZVnOe6Uu3Iv45RHVh0mLYD4Km1M7wRtXIu8L5H144ebhatkFAecQACOR9oGoFYUoOn/I6V0hHFpI4lZZWen0++bdlIdzRgHUoQ+eV+I6SdFKknOhhJZEuUVrmkmZap5Jpq1rUtFeU1YPj6PmTUXg/Iv7IullfkH+jBkzgoNDiGUmzCY7O/vgwYPXXnst/pPnV6eJGbtppMQu8asjY5KPFxf8tie7sGr8yC4dWnvqzoLAwdFhHpg7f2NajtHiFmJR61k8aKacz08kvycOCSJKng+zWldrdt91tDy/aGtOSYfRQ9pHuPDzxbTfunXt1qtnLypvJ+1K2rtv72WjRxM+eDEN0DUWFwTOHwIQFLkUbpMimdOmZdomUJpWK4e+tPiFnyyp0S0EojZ1KQNo9K017kbU5uU7RkbmeZL+qyuF3xD5vcULpxuvohQWD5FXiiF4eGrdmx3NcrFTUHwjSYqUnJzs4Z7WKSFhwlUTdHr9fffdu3379mlTp503BWVbxYbo+yR2PJ6xo7hav2LT4fRTGdPGDR3QPQhv7tNf2UXSl3M37E8tktyDJfynrZ5kBBuJCF4M9oofGFoQotG4SZrkE3lVs+dtTUnNuvXKIa0jbdk3T9+P69sLDgHUGPBh2D7haMnQFhMb4+7Z7CN1wUft6sAFgbOCANTE04NkpiKmQ04ab6VMdU6ugto4oTjiKeHJ465T+Xq3rG86TVMqxVfnF2zIPSE7LcnqWZlg102pns7VT1IJayFZrsXi5uGp8/aXVG485+3Nj4elEJ2gVvhHyxZc+0tpVEbIfBTikUhjRPCruUZlqWjVKogCMM28zkLmamYPzX6dfB9ZmVkU2Z50zaTuid0pJUleLvzhdLpm5f8h9VP/Xp38/dxrzVqDKmB/avkHXyxYuvpE2Wlty2VV0pLVyeu2nVC5h9Ra3CyoAgWltK667BCOu5cFw73sTMYvnVntZdD4lxoDV25Oefvjn3buL68yys5wzYaMq4HmQkAlUa22N1evXuRodJq0srlduN53QeBPggDYKCI8wMdbqxYut7Ihse6SEZZCXxwHJ+cqgtCYLMbyDnGRzh9yfOns/4aC+quCY0xaTyW1kIwIlR+lEfsO5SErYTby8A1qN413kOTup1SR8XKXOsZHa1U1KuH5JPCwFRGLFq3N1onR8rdCFcz/JrVU4+Nhbh8X3nyd4F+AgqakpFLcOzExUcmRVFoqCCrJoL2aabJSS3FRmkt6tZNqS/HmMmiiT1b4vvDJghmzt6QWy3bqhpfwHpKkVTvSVmxKqdVE1Fr0KjJIyeRT8bzmcRaNVIz8KJ/5UyapInWWReNjdo/allrz4sfzl2zKLzM66cKxS9fffwwEWEKRgPqP6czViwsCfxwE2kTrYyP9NZJRJMM3G8xkuJOpi0xexI4XJEV8FD/KZzUJCFRmrao6xE/duX1Ay4/VzV+K6Wv2IaWeXlRWUy6RTd4B6YJxlWATm4SiLtcHe7fpKfmGKQKlt0oa2CMm3A9VtYh4gPajBcREKoJMVcQ/gIlF1jh5XvIl0DV9Ej1a1T7SvUe7iGaLoH8Fx5YjRw5TYa179+5AgJh3cjeXl5eHhYc7Jrc896X2cpMuG97L34sdRTSKn1EfovGPW7bx6JsfLtuZXFvFOti1CeiPnJTmLd99MtdgUpOAUYcAavMBYyMoi0QEkvKWPVsF90M6ylrJy+AWllmqf+fT+Z9+vflUvnWDnPvAXW+4IOCCgAsCZ4AAGMnPS+rVOcLXzaQnChJyJQtqvCYTUUFHxec63tH6Jyo0yeCpqerZJSbAeUHLM/R7hq/VHlJwW3VoXIXa2ywS8Cndyx8EgeOqG5D9R5VbhcZPHZ6g7TlUtp2JC6wbF63qn9jGS1+rQjELwhZzsrYpT8eaWkFpSSalZo2lOsDDOLRPXGQgBLSxrKS0fba/L3YZlCJrhw4e8vX1bd2mNXPCLJp2Ig3QRISHy/k1mnMJ2LVupR4yqIu5tlQQZ2riaAI07jG79he/98niFRtPZZcJt1vlyq0i+nPb4RMGs9bbqDYbSfYv6CLBvGKZFFW7zNYJdk6+WT+2ul2rMau8tB7htarQ+cv2vPXxou37q8tsHTRnKq53XRBwQcAFgYYQAAN5aaR+XYI7tvbTGKswhqpUIrGfVd8C9hJZBkTpEusPBkIhkBoRQDvG+Azt38WrpemDTNXcpMBwz74jq/1a1WookgM5ZKT8Vj7IaldB1ekbEUX2m1VJZWrPcr/Y8N6XSn4k4lNovXjNz1Ma3j+2a3yoh8agshiFg5BK5Cbkx0zQp2hBlnNEmyLLglZl8FRX9e3Wun9iK7kSatP+TGe3nTTPP//82T355zxVVFA0a/YsDw+Pm2++2d3Dndy83377XUZGxp133RkWjizfnEtQOTaUh1/4jl3J5ZU6Cuya1RqTCRcvXUFR2cFjx2pNFh8fL08/N5Suvyw7umBFkkkbbtZi/iQPFQ5hwutIrarRWGq06ArEslKWh3WVWSnrKteNUPTGN7I9X63FHyozp+BEeo5K4xEa6ueBW3ZzpuJ61wUBFwRcEGgEAdANxi69PiA7K6e0rFKl1sL0C1xjRVN2+fREXIgR6VOnqmgTqr56ZJfenX1AjzIiazHkZG0INOjt7alzqywtNVZX60nvJtx+ZQnSJhsLbAkRJaJBX6nzqQyID0wcq+k+VNJhBJUnIF+85+sneXgGlJWWlJYUmVBWC+xrFWlkXkFUdNVSdtRSo1dV+LtXD+gWds3lveLCrQJvI5id242LnYKeTDv53XdziGOZcPUElpICQ++++w50dPz48eFh4c1bWbEG/O/hrc7IqkpNKzFqtdT6Yw0FF6PzqTBojqacLCrK1XqF7T6c++38jaUGH4se/1vBmLENUbjrLKhHqlpHBLipTLU1pAlEUSIyZlqX124trNYGdqkoykfuBa1F41FQakhJPVlZUesfEEyJ3+ayQ+e29K6nXRBwQeD/OQRARHq1FB6i02s8C4vKSytqqi3C5i+TFiqKy5hK0Xzi1mExuKurWoVpxg/vNLJPpK/IGAv5RNXXXFEUdV/DJtSivkpIlJu7h7miXFNZQrZ3yYLVU6GjIhhQoFnkGbW2UuNhDG3v132MLnGsYgGVxVIxMtpk/O5qKSJMGxIUUlNdUVlTXUWaOcygQujkWzE/nUhgVK1T17QO1gzr2WrSZV06RjnNa3w+m+Fip6AkicnPzxsxYkSHDh2ABhG+CKCtW7eOjo4OjwhvpjuuAjAIl0njs/tACpVazWpRi0AtHEuEezRrcCo7P/l4zs69J4rK3NQ6f5g4mUDKWgaLAYt0XIz/6FF9qHtfUV1VWlElZ2KU35QXz3bJDI94VX5XMT1oJbUbxdOPncjMzM7z8QkMC3RvWefx89kRrndcEHBB4P8XBAh/Dwv3CgoJMtaWVVUUW8gKZMYfFVwEaTPhZ6RTV+s15SFehsT2gRNGdhnaJzzIwwYCQaoc0dk5wscZBRaV56SgcK1fiOTmW1wrVUn6KsnNoPKo1XjW6nzLNT7lboGV/nHq2H7+PceoOw2S/CIU912BexVkWjcMZhIarGkbHRka4OuppYB4pc5SpVdVemirPTXVQZ410cHqPl3DLx+cMLJ/69YhzoZzjjOyPe68utn5ttby79VU1+Tl5QcGBiihnwj6OTnZtbVGAlooQC/HCzf3YhOdLJHe/XLDuqRCoy4MTy21hJMtYSrVcEYWi8Fk4kdycw8Srl4qbN+CEBIRrJeqIgJ048b2KyvPKykp03mFr96wv6gU9kgo9KGjVkt9PbDFTZHJWY4ZFbEugk4bzaYKN1NBhyj9+KEdhw3sGOjd3Bm53ndBwAUBFwQcIEB6oeNZ5n1HCg8czDyZWV5Qaq42Uljb7KnV+HipWrf26xIXkhgfltBara9n/oUoh+KXf1pUQ2Yn15oNUnmudGq/lJlcVZhprChTo4jV6i06d6/gMCk8QQppJ4XFImw4TKchURd/8X+VQcoukDJyDTmFZWU1BCaiVFQFemvDgj3CQj2i/FUiZ04D0aa52+Rip6DNnd/ZvV9plpatO/7+nF2FhiBJ54baXCM2DBp1KgDwG82uSk3uIRFkJLaUcBWymHDoGjWwk5uv36rVK708VIOGjF63eW9aeolF5WmmgE5dXFWd3VuWPIUoKnT98iIqvBQE1aQ11egtpSHexkv6t71idM+YkIs+WdTZAdb1lAsCLghcJBAAcxHbUVkrlZRKZeVSZnZZrdHMf77ebt5e+sBAfYCv5K0X7P8ffhHbVy5V47dZJdXKJc9Q4ZLswM1DcveV8N1tRD5PM0KIs5HIUaP4zQXy1mklnZxPtUWZAOsQmh8Pc5q5/GW+8lRLfTpHtYs+tv1omUqnF4ZOkSMKbbswvFslR3k9uImxWsRLaaTOCXFtooMWrtpWVFIV5BfoQZqH2nKdKLmtM2C6lluRc1IqPzLRtIqlgl2SL8WdWGtS6Qwqt8yysl9WHkhOSb/rusu6x6Ped10uCLgg4IJAy0AABAR19NNJfkGSFCR1bu2Dd67sOCm8IltWMjvHEWsljb/kxc85vufscdAmMrT+j2IEXFjaugihIe6D+iVoTEVaC+5EiIs4RqPflc2aggTWXwpVhLxqiK1R63y9NDFR/oP79agtL4iN9BnWt32IHyZUvIpEOT5kVxHjK7gf57oDq1Ufxa5aJ7kF1GrDdx0ue/WD+YvWZ5c0v3idsx3muueCgAsCLggIMxLCmZv43QRycgHpzBC42D2JzjyDFnhCeIrBSvgG+m3deqCimgrm5D6GbMoByIoqQHyqI4HCjQsyairIyzWbTN17kewhrrqsWqexdOscr1NZ4jt0SDmZVS208DhVK5pbIciKfdqQjMp/CYdyxffMKKJLtTo3n5Ky6p1Jeym8HtcuzF3r2t4tsMauJlwQcEHABYEWh4CLggJSQcggYp4ekqnWbUfSMUnjYUbzLkcjyVTUjnyKFRBEEVW9wSSlZ5fsOZy2e+/Ropycrp0Sag2V6emp4eFhObk5FqMBWdZoNKigx6IOgUx3+VVHRuWP/AiBVxhcJXOt+Eh6JI1K42tS6Q8cPpaZnhUVER7iy2BafOldDbog4IKACwIuCDQLAi4KKlNEmUChzAgJDd6alFpcQbZ5D2HIlD1+GhEvhYKqzULPqzFisjaYKVkaEBCQnHwoMDTMYDTqqZ7WtVNQgF9ebh6WBpNcycfmPiSvGCKt+JEpqghxEb67eI7J7kbk1RIlfDSajJTkUycOJ3Zq6+1T713erAV3veyCgAsCLgi4INBCEHDZQRsAMtRfGnpJV5Wq0kJ4r8iRIRJKNbCCKo+LAnMaNZnlVRS7w83aK7vEmJZdHhDadndyxsatO3zdzaaqPG9ddef4qLAgb3Ici/TyVhpqo8mCfMpJOOhIrbZotWad1qzBeUlDAmjczM0eZsnb0ztM7+bZQsvtasYFARcEXBBwQaDFIOCioA1ASboE8hTHhntSsEUliupRNtvqSmvzqZVfsP4l5EXhLqSqrLEkHUjdezirplbXpk2H6lropWrP7l09usRGBbv5ulX56qoCPS3RoT56DeXPhFhra1D0ILyWiHEm2FS4H0E9VVKVxlSYEB808aoRgYGuopUttuNdDbkg4ILAhYWAE5njwnb4J7buoqCOwG8XqenVOUpvqZAVqtYIIkHt5HhO+UdWuCqiqVC+ihRSlGoprVYfTy/Nza1Qqd19A8PKqw2eXh5BfloI4eA+7TrFBsaGe8XHhLoJLyUhfNKO3CwfILck5a2lFo8o0I0TL9X5aktD/YzXXDmgfZzv32lDOi6H628XBFwQ+ItBoJHd6y82/nMZrise1BFanm5S727tNu5MPVVSptbrlHAW+4cU71zljhz0KYipnHVBQ7ZbCnRv3ZMWEuRRVZbTvUucu7fUtXvH0vIaN62P3t1vS9Jhs7FSZdaRn0EJBVWUxPj9kgvSjE6Y4juSWWcq93WvuXxEj15dI4lx/jttSMflcP3tgoALAn8tCFC/2WCoDQoKrK6uJnPcafBXTnbOkSNH+vTu4+75V1WzuSio4+ZE6uwc79+1XfipracsWi85HYYjCav72/ov/8gyKVRUa7BIhWXGovISvcrg5hVQbZSOp6ZUV1cO6NNv955Dft5uXt5+GacKympMcpwoFlDeltPNI4oK/yKTlhoCppJ+PVuNGpwQ4N7spM6O83P97YKACwIuCFwoCBQWFP773/+mnLe/n5+Pr89zz/1TS0KgJq4TJ0589913JDmPbRvbxCMX+20XBXWyQoGe0qUDu6/blmqQjNWkv7VFgjp5tu4Wxk2IKB5AKnxvoadqi9n9902Ht22zmIzFI0f0OpV1KjTUv3OvtpWVlvT03DVbkqvQ2oqLF0WdUWEHVRvJhqypzmsbrplyRf/owAbk02QwnsrMNNTWkk/fx8fby9PLzb2Fo1yqq6oPHTrk4e4RHx+vaXrfnwYM5/RVdWX10WPHaqqr/QMC2rRpo9Ofbjcaa03pJ0+6e3hERDjW5DHUGDIyTuEOHRYW2ojbESOymCzFxcUn0k6YTKbQ0FBOrFp4PcuskVnKLyhIO3GCRMe0zFdOW6CR4sLiU5mnGKe3j5PMxacyTlH2ICwsjFq29i3QdU5ODsHBsspe/MLzmqzOYaGh2rr5kvw5NfVESUkxleRjY2M9CKtqdBmqDaknUkuKS/wD/OPbxYvaBw0vyhZlnsr09fONiIxo9Lbg75AMCLKi93bt2nlR8qruotIRI8zKynZz07eNbevl4zwxDPVz8/MLsrOy2IFRkZGA0TZ+pSUeoBGA0KZ1azcPxyymjYdEfd/0k+kMCWjExrb19fURNQPly2Q0MyRqSLi5ubVtGwsibvw6d4wGY15+XlZWFl1TP1hOlF2HrC1SbW0ttYQpTQE827SJ8fOnFOWZL1OtKTMr02w2R0VF26N+CEN6enp1dU3b2NjgkGBlqDga5uXllpWVyTtJlLD28fENDg5yvoUsUnl5+YkTaZUVFbQQFUVlEjsomaWMU6cMhprw8HAlB/iZx3rBngAITIFYgAYTkc+LBYsT/5J+zVCrI/GPcoiUkYhvxE7r0qVr+/bxO3bs6NixI0EFypfkDzSZzQ5nnEZKSkqUNnmR48kR0ZKFT2kJKUMlGQwGHDZ1btYkQxwoowmbl8hHKwbACTaaObzO6TSaQb5jaTjv8tjokXmpWyKhujLI0+Es5Ym/4W+AnZjg26trzNqkLMkrGkOliDdxRFn2gFG+EwmIBJIUKl20su4FZWYyHIWHhhSU1Jbk5lxx+aCv5/5GzZ7BA4e7UcTWmnJIPCyvrkkyVkimQk9VybRrJrZv40jBFi9a9Mxzz4K/eNbby7tV61bDhw+/4YapoWEhLbVGsIQPP/wwZ/vzzz/30DnB4y3VEe0cST7yzjvvLFi4oKqyyt/f/8abbnzggQcCgwKb6uKrL7/83//+17lz5zfefCOuXZztMU7IG2+8+emnn/Tv1/+tt9+iYo9DC5DeH77//tPPPtu3by/rCPmhncGXDGZB4RjmzJnz2WefHTqUDPpLSOg4Y8aMPn37NB7Dju07eGvL5i0fz5w5dtzlDg/s2b3n1ltvq6qqfPrpp6dNmyZ2S92Vn59/3fXXp6efZAOBIBTK3apVqzfffLNXn148tW/PvnfffXflqpXFxSXeXl533HnHo48+6kCkIc///e9/lyxZWlxc5Ovje8utt9x7772hsAvKJaPmF154Yc53cwYOGkRrEZENgFBYUPTmG28sWboURoEYqUGDBv7zn//s3ac3oCvIL3jl1VdXr16Vlpbm7uZ+yZBLnnnmme6J3RtD4JdffmG9jh49imquVavWd95xx6233Vo/TrO0du3ap556qqio6OWXXp5y/ZTGLdjfycvNf+21V5cuXQr9o98hQ4fQb7fu3XgGHPfF51989PFHGekZgGvIkCFPPfV07969Gh/Ar7/5+uOPP05JSQE3t4lp88D9DwBqD1kfmHI85Z1336F94A9HOHny5Gefexa6dfpRVVZU/vTTzx9++CF4f9HixQGB/jxP48hJX3zxxcGDhyB+FInijEyeMgViUFFefueddx44cIBTD6KHtR03btxLL77k24ha08i6deveffe9rVu21BhqgoOCnxJbZaqNWmzdtvUf//gHPNC//v2v6bdMP/04L+i3mzdt/uabb+CWunbtcvfd9wSHkANQvlTS1i3bvvjic9gLSCPzve+++xcvXhQaGjZixIjc3Jyffvxp7Nixfv5+VZWVs2bNgsXnSEK9YP5WrFjxy8+/sEsHDR40ffp0nrFNgXOnnJdff/113i/zaHbosGFUg4b1+fHHH43G2t1JuyOjIu++6+7Ytm1TU1NATaApzGewyxS3zsvL+/STT2GOExISQCABgQG2ljes3/jdd98WFhZ27dr1rrvuCgoKWrNmzU8//QTHw35gpaxktXnQdFFQ5/Dz9pBGD+u2ac/Rajxyz1y40+pbBIsmMjDIzrUkNjLiEWSxZGSX5eQXdY0PLCmXKsor27Zpg6VTRTwMAai8IIRX5CGKp5tVxgp3c+l1k4b17xMuB5DKrG3dlZ6RAf6aPOW6HomJhUWFVpy+Zcu///18QqeOzqfhcLdhg41f4WCzt+Dl3dwamiXO9GLjpk5/p7S4dMZbMzhXt95ya0KnhFUrV335xZeINffce4/TFyFREE4OVXZ2dk1NTT1kLNL6des/+WQmpyLjVAbHz+F1s8kyb94vr7z6Svv27V9//XV3dw9q+yDq8RiSK5jx9dff6NatGwRJq9WCzZWv6hsxSzC8VKj9+KOPsrKzcvNywQ4OXZSVlL391tvQSEZVUFAIP0yck+0ZaMx1111XCqPNSmvUCDGLFvjlgZgAACAASURBVC1kIgrWSE1JfeE/LyCX3HnHne07tIf8+Pn5gVPsu4DMoxZbs2bt1Kk3wECsWb0GAsNj9913n95NLuFosQDJRYsWVVRWZGaegpA7jDD50KHlK5Zfcsng6TffvHnz5nnz5zFUWAp4rx07d27YsH7kyJHR0a1+/33twgUL9Tr9W2+/XY835bZ2bN/5j0f/0aFjh9defQ2k/8UXX0KfGPCYy8eIry3S8ZTjs2fPPnXqFFNALnQYQOM/DxzYv23btmuvvbZVdKv1G9bPmzfP29sbroJ5gUZZr/79+4MQafCrr2a9+eYbLFN0q6j6dizSpo2bnv/38z169rj//gdAwu+///7bb78NGu0/sD+76+WXX962ffuUKVO6deteUlyMsIIc03gY9ndgU1757yurVq/Kzc3lICAOKt+ivfj2228RDcePv5LN8+WXX732v9cg2IMGDgLgx44dT+iYMGDAAMQytlDHDh09PZ3Enu3Zswd9poe7+5NPPom4TJh4q1bRtt6Li4q//vrro0eOVlVXQfJPP84L+i18LQxc7969YbN+/OHHkpLSV175r0Lm4cOefuqpqOjodu3iZs/+OiDAf+rUqWwn9FXDhw9DRv/999/7DxhQXMJsikaNHAVPMPOTmTBAW7dug6uDmgYFB309+2t0Aw899JAiPjIXeAujybRi+coXX3yRqs9ajfajjz500+s5lT/88D1kb8xlYxYuXDhr9uzHHnvsww8/OnLk8OjRo3/+6efIyAikSfZMVVU1ssT3c7/npPznxf8ooz165NgLLzzfpUuXQYMGQc7ZlhwxqG9sTOzgwYPRbTTArc2AqYuCNgm8Hp38E9sHbT9eLOn9zRKoSnH6cfK80F4oKo66ZQGDKnZNoc6V9NR+T8mgBJo0ZNgVHm76nXuTqwwi3IWXhIArKq0bteZyN1XRyP4dJ13eCfIlKGhDqZd9ptPpLx8z5oapN9BdUXEx+/Lzzz9DwHr8icfR/KDLyqTSaHa20WgMCgyKbtUKZ2Blj6anZ+RkZ4Nq2cRUVwXRQwnAAorWC6UNGJDz37p1m8svH4s2Ty0rCSE/+Xl5UCZUc+AFZNPg4JAWqSiXmpq6efOWq6686vEnnvD28erZo+fJ9JOLFy+Go69XxNVBGjnpow8/YtOPunQUFdeZnQ0yILsPPvggLCy8e7fuHN3Ga1NUWAhrHBfX7o3X34iNixULxcJA4SwSSjn44h49erz++v+iogV2Fl/ZA53lUUulRaUH9u8fO24sr4jzqW1wZADRkqVLtm3fBufx29Lf5H3Q4EKFePc9d4lbIvLXgqgH2w52ABNxZ9my5XhSIH5NnDhJr9M5NXrzAARy9OjLkFFgsUeNGnX02NFNmzZNmTwlMjqShmkTzhriiq6ypqbagQDzADwKCBrcAQwnTpqYfDgZhXB2dhYUtEePREhUfLt24J1LLx21e/fuI0ePIOk6UFBYN7RtsO03T78Z6DGRZ55+JjfXSilBglu2bDmcfJgH4DbsRXAHaNj+7JHYA/YlMiISrmLkqJG7du2CjSgtKQWBfvnVl+jSn3nm2W7duyKPIhcinWBciGaNbCdCJR08eNBQa5g0cRKSHEOCKeE4FBQW0MXS35auWbv2H48+euuttwqVOG+dBQvInmQLPfbY499//z3CulZrVRuilodvwFAHd4X8DYVDTt2/fz+IGH2Tu7sbCP3e++612gXkPeNwsUk+/fTT2lrDK//9L1K+MgsRaq48aZFWrVqVtCtp/JXj4R6Q8Oq/cmzpgv8NNwMbii6BE4Hs/t57791/331tYtvQMeliEPhgfBHpgOfa339noTVqzquooiFLDTxlSUjofOONN5WXl+Xk5rIzoZdQ2Tat2zzw4AMhoSE0vnXrVuTCsPAw8TToTxZC58+fB/fz+GOP0xwc2HdzvoPljQiPgE0cMWoEsN2+fTulok+mpXXvnjhyxMikpKTExETGs3PnzquvvhqlTtdu3fbs3VNWVq5oDjZu3IB1AG0BWI5tDxGdNGkSSAwFQNu2bVEkKCiu+QB1UdAmYRjsKV09qvuRtI0VFn2NSgduFRpaZ5cghGI7yDtIZEiwXuIVzhNeQipdQZnxxwW7osP8Kiqqs/OLqs1aUSMUlI31RDxnUNcWdmnvM/mKgf46a8UWh66UHSpu0o9KYqPcfvttbJTVq1dPu3FabGzsypUrwUoYkDiDer1uwlUTrrv+OmQgsBvKLk4+4wcLPPvss8htHABYe7YX7R07fvyZZ55mByOKvf/+e1DKRx5+hF2btGvXZ59/fvToEUiLyWxKSOh0yy239O3XQMlZXlaenHzYxrArYw4JCY1v385h/PZ/wtcjSsbFxXnKNr+IyMgO7Tts3LQJ0u6glMbIsWrV6s1btjA2PPc4kxj8FISIGQzmdO++vc8+8+z2HdvB/o17PHL0KAQDTIqVlNc5rSBExf4EVYA4Pfb4Y256N2yEHh4eiEE2rZoVzpIU4B/w6D8eRTaCSgnLUMOLNubOmdurVy/O52+/QUGbvuTYYagsCwSjEBoisMny5ctgaKDi1JHnTbRbnh6eDigYYyHqL8yBJL3iGdBQ7169N27cCLWAggIE6CsGyMcff/zr2bPTTp4EBTsMArpr026xAdzd3WlQ4RVAZAou4xXaRw/J1XiaWIghRehLEQrBmHv37sXgitFX6YhOf/75ZwSXXr17Q37OhoL6BfgxWUgvtX6RDxhzCJoPdzd2KY2jDOzYoQONI6kMHDTwhx9/SEs7wcP25itQPNwM9B6WkY195PCR0JDQIGTHGsP8+fOxqvbt21fIQ4j1/n6sfj1MnFJTi9SzZ8833niDPbBkyRJ7ALIluiUK9TIXuhmUllqNht0ijrqgdpbKqkpQObsIe21j/o+30E+wXkjVMbEx8HyMlu3k7mFV82DuRQSHy7l01KVQUPuu//jPcKscEIxEdI3FHXpjExbZtyABjAjMEazCKiPWgyWwTcAKYE1XcN+e3bvfwY4QEc5WwUADkODqvLy90W3QZkREBM+zlMrUAIVFBmJpaSkHDVJH45GRkegnYJQBEYDiSQ4Fb9E+g9m2bSsN8hlxn/bBJMmHksEJWq0GwddDgapFgvFinysT4YjxOqo10Bf785VXXrn00tG333ZbizgAuyhok7sU2bBTh5hO8ce2J5eqdT71BEwmk05ek1ndxl8IQ7YwjmqKy6pZaWROkg7Zch2pMJiaayVDblSwevylfVtF6hvKQY36sbHhMnLv1rXbosWLigqLOMDY8DApTZt2I9to/vxfP//iC+yFKDFQr8Gw33fvfaBRdhvbNCAwcHdSEqQXixoj3r59W1LS7ssuu4xTgVaKw8CAOTBwoIeSD6GrgcWD6YaEQCk7d+ok/FDqhoERaMabM6qqqmxHgoMFe47A5BSbKI+B0WDeQX85ObkY7ZBvODDwmEVFjhQ0JTX1hx9+6N6t28SJEz//7HOQu7CVykjw8JHDUNBLL70UAXH3nt3WyKKGAAPpI9kcP3585iefZGSkg7Z79uwxatSluHsgg1ZWVTEvqDJ4LSQkpE+fPugzoQ32beCzY6MxDqTFUFOLpQ2N+iOPPkLLZ9QTguu/+fYbtF6otmi2pKCE4fn6+mFiBN0Ac+TISy4Z0qVLZ8VRRRkGblZw0xj2MjOzsP1A/MA4JaUlFeUVPJCcnAzGHzhwQJ8+vaGg4pXGW9BuPghzJ0+mQ7NFmEHDC1AAK7Rtfr71ZirlERh/pL1169aDiSCxy5evuG7KFEgm34INf/nlZzDggw8+KAizjFgdWnb8U14+rFn79u0DAy5evAQ6NO6KcShOdp/cjZwHLWfKylvQaQSd7Kxsh7PVt09fSM6SxUvolM2DzvC6Kdd1SkhgK8IYsYdRXNM438KoDR0yFH2vYI9s5NOBjqqQJt1R5MAR1kHQCRwRnnbs2I5ZLj6+PYwOg6w11q5YvoK9BLJm+fr17x8f3852OpQpoDhBXkdKxr7IQsPGoVseOXIEXC8jR8JOSzsJXytY6T/7ahsXV1RUDAHDzYLfiJs+3lY3LugQ1ah27NxRWlbKwoEeIZ8AjeNz7OhxhFeUt5BDPnDc7r77bkRPpgzmwzpzYP+BAwcPwN9gg8BbTaGLCh2FCENCkThRq8inWEW/aMXh2HhAYE42izCVqlhKFMT0CPONFR8/AM4jqCmxRyK0EzclwCerZ8Xuim4VzWLtStqFXm3Zb8sANUwPZ/yOO+746suvNqxfP2nSxAhPZz5357gELgp6OoAFBqj69Wp/IHVHCc5pQrEpUIPIqNAUlnJQ9NqdQUUeNaoo0y2CVuRexddqtUljqdJZiscOH9ynaxvOOF87SjpNjBGOzNfPDz0J53DL1q0g0/vvvx+SqSD6f//r3xjh4cTLBapVcez79e0HmRTssyShKFvw6wIMRXxGh+bv78cuZJuaUTkxRbV6/7797GmkWxg3mGuIYnZ2zsqVK9D3Kh4fyqDwTZ08ZbLQrCqXjJhiYmIciA1mEvxIwR2MFeqFAIESZu2atZwHXEMZ+YaNG5DJHOSn2ppapDQ0ybiBYBERrIjsCsiFRXnBggVg25tvutnfz19IyYoTtHUc1n9wcOXgofPp3LkLuB1nouXLl9PL9ddfD3otKy2FbLSLa8fEsdYgzPHa1ROvbtiG/Bcsj+z+Z//VgQP7kSlxo4D0Hj582AFvOjQCXJctWwYqefqZpznVLD4cNKxDRUUlXAiMP1zzzJkzGQ/IVNEqKy2gcYKsAp8Zb76JMwV8AKyPwD4qnG6MyGfQjCuuuALhQHneCeKvG0p+Xv7cud+bjMYpkyc7uFxlnMxA0wtng07M3h1DeTXA3/+qCVeBPUH37DcEta7dunrDSFkkNByIUGPGjAEICokVWsiGV01VTXYOxgUSb0m4kWMLQIfGTNGtsakAXRvZkxYIwxmwl4Q/cx0VRvOmECru2/NkMFKXj718566daOlrDIbWrVt17tIZtAuShZxjGwOqsJhsKqyY+IX+61//6tS5k22NkE3BsMowcWTDuqF8ZgzigzNaVl1Vg7IRk/z1N9zQsaMQkRGaEZdpCpigWl+2fFm/fv2fePxxxV5gg0FJaWl1dRXThBohVwld6Iw3s7IyMQfCQn3//Q8YHfv17YuisiHY/oS/Bg1E5h84d+5cdBWwhtAbHz8rBcV7CBMShw6e5kTqCWzwkCu0Lz98/8PMjz8urygPDwtHWISnxyCKqYLzJbgfjXro0KGsNdwDXggwHBg7Pb2FqRhswHohlcLxs+vQCWGnhJrS9c03T0emZIu6uQtJHY5KbA9R4MqCbpnPiAS0D7qjNU43vCmMXadOnYSGWb769evXtUtXJE5PTy+s17gmcXYXL1qcX5APQujbr6+XLGc3/3JR0NPB0E0tde8YHhPhsS+12KzyN6sVAdHZ8WrUTAOLGtRSNnjKgqyCG0RqPwiW2lSiMWRfNiT+0sEJQZ6CfDaFAWUa3OCCJBAKAn5hn7FHMfvjD4k5B1wDOiaCgv2K8mTixKvxVkVDhdAw9vKx0ELIHjorkC8SCUgTNwdFxcTZFlYJeD616uTJk/j9cmzwqaNXNjEsNv7ARAgICspQ+FFLEDbeBU8pI1MQkOBb7YAEukcO3rZtO/eAw4SrJ6DzRCuLOwD+lpwE+FCoII0I1Gl3IYBC5uExMV3Az8IKMCM+MLW9e/csXbIUH05OKRYXDrCxtpbjAe2xx7NMBw0SHivotMHF0AAMeKi7MVti6IJU4OYDEoTeY57BJwtN7JVXXulEesbZS1R8lY1U8oXbwrfffoefER4l0DBABydTCn9eUhIQVO8QaJsNGHPRwkUwzmPHjtPJwhCdoodEJn70kUcZNkvGKoF9rr/+hnoKapFgONCxg9SQwwqLirBSg0HgSGA+1q9ft2jRYrgi/FywHmEpBwhYMbGICw6m4T5FZgWhrFq1ctqNNyLw2Yu5tPbVrFlAAD9JoYpoJAyhivjm62+QEdEEwLUsWLAQfQBbAicaqD4yweBBg7kPVWJ9WVD6EopTsd6CGqGExytSUVSw8W679Ta8VUG1eEiCzsCGDOyzTz/DUsuwuYRKsO5iMyOJwPYhidptDQkxCKUI8iVjFoLsosXgXzyACOZhDMg0Dz7wIIIUGwAj+py5c+BdwLA2mKBWRbehcGxDhgy9Zfp0JV5CHFtOKdxSHa+mdAozx7ZhstBpHoboch+C8cgjjwJ1PqP/RM/BARk6dIiIbrQDPnwfqm8M2Pfccy8OOGh30NCsX7/+inFXfP7F53gkXHLJJWxs9g4dV1RUoHoWTMxZoRl7kLTA54ioiCeefAJizzCioqJZLFujaJ7uf+B+GAg2Hg4ZKK6gocOHDWcb4MeH6QfdA4gFaY8H4CrQ5bBqUFnWAq/dlJTjbEtERlCKtU2V1K5dPL7rGH1g6J988imIKJgHlhGumjb5CsaIhUBkR7ULm4J8zFmmnCQ+E/D3WEmnTp0G1YQZ4nSLlusYL/RGjJYG2ZyMCpci1hruAFoLQoOXQs/fAvCS65G4riYhwHK0CXfr0Tk6+cT+GguERF+ny7XubgVF8L7tg/KZ30KSa9hwnQCj3IahAhcbzdV5Xdv73zBhcKQcx0GPglF3doFZ2EP2YlBpacmxY8dwxwDJwuQKLiyhU5euXcThV0n43fTq1Ru8gDMbbB0CEOomSCzKXpQkeDRA1bgZ1zYO7I/fo+IKYaPTaEWwUAgUI3PlaMAw/9Asw0CcEnZ4bpslLPk0qPjHythSTJz2n3j8CVtEKS137Jig+CiCm5D5IFGILBw2tj5UhNPyv9f+p9XprKpFpSFJQtWMdwDWLIQn0PrevfugQ0QL4LLL2UDIYDDHjx2nVxwxaIqIDnSJeKbY4Ceri91jY9u2jmnNTVx46BTLEy4qUGuY4pg2MSh8+IpjSVk6xUzlDPzUzRGn04bH6W7FiuXIkZ98+onbLDeQeH5+3q/z54MucZ11RH9mCd0UOqUJE67mnCskioFxmOGF49u39/H1BnDI5ZBwYiQcBgAPAYZCtAIHoXjA80hY3Xx8ITwgpk0bN2ZkpEO/t2zZDBnDZ+rBhx6EBxcLWnfVVBt+/vmXr776akD/AbjY2EQuvq+qqII8//jjD/gB3XnXnYp8IN6rWwUYIGJ+Nm/ZjLck3AY7kG2GVuDXXxcQyYoXDIMh+IR1RJmJJgClNFvxrrvu9kV8kTc7VjH4NnYvn3EqUVyIWRF+2KtozoEecwE+XTp3AefCCeHdpuwfUB4+OOjf7EFKgMTMj2eiuiDIB/rHA/j0vvraq78tW4a0gUIVZ06wcHCo0FT37tPn2+++LS4pYUeLfSvPi2Gg2lVOU/sOHdh7VlDxvXzZQw9jPNN/7713WSx6hIgq3/I7LNwaUwSKHzVq5E8//ggQgJi9yZbTx6Q4p+3j4znhgYFBbLZly5bv3iO4QNhB9Iq4kqZnpENN58+bz66GNtivkXVsf8g/+EYI94i61bfvEy9ifrgDmw6VZRtD6YcNG8YdwTrX4bshw4ZwvrjJllC2OsECCQkd2b1AzJ4/w5lDcfzh4c5d4HA6gXMU0GGF7UUIk3y1btUKLQXHtl1cHAoYmCdQFqYQlgPHxuEjhtMdB9MhyhNfcRgsODCh2pURE/hQKJ9FyUql4Rb47aKgZwCil07q17vTyi1H0vJqLGrY6nqsJFZBsKtyC/IHsevqaKwgL+JGw0sWI3lEbRZ55E2GkpgIn+smjAgPrQ/xre+g4avY39mR4CalO3YG2BYt1uRrJwcGBkIYvDw9EROvueYa5E4FNSioCuvOpaMvRZ3bu3efu+66c+3a3wcMhMYNQLD7df6vcIWKL6sYmEzkhZ5ZJSnZCYSbBkRUo0GqwLwBFeR01buxqTFyhCF/gDeVqaK04ZzEt4+3R0C0OfrSSxm/3LgELeYDBwmnGH4ABwIBFBEmXfHxUSxbsPk4N0ERmSnzRr1MDABMAywq+BS3EZyAOLXQeYRXJOaKysoOHTriM2MDG9gZ9pMXj8GKVhvc3PXYoYWcGiXkVOgl0Wb4AAuJTauBa+ZCmAN/EbWNtCeor5wZQMBDJTF+zh6DUdpHk3nbbbdB1ZQVwQsaJIveiR5tA7B9wOsHCYblk0MArbIUunEEJhAuZBsKyiwIpwHBeMjhEAzVYKgNxJAgS4RMWcDKLO3Zuxev19GXXYbwjcpNiHpiPwmvSCXgNSY2hv0A/K0unfLCoH19a8YMuCscjtDn14/QIqGDxdGM/UBYCJy7wP5KugkL6QLygCdoHS0oqo5ePXspRuIBAweiIGVvgObQpCmvCC2rRrN923b0cjExsdZzIfeE6TcmJoZxMhYYESAGS0QLgB3MK7My7grdYo4Mns1A7JDC2ezYsZP9DFQVKyZDgnWoqCiHI8GcBikSzIckEWjo+a4nDsbI90AAIyvRXwoFxfTIAzxsRZvyP1DBjgmyMIQygGHUnTplFmJf1Xm78MjBQwffeust9sk/n3uOc2Tb24xZ0A1ruxIAYSECAwIVVI4+GfUQ/vAwcBBRzPboqHFrgtlloUnZExsbc/c9d8P08Bj9ouDFnsLmhKm12vPE+P6kq25STrsfMXJE5y5dhNcbs7df6bqnbf5H9a/DfDuGuDu2zSqg/nK8C66QQwPYD/958UV891Bm4KYLkrHFBTjpTm6Fla3XJzGAlkukYBuki4I2Xq8Gd1jPmEhtjy7RJ1elSxb8iYBYnXApE0tFslQ+yHvJtvXqxDmBwpSbMgqxnjgaQf1jCAkOioz0s8/g4nzrygk7wD7IfOhIUdmRBGDunDlt49peO/laFCyYP6GUvy74FWzF3sLvFL0ujD9ecwI/9h8Af0c8ODiOiwGBf/HCf/2N11NSU7B2oEXhpkIFQfSgD6hXbEwszr3t49v36NlzCT4bS/FYGVhPIeS5tI2LRVuizImzJNzsTGYb72kDJTiFVBLKnzxQXVGN/YyxRUdFC/Q04y1GhfqUB5DqcP1nmiJSMxFVnwhpgHFAgkEgRh69efr07t27cTAwZij4CwurCITQaiFpHTq2t3UKOsP9Adz98y8/w1uAMRHC4GTxjUINRWoFgID41aVLV1Q6X38tosgVHebePfteeunFq666auq0qeBNqCNYGHGfkeD9tGtnEsolwvPRTcExMDAoK7gPj54Rw0egFq7fAnVDQVyGS0BZp0QCKA/A32B7Jk0B8h8GaaaMKyZiaELHjoCIVWOJn3vuWcaPtRXajEcG3Perr74G0rps9Ghvb6/x468gBIVlYwC4TeKNDOW48cYbcdaQyao1dGfThk1E8rFcrCmeyfgnEzmDKAxwiDEnIFVWtXU4dOggrAZA4zH0n/h+PPnkEwzsmknXwJ9hpSPGAMUapPSbb74lPRNUHJke04BM/HApMhFMiR8shmEMB8o2UwAAyXHT2O9x6aOPPqqsrGLwbCcs0MTOh4WGQTlQQqAyYVHIYICmHZjMnTuHhUOgpCkUdzhSsl3pghdRDiNYAwQYLMI00WQgc0CAWbinn3p6zpzvIMzksfryyy8ZP3o8+0RODMmByUMWx5YJ2SPqF50KXYOyAT60DfU+PMTVE66mC9TmaGMiI6MwhS5d+htbAysGvle4MjEp+FEckhkqzn347gHJhx5+GF4NcYoNAHDwYoNlYSLs9sTuiWwJ5dTBCMLa8tWQoUM50Qrva9vJF9uHdsQ/4TBluxTE4RxzteTYY0FJbWOEbOKEzrZkR2fflouCnhlWvm7SpMv6rF1/sELyrrHoETVF0gRxsWUE0YQYKn8LmiK+q6OXStvilnVziX/kR3lNGMLc/LbvT3/7k9/uvWlM+2ipTpHkbEgqCSyPiPbJJ5/MnjVbcc7GKIWbD4IFL6BYI+ad+OKbbr4ZWwsUhRAR6GungM7btm6DJsHpI2MNGzZc8R4CUU6YMAHtFliGYwwTh8TG8JAyERHQd4GzHn7k4VdffRU22cPDs7qqCixAfBWyl3W2dQfGHhMhCdUzfc7mwT2eL6+oAK9t2LCB3iGKnIsnn3oSb0m+xQCzbx+uewcU1pZx6t2FW6bGJBz/4B4QMkB+4k5dCjf4egQUyAD+vQ59ggERkshdcvsdtzNyQh3w2Lxy/JVQl/Yd25PFBqXcjTdOE6NSq/mARwyfszIzUQvDLjBTkCZYe/my5YTP04Icg/v5Qw8+dP+D9yssrYiH06jwgkbOwDPCqiSwGwfkEPxLTC22WKs7aN23106ejExJEhw06pixwfKo76DNNTUGZCwclUHfWH8/+PBD7L6sIIIpltTnnntu6LChyi6zBUWAc2GhvH18xArWpUAT8qtFonfEXDYP+nZ6RuJBDXDf/fc/9NCDBDXhywOo4RgUH1qkTLTQpMVBP4xACa3CmnX/ffcjNmEFhLYBKGJOYDUAF24ddrgMHoZVwEimO+MegFK+9dbbX389m8aZeExMm4cfehhlNfBBtZB2Mo2+YHfwjIWFwmoYExvDyHFgYV0IeULyfu6fz5EBioisT2bOBBRYoPFGYW8DB0gd9B61MK7atIDW5N577iUPgN2aOPmIvQAPUpQK7EASX7BhOAJvvvEmy4FwD2P3PZHXP3yvvIk2m12B3p4DAkvBhsRnDfpNYFVX+TyiUYCmok5AhQPkEf0ff/wJFo63IK6jLxtNuh9/OeeRcmkkDTokPLoByEVOPp3Arg4VOPmqZW8pHUE+Zfbd+rtluzjH1hzdC8/x9b/F43A8xGq88tH6ZRtSVd5xRqplC5rIAgpiKn4LNGVz05TvyN/VCXVWCqo8XXdT+dailcqMlVkxQapbJl86KDHKl1T2TWxHsr4l7dyF6wrcPccM1SvpSesTkJqFkAoTjX0CLSjfxsbGcKQZB8lWiLHjJnoz9Le2nKiEEuJ6Dv+emIgqTNjVcZfAtwg60bZdW7G0FglfQVww8HFAvYn8j1FawgAAIABJREFUVJ9Jrnkrj5qUoUImQVioJ9HFobySwSbt3bMXoywKZ3C6CIe3XfJgUOIh9zS4Lz+APz38ASNU9K72o0NwRP986OAhDE5Yy0hZZ8uzyldIlkwZ0CHT8LrSMrlp5s2b//Zbbw0cPJAcrfjc4v2hWJehH6w+Zt0oOZuB7ULLjQhI+5FRUY4pOi0SakmoDjEkNoJnezE/r2Df3r3kYsWXCh5CUbGSqwj2CLU2frlosxk/GgVWEL8txJqmzFQH9x9kjngdo6+2H9upjEzSEsnMHmvKRhUbGAOw8OxNTweqYveK/csDIrkrWgfUs88++9y6db+/9+57AIH3EM6QgJHF0QSEh0f07NGDZ5QlU/oSyYdLSnbt3EnqIqGAVdqzH4fdZ9ymjpET+fgxyBVSI7F9eN/YWDG8cnbu2Im+HYrStUsXxYaN7RP7N2+Ru7FnL+HhAikC5gT5MGzkaZTMNiMuCXTYXegb4CfIGqFY75oYi/V2RVkFjmawO+JCA24Ril/CNCGQOMGR6cmeN8J4QcQqrlusHXp4cgnhUIMRt1WbVkpzixYufuKJx4mrhsdVEghzDPGNx/saTTWaBqGTt10yrGCPYHZRIJ3NaE8/lwv6LXhD6L3ZTk1gqgvaO9tM6BJkOeTsB4Alm4cdtA4tMk4XBT0zGFkszOJJqZZ/vTqrqDrYovWUnXJhhOooKCdYLvbJJUwjMqrifwffWWEykJFUHRGVX1AbJXOVtrYwQFd29ageY4YmtpYz+skXbVqbqrtz1v+eFn/ZWrGays661RZ+0NkgP/rgI3LKvPDCf3r0TGzh7gREmz51dV9hops+/RZc8O+99x77DOznNxjrgbd7Wcj6TXFJymMW6cUXX8I/6KWXX+7Vu94Z8vwGUP+WskH524b47KHR8DMyHJlIr7/heoyj9UyJ7ZnTgNGmYTvNM2c5E2XAdaNFIL4HZ9Z7751+8/QWzAx+lmM53c5p1ARpBVF3I7ySXLBxov8zb4BGDV48N/AdI3EuKlxY3jNs45YbtKB/su4K7fq+vftg+PDGMtTUJHROOMtOGDNaosQePc4Yq3yWDdoe06DgOtd3/m7Pc4Shlr7+quzMoiwCoi3VkrFSba7UWQwaqVZNyj7JxA+JbdVkh7fmoZejRsFVgmyKS/6Dy6bxVRADX+PFoFVr3GtqVcnH0otLqz08g/z9UYTJrzaN8BusQmNs1fiO/AIsdv2+ZycShmzD5sorMtqy8QENemnxP2yo3K5lZGjcdAcPHnQaTaDAQYpEdR5DctapaKbuvuxLabrmmkkNpITz6Eh+xQHLNCao1obt1gvDKjEDl40Zgxm7JblmZTM5TN/2p/198twKrzEvYm2xCDihuE3B0A6M9W+dL+hEC3YdIWGj+0VPW5/O/rxbPo8XTzPlRq2hKSHPAJpw3EEbk97z37qNOvrjb+DN995776MXEVP7Qy4cEdABYHtGdXTsyDFcN0ARZAVHbTNwwMCzpOIz3piRl5/fr1+9F1hLjd1FQc8KkhwfN5Xk5+vt46EJDfQI9NF662q9uWWsNhsoqFKjNteqSC1kEWV3hGQq0z6rk1EdrpcRgmCm6i5xKFEtWCjNrdKbNN6VFu/UjLyUtHQS04aFBHo0UMWddpyNj3fjO3IDDTYcJNpeGFJekUf5Jx7yWJw+OncRznVNTEHMosXJpx10vT29ySxzmioxp12JM3zZ5IG3myy2ZLSUGOFOX+7tDD2dzddNQVhFxEUgTAwGZic75GxavgDPhASH4C6Hsfn8V/8CjMppkzAfFP9p3aq1AxPg9OGL5ybsNdHejAdbA9opnLDABFjiyYeF9h5K5uPti1sAGakITcElnjtpqWkYp4mNZl2wo2Nu5wEaUe7k5uQSbIYpGl06Fm7CfJXUWtihlNg2Ze5UOYRjIzScna+EEaPGR11fVlaOcwMxSy+99BJMM1IvmZCxZZCRg6Bnomjw86AFzDf0grsfPtu4Sthvj6KCIvL14xRCYRzcCMhcwfPp6Rk43KEnoC/hl9C8q7nvN6/3v9jbneJC2rQOqa6WyiulwuLS8ipjdn5xQVEpn4pLyguKy8oqaiqqVcVlVRYV1bMpLKrDTVKldbOooAca9Pf8qaimrAZUmcqKdHSKVKXRm1XeRzOLZ83bkZ5dNmZotzZhGv1F43X2x6wWR/E0tPMPGIMwVTZFWv6A7ulCJf3pviRNleT8YwDgtBcfX9+z1sk4beCPu4khXKuVM9r/pS50pBSMIxgJLyqqleFajE8WwjRJp0XAtyThaYVlGhWVCBMnxc/ixUQDo6/Cqo1bIkwDSSowq+Ovh588zv9k3qisrOABopNJm0UoJx55uFlgBiaXkIdc9wLz8y/zftm1cxc6J1yap1x3HVmr8K0jq1RoaMjoS0cTAoBvBAgSppagWzzaCH2GuOJCAYTJpUWmTAzedBoWHn7LLdMVskrLZCARvvcQZq12/4H9uEnj7oD3IkmsoLJMgQQLN9xwQ5NM7dmtnYuCnh2c5KfQrPprqPvJP5IU6Ut4Y40pkHx/1QYzKYDKymtKK2pLK8wZWZDXqsKiyrz8sgI+GWoqDOIZlcbdonFTaYA5UU/8hpoK8ih7JRmhrBBTi9rdrA7KLKtasCb5VHb+lCsGdonzIqv93+j60yf7pw/gb7TY5zDVFrdgnUPf5/HoX3AX4UeNJz1Z+vBqxn8QLy3Cw/AiJP8wKZPwnV69ajXJHWVfNAnKRKkyiun27duPgn2ffvYpvmD4mpFs4Z677yGpFsFdJFciZzVpigmFQ6dCy7CGV151ZUREJG7bClD37d9HYT4IKq5YxCatWbManz5I72OP/QNHSIK4hg0dRpAPHZEgCb/0/v0HhIQE0yDZYMZfMZ7CujjZEQSPBAzJJ3fH7bffrjCg5NhC2XvNtddAODdu2IB3GN58+HjT+7hxY/mKPCGEn5GG6TyW1/bKxUBBCXUkhb+b0aLWYUsUUtvpZlRLWhZbJfrTPXiBvqtPLcYnT/7XSH7IiWR6DPVERVtjkWoM4QYjvwnMsBSXQluNOXnFWVkUCS3LKSrPK8irqMQerzZiNiXVj460nx7M2mTRmUTOI2EQ0+o9y42m9XuoSLlo0pj+owa08WwQ6dKEkfMCzdjVrAsCfzMI/KWdfc57rciUQuaT7+fOJSk8DuqkbCTpCgkfEBDxiyaanKJ4ivSJ3Hbs+HEIEtFf5Pgk0I4gXbKaINsRGoe4mZMr0h2T+oDIV7Ss5N3E6ZonSauLRxippxUvB/TG5HSExOIfBE1F8EXEhFIGBQWS3hLPczRSBNEh+FIYCuGyIL+QjArQaYygKIeJgcZjAEduMmXq9TrCh/bvP0AkkkJBRb62qEgqT5CCA/GXsXGHGj44oxHCi02dmvPk/v3LU9DivKw1y3/NLjSQdZ00UOS6oxiukpPfnpIK7TYGRrOFvKCXXTYmKrJZjMN5b7LTv6g2W1DDk8fG5EZ4l2QJoAyLt6CORn+TKaamViqrkUrLDQXF5SUVptS0rLSM7OKissKi3PLKGlMtLkVeKjWKXMiyjhw/Zq1PSlbBzNnzc7L6TRjdP8RJstXTD8f17V8GAn9PlH3RLk8zNXsX7bzOODCCy7mom4vaFvGRYgAUaCKeh8AqgpcQ5sDDSjQU9Qn4TEJH2lQyKPEngiA0j3BkyCFFzMhVMmTIJdwnbpi4IOLQIITkDyHKllK7qIt5Fzsr0idqXpS05OMk2RCOvnSKipjSv3x72ejLiLAidQkPk16DIvAUSCYTC+FwDIxx0qtITazSMQxIhkjsLV/olpGWeQbiSgw0IUoE6ZLwBXqs0+oYEkk1lBjoM4LlNA/8+TJobU312lXLv/1xkUXrO3jkuIED+3qQ0F0Yg0SMmo2IMn9SimMQhkkhIchFR0Et5kMHDqxevUajd7987Lg2rUXFZgYPMWRBRSY+nUS4vz82vmC9WQpEA2weFGKydMOqWlYm5eQVZOeW5BRUHD6KI1GWwawprjBUGExqnaq4pvb7hWtzTqXeecO4gEBfucreaYX006z2uXxFbCiMJ7uPLGX2yVzOpQ3Xs2cLAQVllxSVkHiBAPwL5Md0tqM59+eIFkUH6OFprXl57g1cLG8QdUqKD+Ke+aCk8rhYRtay42hCjYUTABVvnnjiCego8bWUSSCUmUJGUCzsjiJbinxBeGJiYhAxyVUJgSSBlL9/AHlRRD4VWT2L2w6ZmCiKgsMR5I9oWl4h/jexe/fysjIMn0ombVzNlWxoxNpSIZikJZhCCZyF1JGlGfXsqVOZOBXiiJuaegK98Z49e0kXjASZkiLqZ5D2MiY2ZsvmLSic6Xnjho2UTLC5aqMEJsCXr3A+Ig8+RexjRWE1f4Rs8nmRP4twXhHT3Lzrz6egIRERt956x6Gj6eu3JJELpndfChT20MEd2JFP5sg6oUAgSpokIKjmy8orfCiudNFchfn5qAgwkm/etiMnN48sKt5eVmxiI3dyckdxyapf+VJJWNODPKTWoUHqzkFkXK0ydK0ySGWVUlZeVVpmblZuXk529qmTJ5IP7v/006zrr5/SNs6aeUBp4AL9JtXAipUrULDgtk7yv4s8xNseCISOwb2ig8KbVIxcTij/l7jQSq1Zu4ZdRPa+MWMud6g0fjFPAV9HihbgcoKjx4iRI8mo/BeV4aCaINwtW7cge11yyWB8YZofEHyxLRzxVHgGcaGeJRqEQpsOSWURBxEWeyT2wJaJaytaUGrgYHT09vbBAAkSJgUKhJYUFnfceQe5MEm5DP375z+fIwkaeldIKZYoXiT51zvvvnPbbbd7enpAHUk2SRoyKqXz7fARI9jkiiBA5i/yXlGUG89YypxRrgfS+Nprr+HPHBQY2J8CCWo1Q6JcAeiTNJBU2nnqyadwyiXJPcIlvk4ogclOhbjFmJWEawrMcRRC4iIjI0pmlpIk3KS+uu++ez94/4Ot27bR7N133dU4Wvdc1+tiyKhgkgwVixbMe/KZf2UWGK6YOPHRJx7rGBvjoXUiaRlNZjJ1oUwgY4uDuVRkW62qZmlbKoSOooaU91IACv0Wo5HDO9kcrDGf7B0mDVWYCSp8ff237tg5/9cFpPAKCW6u1lUp0lJjkspLjZVlxSUF+WTMaRUd5eFVz/cwSArbIrgwMHY2B/40yIv0OqdOZaB4oaKCg7cnnmwkS2OS5B5iaju27SCVNg6ZsCxsPkz05wdVsSii6FURTCXgw7xRX79ariNPAncKtHGGOXtNYSuMxtTuIHleUIi1iKN1l4t4VgvRk9hjSGhHqWrUFmAHVEAk/6Nab2Jij7ffftshQc+ZT4hFVKpi6an4AeMs83IW1EAMXjHe0CkZiGDj4MEJ00ZebJwjiV7IA0f9FubIvJidtUCErXs5XyALR04oWgbmECEqWTJyzDmgldf/97otOV/9mJsQHepbFTnxCyHGnBH0aTDstoWjmCieHeRTZEZeXp6ozpqKuGV21DsDAuA+GiGBuEMGA0gmgycggSxXYuQrVs6eNQvef+uWrWT7++8r/z3NJjwz/OUnADLHOb+ggHpttCbmEhSk4FzlW7lmiyhVROagpiQJ2ClqczJUiiVQsMXP398+XRQF0kWlvOoqGoFTZB0JN/zgww9olngMdizF5jp16txS6cjLS8tZGmQsvwBRwJyjwdIwR8R3Kr0j2FFFgGIjStkG9jynBiBgzwLzAAFA7d6EiE9TrFdZeRkjx7zHytrgbzuAtA8AOWiU+6Z6D12TzZE6Da+9+lrX7taamsrSUIOBDFwe7u4hYSJrEtKKCBTR6xEPyO6JEY3dBfZgV1eWVxK+Qj4mlkDJpUW0KBIni0XiSN7lHPEuO5/SodwU9YsK8nmAZGr2cyGahUICSIpwvaSqFpmos7JYF2rVBQUHAxB6xLGWXnhAsYASZwUlhv4x08L8QqrPQsXRTbKxbZuEyEG64xIVkLy9EI6RjPk2OyunsLCAXQOr1/xolouBgooQSUNZwVezZ814b2ZxpXHq9Dseuvv21pHWskHKuiq/0WsTOURwEiiG/Ki2ryhTjB0b/QAJxEGm9q+c32eEsJUrhBDG6yLeRFBQOQ5FpcZSgAYD0bBdfHyIqJNuCzcxG2tq123cTIlfMq/ayiWd3wDO5i2ymsEAYnJHwQKup7zG1RMniszLTVy/r/0dN3FOArZ0W+Ug8axFwh2OApBQVjLfwjByeknWjtPahx9+MHfO3IWLFp5fPr/kQ4eX/fYbVA06iu0BHcukiZPwYueQEOZFp6hlsGGwuckGftWVV9UnKaybAhnp1v3+OwMgmx0p7hwIOUd09uyvN2xYTzVdsviCSbnDUaRyy4y3ZpDImzzgtvpTTUDF8TYxZM+/8Dy4FUrDerO+UEGKllC/UMnktztpDyM/ePAAlh4y8cLM4TrhQI2IQsNpgtR0TByubhw2pXFj7StXgzdnzvxk86ZNFBUh1Q7kh1xIYEBqofznPy8opegCg+vrzDiO0unfFgkfEAxFOHFAN9CPXXvtNdQOwwjEGrNPKLaKMwjcEuLC5MnXDhkytHESREb+888/wzmBxNn1hMayMnFt29ry35aVlCExkLaXYl4kb6KEGYkJoXMgNcquUTAAP0mnFVJlJzmn43ZyE2jAK//++zrS4BE8QSmVW2+9LU5ONslyoDzkW3Ypa0RBHqaJ2OTQOGaItb+vZTDgXPgJggjHjqVE9BiFd8zKzOLsJCXthsuBvnJ2SCsNe4HeEqxNFmIiNyjKzdzPfsxOpiHfQuwD7OwH3GoQxcZfOV55EnUlW5SaBFlZ2VAmEoncOO1G8gISi0nZpVmzvoJu8ST8Omfn5uk3jxg5onEXUDhAQZBGbm4eHCQOsWQYjmolrEhcLCISJL0QTPnySy97+Xhxh4QP5GXctWsnB4raR7bx2BoX1F0uAaaQ+cadnuedc9kA59nF2b/WQoP587W4csIfSe/jf8PU63Pys2Z+8eMvP8xrFRJ4y83TyGDgABDoGCXqwsPC7MknzN3W7duosdwzMRGu+exheJon2TrkJt2/bz/P1FFQORmCSu3v69enV5/cnJx169f17ts3Jqa1zRydl5dDGBPu3ReYfFoX/4cfvv/wgw87de5MxSUYCKwRWBeoDelEmLOIkn6IkhBRLBVgfHsKihoE3QjFKKBA2DwwXYAB+YE3BEmhroHoOoUVZADZV+GpGz+Qm5370UcfgmopZB8bG0sFFdzkyOvLkzDC1CTBztGvbz/OPIefgw39cKCgx4+lfPbZp6hilLy+DmZ/JAzG/MXnn1NYkdK7t952G+OHbeWHvhg5noSeHs73AyOHK3ce9Yh2Qa9HwIJZZqiYcFB5IaM88kgNqC01NeWdt9+moA08HDH+ICNoJKotMoPbIADLzLqwPQYNIqy+1YaNG8hH7x8QAAZXhAMKrBJI9/nnn8Hs8y5YFQpKEjhaINAbVp0laIoRLCpEHNf4UHqz0YXAgt8/q0nOW8VGdfhwMmw8qBmJma9gPVkIILN61ar09JPoG0SxdLsLkLKLKFpJuDoWpqSkpE8/+QRo4GlpE+WXL1+Oiwf1xdC5UYgGChos6wYUmBO04FQi5wH6hVVyDvNGc4GQU0ETiapt29jk5MPffPMNtVzII89+ozY1phz2JGX1qKOCZwq6QRnCDWxaSbt3k1SPKP7xV15pMNQwbKbTtm1cl66dkdiYAozCJYMv6dOnNysIV0HAhrePFz8ceJaV1NM2TaPD6EgMC7ZB51Ff5q/R+G03AOmq1atxgYG3QCCDVNu+ItUO5I1aSix3UtKuGW/OQI9Fkjh2JqcGikuQJaIn5jpq6VBNqHEnMPpAhjI+SA69evVEbiZQEqHQ9iTlfSiEQGkBFOzktYeCYmVXshZDelGckh6vcbM2PvX8NE+NG7TeOWv+qckWWvCLFhrMxUBBFahovP2Dr7vu+hPpub8uXPnZ55+GRkRcPm5cgIfjCOW9ZIvtEHLhHnHtx3+nVesWM3qByqfecP1VV44HKwltqnDwImMf/6l9fXwpqtCzZ9eUX46uWP7b5ClTA3AQkowFubmpJ05AD9iX1TXCb+iCXWLxq6sqf/75J7DGk08+idkf9EQK0+UrluMpbi18aNc9pAvrIJYqym5T0Epoo+suSBc2Bjj9vv36HTl8WDgCyF/COGMtICE7DTrH5haJ84/4S+EOpz4XSADIPdOmTrvxphvRICEHwE0DHFrG4Ac6u+vOuyZOmgiOAN2jr7JPU6KMDmKAXgifAiRCXMkcuEZUPXPmzCV6jIIk9k5nWLOoJHX8eAqUyTmlMVnAnqAbxJrGOl6IJbw5Q0VvDL3HpAoQEHGYAvVEASOFY+6//75Jk66hmEZlVSWCWgNLkkXClslCDB8+/KknnwwNC6MU8IMPPbR27Zphw4YqzA3U68cff6K8GkYjuY65rN6QNXtAjIQpDzzwYOMc9Moz337zDV8hrDSW1yHPV101wd/fD6YHkKK0/Prrr9GjwMFwZiZePZE8hcgiqI6pvrJo4SKcRBwoKPOFXSBs4KGHHsL4DeOCuuLokSNQIAVQKcdSCGCH6shFN+nQqoBhF0GikKX+8Y9HnY6ccwSuRxFHzTKnDyizs/1mWWkK5xR2OMc7NSVly+bNEBhAxBLAo6B+pEwppI6VQprEnWTMWFFXR7l4bM+e3eirnnv2OaQ3hoou8c03ZzAXrBJI6lTGRedB3R4Agn8megvrIpqlQ8mHZs2ahY0Q6dZhVPwJRaScDnoRkgYTrdj4AYc7NQbD4sWLoMd0R2kXBmZ7oFOnBMRcDi+GoTVr1j704IPow1ECwfRw/mARSEwf1y4O0BH0hvNL47727t0H64C14vl/Pw+/CBPAugtdpXwxVCp+s73ognNKO7YW0L4uWLiQeJV4+yJljTto0Tstn4W7heTI5szSpoFsTiMt8i7AUMe2bX/zTTf06tHuyJHD73/8ydotW8CsQgi0vxrwDuby4jyyTHl4+kRFtxFPCTTLHjXDe1ZWWl80G001ldXnOkq/wAC0dpERYRSDbNOmVes2MZjWUbUHBIlMoR7eHu3jY3fu2JaUtJduCvLyf/r55/kLfl28ZPGvCxYgEp1rd+f6PEcCt2RECi60+XDr5KyCyUW8cwAYLaPWA+8gWFDdzJ588tXu3XtWrVpNRHOnhAQ4BOicDEZp7759yLg9e/VSCn41GJ4MV3AB0gD6TPhxp4NHEwXVGXP5GGw/sPm4lCv0A5yCBIYARPZ2TBQEdUGhEcIaM7zdunXFLfDaayeDeQUPo6RJlDsz1pqWL1929OiR6dOn4/UnL7wcTMuM9uymssrAgQMIbnM6MHDK2jVrFy9eQu3oxg9AFsDaSITwSfymngYC3LDhw8Bo6A8ZOQBn5GBkEBYzcmQvVBKpy7C9de/WHeMQhjeUBJTWQi8Kl0N3mN+ATEZG+r333Ys2RR6zdaOC2VG4YUoc6Uxfx3NovwkhX7FiBTVYrCO3vir/paLQ9EAUnsh5aN3bU4KYgudmE8Zc6jwPHT60U+dO6FqxHkGZqEHisBOUBpkXQjDGdQaFmEL+FwyEVnG8smre/HnsOqrCCXu5MFbKJpgaA3oCNtjVEyYMHTrMOjDln7rhwSWsWrlq/br1+E82eKCJPyKjIwmip0Q2exshGKUiA+MDpkQgSchg/wH9gW1EpIi4RxRDF2rfEnsJwxuvUMcU3UZNjTA3+vn6In5h69m0aTN8+E033QSUUNvANQr5VR4q6lYKCLLWt9x6a2CQE1cGIA9PhVkBrq6JsTe4jX/y9dddj6sL7jOMx365KGIzfMRw2BrWK75dOzYSnAqAEoyJbH2H3WTnc4j8/H0bG605gBs3boCVuf766yCfONcwESyFNtveuvXr2S2Xj7mciEnFkUMZGRps/AMqyssnT5ki5Ow/6mr5nBgtJEc2BwCOEl5z2mreu4KWa3UYA/reesstOdkF+3dt+urTLyJCQrt3ae9cEyf6M+/bs3fX7kN3DxhKjkN5AKrqiordSTv27N0nafwnTpqAIAGJpQQSEkkILhtnfZUU5m/euOnYkaPxnboMHXlpSXEe1ALxc9zYsZ4kfpP0KOgwNCxbubLPgEEUMELr5R8YbDSrQsMivb2cMIxn3fNZPYgHil7vTskzWdoQ+UuR4UAWSEXifU5q3fYy1Zrmz5+HagixCVIKclF0iTxVWlIGmUSWmnD1hJ9++pljBnXhPlmy3nprBkQJaQNMAVfraHKX6RUXnIqV6DYcNYEZolCalzcmK4pfguOQjMnRRWUuBoxeDr8n0DEyBI1Q3YzKw2BDh5nDsojBnMxQJmM3JwnFHTZO9JPkSqXKqTIapozuHW0YhI2vcCLAvR7i4dAsI4eiI1Aqk3X41v5PrHE//PgDmkn05MANOxl55xGPqAiN45XZbOrePRFzIGZX+4AfvKWACeY3ZiqrNC34BzFlyCqNJycfwjiHYIoL4syPZ4ruZLRKrDc+UMQOkfMMKkXF6caeI0KOrxVmY4BmHWfTSIS0MnIVvDBHZSPOBCnH0XY3dkTE3obm8P33P6CMJYBFXREdHYVjsFJ4leh13J3wcMaBU+7d2jdi7gcffAijSeU4OIOYmNh67xvbJjQaYZXgOcjabx35mf7Jy8kjRRzOIL/9tgwm5t5772N4KEtgRPDXt8n96Cchh7ikObSH5M2qoaVAPmbzQ+OJI6TAHN4DJ06kAkNK+1FAnlHBEpF2J75DPBryzz77DHsHHqFwbOilhceK3QXLABUUi1CL6CvsEdyxnaamJtRvQD++EkX0jKLyhNPHWBF4YgbMYZR1Eir+xNIB+0IkSb/+/ahkbqc5Em3Ai8Cr4edFVtiX//syBl1svWPGXNazZy/gn5mR+d5771LlEAM8Zg5bp5j53333vbVr1qBdgCeBsbAvU6o8puwxxYTvdLT1Ny2iEuqfnoTyNINE5a6ssu5UAAAgAElEQVRUl2v8DMvBIsKWAUlA4QDexs87vXPxUFCOGkSUypd+V4y7oqQg76VX3ly35vfQqKjHHn+0Q6gTZlDMp7Zy965dlVXmkLBwa6wIRiytBwbU0pKCXxctCIsIIyvttl07C/MLSivKz4mC4rPq7+eblnJsz8FDEW3a7tqxZfeevVHRrWFCZQoqBQcGhgb7rdu2LTu/KD46cPiIkVAfKKgcq+sU2i1zU5j3caf09EY5A46jqjaZrsDsCxcsQM2l+Anb1wDZlbRr5YqVk6dM7ta167FjR6GfyuHHGrd16xb4cViWuLZxiksUyIhRUuMa1Rlc/McffQzKeODBB2D5baMnXRb6VTTDqCtJHv393O+9vL0jIyKoG2zDJrD2YDoeAGnitlBeXrZ4yRIyhqAghfDgIpeZSaVJU0hIaF5eLjLZ4eTDlFZ2MGUpPSLoOJAJhB6setQ0nnztY4r50Do2s4RlFC0cnPi777wLHUUnZm/xpcgRPASxCifS0nD2A4Ei+wqZkoLVzi48elDhPvLoI+hF+R6ZNT8fbX0uilCEMBnmC9GXPProo6BaWUsmkhyjJ2zTJoYRIsrwIgQGrTVLBsEG5r/+ugCYTJo0SQG1rVtytSQfSoZZyX0vF2boscces6lY4YE2btoIZodDolOEFTSiNA4tHz5suF2Na2tjrD6LTlq13r16w53U3bWSPBSGkBOUzFjgHCYNH8DpY8Dffvsdz8BRPfnEk127dkEAKi+rQFnKhymTp7AxeNG6KBaJnDUwNDh2shURm3BEV6q+8wzuPJu3bGbk7AcUJMBtztw5KC2RmexhDuiUyzYe5GPkp/fffx82CNqAnQ9mDpdgIMDuFeSzjp+iNYbCatrPhTNCF3gDHTr00Ecff4zlmMpWlMWGEYRkckwwuMDYkSsVxwU446VLf8OaSPwixgVILHEXHJMrr7ySnHA28nDk8FFsmSBdDNtkz8FOyRmBRwGSDpsQuR9CKQrJctUFsbHcQsvijOPJycpZuHARgj410bxx/rBIWH8xtJPZ50TaCdZx1uzZTz31JCYP+znCAhYUFlZUVlJLHAMWdJ3tunTpkjfeeANG4Zd587CzfvjBB8DBXgBFyCaYBSQG/0rKWTRMN914k22QQvu9e0/S7iS4RpjRqdOmOrLODXcMyjZyz44ffwVpEBz20sXwJ0uJIYOAHPI5NB4P+p4TJ9JQ3WF1njp1WtC5Ou7JLV48FJTBsLlwx7B4efvfNG0KUZVvz/wZZ7xrJk9uHxrgbONJpsrygwf2u3v7+fjJJFY+VGqdJqFbope7ftXqLb+t+G3MhKseeOBhs6G6TVS0AsS89MycvFxjoxapMvZ/7Z0FQFVn+8AvoYSUtNIioVigYqDYObs7N5fqdOXCbe771tOpC53O6ZyzZnd3t6iYhCIhDYpI/3/vPXC53HtBdNsn+D93fH5w7jnved7nfd+ng9rEjg4ioIOPsblF82ZNH6Tcm/3Lkl179rYOatGpUxejKkbK2sriU8VA39HaIikpJSom3su5OtEnvP9fSilHLMUBhjIN1JyHTp07kfk0bdo0SC3+JwxoWErZ6yimyOkCOO5DmdRX4DGaNWsWAe7dunUTtICwKGg5MTLkbCQlwiCJzKIUiLDfCgFZtOnmFLVpEwx3gXcq36aAWEtTlv7loC5fvgJ2APODmZH1hRyH+IydSopi5zZGgWiixxC/QGoz2hhhHRS9HDFiODGiIIpt/e6775GhRRjRJ598vH7DBuIemzZrqv6i0n6HxAMe2lL9BvUBGCcfMxcKpb6CCiakhUmMHNBxWqsGwS3EmYGBoQfcjb4L1aZXM3GqrYKCdHJQXLCkl+AnE0qYUmZiUryoXbuOU6dMdXVzw505/aPpjEnqGyhS2dlQr2fM+BRVeP78Xwhto3U2TSdMTE2xY58/dw57AGuH9APCEQ7gBwzL4Ji7YfY4X5Wh3wrcsSrIIfob1m+A3jFZrHbAMGf2HJabUJrg1sEMXnincsVZRHQOGDAxI9hdpMovKn5zLfQa/kVY4OjRo6H7wKBhHsR7TWBn8+bNsJQS5Pnb4sXYogcPGXz2zBlYGpZPL29v1A7lJuK9whKMC4CIYvQ8wAB0NpsKcnRHnOXYIdgnRP2wRvBRtijuhKCWwnIj3YmuSfYOmSciSMrCfManM0il4B4baxtUeVyzO7bvYCMtWbxE+Qohi4gdLp13A6qBVhHCSW5+oe4L9zLQp2cI7kwqqY4fPw5hDoHgu+9mKi0rZEDlIj0Ql87i8juuRAKmTp44QdHXefPmk8XEK2BIRIqpa1f4LFAK+Ra9Dc/Fb4t+A8M1a9Rke6s4KDFKi35ddDHkInByfESAea9eEtcUzNRA2Zi65AeFD2Z28OABjLHdunUXX+op2NuUbIU9Zz56dOzY0cmTJmOfIETRuSjIlruUAhn9Usw+nTEjIMCfBVn+5/LpH08n4pq3YFvq1asncQ/wcnGm8/Iw8/IUUUsLf/1VtDUEEj0FeoK6+YRz+t3MmTh00JiZFztNA1rVRpKuE1AG5HhMBAdlOaSP5hQ1x5D+1lTfi0SiwrufcDSd70BUwl9DISRtDsrOZ0uAQktLi9ArocRj6xzhsRe1EPTYJ/7dG5QEQFFgbFF9+PChZ0Jj3b3r+NSuVdqK4N9IiL+nZ+ypLwWqSfcp7cGu7m6NGvpevR1dw9nD1alGIY2BUWTnHDx0cNPmLXlFfc5VE6pqZDxi5EhHh7bFUzQ29vHywJOBrFe/QSNTjWg4A30bK0ssAInJaf8uVsAIK5yXz4bmYDMJfudgeHv7IG+Sv4HlFgqO0oMNSjrMhbpggYKEigMHDmACgpBBnVEf76enr1u7lsQpjIroRmQ7rF2zFkoBfUxKTlq5ciVHC+rGnoPlFM6r5AJMmDCBUs7ooDM+/RQ/Ez4VKB3Kk4p98hTkA+4O+cYHg1hdXVGdbpfbt2+/dy+eVGjejoMH9okKiNbSsmUQLkDRbEH6aJwlLeQSL0qBEtRfyArsE8cYEbOQV0KWOMmMKU1fqRQWf6Cq777z7rix4zBPTZkyBdb17XffcX7Uuazqbp6lliZS/MiRIyikIl1HUODDpIgXIxMUYoSvDrcrXkN1PoS2gVGaMGOcdozDewmwZHZYd0kxRIXFSA7VhqjduhVGaTEgZ+ORhkQUcTEA1HUs+qB0fvDhBySwo4G9/vrrGO7+85//kFgI6Aa0O1B9lD1+iBeDA2Ek+Oyzz7DgSeSbW/iK6Kr3P3gfTzk6FioOFwXYatgmAhY90s+v3hdffI75lxguMEacNnNBDQJyYnNmzZqJKHD9+g1Mu4sX/zZixEjCBaTcwWJIin5jRniyX3v1NQJEJ02cxJgEvrFACBnqtjW2NwxAGWAvQn4kkQIjs2RnHjRoMIomMaXUkYEWQvnRZcUblNuS1cSzjtFb3XRMnjR9Qtj5pHBgfYFNEoj++ef/xTLxxsQ3gNzW1oacNOROZA5//0acqVtht5BFXBDvlCZyDlyJADGFon//fsSCYRPmoMHzEJ44I6ACNqyauBArDA24yBWEM3YLsq+woks+D6WzXuNDTNOcOXMRQEksEdZy5XJgPpGCBhCjsAqgLpN4g8SmzkHhx7yB3VWvnh9hEPyClPzlV1/FxsXBNhAg6tevjxIPq7hw/jx6PEXVYeeQAjGyCgy1o80OITwej3K3bl0vb7lM4hkblXMtcrgRy+5EWdvYoFhHx8Rgb3BzdWNxeQQJUCAsn0rgwsyA48PJ2ZnaC2AvNTmVU4b4ggCKqCFkLKVxjnvIHaBcrYuLMysLhEi07C7UZaxHeHbAG+Z60o5x+kgZ5FjUSf4BaogG8JNsjXfJ2NiEm93d3DD18zibCpM+kiWEi5ciR7JP2BvCupYv9glZp+DBycmZri9wTXwl4Hzx4iWdOnbkvZoLU76/KxoHBWqWVC/r4cP9h4+6uLmOGjqoZvVSfYoiyNvQMDsvGzG+eL78Su3G3Hw3N8eLtyKzcgsbihEWIYyfZtVe6Nu3fdcu2vgxrGJEynDJ63iwTKtbWBBCwnUIcokyDgh22RhUDVQnrTROr/2uJ73CJhg9djSqAIdcNHaB8CmrBItkYXeBH/goMjI0vcjemMne5Vt4CToZ6iDhJ0jWcXGxGHBCKOR86RJ3omew1Xbs3MEsOC1sOKxYDeo3QHdkTI08ehXMhCCKKMR8BUEQPO5X10/K/xPm5SL7NecOQxB7FK4MByXwhx2vZKsmsEwoKRnxMBWIKQQQbZilUaq8lI94ICJfTE2EhKzTGE4mdY0aBMcSSnr9xnX0IWDAiIeFDRcdHFRlSdZ2UFGTgR+kfnL+iKTw9vaubq27rBfKBPze2MiIPhUqLoWYwtkjVhbTHw5OyDTnXBAyJcUkO55/hbaqDNHh5FtYWQiz2MUQkgo6d6bCtbmHhwc2XnJhwT9LCSXCQ0zkcMdOnfAjqrNhjUqKCEb8oMlhAkH+IAhFw0UnrQ5BIhQdPXHyJNG2I0eOKuSOSvINz8O7iaF41vffgyiuCDDFaVOQGg/OkRSx4BFGhAUCDzSmYHYC2Rdr161FfaTrBaZU7PAQWZ5FDiO6E8h79uxFfJ3ulVLCJHInRORXLthDFPDx9SUBRoJW9S9bBVqPQgADgnWBB9xXkEvBU/Wolm3AirND2NKo5i7OLkgeWAjYfiAEGRF7JlhlsmwG9jBuFGoUgGTCZNq2a8eeNNKvSvAXGiTCFnIkVgHkHuHmtBSJ+YiSrAUEXew4Q9WeUxNNlIDiYuAHUgBfh1Cw07S7TFtVt8SkL3iwklkWHod8SAcqsvC6qbNQcIL1aMaMGX5+dck25lCJ5VDG6IlniyChVALUn1hcPhImgYHdhezo7OzCMiAtSUimiTRqKVSRrYL1Hj2SLpu4DOBPaGMcEGRujryAShep4rzgFyCpl+rw7DZwjt5PZhRSFwUNEN2QUNkeuIQeZWURvfzdt9/a2dtLSjVvQRDEU8NWA5+YfwkXx8C7Y+dOmC7NzojulvKhz587T1Ug2CMrBZ1BuiL6EmMPb6xTxxcjx8cff0K0F9jCBotVBkkF4L/59hssrlBchFeEsJMnTyEQ8C4OcmBgU7g+o0EHkOwJLWQbI7NKqMZJDObZGDRuw5DDHNF5Bg4cGNi0KWI04X7k/zBfFeHS2JmP/fOpOWh+RkZmTi4WVzN1Ifix7yvPDdnZj7bs2n/iXMiQYS/Vq+utIw2qaBQOfU0X1+iw9OzC0ESlZMWSZudG3okmFxABOy4qKsvL+VFOZsily+wPOCiUolwFPNHrs7NjE1Nt7G1vREbch1ZaWGJ2EoXfxYdw3+z4ZMQrE4f/VTxbcRqAEJKFtxKVFJrCKSIjhexVRCrJaodKhwEc/QkK+PvS36HySmNOLtLzZzM+I0p+yNAh6JodOnREE0INQuqnUsmGjRvQGAje0+Y92gvHBkXLVK8Uo74LkQR5NYcKB0+Xzp2R/nB24nZCdKXcSePGTXbv2sVRpPIW9V/Q9urW9ZN4P/QaXouNEQlXqkWC5086scTgwITQNiZOnDjhpQm8DgGf8EUqh92/n/7NN99op/GUALuIaiAuwKGhzloWNeW65gmlAQp79uw5LKtUFFMNwnwJ8zl8+Ah2bNwnUChYCHOB3yAi4JuEiUICYK7kgSBHQ/JgafN/mU9YCrW5eRwyRG6lIK/KTPkXx7/I2f72u29hABrWVG2EcwXqj9WOQ6eRGivdTKTOkt+XYKdu26YNstRFioUaGhCaBHnFOrdgwS9E8aKmeLi74+iCIcFg0MOQrkhQYRvgD4OjsCtECm9AY/pxItfDh9BvMMxCWAEVyAGbZ0lKIQ2J6mu1vcvrAGNBAQY7rY6pKVmXvpIP52aL8DSMyQiFhDHDPtFsDhw4CGxsHrgXcUwQXIznZHNi00bQYbJCpdYjsPwC3R979OwB/2BnspH27duL8QPIyYlk/3t5ezEOehgx1StXrSTDJD4hgdWE5QT4++vkKxrQwrcwP1iYmxcbzzXuQCyRLKRF15FNUaiwDQAGKL15/SaCo729AyLvhx98SO2n9u07ECiAe5JzJ04BlTFOHMehhFIF8+B0IG917dIV8oXQjE2b4idjxo5RNvzyZ1MRiMCdvHPF8uWYqdhpmKPRIJkO60VRJiwKx44ew/KPYbZsVoFkPGzYULYNyh/gI3ZgGQbJSB44pHE9wKhQbdFcKECxc9fOYcOGS7NEnCU9ZtjQoa2DW+OXxQDA8Yf3h4Xdwj7PkglhRRmIzsLBHTnCFEX6+eef2GkQKw93j1dffZWNzXRItadALoIF+iVCD+I+wh+iwISXJyBjzZjxGb5bIhLu3o2CjtGUFHkCvy/LDQ3EX8D0MaSR9U7SMHEeOFNAwp2oO+wTpGG+3bJ1y/p16xATG/oL21I3tSQojZUsz59Px0Hz42PuHD5+Jj75ft16JPL6VTNCN9Ml1ZQHhJL3ENp57OTJrXsPd+rWq3GTAFUtWd0jVTUOaBJ4+urWtJTkfIUzunrGg/u3w+JyFXkJiXHNm7c8evLSlbOnXG1Mq1uaRUTeRmTTPY7WVSLZEhPuQfiy8g2btWh55vy8U8ePubvVwuxgZS3pxPmZOdnUxXJ2xUisGUSqNd4/fUGJbNrycTBgKsiDEAIEK9wnkucfEz9mW5IikJQR1VWvF35e/qvhKDFjHDmqr3B3sQudajppJxrqhJ7TjpWPUAI2vc4bAIZUmZUrVhw+dCglFXtOzksvTYBAUKwOl094WNj8X35BBke/QfvEWQWhR/OAx2Mt4FkILoQDayd6HtkI5BpCburUrUsuJqBCg6SXwrqcnGpi0WGa6tPRCZJ0EQY5cMBAjrFOyPkWzYYgEVgsfEJ9TMQvKk5ACjn5mzdvQjBH1R47lnQaR+RuUbpTT69X794QoAULFhKWwvhYrfE5MfGmTZpyRDTqCUD4AANiWh72CfCQP4oY4OzWWbWAejqITbA3Incw83I/pxJe8tH06WmpqWfOnMVYQswnVfckPLQJbjP1ranQKUKLMWUT3ISuQNoobg5UWBgnxdLwI44dOxYCh9G1WkE1ccqVYiqbiHxT7ikDz+pfQdkHkEFrVq2q0tJQxocXwUExUSz9fSnzJYwZMwYSAPGxhLPBvV5Qxjphld25YydV4GEqkyZNlsK2EVxQNbBPwFzRs1H9iSvGmwtO7t6NhnGOGzfO1MwUMnrq9CmipbDSw7o4PpBvlLMyoFJ9xa5o5N8ITGJHKc/98AzszwRb4TpFkEX8IoC2RcsWQIK/GVWMLbSOZijr1jIa9vmx48ai6xO0hdUUlZeJo1rh7cb4jNUBzOzft3/xksXBbYLhoLhgcHXDYlEW4S6EFGBUJ0OG062StpX1bInYs0P40Jm3rTEL9a3YoX0HhBVgvnLlMvXckbewQGBTQWzFLI/sxd7mcbY9uwgTNPuHNGJsxRTl4HQg4LL9YOcqiRwvMhozbJjyTDA2PM28DiEV7XD5ihXQK+4HS3Qra9WqddSdOyAEpwPLCjOGGvAi7LTghFwsPNn9B/QHJ2iZxM1xj1ToEYoUFh7eLDDQr15dQIIM8iKEGMQXQprda7mDNNCbnKwZvF2e1dS+52k4KGHp0dGxefm59x+kbdy0wcHeysvTVZdgqf26x1zBuYddbvfugy2atezUoaNZ1cf1ltY39m/c2GHnobt3I7MLGlTVM0hMTNm1e6eDU82WQc1q2FRrHOB/IyIBm4CLkyO2HWScx0Agfa3Mqj518kSTJigYjW3t7X19vDm05IUWU66CvOS0jLTM/HZtW9ew+UdmXy7Q1G8icRA7LSkWbBTcjewPyQlKjgoRpDgVyF7VGBT5kSxyX18dqeLkV6BVECBTfjggUtDT0jq3eHl5f/ihKPOG9Iq3AwqFO01iz/7+AdOnTz92XPQOxBeFE8ifUAgDujfcglO2btUKZQUwYC0EOuLEQlnkGEjnRyOsCfs2RJ/zrB5689gpUF+wVCuxkiKga6LsSs5C9dGgwoQTMykg51sOP4YgCATHOCEhEYRUr25FAAjS7qWQEExbrVpZQdCZO7UMtaGCBED4cGdqf6X7ip4CDi1UZ13yKvzppZdehJYJXCnv4ECRjgI5JbyHOtrwGyz5WNWkwaFBqOM4zCA67du3xz5M2QR4KhuJ6RB4QqAWs2vcpEmhz1J6TvkvNgzkHslXpxtUjat6it59+pQGuca9sFt0ZcjrldBQ7PNwA2Jb4DoSV8BtyRKguKCkAgArJewEeoqMBw+JSMIrSQwze5I8UcpTsVLEbMNBO3boyLzIiOVdiJUkaB45fISaULgS69WrTyyMjirEOiemp2AQYTTWtQTaT2DgIa+GufAVZhs0V/719vJGuoKRK0UQOjriIBKCCbodi0KgAKkmWCZZSq6geTdv0cLdQxxMjKiEKXHYOcj8iS136tS32JNYOFlWNGwUbg2xBpZPFlk9v3rIItrglX0FZDZq2IiKEA8fZlKTHZcnXkOMIGQT4eUVhuqinYZRBCe98E/nE6KYhNzJ0oAhETyl5vpi+qwmc8dBwD0QhAYNGzZo0JCsmx07thPG8c7b74DYlORk2CQyB5sQWZkNjDmH+g9IGxwl/PSHDh0EM5h5EHal8pk07ka/R7oFzeAcLRb/CMl+mIVYfd6LlQXvKfIWDhouUJW+7LmX89un4aDElNXyqO1Tzy/8zt2VqzcTXS5Wv3z7qWywoqMjUMPt7Fy6d33BwlhoNqWNqpSD+daA3RYc3CQqKjwp8UFNO2wjTkSWUoHY2bWmfsEjrDQxiQ9qubtS9x9eKFwd5fnoK6jCCl3zxLNtQ4yMObEz5Fvi+KhqrIQoPxe/RljkXVMrh47t25ZhZy7P2576HmbEQWITs33Vzz/VVon4oLyfm5vIwVD/UG4GLVBnhDruUkbT+VVpEJZt7CWyAxKMlxRGwiYWyRtFy4me59/Yn5wHTIIcA0nsZXMji5ubm/XrL0RLXurpWcvNdRxvUVo9xf/gbRrqGt9iay2DkesEvmzI0TDatWvPG7VvAz/CeuYfIGpEGOEAFecQl+GmzZtwkfbv109keugRWNulfft2cEdmXYZ+SX4Fj5dtWNOAv4y0dMQ79DyUWrDER3pQ/Kavh+ACzxOEmkkVfQV1g+rRZ5jM5p49ekpVhzBRUOmXdRFJcixNKU4azA+sqTZ+dGK7EBKdXm2dD+gpsEB0AYcdOqC1AKe6JQB8wiNR1AASyqiKSLp+/Ro1eoiLFuwNbmRUJaCxf6NGDZUxzwUshIjoUX4AGxcmH7QoRA0RcFsaodEJnhiitC80r4NAcAX5Bu3gX8iC1BiiEbKBHjIBLERc55Jyh/ORjgl7DOE9OyuLvQGnUC26MnHoDr4ACJT0JrKoyS+C0zCGTusRI2CMZSuWtpSaEKv9zSOYSZE2qJ+FIIgbEnHExsaaCGHMQgJcYFbeT4A93VQw+WJIx7WBubiWRy1BoEsa7ZkdRktuwGaGrAn/YxzyuNi06MlEGLAhGY0kPTaAJEBQphteiP+dqGwGhD3DStnTvJh/uR/zD2Dg4OAr6AC8NqBxABkKxBui7iO+g178RwjlWHfRgElG8nB3R5ctY+Ll/8oAj2v575buxNtvbFrNsIp+VDRTqko1WhPjxymL5XhHTlbGug1b09MfcphdXRw5btJPyUeJ+8qPjk2OiY0nBgThhvNjVd0iKio6JzvPGR3R2IBK4paW5mKH6xmYWVjWcLQ1NibxRM/KysLwMUbh4ldhbUP+QlgSx83AEIsN9NFArV1MfGL86bMXfeo2CPRvWJW4nmf0gZpwGjVoNP457C04QkRumdanVHqNL+pfyGOFWgkIOUhaRIeLgq7h/1J+yHoMvRraokVLDnxhFoESJPHhX+mn6Gb1aUlMQmuif+sClE7FabQHAhggVFEHCDFppqRmogGo1kIsTRWce2XxDZDzRExIGxLNK0UYk0YW/6pYKfyuCIdKnIpwkpzs3NDQK2QWocYVEzvlIAgHZewHHi8DP5pQPdHfauI4BgbA0JFTAXEQ8XSGxRAWKIRCSfFC6kRaF6fTgAHlGSmhCRWCI2KUlGdHa2c+EbyPvRlESduY6fALb1QturRMYjGkr9SOiTg4VQR4RQsoIozQsfDD4K8pof3DqJSbrTRIGKqMpSztKek6miv8Ce8mmi6nFYwReoNHBt8z2j+cEjaK5I3xlnKS8DxSfQgvotZ/7dq10SOx9mP0Vr0CMKhZiPSZmIhp8AFGBUaIunsXvwMI4PjgaiVrC3qLRwm8YWbDeoz9mYQlwmhT09LgkdgAsH+gj2Ij5Dp2OKIjGQ2jN+aEJk2a1vaszZHkCmwYcQpJhfgjHLFUQSF2D1ZKmi/3/CNH78l6syDmqN5Kp5oTZ867e9b1dHeCMZVFJ8peIuW3+TkPNm3ZevRYyMBBgwMCGpTOknJQzzdtPkS8THBwU+ml+QWZ129EnjsfimbcPLChasOV47VPeUti/L3zIRcMjKrVqRfgaGWifOO/fAqfBFK6Z3C7zpKwTzLMM7gXAwvnQaco/QygeZJXQjiwTRUy/id58BnfW4DFLIWAbu36wM8MsKc1aJFnwgeKX5pb4ZnN6J97MVEzaJOqIIB/buDSR1IWd0QGwTeBKiziz9PT4KM4pKF57Hk85XyFwYl8XDRUtG2sSmTAcDNWU/7UhLZAgeMZey8MkgdRGYmW4k+ECMKNsSuQ2dWuXVuKS3AD30rmh8yHjx4+zGDuDA4vRPWEDUtRBURCoIYS6CysWQYGkmwBu8XmTPMDJkboHVuCFBe8GDzIbSJl+R8i2E/GQQvRnJ+XcT/14pXQ6rY1HGt4VDEsqKazmWfpi1LyG0SczKOHT/z004L+g4d37dKtalURJKlM15R++F0YP3Jys1LS4vfuO7Bh42HCSYJaBqirTMmpqQmJqdSvNTb6m9z8cXDT5yQygm+mhe0AACAASURBVOoDNWo4G6OI/EMr8bi3yt/LGPj/gYGn5aD/P7BTIWf5zy0ZbSGIdKOWVo9ePf7WVKXqIqUN8c8BXBoHxbedS7RS/L0EZd1w8itFtDnWdpG8YWezfeumQ0eOw0FNTK369O6GP85Av1QbQmmzKLqed/N6yIxPvw4Judq0WXPEYeGd1iMUopB9chtMCuNtpgjIvH327HkXt/q//76kjo+bxsgUACjO5nrcW//O90oT/N8ZQH5WxoCMgVIw8M9Rt1JeIF+u0Bgg9kejUlJFBlcn28tJT0vevffA5s3byFxOSop7+ChH39DMwtQEfSsgsOk7U6f4+tarbutIMQrL6ta1a9fSYJ+47rGVEwKg7SkBNSj16gbohHuJi5es3L1nX2ZmVoSIpJI+EgctRp1wWcPHBVvVc3N1tDDXUT7vf8M+gUlmnxV5T8uwyRiQMVB5MVCc9V4Z5qDNQXPSUxIWL122dddhPx/fqZN7m1ZTbNmxV9/Ern2rlpZm1WrUtPfxpiWstzS7XOLKStTpEZepuEYWOUZwqfmROh4IoyIRSt3R9fDhIxr49O3XXwR2FRun+V3jI3FQVD89Ik1sdDUe0nxC/lvGgIwBGQMyBmQM/GsY0OCgeYqcBzt37Phr3ZZegyaMGTTA3sZYoZ+Zej9zw+7TLh61A/w0S9Rqs09AJXuXXtl4fTG9Kvli8YekPVW0BQ5qiukQRTZo4EDu04h7lrIX1J9FLZU++JwJXNYYWfpKMFj1Z57R7zhuUZpRwdG5rZ+q5P8zAlx+rYwBGQMyBmQMlBcDGhw0P/le3Op1W+wc3Xr3eMHeTrKUipy2iIhIino0rFtLLaGj1HdQSMLX1wc+p83kRIhQkc5KeSrSm5Th2sLpqW3yVX+BulWXO5XsuTizTXVnBeGgwAOExJCTJkV/hvIma5eKUfkLGQMyBmQMyBiocBgoyUELcmOjbl+9dXfA0DFuNaWcqnxFXi4lkeBvxPiUE3wSs/YfOEDlJ+37yUKhyoyUukTSj1QiRPs27SvFYUXa36ldqTgcVAmUHvVBRMKZ/JExIGNAxoCMgecOA5p+UGKADfXybKzMi0pJ5EXdjT53/rx//bq13V3Ko4AKvqGvR+otWbfa6CIBVhTFVno8qSriV89P+x75iowBGQMyBmQMyBio+BjQ4KB6zm5ujf0b3om4kZKSZm1pknDv7qo166ytbQcOGexSs7hAedkTo+cDpYGlosPqd+IapHue6Noj+UYrgsey7JnI38oYkDHwP8aATBb+xwiXX/c3MKCRD0qj1OwLIVf37T9Ec0MLc9OcHGGJbdK0mYendykFMv/Gy+VHZQzIGJAxIGNAxkClxYDuigoU+qLMErEwFFVS1VWqtHPUCbh65ozOG+SLMgZkDMgYkDEgY6AsDOjmoGU9Ubm+K8iPiYm+ExF5PyPL3behm5ud1EclL/fh1RvX4+/dJ9+kZk1bH29PqVZD5ZqcDK2MARkDMgZkDDxDDPzLJWSf4cwKX11A95xzZ068/dbkeQsWpaQWBjehXt+OjPjll1/27zuQkpwmGrTJHxkDMgZkDMgYkDHwJBh43nVQcFGQey864uXXJsemG3zz1ddtmovegQpF9u2o29u2HujSpVctD6nXfNmliJ8Eqf/mvbTsoZUBZSro3Vi9ZGGm5MRkChcTpUV3J/V+itrgUHmSilH04NToeUT7JMbnfjr3/v3KFJTToOnCo8xMRlOV0aAjIJ0Z6KFBAQ0rS6uqxoXNVWk6wcVCUAtE2ym6ipqZmVc1Km6EK8DOzCQYzcKyzF7BBTQiTiPHWGoyKsZUtoOg0iRBKiQ34+J/+gxdMbjo8KCsjUzjNgM6txubFtaYBELcHzQJAX4aR2jUJ6PNYWEPCpoPqyp5FSioKwKiiLyj4CWwaWMeTKalpefSOlFPQU8MkGAo+kwZSL1ImR9tMSiiycYAh/S7EK0n+Dx5SA6QMwVRDET0XtTPy8tlNGkWwACcfMvC8dHYe2CYqQGAhbmFztY6bC02G41U6a3EnbTgYGTgV+/JlfFAfMWdptVMpbYb2lu3PFfEOBkPEYuB3cqqemFzzQIF4LH9pFacjEN/NlUfNAqaP8zMzM7O5rqlpQXNs3RiD/gpAyMtInEiNGRVwQPqaLrOlmCDMTX1r8oDs/Y9NPvjXUACNgq/ZQoPxBKzQFxhjXiL9CKOM02w2ehSbj0LRD04epJI/WvZrulp6VKbXhrU84yoSyp62+WkpaapiAADatMEFWC8gho4PEULOY5zMVTKO0As30J2NDuxaE/s+bqimc3yfM2ucDZpDx441nCMTog8feJ4o3p1Lc1Ejd2U1HTaztk70CNe+lR0dZzTe+Hihe3bt9O4JydHtPJp27Zt69atYSf4rWlae+zYMWgclL1+/Xo9e/ZyctbRQhZSe/t25M6du8LCbo0fP75O3cI+vaCAE3v6zOndu3dzPN+c8ubfIWESQtPS0pYvX05p5a5du3bu3ImzFxMdSyd6mtwCJw0NaSvYu08fewc7jvfq1au5XrgUBLTBT/ILBg0a2LxFc+libk7u1q3bjh096ubm9vobr5eRZXvs2PEtWzZT1mPipIkSEw0PD9+8ecvdu1HwHkh8m7ZtQF3ZQkbRrtD8fxo0MqnEhESmI1pUGhgGtwmmvyac4M7tO/T1ZRZQJbBHX8MunbvQY64gX1Dj+IT4EydOHDlyxNe3zojhwyXRgQrSdCTeu3dvTEwMfaBq1nTq1KljQECAhmQTHR29ePFiGqjBmKGdNDrOy8+jL9Ibb7xhamYKVzt16jQjJ8THc50U5CFDhtBBWhP0cvx9/Pjxbdu2SeyTQ0J/3AH9+/vV9wPOfXv3HT9xPC7uXn5+nqOjY48ePfz9A4isFzsnN4+O7ocOHbpy+crw4cObBDbRfhU5bKzg+XPnDxw8wGSh3XRU7tylM70bpRF4NVOg1hidvckU79e3r29dX+1xyr4Cm798+TJnhJR0ul/RCZLu682bNadTNDIKOKSHs6r2GQzmzSlTzC3MWM2dO3eyEDTqgrU0bNCwb9++9o72Gu9CuDx86PDJUyfhlHTOcnZy6tW7l5SPdy/u3rat2y5dvgQjQTaiySVLUCzAlQ20rm/jYuKOHjtKzZng4DYcH6k3eFxs3IqVK2NjY1WiUcuWLXv07MmfO3fsPHb8mNTxAhGE/yg4Q2fvTp07JcQncKhDQkKQ/IyNjTk+vXr28vTypCkYa8p/4iklDIhKY8aMqeVZqwREaBZ6ijt37uzYsePmzZtglUECAwPpUVr4mJJ0bN60+fDhw561PceNHVfNvLyVA3RNvZJd+3/BQSPvxgS2aGFiZBly7kx0dA9LH4f8fL3ExNTq1tbGJpWm3MHtO7c/+vAjSAxd4xGu9+zZu2/fvlmzZgYFBXH+v/zyS5rC0042PCL866+/Rh6EOlSpWmJ9oXSQ+PXr1kMKqTDVoX0HFQdNSUpZ/ddf27dtO3vuLB06x44bWzYHhRNL1LO0/Q7b4F0///wzZ8/K0rJjhw6ct2PHjnLSajrVJDwN6rB582YkWWgu3BKeSv9b5WgFwBlyKeTa1WstleRVyh6+du3a99/PunD+QmCzZq+8+kppHBQyt3Dhgk0bN0G/Bg4aZGlhmZCY8Mv8X7bv2NEqKAht+MzZM4ePHK5uVT2weaBu4PMVNJo0NjHS+e3NGzf/+OMPWt7T456qW7A0NBIYWk525rJly9asWQP1dHd3v3gxBI5SpUrVnj17wA5vXL+xcsXKQ4cPnT17rmPHjlAfiYNGRkR+++23sF4EBVovr1+3LiTk4hdffEFD4BJvL1DAlenLCG/LzctDnT516pSrq+uElycY55mcPHnq22+/gauSXm1mYoY4InSFUj6i8YWRUWm9hUHvypWrmjdvhnaINmORY4Fmxkjsuh9+/AGJAd5JfZW//vqL5Zj53UwnFydW5+iRo8v+/BMBLjIyIqBxgE4OSgPhi+cufvvdt8h/5IFT+BOBAD5H10bwc/bMWTYtvLNBg/rmZmYpKXRCTtc9g3wFGlVpJgQ2G1CxvTt06ICmdfDQQX7mzv2hkX9Dxly6dCmNJOE60sho2VLOOsx76e9LbWxtq5maXgm9snXrVnRhpBN1+wePwH3/WPYHiw4SYmIit27ZcvPWzblz57KZDx48uHbdupo1a6DhUWdt48ZN4OrFF18qVH+1ZgL3oqG0jj6m+aKW2ZkzZ1asXHH69JkbN64jKNMsU1I0Y2JjVq5YAZy8SBoSzROWz9LT+ZLu1tJF/rx16xY70NfXN/hRG6bzww8/1vH1hTUiuyxa9Fv8vfgvv/oSNCLNQA0QYtjGPIv9Q9LCNeDlqZ9/+hle27BhQ+Q2cBgTHYOAK/F1br569eoXX34JtPRpHzx4sMxBtRa8El8oyH6UGROX4tfA38rUZMFvKy+FXvL1ccjIfAid8fUtb42IioCAy5cuQw442FOnTkXBQpb85JNPLl265FXbC5qO8Dtt2rR69etFRUVNnDgJGterVy+fOj7qkMNd1q5di1WuRYsWcK/cvGLvL6QHhufj64P0isamXY5RfZzouzF79+xBk3NzdysNMwz4+++/16xRE20jKztLWPDyC7y9vSdPnly/QX3I0K5dOz/44APkgKFDh9Fc/sXxL3Ibo/FqZO2Ppn+E3RVSK8bXU2RmZC5ZsgSqqmQt3KK0Y2lZKXOyc9euWXsp5BLabWxcrMhI1lNcvHhx+47tKJ3vvfceNAJp48MPP1y1elVgs0DtERgWPEArBwsdwkJ7duAHokb73w4dOkIlYTMQTSOjqtAsiFHt2rWnvTcN3nb27Nn3pk1DFUanxKTH2iEAde7cOSIigoegktLIUN6LFy6+NOGlUSNHoXZjKVm4cOGJEyfFNNUm6OTs9N6095g1b0SNZkZouvXrNwCS5KSkFStWoHTwXv8Af26AowtTsK7P/fQHa9es8fbxaRmkFE20Plg4nZ2dpk6Z6u7hAZz8h52TwSmEgqDj4+3j7OIMB53y5pQTx0/AbOCg0Gswxpqgc8eB85J1sFVvYH/+9ttvUN533nmnVevWVlaWiYmJMDmyw+H3C39dCF1+//33IcEYCWFg1VSmy5JAQs137trZqlUrL28vLfAV6Lj79u8bNnQYRhQY28aNG99+++1NGzc2aNAAOGEPjD9jxgzUUGQRLOGSuRuJ5/XXX+fsoJXuP7Cf88UxQRuzNpLqshW+B6cDe9XPr661tTXr+Oabbx7YfwCNsFYtT9adP+vU8WWtUfjeffddNLZRo0br7FvOKqxZ8xeWBqDSFGX0FQ8zMk+cPIG+OGDAgJ9//glzt2q3ADPm08GDB3Xp0oVF4VkWmpPFT79+/bp06aoEtACL1Jw5cxB6UKbZDMePHTcxNn77nbdZPiwoH3z4ARIku4iti1XAw8Pjww8+pFx5Xn4+fNTGxloDqywotgFwPnTI0FGjRyGS4kvhQRX7RLZbsGABDa7r16svzqSU66+9Ns/pledfB01JxjuocHWvbWeab2NteurMse5dgxDos3JyrbW2S0VeZQ4nZykrKxsrCs4GNrFw6ZlbcFQ4GNRH9Pf354D51vHt1rXr999/D5GFI6ozCb6lMQ4SNLabLVu2qE8WGv32229Rc/H7Wd+jGJWNB2jo8hUroPKlcVAUnd8WLUIoHjN6zB/LlkmjSdYtSLwEEsIsJxbeI+mYFmrsCkNc1J0o7IQcb/EsXG03DHdX/wH9YUUpqSlKH5AOGK9fuzZv3jzUIHs7+w0bN4jjXFAAjYP1ovk5OTlxBULv4uIKl8JXalXdUnMUPQWyNuZWDIw6OSgDAjY1Q2o6FeoB0gisAp/efXpjPmWOjRo1gtSGhoZi8UPPZmlQCCwtLRf/thiaqHrpxZCLLCI2MVs7W2DDJr961erQ0CviBrUJgjqUNukpSOeK5StgBh06tGdkXnHu3LmBAwe0DGopOb3g6JqTKvo7PT1t5aqVMPLSOCgyB3Zp3uVYQwoOKHwSPjp4yGDpD9T32l61Mejh+eMKk+3Ttw9MBR1027atpb06Li5u//79mLvbd2gvmTccHAtfERp6FevogIEDsaZIXjRULk3WUjQuaisSA5bq2rW9tDU8tDTQ27FTR2QRnqCJEyuFWQVpDBVfaNUWFmwDjcER1DDeSFYNfre0tEpLS6UrhsZcnF2dMZ9IBvYamTU4hsydzWBgoO/fyF+lUDo6OPIu0Ahr04kNZIU///wTQYEtoe1KQHRggTDAMv6vCxcKv2bRB880H+YuZqcmYGGyxbgiYheUn3v34q9cuYKU3KChkBsYAQ+ocDxXMwF4aAj2c3adUDf1FBgkkIqqmZVqd8WlfOzoMXAyaPAgCauMUzyvfMWe3eK/sWPHYpbAmqJzys/xxeefg8beS7CytkHIMtNzCmzcaNfewzduhT3KxhBU1bwUUb1irndA48acK9xU5uZmTAerYMcOHaERiIREl6BfIldKtkF3D/fMR49wnnFa1D1qECboLCQY3UVjjlBAjDkEC4gTq4s5qd9P0IoyGCSvNERhFvtrzV/Dh49oGth0+YrlhbfhODTQT05KBtTI25HYPCE0TEEdQu5EI0GKJyQKpUeKYUEjhPF4enr27dsvLCwcDqpGVZRjK4PAHqQ/WPbnMkydo0eNPnHypPRSpgNyoDtoPFATyFq1ambW1tXPnAm7fz9dBwdVevWgcaXpUmCPueNVvXUrDPaPmN/I3x9rOcEV6MWZmY8wjoFnhBVbW7uU5OO41oDEw1OIAigHYF4dvxhLid2BvkPg8KSyCjDFyMjbvEUDLYU4VCiwgm7dttXXx7dx48ZcBAxkRJYeOwTLB9lFlwIqVXBT4YOFBFePEBtuK3lRNbaoxwkT+n3J78hS0Fn/gADPWrXArfqWQDC6GnoVngpz4kkeadJUOD7PnD5TPJDWbxcuXESUYc+sW7cOaEEvTIspwDKx/SanJKPEYD/AAI2C2KRJk8YBjXFeag2jwHCSnn4fJLO3tVmU4BY5OYgyGDwADFMNaiV/UqObP8H8+fPnf/rxJ1YHOzz6KAhnauqojo2Nw9XXsGEDMKn9djTp6JhocIhOhpWlR88eklgG+ySOD38BqyMsvQYGQ4YOMSzpQ1GNhhubaCDUfe1jKOETIZhfsMSIpsj5xTodHmhQh8OVU4DBGfkYV3Q1M1OsBWqD5x85fBhIJr/5Jio+zyOW4bv9/L+fI+hwMFm+t956i80GV+UphG9SEnDcIMOhE3PKNDYem/P6jevw9SOHj2xYvwGJwcXVpWWLlnYOQqQDCZz0hg0b9evbDxO92CePox7aWK3UV55vDorhJjc6Lh5aRsSDiZVNy2ZNd2zdsv/gYbuazm417QlnrUSLV93a6quvvsLcNH/+fCRcxOHXXn8NLRC/F4Lzlq1b5sydGxTUEjL966JfOaUiLldrOyNYc0K0BXzp2ECVYDNQN3XJV4Wi2OhYzhJW2fMXLuBVOnnyRNajRzCnho0aOaiFXcTHxS9evARNd/jwYcJYpA5DgQJCj7UzNi4uI+MBAoEUSFK8CgVEG8UQWYNaVqeOiJqGn+FVunHzBpaiGo6OmrxT+aQw6eYpjhw9gsvn1VdfQwc9dfpU4Zh6ChRZGxubhQsWQkyhmIR7hF4JhYtAKNVXPzwsIjIiIjsnB+cWPP7QwUO4PNEam7Vopn4bI0B8r129iqYYGxMLs5z4xsSRo0ZyEWMgShgsx93DIzw8bM+ePXBHdUxCDeGUqrBkhkXr+nPZn5i7IWcMxSNYDlycXViF0jgoc0SkwJOKI5YRkpOTIJeIIx7uHowM9rBeYgNHhy4Eu0DB4BgGmRRiBLyKRdyyeQs+Wm9vL3d3D3VNztERxmmP1Y6wVYatVasWrvfgNm1UJjvUHZpGYL/t06cPmqg6Zsq23kWEh2MJwKx95fJlbD9Xr17j9GFXJ+IGBy8iy/r167FqQPRBLMwbDwWqpGp8BC+YHwz42rWraNLwY5QnFhS/QA01YwBrjbY07+d56FiSr52wANwcyGqwK3S+8IiIjZs23bsXx6lp267t559/jqNBpT5ikGQFs7OyMNWAH/XZSb+DxunTp2NiJTyHQzds2DBpNfHmLvl9ycqVK3Hu3n9w/4UXemDq0HicKTBrnk1LTYWp4/DeutUKOIFKpy1HxNPyUVOFQQ4TxOkYefs2YXF8OWrUqEmTJkmKLJGGHAQYHuYlptysWaBy1Qxe6PECfG7uD3PxncM4x4wZi5MY2JAmnZ2csQcgsAIVyj1m3v9+/t/GTYRkpvpw3pkUh4J4K3RQyAvmhL79+v73v59DLbZt3x4eFj7r+1kw4MKtXvY+0MZpZb8CuXx+P7mpyYm/Lf0z5EZEtnKSSTG3prwyvHnbjh98+f2NO3dyK9XM8QV+8P4HKB8DBwzq3au3q7Nr3z59YQZM4vzZ8z179KxZw8nNxc3Xp06TgCZEIf626DdItuZH8MeCpUuWYkQl3EbjWzw0r7/2ul9dP4yomg8WFKxbux7lxs3Vzc7WHsXO2soaWu/j5YPqoLoZ5WnVytX+Df2RlLmIshLUMuj9ae+rbsDtB8/48YcfO3fqXMOxJi43AvmK35Vf8MPcHzn/a/5aI11kaozw3jvvwfMS7iWMHDGyY/uOwKkxNYIjRgwfgSAMnSIzYfb3s/HKXLkcSsgGCQCQVOxs0EoPNw9m52Dv6O7mjsVJ9V7IxBeff1HLvRY4NMVKZWzCPZjj2rVpl5ZKeHPxh8EhKIkJSURLbtm0JahFEC+6eP4iNBR8tgpq5VTDyammU4P6DXmXd21vdUzyVB2fOsOGDEtNSZNGZHBYFB3recTDvVb9eg146dgxY9F1uAGoGFb97ZD4Vi1bNQ9sLq07X82dM5dnv/ziq4iwCGgc0gk75K0pbxU/lV+QlJgEDsE2i47xEMbDI+wf9BIsseJO6SVkHz3IuBt1F+0n7Fb4rwt/ZS6jR40h0FSFbRyNzQKbscfOnDqDcKMOG0YRxkd/Vb+o+v2br7/FhfbBtA+AE3UNhYZVBhW8jigVCzMLgAm7FZaUkISLAdS9POFliLXqcfK2GzZoxKo52DkYVzW2s7FjH9b3q7/8z+Xqr8OAMfPbmYwMJJ61PFl0K8vqLMq92HvcBtuLjYlDyDh35tzI4SPBw6yZs0pOYZW3l/drr75WiBatmfAsE1zwy4Lx48a7OLmwh6+FXpPuOnv6LBv7h7k/dOrYidPHEqSX3DnEW7VuFQxKgY0Nxj2siKuL6/x587XeIy4Ara+3Lzsf0Ud1A0uMhIroBkK6dekGoo4fO1H8eH7ByuUruTh71uzCi3kFRw4f7da1W906fpMmTg5oFOBV23vJb0s4p9yAMg3+78XFX792nQVyc3XHHy/WWm3TwSChJ5AaPN9sJLb64EGDHewdQi6GXL50hWjE6R9OZ6Omp91/4/U3+BM5W+d0nteLz7EOSkpETmJikpGJmZ2djZRUaG1rH9S69aqdMzMfZkhBBLriUSqoUPTn8j+JxRg3bvy777yDZEpkDWGHXPn0008bBTRa9seyqLt3idKETiGEzpw5EyqppYL+rakFBwcvW/YneifhrPPmzX95woSmgYFVq1RxcXVVjYuNaN3atQjCRFeS4cD5JLKJ32Hn2GBRo/HN8MP9nTp1njjxDVRSBHmV2IsgvHr1Kk/P2g3qi3s4mbv37MFQiX2JsF4UIwJ0sdP+9OOPeEnJslC99/LlK0QwohYQVInyjU8OfWvp77+3a9+OsAtid3v06InmgciPevfuO++ihdtY26geRzZH7QAkhPZvvvnm8pXL//3Pf5mXSLczLcrGU95NFKilUaH3tEvXLiQJzP9l/r34ew0MGvTs1RPNA+qmNJ4b/DB3LhjAe616i/YvZCLBQYlLQglDSeLZjz76iLAUyaOpnispPUvMDm8kBBdrW+FoBeQvWmL1dK/lzhUAqFOnDh4piGNhxp6eAp0PuwUe9OjouzNmfEaEM7oLahlabKEhUbK86Sl4RJXn5+o6evXqv1AZCd5BKcSWQEQxaIFLzZkzu5F/Iy0tuXT7XYECPDACsd8SnEGtgkj1Cb0aCs+WDOBokyjx6DE48FDLEhISMWAQYiZNM7Bp0z+XLUOnJ+dk9uw5Q4cM6da9O9YHgrbUsYpNeMqUKfjL0XexjsAIhw0fhstDimUVzmblhzQ2Urkw24AoEQyszMnZvWvPF198jm156tS31O0E6uPzINE0XMEG8KX1l7PnzMavTGAaK4UxP6BJAF/Brt6Y+AYmE5Q/tp/qcXzhP/30I3uYnUnMVP/+A7p3744BVmMK6q/T/t3GtnDT4g29eLELDnusHc2LzCTMGmsE1nXQKzlKscnPnTuHTGhcqiAWPR4dGnMrLSZd3V1ZFAIg0HLt7e0GDOi/e/cuAuJQ9PHtql7NkcGgDcuUXANsNjwvWImio2MIvsVk4uXlBSFCo2VpsIFzTtnP3r5Pk0ylPd+Kf+W55KCSHaHgYVrq+QvnU+7nFvsJDI0Dmrfyb7jbv4GfpZkZJ76ycNCHDx4eOHAA98mIEcMtlfEvgwcPWbFiJUE3WGAIBCASx8+yLiwTJQx7JtYecrO4Tem3y4QTSGRC7Ehh9HwaU4uNrTU/PErQLAkqPj4++LE0ojmgktBruA7eEaROWCAGq3Pnz+G+atkyiFx13g+VhIHVrFEDNYKUD5iH6pxs37YdEyXxuq5ugjIyAmEa3In8zp08Fh9/D96w9I8/oGVSniK6KYQgJzsb8yPnn1AjjFrx8QnYmddvWA8Zbd+uPWyP7D1nUi8UCsyzgATzU7EK6e0EtvDhdwIrsHPC5gUCtfYHZkyVSVPyZhkZGassfsTg8EOqz80bN6JjYkgW1GDAqpmqfgFaEfDFSuXmY2cDtwQSS9+i77JShcEm+YrEpETshDCD/v37q0g8FmNwjplOgHzjkwAAIABJREFUyi+C60Cj8f8RoKn+Lpyj/GlnZ4sTHZKNf7rw25IbAXuvSGxQskJWCTNdNRLwjUVcDzbtmbNmEqf98ScfF5uI1d+h63cWy6iqER5N0lSIfWWBsh5l4z9GyUYSYn15l62NDSZZpAcmwotwZJKxg2Qm2iAWfUh7FQKTuJ1oIHM4sX9AI10vVGCSlYyiqMjbt+9AgcMRiK1S3bUMzwDPvB3YGJE72WCffvoJ3l8C2j1r11KtO18RFge2kWmI9MaJIMSaAgVcWcoEjYq6g2UeqFRppvAkbDOMjzioDiELRxQ6VxAr2bHISYGsQulSh47Zqe1GydvCYgGZ6k7M72RMEUWMCCJGzldwuIgqwl2CxMMVdjW2cRKHMAVzxKQ4CdDMujNTxmE05sh15C08OuSl8AoHR8fbd+7gP8e5zmQxU4MBiKqhYRUYKtLq/n37OWh4iPmWKHdiwmUOqmP5Ks8lsSsLcvPOX7h848bNgipmiXFx1ua1RXNTvSpOzu5jRo7wb9IU2eGJdu+znT6UlDBCdjlpErj92a8cDGrA1K1bBxH+1s1biIqQH8rCkE5+7tz5l1560dnZBZgJS6FYQbu2bZs1F/48Agdw9ZEXzwlEt4gIj+AMwPMgE9juIGr8x+GBjXGo7B3sNdiMQALUQkG7dVPIinYwJB5HtCjIlpTTDWCoyE2aNn1r6lQctwcPHERBxLsGuSGI9Oq1q/jhRCyG8oOFCj3bztYOkiexDV6BSZPzr/QHFSSnpMyaORM3zOzZs0Vv9gLBDhGSyDFoGRT066+/wkeRhRGiV65cway5jZgU/J1kksAPINNEV6H1QgQHDRqsY/mVGwKSAU4KCZPWFiEWg2pA8G/WAg3mwP797m5uZIBArfAVMS8WAi0NHp+UmPjKK69IASlgFc0DIxhRkSgK6KYOIpq3Jr8T2CyiZwsUYeHh+ALxRZFRChhkNZBTYWxsRHY/ADP/UydPhYRcIkmJRAgJY/zr7eVlbWNDZjAqDj5aPKnMEbVeZz4rSAAenOiqx9WRgIkY4yqaN4IOwgFWO3ZL927d2QbJSSnffP0NSUGiVoO3z/VrN4jLYUPyFTwPMy+UWgoUgm2E3wonGRdtKSszi0xcDAOE4CIW4HYFe2fOnMY6gsGAnYx5gN8huzjkSLHAK0xw3/Hjxyj60SwwEEdmMZzSb4LH6iGUUJdKZ7AVmI+KuitlwhBS/ttvi2zt7CggwNMsFqZ+xCNWFpvBunXrWSlioODTx04cx3MM/CNHjiS4HVmB+xGniG7lIqG/5EF27Njp/PlzbCSSiKoZm6QnpRzYvdfM2CSoebP83Nyd+w8Y6BnU8vCg/fGtsDD8xCSbCTam68PhxVAkotC1dpd0O0Kw8BQkJSJM4LfGuO1IYJetLeeFDYM6CM7ZNlQwQFZAkJWeYvmwaZubmaPaFsZj64vNDLfmOLPl2NUsE1ZZfkFeJOgJ4xCuTaJ4MSwRosjO6datO8YJjsyePbv5E02db1nBtWvXEErNaWJLkIJFaqmPjy/7sE2bYCFp5eWTgDRr1qzbkZFff/M1QQy65v18XnsudVCxVHoGhl516rvV9kVuY7+qeoNXrVqtZ/fuypDIyvRBy+zXrz9Z0nhN9u7ZyyG8E3XH3sEBW5CpqcmSxYuJ7uFMEiaKLA/LGT26MBftwoXz3333LRH3RMRAXzA54svB3kuGH1GRJ0+elBL8scbgmyRynSwFzu2PP/5oY2M7etQonWUHCMYjWU3i0BpIRNOFMaguIqVyVl1cnFGzgI28C+yQhHHC7LGpQqZfffUVGKp0P1YgRONBgwZhh1SNQPU4VQE5yApaAqoDFjOy3eH62Ks3bNiAeRlS6O1TmCCYmy2y3FAGvby80QghQNgwofKQEgoDQURefvnl+kqdTOenffv2PG4lFcYreQdcHMqCpgivgqljyEJgf+XlVzA/ovlhQA4LJ0DXmFAXlGBQ1KpVkBS0dfLEydV/rQb/SAIELM2c+R3eyqlvTb19+w5lIiQXEetibGIybvw4CbFwXAz1GOsgamZVqNuQSdEZzGtEOKvbGF3d3Pr37weV/89//gP1ZHDIPU5xQNWOF8NzMWDAQMxuOidO4s28+fPwcCMeQUMhtZBOchh4Cs63Z+8eVG1lIYXvmDuSCqUJsAazM8nAwbAffTca8Fhf7sFIyDqKggM/zCVVsXVwawgxutGiRYu+/OJLFgVrPOuOcMDj2G9HjxlNis5nn32GGZb1CvAPIFZFZ304eIng4l5eWjZkMSf4BKG2SGmIMlgUqUo4bdp7ojxTgQKX/JLff0cFh6mAW7gpaaPIByhfR48egTGQ7okggqmDcWCrWPXbd2zPccAhMnTo0PbtO2AR/XXRImNjE8fqNo+S0sJu3x46YBBVf6AkZ85fOLR3v411deTYmNg4NGyEp7rKUDjtD5IHyGEDaH/FFZ7dsX0H2BaVOvLzORTffPsNa/raa69hs0XGgscz9/j4eG4ApZIBgwcxqWIVJ+8ZPqfizdbWNoQ1bdu6FUEWmQDXMjukZ8+e8F0YJHUbEHaRVNi9+Ft4y2hs1HpCcyUQAYPBgP4DbO1tu3frdu7c2Tlz5np61hLcPS11woQJbliJsB8UGcaJ0uCYZ2U9Yl6SzVzn7J6/i88tB2V17YsSzjSWTWeac8VfWsjx1199hUUU6gxpQKjHMtOiRUtiGvF+QQhInEBlIUgS+iVlbnEaMfPCOaT4eCnwz9ZGhK1369YNIyl0kEpyKCWIpfUbNECHI4tAsvGirHBRJ1qcnZ0hnSVUGZ33YTa0tUUfIkyU5UB1oAqanb092egYGwMC/FG2UDuAQXoaEjZx4kT0ldLKIaF841tSugyFXxsigt4GfSRESP39FAoiHfPFF8fj3eE6uaEIxajsJMBBbpg76NJ2MapGAABkap2pCPCkPr37QInQg5VTwIHbuGnTpowGF2zeogW2PqzKXl61CS9iaoUJx/mC0HAF7R91XFRh0Ncj6hUxCIGAmnMIQ1yD8JFfAXhSJSmCLeHEbdu0kSLGoftNmzSFtTeFPqp9TEyNwTDBKSgoGA+obdS6VWuWW5t98hA8CRKpbh1VHwq3KHQf/gcr5XV4hVEEha1ST0Gk8eTJb7LrVPcDPHE97CiuYA9k+wE5OiXcHdNsDVakQIEthHexynBljKuwDQj6lSuXcU+iMRPcRBQ3g4M9EpCYwvXr1xkHd12b4DZCEdcl5Nao6Th69Bil+0XHh/cGtWoF2+MG/HbIVU0aN5F4LYuOGxWuwKGAf6AgkgnGumA8JzaqypSqmKyFVVn5YTn4CjjBBszYv1EjwyoGbYOCDHNzQy9cKLifYVfddnC7Ns2CW9vY2imqGg3u37+Ws1tE+K2c3MwGDRv6+dVncFXNZw1AxSqMGY1wqWMChMjin3Zy4nRjJWrSROwW8IBGy/2tWrXmItonzpF69Tiv9Vs0b6ESp9CYQSMbTOUrZXwiDzBH1anji4jMjmWJqQLYJjgYJsfv1A+i/EhScjJVlvFrIBJJRcri7sXdjb7rV6+edBIbN2nywQcfnjxxIik5CbEA2ISfteTqsPNJY+Us/J1ahjoRUsEv/j+oLF/BV+AJwcO4StIh0XJwOBEGotzHKBwIpNB9TjtnQ0U9qVNKYCFuCSRQKSgD/Qz7Kk4yqCFEEEoBI5Si+bOzchgM9YIxISV8JTR1tVSzJ4S08HYABirVOJJfFkJgjFG1ZOU8gnLxHgnHoS7SKQ0H/MCGX5Mpb9q0icIRRPOj5Wg8IuJ7FQUqNokHC+lYPEhYhImOPL8nmhokGBIGGlFHBC8vghbvGlZ0rLtVmZqonFc8Kl+RRAvMcHcwrOShelK+I0NJabgooKoqjCANXY00PgroiDArpQOMizyrroCqXiC56zARk2CqkkieaFKFNysdhIga7A02mPpQmGTJ6Ieew2VgNqwptF5yrhPwzHZiUsI9JnL2Re2kxISEF198EbJOZBa2U2n8wo2aX4DhRANONgZGBabJGkmBVE8DvwIs5bEKAMAwGvUKhLExIwOOBJDCuSuSPcQHFzLl/RAasCczBaUEqYcZ/HbkbUoaYRGlaCLWYHFrenpWXGzevQTTnDyKERAfpaASiI2topo5aHn0KDMvP8vI2JgXPx3w0lNgSUCiDGJQuobFRxLp2P+UnMRDydlkJzDN4p1PgEJWFhtP+/ggJUAfGJA5UhZevR5n5kMymLOlbJ/CWokFCgpjUZ+ScCcSflQTYaNimeCtujUQEsqIzVY7dH8HA5Xo2edXB61Ei/AkoMIVzKtoFp3hkOmsKkJAfMNGDan1rIpp5BwaKsSiV1H+q/7RqAL6JECVda+GtgfxMiul8DQcxbRKicBX7XFVqiGmZpTRPn36iuQ2LY6rkYwPZyKJQ3u0p7sC5dLJxmCZOleBt/CV2iMlYnzgFtoMA1IFJyO1QPKJShMsQ2+GG/0zxUj1FXAd7UI5TKGkuFNCf0I/40cDmaSTEhRKWCaZwaqvStuo3MDGIFzo6VZE/SkgUVXn0RiNV+g0b8BRDAxFGWQNpo4ujqmZPVbIPumNk5lplHFf8SBFERuroNSZjY3CyQW1EW6qZ1zVpApx12WFXpdzdmBJe0tIz7L/zUop1MAm0blwAreG+mYWuvc/NgwTRQl+jwQFJx40cBAWEXWAdW7U4hv0FDorYJRzypX3NlkHrbxr93jIH9zHwZ9BdM/f0kse/55ncUeBAgKHIlQauXwWMP2T7yRz0cLc/J/hi/8kXOUdC50Vox/edN0qS3mHeZb3oZ9RuIopFCptmVnU+1BERyiOH7l/6kTqoyxzLx+rbj0ULm6Cj1pYaktyzxL6p303ii/uUiwQlXfvPe3Un+Y5TUXkacaQn6moGEDbK03hq6gglxsuPdEGtdx3V74bcfhVPqDVIEZnVY8pq3xzIYcV/ayo86uAPy+PCGlFRnrqnXCrnIfmlhahV0Ks2nck+EehVuu48s20JMRo6jZ2xanSlX06/zb8umsf/9tvlceXMSBjQDcGdIfI6L5XvvovYkDLNaAg5M3YSGFsbO7gEJN+PzQszJzKwIZVFQZVcTD+i5DIQ1dgDMgLX4EXRwbt/yEGtAn3/0MkVMwpVyGgnOghC4OAFjWt7MzTU8zdayksHBTmNsQTPx8m3IqJ+IoMlcxBK/LqyLDJGJAxUGEwYGAgnJ222UQcKSytzPOzFEamiur2CnNzAogrDJQyIP9TDMiRRP9TdMsvkzEgY6ASYyA/V5GRSSM9RXYmZc8UVNQztVNQO6mq7A6rxKv6d0CXOejfwZ78rIwBGQP/zzBAM1oqS8A+9ZRZuvpGiqK80v9niJCnKzAgc1B5H8gYkDEgY+BpMAALVXJR2Qf6NNh7Pp6R/aDPxzrKs5AxIGPgf40BmXf+rzFe8d4nm+8r3prIEMkYkDEgY0DGQGXAgMxBK8MqlQIj9TNL+ab4smj7Jxmbyrj1sTeU8Ww5vpJaD5ZSDFw8T0HU69eu0wykHIP9r25RR+3j0VxaqXPd0JZn4XQ/KV+VMSBjoCJhQOagFWk1yoBFjYgXUMBZ+Sm17LsaRxT1/JSV4lVjF/Iz9XdpWaMkEs+/1KTmxtIoPiW54YvSvzphp8YmtbCpvacEV+ct4iK9pSjhTUfPUu8QFcOLG4OUcVt5v6IGtk75g7LpyilL0FIRno+4U/mLSgjQflYdw2XBkK+g6r0owq76lIc9lzWi/J2MARkDzwwDsh/0maH+yV6sp6Cj4Y4dO0+dPEnTXZpf0mm5bds2MMirV64uX7Gc3pNiQGX7a/6fWrhjxo6hDRldM2jstWPHDhoO03SDxpYvvzyhtldt1dtv3bj115o1MTHRdM2sR9fMAgVNkummS/9eegFSmK1Ll668SLuWOp0FaUe1csVKeiHRKIKmVHQTtLK2YmTaQtHj8PCRI3FxsXSX7Ne3X7v27UrjoNThpE3pzZu3xo8br42TC+cv0PuXplQ5Obm0J6Qfk9SASfvO8lyh0zX9ROm5SOdLGkCqHrl5/ea27dtv3Lie8SCDKvwjR4xs3LQxbJJOUsuWLaO1JE0w6tatSz9Ldw93WpesWrWKZteFXJNGOQW0W9Hv3btXh44dtMGICI/csmUzvZrpqsjjghkrGeijzKxjx47t2rUzKiqKViHMixt0lj7XHlO+ImNAxkBFwIDMQSvCKjweBpS5ObPn/LXmLw+PWvQxPnr0KHzll/nzaQKcfj/95o2bKampjEIjJNoYhV69SuNJ0fPLRQFzeu+9aY8yM+n2V8XQ8Nq1q3TWVXFQzKfrN6z/4Ye5sBaaaMJBufLLL79s3rSZFtNwiKPHjm7evHnhwl/btA0uAWWB4uzZc2++ORluQKdPWhZ/9tl/6AY1ffp0ePaChQtnz57t6uLCiy5euAiotLjq37+/TiZK28Ljx467u7vRYFIDEbDPjz76iD6gtCS0sbYOCwunJTUNosvoUlIGKun/SHPs72d9f+36te7dXxg7ZqykxIO9KVOn3L0b7edXl+7HkZG36bUJB42MjHzjjTfQj+k0CZA/z5t37Pjx2bO/RzoJDw8PDb0iNFGhTRbcuHEzOTnJs1YtDQ6K/r13396ffvrp9OnT9B0DA/Tilqr8I2SsXLHi62++trOz8/WtAxc+dvQYTdRlDlrGCspfyRiocBiASsqfio8BTH8r/lyxfdsOWnbExsRO/2g6bTtefeU1CDFG3ZSklMSERH7QUzeu3+hg7zBqxCg0yHux93q80IOm2Xv37HuY8ZB2GXGxceiOqvmeOH6iQ/uONHmm8f3yP5dzHVa9etXqLZu28JaoO1G8yKya2dQpU4tRlC9+TU1OffXlV2ltvW3rNtpbRoZHDhs63KmG07mz50OvhNLkmWGvXb0GPz529DgcqHu37mmp6TrxjP4X2LTZhx98BPzqN6AO0petVctWvILfAYyXPnzwUOcgj71Id0PU9JdenNAkoImjg2O/vv1FD9GCAiB8/bXX3V3dVy5fmZyYzFtAZlpKWtaj7K+/+trR3nH+vPmIF/fi4kECWFqyeIl46uEj+leATPrHodz379vfzcXt4IGDJcDIL7gccrlv774D+w/s36+/j7fPmdNnYLrS59TJU/X96nM95GJIZkYmqxMXE4el+rETkW+QMSBjoOJgQNZBK5xMoxMgOvwNHjJY5fj09/enXR/tvYRHTV8h2U55EFp8/MRx+ugOGjwI8+me3XswNr766istW7SgszQ9NR0cHVTjp6akLl261MysWnBwawyJkpOPvsT9+w/QL0oSb9iwoamJqdSet/BBpQUyLS0t8nakj49PcOtgRnZxdenQof2GDesvXbpkZ2sLaxkzZoyPrw93NmrYEOUSVfheXJyFpbn27PYf2E9r4iaNG6Pbqb7FGYnx+cjhIwMHDWzTpq2JiTHWacvqlhqP49NFQ2VeXJecixwt3K4Yq+k0rn4z327cuPFSSEifvn3WrFkrJqGcSFhY2J49e+gk/MILL9DcGzxLyEy4l3D+3HknZ6c+vfugF/LTt2+/P/74Ay12yJAhNB6R+mVigr527VpISEhwm2D/Rv4lwFN2j3n5lZe9vb2x+l69erX42wIFRvKkpKSxY8fSAZRlZb4ONYqXRmOa8p8yBmQMVEwMyBy0Yq6LDqhU7BO2gb00Nzevnp+faFIvfZQBKTdu3jh06BCtcWFscIibt25mZ2fBGDZu2gSXokE9j9T1qwv3RQPDVXngwIG33nrLqKoRDAbeI4aAIxexT16EIxD+hO1RAyDu19fTpxH0w8yH9BGkI5KTkxOd7m/fjnRwsM/Ny01NS83JzqW1NQ5U+BndsGNiY7x8vDTGoQXjpo2bPNw9Aho3VrfxYgq+dfNWaloaMGzbupW3wNq9vbzrN6iv7pGFCc2bNw9FUAm6EEzz8/OtrW1GjhwhfLqqT4Hi+vUbCxcupN9427ZtN23aJCaqDOe5efNmevp9W1vbPXv3PnhwH+HDxcW1ceOA9PR0eDPXbWwL+bqrqwuWWN6FPKFqZZyRkYGN+kFGxqBBg8y15AO8yPygWYKrQo6tBIk3Xr502bSaKYLIiuUr8vLzGLl+vfqetT11GrqLJyL/JmNAxkBFwoDMQSvSapQPFrI+IPcQ567dukpONQy5egZ6KKD79u2LiYmZNGmSRM1TUlIJeyF2xs7WzrBKlaioO9WqVZs2bVqbtm1uhd36ddGvAf4BXbt2O3b0KHob0aka78c+uX/ffidn5+7du2t8hXbl4+v7xx9LcfK1Cmr14MGDnbt28i54KhzIzdVt+/btnp61PdzdY+PisF7yVQlFtmi4c+fOXgm98tJLLzk51VR/RRWjKgRM0R4cP2J4RLiJiQnKYvXq1pMnTRK+RqX6yKdKlaq8rpppNYmDcgUOamVpxTSLRytQpKam/v77EtjVqFGj4YnwzpzcHImDoi5nZ2Xt27c/+m60kbExEgCG3LfefsvT0xO2bW/uIEVmMZoBuDYwJGgIvVM1OFARDdSkSZNWrVoVv7Hkb4AEeEUgi+8yMx/ejb6bnJxCmJKVlRUsNupuFKrqp59+6lHLo7Rx5OsyBmQMVDQMyBy0oq3IY+DBJ7dixYrbkZGvvf46JlbpbokZQIX37d1HoE3Hjp2k6zk52fr6Bp07d2nVKgimcuTI0enTP1qzZg2Ww7Vr1yYlJX/yySeOjg6ojOh8hTpo0fvTU9OX/rEULfbFF19E89MAq1o1s2FDhxLBu2vX7iNHjhgZGeFehVXAzNzcXIkpXbRo0Z/LlolO92bV4hMS4D3GRsYag+CD3Lp1K2pfcLAIKi7xLUkyeXnw9fbtOxDjiooGG/7iyy+3bN3SNLCphaWFdHN1K6vBgwahw/EnSIDbMQu0Y6yu6qMdP35i165dw4cNR7mEUzKsSLBR8jQ0bD19/aCgIMJ8LC0sLl+5/P777y9ZsmTixIlKPVtPBZhSv83LpZdyETMkNAlHMgbwTz4eRwSvxuxUfzKOCNdVE1D4Cwc25u6hQ4f5+vowLvbhlStXBgcHj6+lIyC5tJHl6zIGZAw8WwzIHPTZ4v8J316gQGuBBXZ/ofuQIYOLQ1L1RRbjmTNnQ0ND35g40cbWWhoXxmZUtWqzZoGtWgsNCR2OsNuIiMiTJ09t2LARZgP/O3rk6KXLl7Cy4h2E3cKu4HmM9seyP9atW9etazcYjzaUWCXxxRJhS5IG7lh8rrDn02dOo37yeP8BA4jsjU+Ih99gOp458zsSSPhKY5w7d+7s3bsXdu7v30jjKxgbeifgBwY2JU8GpuXq6gabQWXMyspS3ZyWnrZgwQIAkK6gHcLwYLcDBgxQxRujepJMEhMTi9r33XffofmhphNmNXfOD126dIbHGxjoNxVKZBDPenl7IaBEREQQfItx+xHvKuKX8HuYOnFVVenIofxg5t28ZbO7mzucTwP+En9q6vbiSxNTU5hut25dbe1sxd8FilWrVmNSxrpuUKWkMFHW0PJ3MgZkDDxLDMgc9Fli/0nfveyPZVhNW7Zs+frrrxdS3qIhMEvu2L6dQKF27dqqhrW0sES/hFugLeHd5AMPULr/CojNSU5OxsCL9/BBxgOsrCdPnjA1MWnXrh16JHyadBQskxMnTbJ3tNcJJ0E3BBDxgwYLv1m+fDmv8/LyhhlUNari6YURV3j1COhNTEwi5sjeTm0cpVnz4sWLMNHRo0bjEdR4BaDCPvHykpwqlDclzMyFaUq6MmocGqIIA46MDA+PkB430NdngvYODliVVQPCVrlIJg9+X37FpErEMr7htUIX93NwcEBuIL+Ff5VaIhqp8FmiMRM9hMKKLm5hJTRaVHww6eDoiIggDU54FM7acePHgXbJtIs/WCeuNC4icNT29Ny2fRvcXVpH1FB9nKW8Wt3aW56x5HtkDMgYeIYYENEX8qfCYwAutXLFKtyZPV7oeeHcBZIfsh9lE6rDdWg3flBUSc9anm9OelM93+PwocM1HWsOHTKM+BcSQn6Z9wv5GNPem0ZeR1JikpT9EnXn7o8//EgCzNw5c4nOJc2fvI4ajjV69+pzLfQaaRvkwJDXKGGIBJX33nnv/LkLMDBYy/30B7k5eRn3M0iAQRV7cfxLsDTgSUtNI3uER+BVH3043d7WfslvIglE/cPjL094meAg3Lra6OfxSyGX3Fzdhw0ZBhvLzsoh4MjF2eWjDz8qnGBRWggVkXAAa/xopIVgYSZXhPCrmOjYg/sPtmje4oXuL+DlBY3Xrl4ntqpd23bwQm7bsH4DOTkjho+Ij4snwcbM1GzO7LlMlkSXV15+BQ/r7l27VdAOHDCQRB0ChkWOClZwYQgvOH3q9CcffxoZcbvwtvyC+2n3P5vxWW1PL5YDzAMwX/3808+sxazvZrEuiQlJZNQw+F+r/kLWkT8yBmQMVBYMyDroM5RenuDVDx5krFu3FhIfERH+3rRp+NXQ0mCo7017Two6pTYQGkz7Dh0oD6QalzSSocOG4mAbOnQo9JqkCyyiFNwxMzMrvEep8RAwSjxLdavqllaWpJCuWr0KnTIiPHzym5NRBLkBg+onH39Sx6/Ozp07Z82ahXJZt24dMmG2btuGJ/JR1qOrV69R5ef9adPIbImOiv7q668whKJpxcXF4SYcNWoUSSmS1qiCjUoFpEL26NHD1UXTuss9hPXWqFFzxIjhlPobP348AFy+fLlB/QbdunUr1POKdDV0a2NTTQ+rBmbRGlWK48OMDJRsjLGurq5osV5etQkvmjNnNiWKSG+9cPEiJQ7IQyUEd8jgwceOHZ01a+aePbtBCMruhJcmBDYNlAY/d+Yc6S7Aw8SF4ijBU6Ag0HfOnDnNAgPd3F1vXLvx/fffY+zFPEu67vTpH1evbvXSSxO6de/aqWOnFQ1XzJs/7+DBgyCQ6k5DBg/p2KmjCNqVPzIGZAxUEgzIHLRyLBT+zK4m24L0AAAD1klEQVRdu/r6+BLsSlStiJkRdk5jU9Nq2B6xweJlnDx5snDmSUVoldMi4ubNN9+sU6fO2bNn8SwSE0Q2pJSmWTztfEXt2p4DBw7kNi6amZt169Yd1RCnIAqu5GrFIwgPQ1u6ceMGZkyKAxgaGAYQlYN3MSaGPM4OHToQr+vu4c4I8B5UOsySBN8S60ScLeUUNOy06KmAdP/Bgw7tO+h0+xFajDd38qTJJNJQ/Cgr6xHcq0uXLiKm6e/ZOQGvX//+2KtF4BFVnAz0J77xBkE958+fx5oNz+7UqVPTJk0BwK+eH3Wg1m/YEBkZQVIsiunAQYNMqxWmmT7MzCRDF11WPYYIFZzyTPZ8HERyJzmpwG9nb0d4FzI1MVOkwRAMzFe4aX/9ddG6tWtvhYVhUScZpm+fvsgxxesi/yZjQMZAhceA3GG7wi9REYCigLuiIC9POMzgT6RFiqLthoaS1kLsD4kW2uXuJM2PDA2yPQmZ0b6B4bkH/qrKs8QaiYEY7VPpnCvWic6cOTN16tT27du/8847kkrHgzBv7iFZU4BZpIfxIAwDBsyVKoZV4EYaWMZcTMgrLtIFCxeQMVnWGuQrAIYbYD//jJuwQMTfMiBJsUUeVgVGY2Dmg6CgwaElczQSi7hfbR5cZ8JVqhiqXzxy6Ajz6t2n95QpU4qji0X5fbFwsGzBR3mk6MOq4dnlL6HrayKpLKzI38kYkDFQETAg66AVYRXKBYOBoWBm6lkfhlWLl4+4Hn2qE2l9pDoM2nXh1W/kHvUbYHhGBsJ4qx4XA1slhJVaDRMmvKyyiPKgqrZA8YCiJoMmqBpwwVwxQROvS8ECLZBLXtAnLqnYLv2Ym8vzNUwdXih9iphW8RWtEUr7Svs6ijVF9gl7ptJQieQcER6kZ0ikktaHVTMyFKiWPzIGZAxURgzIOmhlXLVnAXOBgpL0KJ3OLs5/X1uCgzIaZdzLSKN8FpP8u++MjY7FEkAtwL87kPy8jAEZA5UBAzIHrQyrJMMoY0DGgIwBGQMVDwM67H4VD0gZIhkDMgZkDMgYkDFQ4TAgc9AKtyQyQDIGZAzIGJAxUCkwIHPQSrFMMpAyBmQMyBiQMVDhMCBz0Aq3JDJAMgZkDMgYkDFQKTAgc9BKsUwykDIGZAzIGJAxUOEwIHPQCrckMkAyBmQMyBiQMVApMCBz0EqxTDKQMgZkDMgYkDFQ4TAgc9AKtyQyQDIGZAzIGJAxUCkwIHPQSrFMMpAyBmQMyBiQMVDhMCBz0Aq3JDJAMgZkDMgYkDFQKTAgc9BKsUwykDIGZAzIGJAxUOEw8H+kFZOkHg0itgAAAABJRU5ErkJggg==)"
      ]
    },
    {
      "cell_type": "code",
      "metadata": {
        "id": "U0G1E5cekWqa"
      },
      "source": [
        "#vamos definir as taxas de retorno anual\n",
        "taxas_cvc = np.array([-11.86, 63.73, 74.52, 20.42, -33.29, -128.06])"
      ],
      "execution_count": 103,
      "outputs": []
    },
    {
      "cell_type": "code",
      "metadata": {
        "colab": {
          "base_uri": "https://localhost:8080/"
        },
        "id": "O8EthADGkmXV",
        "outputId": "71c351a9-9bd7-4567-e7f5-7d564f58726a"
      },
      "source": [
        "#para enconntrar a variancia primeiroencontramos a média\n",
        "media_cvc = taxas_cvc.sum() / len(taxas_cvc)\n",
        "media_cvc"
      ],
      "execution_count": 104,
      "outputs": [
        {
          "output_type": "execute_result",
          "data": {
            "text/plain": [
              "-2.423333333333332"
            ]
          },
          "metadata": {},
          "execution_count": 104
        }
      ]
    },
    {
      "cell_type": "code",
      "metadata": {
        "colab": {
          "base_uri": "https://localhost:8080/"
        },
        "id": "dKEGQBKClb08",
        "outputId": "0a8a660b-bdb1-4256-f63e-b51a5827df65"
      },
      "source": [
        "media_cvc = taxas_cvc.mean()\n",
        "media_cvc"
      ],
      "execution_count": 105,
      "outputs": [
        {
          "output_type": "execute_result",
          "data": {
            "text/plain": [
              "-2.423333333333332"
            ]
          },
          "metadata": {},
          "execution_count": 105
        }
      ]
    },
    {
      "cell_type": "code",
      "metadata": {
        "colab": {
          "base_uri": "https://localhost:8080/"
        },
        "id": "X08UuySUk9jM",
        "outputId": "8dcde655-1833-4b55-e97f-11fc0dc5b196"
      },
      "source": [
        "# dois asterisco eleva o numero ao quadrado\n",
        "((taxas_cvc - media_cvc) ** 2).sum() / len(taxas_cvc)"
      ],
      "execution_count": 106,
      "outputs": [
        {
          "output_type": "execute_result",
          "data": {
            "text/plain": [
              "4607.455288888889"
            ]
          },
          "metadata": {},
          "execution_count": 106
        }
      ]
    },
    {
      "cell_type": "code",
      "metadata": {
        "colab": {
          "base_uri": "https://localhost:8080/"
        },
        "id": "on_y8OfwllYv",
        "outputId": "e862568f-f4b9-4646-b20a-efbfaaae5740"
      },
      "source": [
        "#calculo automático\n",
        "variancia_cvc = taxas_cvc.var()\n",
        "variancia_cvc"
      ],
      "execution_count": 107,
      "outputs": [
        {
          "output_type": "execute_result",
          "data": {
            "text/plain": [
              "4607.455288888889"
            ]
          },
          "metadata": {},
          "execution_count": 107
        }
      ]
    },
    {
      "cell_type": "code",
      "metadata": {
        "id": "CV3xn9sLluXg"
      },
      "source": [
        "#usanso a taxa de retorno anual\n",
        "taxas_mglu = np.array([-134.37, 176.76, 185.78, 82.74, 71.86, 71.87])"
      ],
      "execution_count": 108,
      "outputs": []
    },
    {
      "cell_type": "code",
      "metadata": {
        "colab": {
          "base_uri": "https://localhost:8080/"
        },
        "id": "Vmfzmj57l7qQ",
        "outputId": "4a11bad4-d094-4a78-842b-d7bd07aea500"
      },
      "source": [
        "variancia_mglu = taxas_mglu.var()\n",
        "variancia_mglu\n",
        "#a volatilidade é maior entre 2020 e 2015 11089,84"
      ],
      "execution_count": 109,
      "outputs": [
        {
          "output_type": "execute_result",
          "data": {
            "text/plain": [
              "11089.846455555555"
            ]
          },
          "metadata": {},
          "execution_count": 109
        }
      ]
    },
    {
      "cell_type": "code",
      "metadata": {
        "colab": {
          "base_uri": "https://localhost:8080/"
        },
        "id": "UVzOde3NmQbH",
        "outputId": "40739f7d-0098-4c25-fab2-191b2f531a41"
      },
      "source": [
        "#variancia dos preços nos ultimos 330 dias\n",
        "dataset['CVC'].tail(330).var(), dataset['MGLU'].tail(330).var()"
      ],
      "execution_count": 110,
      "outputs": [
        {
          "output_type": "execute_result",
          "data": {
            "text/plain": [
              "(259.985677904719, 28.190262814035485)"
            ]
          },
          "metadata": {},
          "execution_count": 110
        }
      ]
    },
    {
      "cell_type": "markdown",
      "metadata": {
        "id": "3yOrHmZJZZj2"
      },
      "source": [
        "## Desvio padrão\n",
        "\n",
        "é a raiz quadrada da variância\n",
        "\n",
        "![image.png](data:image/png;base64,iVBORw0KGgoAAAANSUhEUgAAAT0AAAAgCAIAAADvxjg7AAAAA3NCSVQICAjb4U/gAAAb+0lEQVR4Xu2bB1hUZ9bHZ+hdmnQUQZQiCvZecGNJLNmIG6NuEmNJds3aW9z9VpNvLUks0SSr0WjUJM+nsWHFriiogBU7KChVOkiv8/3uvTBcBjTGBbM+z1yNmbn3vW857yn/8z/vKFUqlUJ7aSWglcArJQGdV2q22slqJaCVgCABrd1q9UArgVdPAlq7ffX2TDtjrQS0dqvVAa0EXj0JaO321dsz7Yy1EtDarVYHtBJ49SSgtdtXb8+0M9ZKQGu3Wh3QSuDVk4DWbl+9PdPOWCsBrd1qdUArgVdPAnqv3pS1M64nAVWVqrysvIr/iYdWlWKD6hOsSr4Kf8Rb4r9cypqn4k3hj/qJUrjqn36t7UTsWfpaVVWlflHjAw2UOgyj+Vx4l/6lMcVZ6evr6+lr9VBTUM/+rpXXs+VT+xSjEBTxv/KKjr5x6VJUYWFhVWUVJoFhMM3KSsGo+KijA6oSZ45Z16yAlkIzpdBMslKeYGV6err8Ka+oEB4KBiz0oHFVVlQqdXR0dXTKyss0n4nfeVFXR5ervv3jXDBolaqKcemZNv7+Ab1799bT122wK+3NBiWgtdsGxdLAzV8xWlS+nn430EvT3Nq+/f+uXLliYGBQUVEpRVWMjhlhHvr6BkTFysqKmpEFMxQDrGC2deIzBl+zBvExbwj/EQ4rxavmFygqOhQsUxfLbSDPwlalgCwP49Lo9I+505UUqGlmZGhkYmLSs2cPhaKx7fZ33ZGm2efaXrV2+1wSLiosevw4zcHB3sTUpP4LqkoVkYcwoq+np9RVVpRXEM0MjAzqt2yKO1mZ2fdj73/88cetWrlXVJRLtlRRUZGZkWlkbGRtZU3k4740dBWoQTTX3NycJ0/yWRGWIxkYVvQk70lGZgbA1a65He8Kr6gUunp6GRnp5eXVPQshVES/5hbm5mbm8hUJt8XHpaWlmZmZtja2BoaG8gYMjdFyh4EKCgtsrG1MTU1tm9OskWVF1pCVlUXMb968uXAGX6XIy81jjxCOMEHhElySsbGRqZmpfIa0LCstKygsfJKXh2+ytLRsZtlM8mbsaV5enui/avrgfL+O0szMrFpWdTpq2i+NabePU9Pu3LnNBuvp6TWzaGZja+Po4GhoXGfn/sPVlJaUHTx4wMnRqWvXrrovBVlJ8DguLm7NmjVjx44dMGCAoLV1w0xiUmJwcDB20qlTp4COAadPn+7SpYu3t3edEN1k7v/69etA2969+1hZW6rFeynq0sFDh1577Q99+/WtlTkmpVKkpaUxQ+KzqanJmDHveHm3pQHQ90b0jbCwMOyWHXRr6RYUFOTm7sajgvyC/fv33b9/nyCJJVRWVeKhgNOjR4/uIcTJmqtmgWmP0/bt25/w6NHEiRNbebSqbSB+ys/LP3nqJNMrKS354IMPfHx9NBq8+FdxAsVFxdHR0efOnot/+DAgwH/8+PEYFRnEl19+mZScBLrHiCWgTjowatSowUMHy0fMyck5evTo7Vu3i0uKgQVocp/evQMHDjQ1M0lNTV29ejXugGHUeAGw8Le/fezbzvfFp/1Cbzaa3eKNjh07um7dOl1dPVwZC8bX+vt3eP/997280OAXml29lzIzM9avX9+tW7d27dqZN6vj7Ou1bZwbku3l5uSeP3++b9++6LS+gb68awwbM9i3b5+1tfXx48dbtGxBMPHx8dXE1U2EolWK8LAwPz+/Zs2aqWeVmZ65devWn3/62cPDvY4UlIroa9c3bNiQnpHes2fP9u3bW1tZSQ1SU1K/+uor4t6ot0Y9fPRow3ff5Rfkz5w509LKkuWcPHmyoKCgZYuWhoaGRcVAj8dpaenjxo3XEHFJUUlYeNju3btRfRsbm1FBozQaxD+I/+bbb3CCAQEBnbt0dnZ2bpxNknpRKoBFe/bs2Re8z8nZuW/fPl5eXkZGAmrIz89ngwyNDN3d3Ymi5A7x8XGYaNDoIDFjqJ3Frl27tm7dNnjwoAGBA1DpbT9uW7Z8mYmpaWDggPT09MOHD9vaNndxdibggvVjY2PoH9NtzFU8X1+NZ7dVVUlJSQ8fPlq48JMWri3yCwrOnDnz008/37lzd+mSJe3at3u++fxKK2zjo48+cnR0QpS/0vRpj18g7qkEdFdSUoIzwitpdIwe2Nravvvuu7169T554sTde3eHDx/Rpo0nzVRV5HNPm0fj3M/KzLoYcXH+vPk6urXad+To0QsXLlZUVuBT5MMkJiQtW768uKho7ry5nTp1NjI0BNVLDYiBV65eWbxoMfEHJ3XxwoWQkCOEI+y2tKwUdSf84i5xWwDOf6/7d0Z6Rvfu3eqsQak4d+5c8L7gtm3bXrx4kUeIS92AeI61L1myJDIqaunSJb169QKCarq2/1gkGOf6deuHDB3Kdjg7O6k5cOTQ3K75rFmzO3fupKMUEuwvvvgiMysL7y83WpaGxoL+33777TZt22C3QOuPp34cFnaOqEsn+Mfp06Z7tvEkt09JTlm2bJlrC1dHR8f/eOK/uQNNLfzNHdS8IKQ1KhVwPzBwoK+vD6IZOXKEq6vL2jVrd/yyo1WrVqbmgqUlJSTF3o/Nf5Lv7OLi5dVWnV3Ex8XfuX2nvKLcw92jnV+7u3fu0p9XWy9JscpLy+/F3DMyMm7d2qN169YWFs109aoNIjsrG8gHesF4gKb2dvaa+FmluHHjhpWlFWASBAVkIs44O7sYmwieuKS45M6dOwmPEtByH28fj9Ye6lwL5w0ERUEdHB0KiwqBWBI6Ynfj4+Pt7OwePnxIFOrQoQNx+NGjR7ExMaR8Q4cM7dipo7m5BbsOB4PpJiYm3L59p7i4iHzPx9fXxtb6hYVc/8X7D+6bm5v7BwSoH8Xdj4Omat/eLy8vV6P91q1brl698vnyz7t16w7bJFdZkIKJsQn2yStYFMHw2PFjwMX2Hdo7ODjMmjXLzc1Nyu2B2Xfv3v3Tn/5kaKCZAZEdYAkWzZoRbzMyMuWj491CDoccPXb008WfDntjWFP87pskH2skxn4wYYKTi5N8dNz9qlWr/Nr5SbqBst2+fXtUUBDaIm/GjicnJZHpkN9xn+0DNcD2kdZCg6N4//rff6F/kou8du0asOX9Ce+//OSWuTWa3Yo0puC8BR4Sfl9PF3167733jh09Fhp6Fv/nae4Zejp00aJFKakpEqM4cuSb8+bNdXJyunD+wrTp03Jzc3GQZuZmP/zww08//XT58uWVK1ciRPrEflCdQYMHgdwWLFjQrWu3BZ98YmCgf/LkqSVL/pWQkIBaFBcX+3fwp/9uPerEARRo8uQpeN/CgsKYmBjokBYtWnz22WdDhgwpKytb+MnCwyGHYZJKSkuNjAwZZdKkSZguadI//vGPXbt244lwScRPqB2Rc1GBIMjc8E34C3b6iy+/oPG69esAY/AxtBk3btyc2XNs7WwJMnt27yGzImlkFXBFffv2+/vfF2okdWmpabGxsXIF4nNLt5b4co2bGl9xDREXI9q0aWNhYS6JvyC/cPny5Wgb7iM0NFTO6CYmJP647Ufs0Mvb6/HjVMSF1jazEtA1ARbX5urqijMShlAqXJxdWAs7xTdjE2P1hOF7Tpw4Qb21Z4+e9clkS2tLS4UlwhSoaom8qpkx2Hhv8F7c95ChQ1JSUgDbAHuBNKpHFlSUVx4/fiwpMamBtYvggBexfBMzTXS6c+cu/Olf/vIXwvj92AeQ3Xb2dlJggGTxD/CXOiwvq9i5cyeBdGBgoIaLx7zxOyhJRGTkH/4wEPHevHmT3jp17IT1Yp8WlhbVnZSWHzxwEIn5+r7szFaaQCPareS+ZbmCUoGTJoJdvXotNzePnZg3f56xsTGeD7++ffv2H3/80c+vHZ77OzKutHRyY9rfvnMbf49lkqhcvXrV398f8UXfiMbnkZJhCdB9hGXsh3xj8eJFmPqKFSs9PDwiIiJWrlyxcePG1p6tocTUu061Ijs7KzExMSho1KLFi+IexC3+dPG2rdsC/APYVFMzs3/+zz/ZVLzGjOkzduzYMWTwEPfW7iRpP//8c9CooDHvjGEjISSKi0twN2gkVZX09LTy8rLJkycTbPE7lE8nTZpMERJl/fbbb0Frr7/+el+7voT3latWwpeuWLkCnTgScuTbf3+7edPm5Z8vl580CDlyZPXqVRpqOmHCBzNmTlffhLJG15OTk4uKitr5tpNeZ84P4h4wltAMlrhKtXv3rkuXL69etYqvWFc17yl6VDgn+LNW7q3WfLWGfvBfFuYW06ZNGxAYiPcBOJiamBrXpGr0T+bGWBqzAtccP3a8X/9+9PObYmZyUvKDBw/wC/hiPrCbsNZT/zp12PBhcF3yUcpKSy9cuEBGrTG0CHpJTfUQeL++/fAmcpidl/skNPQMVNOtW7dYaXp6BoT5oEGDyKqcnOvE3pSU5O3bd7w5cmTLli01hsC8Z86aOWfOHADwjeho1Iz48dprrwUODCT2yhujpRGREVMmT7G3d9Do5OV8bUy7FQUrs1tRmdAGtKe0tASKD9w1ffp0kAzea9Brg7Zt20bIGjZsuJg36qJJKPeIESMIdxgn2xN2LmzMmDH47/DwcDgMD4/WdIg0hfqhjvLUqVOQnAsXLgSQE97hYKKjr4eFhSckJMrtFlaQyNCje/e5c+e6uLp06dzl/IXzkZGRgJwOzh3mz59Hb4WFRWamZuRv58LCCJvoMdwGUeu999+DuMYgabN0yVJWxyWkA0qdoUOHTpkyxcpa4HUA2ABpIDdLIAU6euRodnY2keTihYtZWdmzZ88WSF2VwsrKis0OCQnBfxEK1BsM66tJIBFvW9TRKkiUkCMhBw4cJP4TUWG/eB3mlgDo6+MruUzc3JYtW3FPAPWLFyPE41Oq+zH3c/PyOnfqdO/uPfwO1kLEg4Agknz62adr164lkWNuwuEm2ebxlTWK1eDai/5YGnwVpDo7+AwFFaUkf1OBy8jOzrG3t0eeZI+Y7lerv1rwyQLAgrevt7wrDBIlAfXU7x/9YkXQSwRqjdy4qKgwNfUx+ALXQCRg/hs3bti0aTMjgrYMDKupxMrySuIBOcvgIYP1DBpQfog3Omelaelp+DLERWKVn18g4OYaZgT6DdrPwsKiV+9e6nyt/myb9E4DU3/h8SQYCRpU90CUeJKfj00aGxnHxcfBcEB+oEacBwCjkqYSfkGno0cHwe+hQ+fPXxg4cCAQxc7evnPnziA9MDCEECWK4SOG29vZCUUIuB5Rq1BEegZ6YbTIFIBN4kqeBuessQRDQyMXFxdSXO6zW8RwoDuWwPaAwHEKUCbo2dVr1wSFE8qPZXHx8c1tmzs7OUvOyNPTU9/AQK3YRsbGeB/sUBhIpSDonTp1GpDGolgInkWoUiqFiouJiXHLlm5CMyUAzxIff+nSJQqncrtFCEAMjTmjvvI7ZeXl+JGuXbsAUmB9sFsyZ3J+Rycn4jkt8RpHjx4jyAAjcQ3kbygcq3uc+piExdvbKyc3l4x08KDBI0aMhC2jdHH6zGk8IxAdv8M8cT38BevSG+c04Eu5qVZWboJviT8dO3b08fGRPIXGnNVfBQcue4ZiELoN9PUnTJjw9pi3eUKqiRzAJpFRkRp2i5ARI+hG1pvwEZ2R5F+lqqzrFYSnLJ/DJZ6ebSZOnOTgKGStKFbomTNXLl8pfCffwLCaU8DRHzhwIDAwELQlm2D1R/KdFStWYK5Lly7FiTONDRs2fvPN135+7d3dW1VDJJXi2vVrgOQpH34IPKzfycu505h2y4xRerndkiDF3Lvn5ORobWPN5sG/A2ipAQgBU6ns06cPgkar+vXrj+LCP3NFREBFqsB+PXr0OLD/QHhYOGZANtK9e3cjEyNyVEkuEkXEZxRMLSkps8JK5bJDgxgLIhSbl+7jCBiCIIylwXCWl1f06dMbP52cnMS+isFHKUFitXYKdiiocPVFnzgO6cuTJ0++W//dpcuXevbs5enZms0m7kkAVQBXKgW4WmqJs+EDvgYvLp8hsJDag/wOnwmbxA31BNDFIY5DoEZAGWABEjx8F7MlV5dKHbzSxtNz1KggJpCcnILLQGoAafwLforwCE3K7piZm0sTB9QQdZEJ0uDwg42NLSclcnJynV2cmTPcG2bm6uKqngAI6NChw3CKs+fMxkVqzFb+FQIPzyrSlNUS4yuOG/fKIRCpJa7KwcGRDAjpaXRFXg0pcPXaVfV9kTARLg5HVilUxMOF8xdY2NSmQjwyNDTQ19UzNjIRdl8MjC1cXS3MzPFFwkviBbt5/ARuPZOiboOnYjIzswCAkHZkuVT7+AuNvGnT98gZBZDslmo2ORSb+MYbr/+Ox6ob2W5ZDwIi3qCsBLEtW7ZQHKKOByfp7u5B4YESDrQNioveQ41wFgf7wRkDn4iWnq095y+Yf+TIkeHDh7f3a+/i6rpz1y5ANNoJoJKkL/2L3bb29MRQST4xZmpoEMtRl6Jgle1lEFRqDEp/lPAI+hcQS2ZFVCf0wcrcunX76pWr5Hh/nfpXZo4ZE3zQNiAArhSPQzLMGQ+mB65Gn8RoLF214QQ9CD8fjnueNu1v9Ll129aQkMMcS6Idp444eRMbE9sRYsNQn9BH/5AZHMKRrwUSiAggv8NniPP6MQ1Lg67fvGkTxWRvH2+4bpRMaob1Akmg7kg6wLeEGjAtzo4yBkaCCmLAZLxpaY/xdJhQVaUqOSUFsEcYN7Mw69KlM0dHkpISIfmx5Hv37hHG23oJRzK4KiuqIMxJntkj+pRPNe5BPNk+jCBetaZxheAlpcOMNdiSDIV0+vKVKyNGjmDCOPecnGy8CcS+xsJRDNyTvEgu2K0gTs6HK1AsXI+eUQ2VLZmkUsHZLXtHh+Tk1KysTCtrQbyoX2FREUaO1klDgN1OnTwF6Q2Ukw9688ZNtlgAESoVagCKJnorRCxFzEAfTIyN1SQcQIZy/ciRI9t41lFIjVU09dfGtFskjnJTuQbf5mTnxMTGwJWT1o8OGg3qow4Omblnz27gJTqEdC5fukzIBbB9/fXXZLNg0ZjYWPZbKMcrFUDKrl26bP5hM9o2Y+YMDL6OLJSKAf37U0mDpaSWS34I3I2KjKLkSFfylgLuKi1jJpwrIIxfvx7NEfwRw0fYO9hnZmWSLIE2iXhoKv6CbSM4CDYwfNg/oyI3bBSOKIDSKWBI9ImE/6pRoKiUgE/YrYfxD7Ft0qpdO3chBCm0AikdHRx+2LKFsEY8B8NDq06Z8qFwdE52IZb6x4Y0YrLUnCgxcGDgzp2/fL/pe0gd4rmbW8vqnpQKQmh1EUulICUBpGRkZHBHX8zuevfq3cG/w9mz50A3iAuwTU2Im+6thNoPjpLpAbARO4konqhfv37kIFLnmNnpU6dJSj///HMquuq5ky5CLx86dBDezp0zHioFiT3NsBARpUdjNpQ3mSc7Tm0JojgwcAAWQs2PCfTu06dbt65yUfCZ2Q6Ey5VVnmviLUalIyRK/E8MD4rySsCMgIOUKlN9/TeHD/ty5ergvXvJn8HMm77/HotlFaaQ7UKsVsFrIP9F7y7SODmzd+/e69euw1YCBvv3H3A+PPzAwQNkEyUlxYcOHjLQN+jeo4e0HQRbqg8lJaXvjB2rWW7UWEYTf9VdvHhxowyho9BJSEwAURBgqb7ymdD3xz/+kfNSUMoYA+7W28ub0hkGxgUgASNxUA68RDGDej0sDlveo3uPqVOnkqQhXCID9gZyg6Vo6SYwMWA/3kW+xGdILOJPbOz9CEiYyAh0ZdiwYePGjxfq4LXhUFFcWIzxC3jS0OjEyZP37t5liA8/+pBCC2dPGSIKO46Kwj137tSZYxU4GkIN2kzYgaMG9EKivvHGGwA/GlBSxhi4yckB4XSbUkG34CXunDsXduvmTUeSAmtrqCxWjdaSIMTE3BMWHBYO+HzrrbfGjR2rcSYWz4K/0LjqB1tpmywtLJkAvDdohfQbOqA+WgPv7QsOBipjPG5urfjDu+Qj1Mbj4h4gZ8L1+fDzCJ/6nGCcSgVIgbCMHEg7kQfRHk4OaCDRP4X5BQcPHWRTPvrwI/kJbVIMDsnh9d58800WC029efNm6HS8Nr1B7VDpdXFxJZk3MzGjYk8mcuZMaFRkJPvFUUpgDqm1NIRcCbFzEIH8r46eLn9JDXjAPwK3XFGlyC9UZGUoMtMUT7KVlWVtnZ0tTC0iI6MuRLJvEejhBxMnDh82zEA8aUsIJb9gCX8e/2fK7PLhftnxC2UwfDqsQds2bWBkeP3K5ctnz56liDhu3NjBgwdLdAMi3b9/P6cAx7w9RoNhlnf4Ej438EvLFx6VMiC1GRCspIIoCjCMgCZ0KIYmjISVo3alJaVsP/oNSKNBTlYOdg66A+6y/VZWlgLVpFDQDKRKA1glIZKI55aIbMi9mtdRcaohKTMjg1MTHO9GQ4UiuMxo6YQTRX379O0/oP+MGTOYIVpOQBYLlURH4fAtCBCYhJchxxaYQ0cHyR8DvxmruKTExsaaVzieyjl4DldCJyYkJlIQrjY/lQILJ6WED2MO9IO1sApJOagWZlCUyMjgOC7ZHT6owV8mPL/MgazXr13jgB56vWzZUo4x1bdwvBuYnJkjd1Yqj5CcZyTpZSOQKlwrLLqOdIJFpQDcYng8Jd1l/qh4tUWJj2BriXNC9iu7UlMez507hxtr135tbWPFuPRAY1JK3sXAAO2cNgGHSy9R7eNidLYJQaEh1QDh+dcvtYSUyy1UZOQo0hIUxU8UOpWADYWZZYW57ePS0twKzqIa8BsPnLWe+tcdKgWenSmhS6io2uoK8wvH/3k84RQ4RsWIsExBgXlSGqCqhIriedUnKwAxdEIEsnOoLQf81rk3TnuBPWjcS6g+1Fzyz9I98Q77+tQxNZ48vWF1D7/WALsl+5o9azZ2KB8U7an9qu6k/od6EwUcPs/Q8jVibPW6efEbmMesGbM6BnQkMXvxXp7+ZpU022dMuUpVUVZBB8F7g2HIws6G1RHm03sWnjyHhJ/dgfC0tEQVn6wKvaTavqty/tz8Se+q1nyhOhysunFDlZevYv6yva0zqLxrsU3w3n2UJEPPhFavuu7YmhsnTf4Zkvn1qTdOi8bMb6sdiTzc1Q19UtSlWX1oVOuENF4Rv6oP+rLrmu/K29ewIHKXhoslkFJG1qjv18E5dCK9q+5NYxqyHqsDlLAM+TjiZ6kT8V+paCG1kB8ervfOb74BZKAWDYIgX3jqy2pRNCSTp74lPqg+tFx/derXOA8n/hiL3z+R+5AR/AbQ+BwSfvb0xCnClZXz2x/qeA/DwqwMdRNyc1twOLGkWPhbE96r+3maBMSCAOfeqP34tfdrcFDNjZMm/wzJNNhLE9xsArt9xixfdMHq0/maRqsxVkP9gxI5aQgZ9iu/KGzo3WcspeFH8n1tlA4bHkbh4OQAe/yUh+Jt9ehNOQ1Y4mfNoemeCY68UqFTrigrsjY1trSzKi4pE2gq4Zf/dU5f1RFFQ/PhdF1Dt//b771cu/2dpAGT+TuNrB22aSQAjUxt3NhQ6edTnJFcWJDXzMtXYWmtMDJRGNSp3jfN8L9/r/8PQ5DIUTslSR4AAAAASUVORK5CYII=)"
      ]
    },
    {
      "cell_type": "code",
      "metadata": {
        "colab": {
          "base_uri": "https://localhost:8080/"
        },
        "id": "JRzvlIDRoJYW",
        "outputId": "4d1771ed-ec69-4e60-9097-c683bc4ae698"
      },
      "source": [
        "# a variância da taxa de retorno é o desvio padrão\n",
        "desvio_padrao_cvc = math.sqrt(variancia_cvc)\n",
        "desvio_padrao_cvc"
      ],
      "execution_count": 115,
      "outputs": [
        {
          "output_type": "execute_result",
          "data": {
            "text/plain": [
              "67.87823869907712"
            ]
          },
          "metadata": {},
          "execution_count": 115
        }
      ]
    },
    {
      "cell_type": "code",
      "metadata": {
        "colab": {
          "base_uri": "https://localhost:8080/"
        },
        "id": "YrlsXCMtowhU",
        "outputId": "f759dacb-6f5b-41b3-dd1e-d16289dcb0a4"
      },
      "source": [
        "taxas_cvc.std() #outra forma de encpntrar o desvio padrão"
      ],
      "execution_count": 116,
      "outputs": [
        {
          "output_type": "execute_result",
          "data": {
            "text/plain": [
              "67.87823869907712"
            ]
          },
          "metadata": {},
          "execution_count": 116
        }
      ]
    },
    {
      "cell_type": "code",
      "metadata": {
        "colab": {
          "base_uri": "https://localhost:8080/"
        },
        "id": "En-ACTmloSz4",
        "outputId": "e4183a1f-6709-4dd0-9fb7-a45a136b0d4a"
      },
      "source": [
        "desvio_padrao_mglu = math.sqrt(variancia_mglu)\n",
        "desvio_padrao_mglu\n",
        "#a taxa de retorno no periodo possui uma volatilidade de 105%"
      ],
      "execution_count": 117,
      "outputs": [
        {
          "output_type": "execute_result",
          "data": {
            "text/plain": [
              "105.30833991453648"
            ]
          },
          "metadata": {},
          "execution_count": 117
        }
      ]
    },
    {
      "cell_type": "code",
      "metadata": {
        "colab": {
          "base_uri": "https://localhost:8080/"
        },
        "id": "m8iLutBAo15L",
        "outputId": "e797f10f-ef33-4d61-bce1-644d14407136"
      },
      "source": [
        "taxas_mglu.std()"
      ],
      "execution_count": 118,
      "outputs": [
        {
          "output_type": "execute_result",
          "data": {
            "text/plain": [
              "105.30833991453648"
            ]
          },
          "metadata": {},
          "execution_count": 118
        }
      ]
    },
    {
      "cell_type": "code",
      "metadata": {
        "colab": {
          "base_uri": "https://localhost:8080/"
        },
        "id": "KyptJCb4onvh",
        "outputId": "da1f37b6-e93c-4944-f8fb-055be2fa9c52"
      },
      "source": [
        "#analisando ospreços ao invés das taxas de retorno\n",
        "dataset['CVC'].tail(330).std(), dataset['MGLU'].tail(330).std()\n",
        "#sabemos quehouve uma variação para cima ou para baixo de R$"
      ],
      "execution_count": 119,
      "outputs": [
        {
          "output_type": "execute_result",
          "data": {
            "text/plain": [
              "(16.124071381159258, 5.309450330687301)"
            ]
          },
          "metadata": {},
          "execution_count": 119
        }
      ]
    },
    {
      "cell_type": "markdown",
      "metadata": {
        "id": "KKuX4112bw_4"
      },
      "source": [
        "## Coeficiente de variação\n",
        "\n",
        "é o desvio padrão dividido pela média e multiplicado por 100.\n",
        "\n",
        "![image.png](data:image/png;base64,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)"
      ]
    },
    {
      "cell_type": "code",
      "metadata": {
        "colab": {
          "base_uri": "https://localhost:8080/"
        },
        "id": "eYUnVoLAqTEl",
        "outputId": "dc3b4dfb-b0d9-47bb-f1cb-4f6c654566e2"
      },
      "source": [
        "#precisamos do desvio  paddrão e a média\n",
        "desvio_padrao_cvc, media_cvc"
      ],
      "execution_count": 111,
      "outputs": [
        {
          "output_type": "execute_result",
          "data": {
            "text/plain": [
              "(67.87823869907712, -2.423333333333332)"
            ]
          },
          "metadata": {},
          "execution_count": 111
        }
      ]
    },
    {
      "cell_type": "code",
      "metadata": {
        "colab": {
          "base_uri": "https://localhost:8080/"
        },
        "id": "C0YfW0G7qXxL",
        "outputId": "693c18a2-7492-45df-ff16-09ee094b978a"
      },
      "source": [
        "#calculando manualmente\n",
        "coeficiente_variacao_cvc = (desvio_padrao_cvc / media_cvc) * 100\n",
        "coeficiente_variacao_cvc"
      ],
      "execution_count": 112,
      "outputs": [
        {
          "output_type": "execute_result",
          "data": {
            "text/plain": [
              "-2801.0277317363334"
            ]
          },
          "metadata": {},
          "execution_count": 112
        }
      ]
    },
    {
      "cell_type": "code",
      "metadata": {
        "colab": {
          "base_uri": "https://localhost:8080/"
        },
        "id": "VL4yfsy_qgf9",
        "outputId": "4b8b7158-7285-4c5d-f9e5-adae38ab6da3"
      },
      "source": [
        "#calculo automático *100  para ficar em %\n",
        "stats.variation(taxas_cvc) * 100"
      ],
      "execution_count": 113,
      "outputs": [
        {
          "output_type": "execute_result",
          "data": {
            "text/plain": [
              "-2801.0277317363334"
            ]
          },
          "metadata": {},
          "execution_count": 113
        }
      ]
    },
    {
      "cell_type": "code",
      "metadata": {
        "colab": {
          "base_uri": "https://localhost:8080/"
        },
        "id": "KUvU-pXLqpAI",
        "outputId": "7b189027-7cb0-4505-d6a5-df09041cadaf"
      },
      "source": [
        "stats.variation(taxas_mglu) * 100"
      ],
      "execution_count": 114,
      "outputs": [
        {
          "output_type": "execute_result",
          "data": {
            "text/plain": [
              "138.97810124212978"
            ]
          },
          "metadata": {},
          "execution_count": 114
        }
      ]
    },
    {
      "cell_type": "markdown",
      "metadata": {
        "id": "whH8oHumdpei"
      },
      "source": [
        "## Cálculos com todas as ações - risco médio anual"
      ]
    },
    {
      "cell_type": "code",
      "metadata": {
        "colab": {
          "base_uri": "https://localhost:8080/",
          "height": 424
        },
        "id": "-xoNpHbrsVYg",
        "outputId": "7779ff15-4af6-4ca2-c995-1751d04c0620"
      },
      "source": [
        "#tirar a coluna date\n",
        "dataset.drop(labels = ['Date'], axis=1, inplace=True)\n",
        "dataset"
      ],
      "execution_count": 45,
      "outputs": [
        {
          "output_type": "execute_result",
          "data": {
            "text/html": [
              "\n",
              "  <div id=\"df-2a7fc387-3ce4-46ed-9ba0-1eed844ba429\">\n",
              "    <div class=\"colab-df-container\">\n",
              "      <div>\n",
              "<style scoped>\n",
              "    .dataframe tbody tr th:only-of-type {\n",
              "        vertical-align: middle;\n",
              "    }\n",
              "\n",
              "    .dataframe tbody tr th {\n",
              "        vertical-align: top;\n",
              "    }\n",
              "\n",
              "    .dataframe thead th {\n",
              "        text-align: right;\n",
              "    }\n",
              "</style>\n",
              "<table border=\"1\" class=\"dataframe\">\n",
              "  <thead>\n",
              "    <tr style=\"text-align: right;\">\n",
              "      <th></th>\n",
              "      <th>GOL</th>\n",
              "      <th>CVC</th>\n",
              "      <th>WEGE</th>\n",
              "      <th>MGLU</th>\n",
              "      <th>TOTS</th>\n",
              "      <th>BOVA</th>\n",
              "    </tr>\n",
              "  </thead>\n",
              "  <tbody>\n",
              "    <tr>\n",
              "      <th>0</th>\n",
              "      <td>14.990000</td>\n",
              "      <td>15.20</td>\n",
              "      <td>11.846200</td>\n",
              "      <td>0.232812</td>\n",
              "      <td>35.732101</td>\n",
              "      <td>47.259998</td>\n",
              "    </tr>\n",
              "    <tr>\n",
              "      <th>1</th>\n",
              "      <td>14.850000</td>\n",
              "      <td>15.00</td>\n",
              "      <td>11.926900</td>\n",
              "      <td>0.237187</td>\n",
              "      <td>34.634201</td>\n",
              "      <td>46.320000</td>\n",
              "    </tr>\n",
              "    <tr>\n",
              "      <th>2</th>\n",
              "      <td>15.210000</td>\n",
              "      <td>14.80</td>\n",
              "      <td>11.750000</td>\n",
              "      <td>0.234062</td>\n",
              "      <td>32.468300</td>\n",
              "      <td>46.580002</td>\n",
              "    </tr>\n",
              "    <tr>\n",
              "      <th>3</th>\n",
              "      <td>14.550000</td>\n",
              "      <td>14.67</td>\n",
              "      <td>11.615400</td>\n",
              "      <td>0.241875</td>\n",
              "      <td>32.238701</td>\n",
              "      <td>48.150002</td>\n",
              "    </tr>\n",
              "    <tr>\n",
              "      <th>4</th>\n",
              "      <td>14.270000</td>\n",
              "      <td>14.15</td>\n",
              "      <td>11.811500</td>\n",
              "      <td>0.240000</td>\n",
              "      <td>32.987301</td>\n",
              "      <td>48.509998</td>\n",
              "    </tr>\n",
              "    <tr>\n",
              "      <th>...</th>\n",
              "      <td>...</td>\n",
              "      <td>...</td>\n",
              "      <td>...</td>\n",
              "      <td>...</td>\n",
              "      <td>...</td>\n",
              "      <td>...</td>\n",
              "    </tr>\n",
              "    <tr>\n",
              "      <th>1441</th>\n",
              "      <td>18.600000</td>\n",
              "      <td>14.17</td>\n",
              "      <td>83.239998</td>\n",
              "      <td>25.450001</td>\n",
              "      <td>28.500000</td>\n",
              "      <td>95.800003</td>\n",
              "    </tr>\n",
              "    <tr>\n",
              "      <th>1442</th>\n",
              "      <td>16.920000</td>\n",
              "      <td>12.77</td>\n",
              "      <td>79.139999</td>\n",
              "      <td>24.629999</td>\n",
              "      <td>27.500000</td>\n",
              "      <td>92.430000</td>\n",
              "    </tr>\n",
              "    <tr>\n",
              "      <th>1443</th>\n",
              "      <td>16.610001</td>\n",
              "      <td>12.68</td>\n",
              "      <td>80.029999</td>\n",
              "      <td>25.360001</td>\n",
              "      <td>28.500000</td>\n",
              "      <td>92.910004</td>\n",
              "    </tr>\n",
              "    <tr>\n",
              "      <th>1444</th>\n",
              "      <td>15.690000</td>\n",
              "      <td>12.28</td>\n",
              "      <td>75.830002</td>\n",
              "      <td>24.629999</td>\n",
              "      <td>27.000000</td>\n",
              "      <td>90.660004</td>\n",
              "    </tr>\n",
              "    <tr>\n",
              "      <th>1445</th>\n",
              "      <td>16.070000</td>\n",
              "      <td>12.42</td>\n",
              "      <td>78.669998</td>\n",
              "      <td>25.309999</td>\n",
              "      <td>27.930000</td>\n",
              "      <td>92.410004</td>\n",
              "    </tr>\n",
              "  </tbody>\n",
              "</table>\n",
              "<p>1446 rows × 6 columns</p>\n",
              "</div>\n",
              "      <button class=\"colab-df-convert\" onclick=\"convertToInteractive('df-2a7fc387-3ce4-46ed-9ba0-1eed844ba429')\"\n",
              "              title=\"Convert this dataframe to an interactive table.\"\n",
              "              style=\"display:none;\">\n",
              "        \n",
              "  <svg xmlns=\"http://www.w3.org/2000/svg\" height=\"24px\"viewBox=\"0 0 24 24\"\n",
              "       width=\"24px\">\n",
              "    <path d=\"M0 0h24v24H0V0z\" fill=\"none\"/>\n",
              "    <path d=\"M18.56 5.44l.94 2.06.94-2.06 2.06-.94-2.06-.94-.94-2.06-.94 2.06-2.06.94zm-11 1L8.5 8.5l.94-2.06 2.06-.94-2.06-.94L8.5 2.5l-.94 2.06-2.06.94zm10 10l.94 2.06.94-2.06 2.06-.94-2.06-.94-.94-2.06-.94 2.06-2.06.94z\"/><path d=\"M17.41 7.96l-1.37-1.37c-.4-.4-.92-.59-1.43-.59-.52 0-1.04.2-1.43.59L10.3 9.45l-7.72 7.72c-.78.78-.78 2.05 0 2.83L4 21.41c.39.39.9.59 1.41.59.51 0 1.02-.2 1.41-.59l7.78-7.78 2.81-2.81c.8-.78.8-2.07 0-2.86zM5.41 20L4 18.59l7.72-7.72 1.47 1.35L5.41 20z\"/>\n",
              "  </svg>\n",
              "      </button>\n",
              "      \n",
              "  <style>\n",
              "    .colab-df-container {\n",
              "      display:flex;\n",
              "      flex-wrap:wrap;\n",
              "      gap: 12px;\n",
              "    }\n",
              "\n",
              "    .colab-df-convert {\n",
              "      background-color: #E8F0FE;\n",
              "      border: none;\n",
              "      border-radius: 50%;\n",
              "      cursor: pointer;\n",
              "      display: none;\n",
              "      fill: #1967D2;\n",
              "      height: 32px;\n",
              "      padding: 0 0 0 0;\n",
              "      width: 32px;\n",
              "    }\n",
              "\n",
              "    .colab-df-convert:hover {\n",
              "      background-color: #E2EBFA;\n",
              "      box-shadow: 0px 1px 2px rgba(60, 64, 67, 0.3), 0px 1px 3px 1px rgba(60, 64, 67, 0.15);\n",
              "      fill: #174EA6;\n",
              "    }\n",
              "\n",
              "    [theme=dark] .colab-df-convert {\n",
              "      background-color: #3B4455;\n",
              "      fill: #D2E3FC;\n",
              "    }\n",
              "\n",
              "    [theme=dark] .colab-df-convert:hover {\n",
              "      background-color: #434B5C;\n",
              "      box-shadow: 0px 1px 3px 1px rgba(0, 0, 0, 0.15);\n",
              "      filter: drop-shadow(0px 1px 2px rgba(0, 0, 0, 0.3));\n",
              "      fill: #FFFFFF;\n",
              "    }\n",
              "  </style>\n",
              "\n",
              "      <script>\n",
              "        const buttonEl =\n",
              "          document.querySelector('#df-2a7fc387-3ce4-46ed-9ba0-1eed844ba429 button.colab-df-convert');\n",
              "        buttonEl.style.display =\n",
              "          google.colab.kernel.accessAllowed ? 'block' : 'none';\n",
              "\n",
              "        async function convertToInteractive(key) {\n",
              "          const element = document.querySelector('#df-2a7fc387-3ce4-46ed-9ba0-1eed844ba429');\n",
              "          const dataTable =\n",
              "            await google.colab.kernel.invokeFunction('convertToInteractive',\n",
              "                                                     [key], {});\n",
              "          if (!dataTable) return;\n",
              "\n",
              "          const docLinkHtml = 'Like what you see? Visit the ' +\n",
              "            '<a target=\"_blank\" href=https://colab.research.google.com/notebooks/data_table.ipynb>data table notebook</a>'\n",
              "            + ' to learn more about interactive tables.';\n",
              "          element.innerHTML = '';\n",
              "          dataTable['output_type'] = 'display_data';\n",
              "          await google.colab.output.renderOutput(dataTable, element);\n",
              "          const docLink = document.createElement('div');\n",
              "          docLink.innerHTML = docLinkHtml;\n",
              "          element.appendChild(docLink);\n",
              "        }\n",
              "      </script>\n",
              "    </div>\n",
              "  </div>\n",
              "  "
            ],
            "text/plain": [
              "            GOL    CVC       WEGE       MGLU       TOTS       BOVA\n",
              "0     14.990000  15.20  11.846200   0.232812  35.732101  47.259998\n",
              "1     14.850000  15.00  11.926900   0.237187  34.634201  46.320000\n",
              "2     15.210000  14.80  11.750000   0.234062  32.468300  46.580002\n",
              "3     14.550000  14.67  11.615400   0.241875  32.238701  48.150002\n",
              "4     14.270000  14.15  11.811500   0.240000  32.987301  48.509998\n",
              "...         ...    ...        ...        ...        ...        ...\n",
              "1441  18.600000  14.17  83.239998  25.450001  28.500000  95.800003\n",
              "1442  16.920000  12.77  79.139999  24.629999  27.500000  92.430000\n",
              "1443  16.610001  12.68  80.029999  25.360001  28.500000  92.910004\n",
              "1444  15.690000  12.28  75.830002  24.629999  27.000000  90.660004\n",
              "1445  16.070000  12.42  78.669998  25.309999  27.930000  92.410004\n",
              "\n",
              "[1446 rows x 6 columns]"
            ]
          },
          "metadata": {},
          "execution_count": 45
        }
      ]
    },
    {
      "cell_type": "code",
      "metadata": {
        "colab": {
          "base_uri": "https://localhost:8080/",
          "height": 424
        },
        "id": "ltZbzHMmsuYL",
        "outputId": "b9a495d6-b574-4809-85c8-face2b393a9f"
      },
      "source": [
        "taxas_retorno = (dataset / dataset.shift(1)) - 1\n",
        "taxas_retorno\n",
        "#retorno diário simples! Pq  são ações diferentes para comparar"
      ],
      "execution_count": 46,
      "outputs": [
        {
          "output_type": "execute_result",
          "data": {
            "text/html": [
              "\n",
              "  <div id=\"df-b128420f-ddbb-48f4-a7da-4ce0e7708a89\">\n",
              "    <div class=\"colab-df-container\">\n",
              "      <div>\n",
              "<style scoped>\n",
              "    .dataframe tbody tr th:only-of-type {\n",
              "        vertical-align: middle;\n",
              "    }\n",
              "\n",
              "    .dataframe tbody tr th {\n",
              "        vertical-align: top;\n",
              "    }\n",
              "\n",
              "    .dataframe thead th {\n",
              "        text-align: right;\n",
              "    }\n",
              "</style>\n",
              "<table border=\"1\" class=\"dataframe\">\n",
              "  <thead>\n",
              "    <tr style=\"text-align: right;\">\n",
              "      <th></th>\n",
              "      <th>GOL</th>\n",
              "      <th>CVC</th>\n",
              "      <th>WEGE</th>\n",
              "      <th>MGLU</th>\n",
              "      <th>TOTS</th>\n",
              "      <th>BOVA</th>\n",
              "    </tr>\n",
              "  </thead>\n",
              "  <tbody>\n",
              "    <tr>\n",
              "      <th>0</th>\n",
              "      <td>NaN</td>\n",
              "      <td>NaN</td>\n",
              "      <td>NaN</td>\n",
              "      <td>NaN</td>\n",
              "      <td>NaN</td>\n",
              "      <td>NaN</td>\n",
              "    </tr>\n",
              "    <tr>\n",
              "      <th>1</th>\n",
              "      <td>-0.009340</td>\n",
              "      <td>-0.013158</td>\n",
              "      <td>0.006812</td>\n",
              "      <td>0.018792</td>\n",
              "      <td>-0.030726</td>\n",
              "      <td>-0.019890</td>\n",
              "    </tr>\n",
              "    <tr>\n",
              "      <th>2</th>\n",
              "      <td>0.024242</td>\n",
              "      <td>-0.013333</td>\n",
              "      <td>-0.014832</td>\n",
              "      <td>-0.013175</td>\n",
              "      <td>-0.062536</td>\n",
              "      <td>0.005613</td>\n",
              "    </tr>\n",
              "    <tr>\n",
              "      <th>3</th>\n",
              "      <td>-0.043392</td>\n",
              "      <td>-0.008784</td>\n",
              "      <td>-0.011455</td>\n",
              "      <td>0.033380</td>\n",
              "      <td>-0.007071</td>\n",
              "      <td>0.033705</td>\n",
              "    </tr>\n",
              "    <tr>\n",
              "      <th>4</th>\n",
              "      <td>-0.019244</td>\n",
              "      <td>-0.035447</td>\n",
              "      <td>0.016883</td>\n",
              "      <td>-0.007752</td>\n",
              "      <td>0.023221</td>\n",
              "      <td>0.007477</td>\n",
              "    </tr>\n",
              "    <tr>\n",
              "      <th>...</th>\n",
              "      <td>...</td>\n",
              "      <td>...</td>\n",
              "      <td>...</td>\n",
              "      <td>...</td>\n",
              "      <td>...</td>\n",
              "      <td>...</td>\n",
              "    </tr>\n",
              "    <tr>\n",
              "      <th>1441</th>\n",
              "      <td>-0.018987</td>\n",
              "      <td>-0.018018</td>\n",
              "      <td>0.005921</td>\n",
              "      <td>-0.000785</td>\n",
              "      <td>0.008136</td>\n",
              "      <td>-0.010024</td>\n",
              "    </tr>\n",
              "    <tr>\n",
              "      <th>1442</th>\n",
              "      <td>-0.090323</td>\n",
              "      <td>-0.098800</td>\n",
              "      <td>-0.049255</td>\n",
              "      <td>-0.032220</td>\n",
              "      <td>-0.035088</td>\n",
              "      <td>-0.035177</td>\n",
              "    </tr>\n",
              "    <tr>\n",
              "      <th>1443</th>\n",
              "      <td>-0.018321</td>\n",
              "      <td>-0.007048</td>\n",
              "      <td>0.011246</td>\n",
              "      <td>0.029639</td>\n",
              "      <td>0.036364</td>\n",
              "      <td>0.005193</td>\n",
              "    </tr>\n",
              "    <tr>\n",
              "      <th>1444</th>\n",
              "      <td>-0.055388</td>\n",
              "      <td>-0.031546</td>\n",
              "      <td>-0.052480</td>\n",
              "      <td>-0.028786</td>\n",
              "      <td>-0.052632</td>\n",
              "      <td>-0.024217</td>\n",
              "    </tr>\n",
              "    <tr>\n",
              "      <th>1445</th>\n",
              "      <td>0.024219</td>\n",
              "      <td>0.011401</td>\n",
              "      <td>0.037452</td>\n",
              "      <td>0.027609</td>\n",
              "      <td>0.034444</td>\n",
              "      <td>0.019303</td>\n",
              "    </tr>\n",
              "  </tbody>\n",
              "</table>\n",
              "<p>1446 rows × 6 columns</p>\n",
              "</div>\n",
              "      <button class=\"colab-df-convert\" onclick=\"convertToInteractive('df-b128420f-ddbb-48f4-a7da-4ce0e7708a89')\"\n",
              "              title=\"Convert this dataframe to an interactive table.\"\n",
              "              style=\"display:none;\">\n",
              "        \n",
              "  <svg xmlns=\"http://www.w3.org/2000/svg\" height=\"24px\"viewBox=\"0 0 24 24\"\n",
              "       width=\"24px\">\n",
              "    <path d=\"M0 0h24v24H0V0z\" fill=\"none\"/>\n",
              "    <path d=\"M18.56 5.44l.94 2.06.94-2.06 2.06-.94-2.06-.94-.94-2.06-.94 2.06-2.06.94zm-11 1L8.5 8.5l.94-2.06 2.06-.94-2.06-.94L8.5 2.5l-.94 2.06-2.06.94zm10 10l.94 2.06.94-2.06 2.06-.94-2.06-.94-.94-2.06-.94 2.06-2.06.94z\"/><path d=\"M17.41 7.96l-1.37-1.37c-.4-.4-.92-.59-1.43-.59-.52 0-1.04.2-1.43.59L10.3 9.45l-7.72 7.72c-.78.78-.78 2.05 0 2.83L4 21.41c.39.39.9.59 1.41.59.51 0 1.02-.2 1.41-.59l7.78-7.78 2.81-2.81c.8-.78.8-2.07 0-2.86zM5.41 20L4 18.59l7.72-7.72 1.47 1.35L5.41 20z\"/>\n",
              "  </svg>\n",
              "      </button>\n",
              "      \n",
              "  <style>\n",
              "    .colab-df-container {\n",
              "      display:flex;\n",
              "      flex-wrap:wrap;\n",
              "      gap: 12px;\n",
              "    }\n",
              "\n",
              "    .colab-df-convert {\n",
              "      background-color: #E8F0FE;\n",
              "      border: none;\n",
              "      border-radius: 50%;\n",
              "      cursor: pointer;\n",
              "      display: none;\n",
              "      fill: #1967D2;\n",
              "      height: 32px;\n",
              "      padding: 0 0 0 0;\n",
              "      width: 32px;\n",
              "    }\n",
              "\n",
              "    .colab-df-convert:hover {\n",
              "      background-color: #E2EBFA;\n",
              "      box-shadow: 0px 1px 2px rgba(60, 64, 67, 0.3), 0px 1px 3px 1px rgba(60, 64, 67, 0.15);\n",
              "      fill: #174EA6;\n",
              "    }\n",
              "\n",
              "    [theme=dark] .colab-df-convert {\n",
              "      background-color: #3B4455;\n",
              "      fill: #D2E3FC;\n",
              "    }\n",
              "\n",
              "    [theme=dark] .colab-df-convert:hover {\n",
              "      background-color: #434B5C;\n",
              "      box-shadow: 0px 1px 3px 1px rgba(0, 0, 0, 0.15);\n",
              "      filter: drop-shadow(0px 1px 2px rgba(0, 0, 0, 0.3));\n",
              "      fill: #FFFFFF;\n",
              "    }\n",
              "  </style>\n",
              "\n",
              "      <script>\n",
              "        const buttonEl =\n",
              "          document.querySelector('#df-b128420f-ddbb-48f4-a7da-4ce0e7708a89 button.colab-df-convert');\n",
              "        buttonEl.style.display =\n",
              "          google.colab.kernel.accessAllowed ? 'block' : 'none';\n",
              "\n",
              "        async function convertToInteractive(key) {\n",
              "          const element = document.querySelector('#df-b128420f-ddbb-48f4-a7da-4ce0e7708a89');\n",
              "          const dataTable =\n",
              "            await google.colab.kernel.invokeFunction('convertToInteractive',\n",
              "                                                     [key], {});\n",
              "          if (!dataTable) return;\n",
              "\n",
              "          const docLinkHtml = 'Like what you see? Visit the ' +\n",
              "            '<a target=\"_blank\" href=https://colab.research.google.com/notebooks/data_table.ipynb>data table notebook</a>'\n",
              "            + ' to learn more about interactive tables.';\n",
              "          element.innerHTML = '';\n",
              "          dataTable['output_type'] = 'display_data';\n",
              "          await google.colab.output.renderOutput(dataTable, element);\n",
              "          const docLink = document.createElement('div');\n",
              "          docLink.innerHTML = docLinkHtml;\n",
              "          element.appendChild(docLink);\n",
              "        }\n",
              "      </script>\n",
              "    </div>\n",
              "  </div>\n",
              "  "
            ],
            "text/plain": [
              "           GOL       CVC      WEGE      MGLU      TOTS      BOVA\n",
              "0          NaN       NaN       NaN       NaN       NaN       NaN\n",
              "1    -0.009340 -0.013158  0.006812  0.018792 -0.030726 -0.019890\n",
              "2     0.024242 -0.013333 -0.014832 -0.013175 -0.062536  0.005613\n",
              "3    -0.043392 -0.008784 -0.011455  0.033380 -0.007071  0.033705\n",
              "4    -0.019244 -0.035447  0.016883 -0.007752  0.023221  0.007477\n",
              "...        ...       ...       ...       ...       ...       ...\n",
              "1441 -0.018987 -0.018018  0.005921 -0.000785  0.008136 -0.010024\n",
              "1442 -0.090323 -0.098800 -0.049255 -0.032220 -0.035088 -0.035177\n",
              "1443 -0.018321 -0.007048  0.011246  0.029639  0.036364  0.005193\n",
              "1444 -0.055388 -0.031546 -0.052480 -0.028786 -0.052632 -0.024217\n",
              "1445  0.024219  0.011401  0.037452  0.027609  0.034444  0.019303\n",
              "\n",
              "[1446 rows x 6 columns]"
            ]
          },
          "metadata": {},
          "execution_count": 46
        }
      ]
    },
    {
      "cell_type": "code",
      "metadata": {
        "colab": {
          "base_uri": "https://localhost:8080/"
        },
        "id": "vC7pN4JJtNcS",
        "outputId": "f005c511-f94d-4577-c2ef-f642584d11d5"
      },
      "source": [
        "taxas_retorno.std() * 100\n",
        "#calculando o  desvio padrão para cada umas das ações em %\n",
        "# o menor risco seria da  bova  que tem menor std e a de maior risco seria a GOL\n"
      ],
      "execution_count": 47,
      "outputs": [
        {
          "output_type": "execute_result",
          "data": {
            "text/plain": [
              "GOL     5.159740\n",
              "CVC     3.468112\n",
              "WEGE    2.217699\n",
              "MGLU    4.222228\n",
              "TOTS    2.997335\n",
              "BOVA    1.730331\n",
              "dtype: float64"
            ]
          },
          "metadata": {},
          "execution_count": 47
        }
      ]
    },
    {
      "cell_type": "code",
      "metadata": {
        "colab": {
          "base_uri": "https://localhost:8080/"
        },
        "id": "BZ35FuAzt4DO",
        "outputId": "ec4bd2a1-8d26-41da-c2a5-ced4d976b93c"
      },
      "source": [
        "taxas_retorno.std() * 246\n",
        "#variação média anual\n",
        "#o bova é a me menor risco"
      ],
      "execution_count": 48,
      "outputs": [
        {
          "output_type": "execute_result",
          "data": {
            "text/plain": [
              "GOL     12.692961\n",
              "CVC      8.531555\n",
              "WEGE     5.455540\n",
              "MGLU    10.386681\n",
              "TOTS     7.373443\n",
              "BOVA     4.256615\n",
              "dtype: float64"
            ]
          },
          "metadata": {},
          "execution_count": 48
        }
      ]
    },
    {
      "cell_type": "code",
      "metadata": {
        "colab": {
          "base_uri": "https://localhost:8080/"
        },
        "id": "K62-NewLuiEx",
        "outputId": "1ec92508-4bb6-43fc-ccd4-40ed298931f9"
      },
      "source": [
        "math.sqrt(246) # Anualizar"
      ],
      "execution_count": 49,
      "outputs": [
        {
          "output_type": "execute_result",
          "data": {
            "text/plain": [
              "15.684387141358123"
            ]
          },
          "metadata": {},
          "execution_count": 49
        }
      ]
    },
    {
      "cell_type": "code",
      "metadata": {
        "colab": {
          "base_uri": "https://localhost:8080/"
        },
        "id": "6XdhwPG6uZER",
        "outputId": "c348e8a6-7fc2-4a83-dc82-ff8d2a825f2c"
      },
      "source": [
        "taxas_retorno.std() * math.sqrt(246) #olhando anualmente\n",
        "# a ação com maior risco acaba sendo a GOL"
      ],
      "execution_count": 50,
      "outputs": [
        {
          "output_type": "execute_result",
          "data": {
            "text/plain": [
              "GOL     0.809274\n",
              "CVC     0.543952\n",
              "WEGE    0.347833\n",
              "MGLU    0.662231\n",
              "TOTS    0.470114\n",
              "BOVA    0.271392\n",
              "dtype: float64"
            ]
          },
          "metadata": {},
          "execution_count": 50
        }
      ]
    },
    {
      "cell_type": "markdown",
      "metadata": {
        "id": "t5-77djrvtGz"
      },
      "source": [
        "## Correlação entre ações"
      ]
    },
    {
      "cell_type": "code",
      "metadata": {
        "colab": {
          "base_uri": "https://localhost:8080/",
          "height": 424
        },
        "id": "UwMtgThGwg6Q",
        "outputId": "0615441d-76e8-4ffb-cb8d-a6014188db46"
      },
      "source": [
        "dataset"
      ],
      "execution_count": 51,
      "outputs": [
        {
          "output_type": "execute_result",
          "data": {
            "text/html": [
              "\n",
              "  <div id=\"df-cd83f9ef-5352-41fb-88fa-871f6661940f\">\n",
              "    <div class=\"colab-df-container\">\n",
              "      <div>\n",
              "<style scoped>\n",
              "    .dataframe tbody tr th:only-of-type {\n",
              "        vertical-align: middle;\n",
              "    }\n",
              "\n",
              "    .dataframe tbody tr th {\n",
              "        vertical-align: top;\n",
              "    }\n",
              "\n",
              "    .dataframe thead th {\n",
              "        text-align: right;\n",
              "    }\n",
              "</style>\n",
              "<table border=\"1\" class=\"dataframe\">\n",
              "  <thead>\n",
              "    <tr style=\"text-align: right;\">\n",
              "      <th></th>\n",
              "      <th>GOL</th>\n",
              "      <th>CVC</th>\n",
              "      <th>WEGE</th>\n",
              "      <th>MGLU</th>\n",
              "      <th>TOTS</th>\n",
              "      <th>BOVA</th>\n",
              "    </tr>\n",
              "  </thead>\n",
              "  <tbody>\n",
              "    <tr>\n",
              "      <th>0</th>\n",
              "      <td>14.990000</td>\n",
              "      <td>15.20</td>\n",
              "      <td>11.846200</td>\n",
              "      <td>0.232812</td>\n",
              "      <td>35.732101</td>\n",
              "      <td>47.259998</td>\n",
              "    </tr>\n",
              "    <tr>\n",
              "      <th>1</th>\n",
              "      <td>14.850000</td>\n",
              "      <td>15.00</td>\n",
              "      <td>11.926900</td>\n",
              "      <td>0.237187</td>\n",
              "      <td>34.634201</td>\n",
              "      <td>46.320000</td>\n",
              "    </tr>\n",
              "    <tr>\n",
              "      <th>2</th>\n",
              "      <td>15.210000</td>\n",
              "      <td>14.80</td>\n",
              "      <td>11.750000</td>\n",
              "      <td>0.234062</td>\n",
              "      <td>32.468300</td>\n",
              "      <td>46.580002</td>\n",
              "    </tr>\n",
              "    <tr>\n",
              "      <th>3</th>\n",
              "      <td>14.550000</td>\n",
              "      <td>14.67</td>\n",
              "      <td>11.615400</td>\n",
              "      <td>0.241875</td>\n",
              "      <td>32.238701</td>\n",
              "      <td>48.150002</td>\n",
              "    </tr>\n",
              "    <tr>\n",
              "      <th>4</th>\n",
              "      <td>14.270000</td>\n",
              "      <td>14.15</td>\n",
              "      <td>11.811500</td>\n",
              "      <td>0.240000</td>\n",
              "      <td>32.987301</td>\n",
              "      <td>48.509998</td>\n",
              "    </tr>\n",
              "    <tr>\n",
              "      <th>...</th>\n",
              "      <td>...</td>\n",
              "      <td>...</td>\n",
              "      <td>...</td>\n",
              "      <td>...</td>\n",
              "      <td>...</td>\n",
              "      <td>...</td>\n",
              "    </tr>\n",
              "    <tr>\n",
              "      <th>1441</th>\n",
              "      <td>18.600000</td>\n",
              "      <td>14.17</td>\n",
              "      <td>83.239998</td>\n",
              "      <td>25.450001</td>\n",
              "      <td>28.500000</td>\n",
              "      <td>95.800003</td>\n",
              "    </tr>\n",
              "    <tr>\n",
              "      <th>1442</th>\n",
              "      <td>16.920000</td>\n",
              "      <td>12.77</td>\n",
              "      <td>79.139999</td>\n",
              "      <td>24.629999</td>\n",
              "      <td>27.500000</td>\n",
              "      <td>92.430000</td>\n",
              "    </tr>\n",
              "    <tr>\n",
              "      <th>1443</th>\n",
              "      <td>16.610001</td>\n",
              "      <td>12.68</td>\n",
              "      <td>80.029999</td>\n",
              "      <td>25.360001</td>\n",
              "      <td>28.500000</td>\n",
              "      <td>92.910004</td>\n",
              "    </tr>\n",
              "    <tr>\n",
              "      <th>1444</th>\n",
              "      <td>15.690000</td>\n",
              "      <td>12.28</td>\n",
              "      <td>75.830002</td>\n",
              "      <td>24.629999</td>\n",
              "      <td>27.000000</td>\n",
              "      <td>90.660004</td>\n",
              "    </tr>\n",
              "    <tr>\n",
              "      <th>1445</th>\n",
              "      <td>16.070000</td>\n",
              "      <td>12.42</td>\n",
              "      <td>78.669998</td>\n",
              "      <td>25.309999</td>\n",
              "      <td>27.930000</td>\n",
              "      <td>92.410004</td>\n",
              "    </tr>\n",
              "  </tbody>\n",
              "</table>\n",
              "<p>1446 rows × 6 columns</p>\n",
              "</div>\n",
              "      <button class=\"colab-df-convert\" onclick=\"convertToInteractive('df-cd83f9ef-5352-41fb-88fa-871f6661940f')\"\n",
              "              title=\"Convert this dataframe to an interactive table.\"\n",
              "              style=\"display:none;\">\n",
              "        \n",
              "  <svg xmlns=\"http://www.w3.org/2000/svg\" height=\"24px\"viewBox=\"0 0 24 24\"\n",
              "       width=\"24px\">\n",
              "    <path d=\"M0 0h24v24H0V0z\" fill=\"none\"/>\n",
              "    <path d=\"M18.56 5.44l.94 2.06.94-2.06 2.06-.94-2.06-.94-.94-2.06-.94 2.06-2.06.94zm-11 1L8.5 8.5l.94-2.06 2.06-.94-2.06-.94L8.5 2.5l-.94 2.06-2.06.94zm10 10l.94 2.06.94-2.06 2.06-.94-2.06-.94-.94-2.06-.94 2.06-2.06.94z\"/><path d=\"M17.41 7.96l-1.37-1.37c-.4-.4-.92-.59-1.43-.59-.52 0-1.04.2-1.43.59L10.3 9.45l-7.72 7.72c-.78.78-.78 2.05 0 2.83L4 21.41c.39.39.9.59 1.41.59.51 0 1.02-.2 1.41-.59l7.78-7.78 2.81-2.81c.8-.78.8-2.07 0-2.86zM5.41 20L4 18.59l7.72-7.72 1.47 1.35L5.41 20z\"/>\n",
              "  </svg>\n",
              "      </button>\n",
              "      \n",
              "  <style>\n",
              "    .colab-df-container {\n",
              "      display:flex;\n",
              "      flex-wrap:wrap;\n",
              "      gap: 12px;\n",
              "    }\n",
              "\n",
              "    .colab-df-convert {\n",
              "      background-color: #E8F0FE;\n",
              "      border: none;\n",
              "      border-radius: 50%;\n",
              "      cursor: pointer;\n",
              "      display: none;\n",
              "      fill: #1967D2;\n",
              "      height: 32px;\n",
              "      padding: 0 0 0 0;\n",
              "      width: 32px;\n",
              "    }\n",
              "\n",
              "    .colab-df-convert:hover {\n",
              "      background-color: #E2EBFA;\n",
              "      box-shadow: 0px 1px 2px rgba(60, 64, 67, 0.3), 0px 1px 3px 1px rgba(60, 64, 67, 0.15);\n",
              "      fill: #174EA6;\n",
              "    }\n",
              "\n",
              "    [theme=dark] .colab-df-convert {\n",
              "      background-color: #3B4455;\n",
              "      fill: #D2E3FC;\n",
              "    }\n",
              "\n",
              "    [theme=dark] .colab-df-convert:hover {\n",
              "      background-color: #434B5C;\n",
              "      box-shadow: 0px 1px 3px 1px rgba(0, 0, 0, 0.15);\n",
              "      filter: drop-shadow(0px 1px 2px rgba(0, 0, 0, 0.3));\n",
              "      fill: #FFFFFF;\n",
              "    }\n",
              "  </style>\n",
              "\n",
              "      <script>\n",
              "        const buttonEl =\n",
              "          document.querySelector('#df-cd83f9ef-5352-41fb-88fa-871f6661940f button.colab-df-convert');\n",
              "        buttonEl.style.display =\n",
              "          google.colab.kernel.accessAllowed ? 'block' : 'none';\n",
              "\n",
              "        async function convertToInteractive(key) {\n",
              "          const element = document.querySelector('#df-cd83f9ef-5352-41fb-88fa-871f6661940f');\n",
              "          const dataTable =\n",
              "            await google.colab.kernel.invokeFunction('convertToInteractive',\n",
              "                                                     [key], {});\n",
              "          if (!dataTable) return;\n",
              "\n",
              "          const docLinkHtml = 'Like what you see? Visit the ' +\n",
              "            '<a target=\"_blank\" href=https://colab.research.google.com/notebooks/data_table.ipynb>data table notebook</a>'\n",
              "            + ' to learn more about interactive tables.';\n",
              "          element.innerHTML = '';\n",
              "          dataTable['output_type'] = 'display_data';\n",
              "          await google.colab.output.renderOutput(dataTable, element);\n",
              "          const docLink = document.createElement('div');\n",
              "          docLink.innerHTML = docLinkHtml;\n",
              "          element.appendChild(docLink);\n",
              "        }\n",
              "      </script>\n",
              "    </div>\n",
              "  </div>\n",
              "  "
            ],
            "text/plain": [
              "            GOL    CVC       WEGE       MGLU       TOTS       BOVA\n",
              "0     14.990000  15.20  11.846200   0.232812  35.732101  47.259998\n",
              "1     14.850000  15.00  11.926900   0.237187  34.634201  46.320000\n",
              "2     15.210000  14.80  11.750000   0.234062  32.468300  46.580002\n",
              "3     14.550000  14.67  11.615400   0.241875  32.238701  48.150002\n",
              "4     14.270000  14.15  11.811500   0.240000  32.987301  48.509998\n",
              "...         ...    ...        ...        ...        ...        ...\n",
              "1441  18.600000  14.17  83.239998  25.450001  28.500000  95.800003\n",
              "1442  16.920000  12.77  79.139999  24.629999  27.500000  92.430000\n",
              "1443  16.610001  12.68  80.029999  25.360001  28.500000  92.910004\n",
              "1444  15.690000  12.28  75.830002  24.629999  27.000000  90.660004\n",
              "1445  16.070000  12.42  78.669998  25.309999  27.930000  92.410004\n",
              "\n",
              "[1446 rows x 6 columns]"
            ]
          },
          "metadata": {},
          "execution_count": 51
        }
      ]
    },
    {
      "cell_type": "code",
      "metadata": {
        "colab": {
          "base_uri": "https://localhost:8080/",
          "height": 424
        },
        "id": "gbv8-fu4wUq5",
        "outputId": "542fce40-1c8d-41bc-96ab-696e66e596f1"
      },
      "source": [
        "taxas_retorno"
      ],
      "execution_count": 52,
      "outputs": [
        {
          "output_type": "execute_result",
          "data": {
            "text/html": [
              "\n",
              "  <div id=\"df-35ac6a80-e3fe-4fc8-aa36-97d9088e5599\">\n",
              "    <div class=\"colab-df-container\">\n",
              "      <div>\n",
              "<style scoped>\n",
              "    .dataframe tbody tr th:only-of-type {\n",
              "        vertical-align: middle;\n",
              "    }\n",
              "\n",
              "    .dataframe tbody tr th {\n",
              "        vertical-align: top;\n",
              "    }\n",
              "\n",
              "    .dataframe thead th {\n",
              "        text-align: right;\n",
              "    }\n",
              "</style>\n",
              "<table border=\"1\" class=\"dataframe\">\n",
              "  <thead>\n",
              "    <tr style=\"text-align: right;\">\n",
              "      <th></th>\n",
              "      <th>GOL</th>\n",
              "      <th>CVC</th>\n",
              "      <th>WEGE</th>\n",
              "      <th>MGLU</th>\n",
              "      <th>TOTS</th>\n",
              "      <th>BOVA</th>\n",
              "    </tr>\n",
              "  </thead>\n",
              "  <tbody>\n",
              "    <tr>\n",
              "      <th>0</th>\n",
              "      <td>NaN</td>\n",
              "      <td>NaN</td>\n",
              "      <td>NaN</td>\n",
              "      <td>NaN</td>\n",
              "      <td>NaN</td>\n",
              "      <td>NaN</td>\n",
              "    </tr>\n",
              "    <tr>\n",
              "      <th>1</th>\n",
              "      <td>-0.009340</td>\n",
              "      <td>-0.013158</td>\n",
              "      <td>0.006812</td>\n",
              "      <td>0.018792</td>\n",
              "      <td>-0.030726</td>\n",
              "      <td>-0.019890</td>\n",
              "    </tr>\n",
              "    <tr>\n",
              "      <th>2</th>\n",
              "      <td>0.024242</td>\n",
              "      <td>-0.013333</td>\n",
              "      <td>-0.014832</td>\n",
              "      <td>-0.013175</td>\n",
              "      <td>-0.062536</td>\n",
              "      <td>0.005613</td>\n",
              "    </tr>\n",
              "    <tr>\n",
              "      <th>3</th>\n",
              "      <td>-0.043392</td>\n",
              "      <td>-0.008784</td>\n",
              "      <td>-0.011455</td>\n",
              "      <td>0.033380</td>\n",
              "      <td>-0.007071</td>\n",
              "      <td>0.033705</td>\n",
              "    </tr>\n",
              "    <tr>\n",
              "      <th>4</th>\n",
              "      <td>-0.019244</td>\n",
              "      <td>-0.035447</td>\n",
              "      <td>0.016883</td>\n",
              "      <td>-0.007752</td>\n",
              "      <td>0.023221</td>\n",
              "      <td>0.007477</td>\n",
              "    </tr>\n",
              "    <tr>\n",
              "      <th>...</th>\n",
              "      <td>...</td>\n",
              "      <td>...</td>\n",
              "      <td>...</td>\n",
              "      <td>...</td>\n",
              "      <td>...</td>\n",
              "      <td>...</td>\n",
              "    </tr>\n",
              "    <tr>\n",
              "      <th>1441</th>\n",
              "      <td>-0.018987</td>\n",
              "      <td>-0.018018</td>\n",
              "      <td>0.005921</td>\n",
              "      <td>-0.000785</td>\n",
              "      <td>0.008136</td>\n",
              "      <td>-0.010024</td>\n",
              "    </tr>\n",
              "    <tr>\n",
              "      <th>1442</th>\n",
              "      <td>-0.090323</td>\n",
              "      <td>-0.098800</td>\n",
              "      <td>-0.049255</td>\n",
              "      <td>-0.032220</td>\n",
              "      <td>-0.035088</td>\n",
              "      <td>-0.035177</td>\n",
              "    </tr>\n",
              "    <tr>\n",
              "      <th>1443</th>\n",
              "      <td>-0.018321</td>\n",
              "      <td>-0.007048</td>\n",
              "      <td>0.011246</td>\n",
              "      <td>0.029639</td>\n",
              "      <td>0.036364</td>\n",
              "      <td>0.005193</td>\n",
              "    </tr>\n",
              "    <tr>\n",
              "      <th>1444</th>\n",
              "      <td>-0.055388</td>\n",
              "      <td>-0.031546</td>\n",
              "      <td>-0.052480</td>\n",
              "      <td>-0.028786</td>\n",
              "      <td>-0.052632</td>\n",
              "      <td>-0.024217</td>\n",
              "    </tr>\n",
              "    <tr>\n",
              "      <th>1445</th>\n",
              "      <td>0.024219</td>\n",
              "      <td>0.011401</td>\n",
              "      <td>0.037452</td>\n",
              "      <td>0.027609</td>\n",
              "      <td>0.034444</td>\n",
              "      <td>0.019303</td>\n",
              "    </tr>\n",
              "  </tbody>\n",
              "</table>\n",
              "<p>1446 rows × 6 columns</p>\n",
              "</div>\n",
              "      <button class=\"colab-df-convert\" onclick=\"convertToInteractive('df-35ac6a80-e3fe-4fc8-aa36-97d9088e5599')\"\n",
              "              title=\"Convert this dataframe to an interactive table.\"\n",
              "              style=\"display:none;\">\n",
              "        \n",
              "  <svg xmlns=\"http://www.w3.org/2000/svg\" height=\"24px\"viewBox=\"0 0 24 24\"\n",
              "       width=\"24px\">\n",
              "    <path d=\"M0 0h24v24H0V0z\" fill=\"none\"/>\n",
              "    <path d=\"M18.56 5.44l.94 2.06.94-2.06 2.06-.94-2.06-.94-.94-2.06-.94 2.06-2.06.94zm-11 1L8.5 8.5l.94-2.06 2.06-.94-2.06-.94L8.5 2.5l-.94 2.06-2.06.94zm10 10l.94 2.06.94-2.06 2.06-.94-2.06-.94-.94-2.06-.94 2.06-2.06.94z\"/><path d=\"M17.41 7.96l-1.37-1.37c-.4-.4-.92-.59-1.43-.59-.52 0-1.04.2-1.43.59L10.3 9.45l-7.72 7.72c-.78.78-.78 2.05 0 2.83L4 21.41c.39.39.9.59 1.41.59.51 0 1.02-.2 1.41-.59l7.78-7.78 2.81-2.81c.8-.78.8-2.07 0-2.86zM5.41 20L4 18.59l7.72-7.72 1.47 1.35L5.41 20z\"/>\n",
              "  </svg>\n",
              "      </button>\n",
              "      \n",
              "  <style>\n",
              "    .colab-df-container {\n",
              "      display:flex;\n",
              "      flex-wrap:wrap;\n",
              "      gap: 12px;\n",
              "    }\n",
              "\n",
              "    .colab-df-convert {\n",
              "      background-color: #E8F0FE;\n",
              "      border: none;\n",
              "      border-radius: 50%;\n",
              "      cursor: pointer;\n",
              "      display: none;\n",
              "      fill: #1967D2;\n",
              "      height: 32px;\n",
              "      padding: 0 0 0 0;\n",
              "      width: 32px;\n",
              "    }\n",
              "\n",
              "    .colab-df-convert:hover {\n",
              "      background-color: #E2EBFA;\n",
              "      box-shadow: 0px 1px 2px rgba(60, 64, 67, 0.3), 0px 1px 3px 1px rgba(60, 64, 67, 0.15);\n",
              "      fill: #174EA6;\n",
              "    }\n",
              "\n",
              "    [theme=dark] .colab-df-convert {\n",
              "      background-color: #3B4455;\n",
              "      fill: #D2E3FC;\n",
              "    }\n",
              "\n",
              "    [theme=dark] .colab-df-convert:hover {\n",
              "      background-color: #434B5C;\n",
              "      box-shadow: 0px 1px 3px 1px rgba(0, 0, 0, 0.15);\n",
              "      filter: drop-shadow(0px 1px 2px rgba(0, 0, 0, 0.3));\n",
              "      fill: #FFFFFF;\n",
              "    }\n",
              "  </style>\n",
              "\n",
              "      <script>\n",
              "        const buttonEl =\n",
              "          document.querySelector('#df-35ac6a80-e3fe-4fc8-aa36-97d9088e5599 button.colab-df-convert');\n",
              "        buttonEl.style.display =\n",
              "          google.colab.kernel.accessAllowed ? 'block' : 'none';\n",
              "\n",
              "        async function convertToInteractive(key) {\n",
              "          const element = document.querySelector('#df-35ac6a80-e3fe-4fc8-aa36-97d9088e5599');\n",
              "          const dataTable =\n",
              "            await google.colab.kernel.invokeFunction('convertToInteractive',\n",
              "                                                     [key], {});\n",
              "          if (!dataTable) return;\n",
              "\n",
              "          const docLinkHtml = 'Like what you see? Visit the ' +\n",
              "            '<a target=\"_blank\" href=https://colab.research.google.com/notebooks/data_table.ipynb>data table notebook</a>'\n",
              "            + ' to learn more about interactive tables.';\n",
              "          element.innerHTML = '';\n",
              "          dataTable['output_type'] = 'display_data';\n",
              "          await google.colab.output.renderOutput(dataTable, element);\n",
              "          const docLink = document.createElement('div');\n",
              "          docLink.innerHTML = docLinkHtml;\n",
              "          element.appendChild(docLink);\n",
              "        }\n",
              "      </script>\n",
              "    </div>\n",
              "  </div>\n",
              "  "
            ],
            "text/plain": [
              "           GOL       CVC      WEGE      MGLU      TOTS      BOVA\n",
              "0          NaN       NaN       NaN       NaN       NaN       NaN\n",
              "1    -0.009340 -0.013158  0.006812  0.018792 -0.030726 -0.019890\n",
              "2     0.024242 -0.013333 -0.014832 -0.013175 -0.062536  0.005613\n",
              "3    -0.043392 -0.008784 -0.011455  0.033380 -0.007071  0.033705\n",
              "4    -0.019244 -0.035447  0.016883 -0.007752  0.023221  0.007477\n",
              "...        ...       ...       ...       ...       ...       ...\n",
              "1441 -0.018987 -0.018018  0.005921 -0.000785  0.008136 -0.010024\n",
              "1442 -0.090323 -0.098800 -0.049255 -0.032220 -0.035088 -0.035177\n",
              "1443 -0.018321 -0.007048  0.011246  0.029639  0.036364  0.005193\n",
              "1444 -0.055388 -0.031546 -0.052480 -0.028786 -0.052632 -0.024217\n",
              "1445  0.024219  0.011401  0.037452  0.027609  0.034444  0.019303\n",
              "\n",
              "[1446 rows x 6 columns]"
            ]
          },
          "metadata": {},
          "execution_count": 52
        }
      ]
    },
    {
      "cell_type": "code",
      "metadata": {
        "colab": {
          "base_uri": "https://localhost:8080/",
          "height": 238
        },
        "id": "A2dHlyuOw_wM",
        "outputId": "5a0c8ce8-449a-45e5-e6b6-fbb034a3c93a"
      },
      "source": [
        "taxas_retorno.cov()"
      ],
      "execution_count": 53,
      "outputs": [
        {
          "output_type": "execute_result",
          "data": {
            "text/html": [
              "\n",
              "  <div id=\"df-50125db7-9a72-431f-a44d-08cdb87f8c39\">\n",
              "    <div class=\"colab-df-container\">\n",
              "      <div>\n",
              "<style scoped>\n",
              "    .dataframe tbody tr th:only-of-type {\n",
              "        vertical-align: middle;\n",
              "    }\n",
              "\n",
              "    .dataframe tbody tr th {\n",
              "        vertical-align: top;\n",
              "    }\n",
              "\n",
              "    .dataframe thead th {\n",
              "        text-align: right;\n",
              "    }\n",
              "</style>\n",
              "<table border=\"1\" class=\"dataframe\">\n",
              "  <thead>\n",
              "    <tr style=\"text-align: right;\">\n",
              "      <th></th>\n",
              "      <th>GOL</th>\n",
              "      <th>CVC</th>\n",
              "      <th>WEGE</th>\n",
              "      <th>MGLU</th>\n",
              "      <th>TOTS</th>\n",
              "      <th>BOVA</th>\n",
              "    </tr>\n",
              "  </thead>\n",
              "  <tbody>\n",
              "    <tr>\n",
              "      <th>GOL</th>\n",
              "      <td>0.002662</td>\n",
              "      <td>0.000895</td>\n",
              "      <td>0.000366</td>\n",
              "      <td>0.000710</td>\n",
              "      <td>0.000401</td>\n",
              "      <td>0.000528</td>\n",
              "    </tr>\n",
              "    <tr>\n",
              "      <th>CVC</th>\n",
              "      <td>0.000895</td>\n",
              "      <td>0.001203</td>\n",
              "      <td>0.000241</td>\n",
              "      <td>0.000479</td>\n",
              "      <td>0.000274</td>\n",
              "      <td>0.000336</td>\n",
              "    </tr>\n",
              "    <tr>\n",
              "      <th>WEGE</th>\n",
              "      <td>0.000366</td>\n",
              "      <td>0.000241</td>\n",
              "      <td>0.000492</td>\n",
              "      <td>0.000276</td>\n",
              "      <td>0.000199</td>\n",
              "      <td>0.000207</td>\n",
              "    </tr>\n",
              "    <tr>\n",
              "      <th>MGLU</th>\n",
              "      <td>0.000710</td>\n",
              "      <td>0.000479</td>\n",
              "      <td>0.000276</td>\n",
              "      <td>0.001783</td>\n",
              "      <td>0.000252</td>\n",
              "      <td>0.000335</td>\n",
              "    </tr>\n",
              "    <tr>\n",
              "      <th>TOTS</th>\n",
              "      <td>0.000401</td>\n",
              "      <td>0.000274</td>\n",
              "      <td>0.000199</td>\n",
              "      <td>0.000252</td>\n",
              "      <td>0.000898</td>\n",
              "      <td>0.000211</td>\n",
              "    </tr>\n",
              "    <tr>\n",
              "      <th>BOVA</th>\n",
              "      <td>0.000528</td>\n",
              "      <td>0.000336</td>\n",
              "      <td>0.000207</td>\n",
              "      <td>0.000335</td>\n",
              "      <td>0.000211</td>\n",
              "      <td>0.000299</td>\n",
              "    </tr>\n",
              "  </tbody>\n",
              "</table>\n",
              "</div>\n",
              "      <button class=\"colab-df-convert\" onclick=\"convertToInteractive('df-50125db7-9a72-431f-a44d-08cdb87f8c39')\"\n",
              "              title=\"Convert this dataframe to an interactive table.\"\n",
              "              style=\"display:none;\">\n",
              "        \n",
              "  <svg xmlns=\"http://www.w3.org/2000/svg\" height=\"24px\"viewBox=\"0 0 24 24\"\n",
              "       width=\"24px\">\n",
              "    <path d=\"M0 0h24v24H0V0z\" fill=\"none\"/>\n",
              "    <path d=\"M18.56 5.44l.94 2.06.94-2.06 2.06-.94-2.06-.94-.94-2.06-.94 2.06-2.06.94zm-11 1L8.5 8.5l.94-2.06 2.06-.94-2.06-.94L8.5 2.5l-.94 2.06-2.06.94zm10 10l.94 2.06.94-2.06 2.06-.94-2.06-.94-.94-2.06-.94 2.06-2.06.94z\"/><path d=\"M17.41 7.96l-1.37-1.37c-.4-.4-.92-.59-1.43-.59-.52 0-1.04.2-1.43.59L10.3 9.45l-7.72 7.72c-.78.78-.78 2.05 0 2.83L4 21.41c.39.39.9.59 1.41.59.51 0 1.02-.2 1.41-.59l7.78-7.78 2.81-2.81c.8-.78.8-2.07 0-2.86zM5.41 20L4 18.59l7.72-7.72 1.47 1.35L5.41 20z\"/>\n",
              "  </svg>\n",
              "      </button>\n",
              "      \n",
              "  <style>\n",
              "    .colab-df-container {\n",
              "      display:flex;\n",
              "      flex-wrap:wrap;\n",
              "      gap: 12px;\n",
              "    }\n",
              "\n",
              "    .colab-df-convert {\n",
              "      background-color: #E8F0FE;\n",
              "      border: none;\n",
              "      border-radius: 50%;\n",
              "      cursor: pointer;\n",
              "      display: none;\n",
              "      fill: #1967D2;\n",
              "      height: 32px;\n",
              "      padding: 0 0 0 0;\n",
              "      width: 32px;\n",
              "    }\n",
              "\n",
              "    .colab-df-convert:hover {\n",
              "      background-color: #E2EBFA;\n",
              "      box-shadow: 0px 1px 2px rgba(60, 64, 67, 0.3), 0px 1px 3px 1px rgba(60, 64, 67, 0.15);\n",
              "      fill: #174EA6;\n",
              "    }\n",
              "\n",
              "    [theme=dark] .colab-df-convert {\n",
              "      background-color: #3B4455;\n",
              "      fill: #D2E3FC;\n",
              "    }\n",
              "\n",
              "    [theme=dark] .colab-df-convert:hover {\n",
              "      background-color: #434B5C;\n",
              "      box-shadow: 0px 1px 3px 1px rgba(0, 0, 0, 0.15);\n",
              "      filter: drop-shadow(0px 1px 2px rgba(0, 0, 0, 0.3));\n",
              "      fill: #FFFFFF;\n",
              "    }\n",
              "  </style>\n",
              "\n",
              "      <script>\n",
              "        const buttonEl =\n",
              "          document.querySelector('#df-50125db7-9a72-431f-a44d-08cdb87f8c39 button.colab-df-convert');\n",
              "        buttonEl.style.display =\n",
              "          google.colab.kernel.accessAllowed ? 'block' : 'none';\n",
              "\n",
              "        async function convertToInteractive(key) {\n",
              "          const element = document.querySelector('#df-50125db7-9a72-431f-a44d-08cdb87f8c39');\n",
              "          const dataTable =\n",
              "            await google.colab.kernel.invokeFunction('convertToInteractive',\n",
              "                                                     [key], {});\n",
              "          if (!dataTable) return;\n",
              "\n",
              "          const docLinkHtml = 'Like what you see? Visit the ' +\n",
              "            '<a target=\"_blank\" href=https://colab.research.google.com/notebooks/data_table.ipynb>data table notebook</a>'\n",
              "            + ' to learn more about interactive tables.';\n",
              "          element.innerHTML = '';\n",
              "          dataTable['output_type'] = 'display_data';\n",
              "          await google.colab.output.renderOutput(dataTable, element);\n",
              "          const docLink = document.createElement('div');\n",
              "          docLink.innerHTML = docLinkHtml;\n",
              "          element.appendChild(docLink);\n",
              "        }\n",
              "      </script>\n",
              "    </div>\n",
              "  </div>\n",
              "  "
            ],
            "text/plain": [
              "           GOL       CVC      WEGE      MGLU      TOTS      BOVA\n",
              "GOL   0.002662  0.000895  0.000366  0.000710  0.000401  0.000528\n",
              "CVC   0.000895  0.001203  0.000241  0.000479  0.000274  0.000336\n",
              "WEGE  0.000366  0.000241  0.000492  0.000276  0.000199  0.000207\n",
              "MGLU  0.000710  0.000479  0.000276  0.001783  0.000252  0.000335\n",
              "TOTS  0.000401  0.000274  0.000199  0.000252  0.000898  0.000211\n",
              "BOVA  0.000528  0.000336  0.000207  0.000335  0.000211  0.000299"
            ]
          },
          "metadata": {},
          "execution_count": 53
        }
      ]
    },
    {
      "cell_type": "code",
      "metadata": {
        "colab": {
          "base_uri": "https://localhost:8080/",
          "height": 238
        },
        "id": "WsaMv-JzyBB8",
        "outputId": "f4396661-1f59-4658-f83c-0c767f7ac4bc"
      },
      "source": [
        "# Empresas BOVA: http://bvmf.bmfbovespa.com.br/indices/ResumoCarteiraQuadrimestre.aspx?Indice=IBOV&idioma=pt-br\n",
        "taxas_retorno.corr()"
      ],
      "execution_count": 54,
      "outputs": [
        {
          "output_type": "execute_result",
          "data": {
            "text/html": [
              "\n",
              "  <div id=\"df-eeaec2b6-5767-416a-a072-d320d993befb\">\n",
              "    <div class=\"colab-df-container\">\n",
              "      <div>\n",
              "<style scoped>\n",
              "    .dataframe tbody tr th:only-of-type {\n",
              "        vertical-align: middle;\n",
              "    }\n",
              "\n",
              "    .dataframe tbody tr th {\n",
              "        vertical-align: top;\n",
              "    }\n",
              "\n",
              "    .dataframe thead th {\n",
              "        text-align: right;\n",
              "    }\n",
              "</style>\n",
              "<table border=\"1\" class=\"dataframe\">\n",
              "  <thead>\n",
              "    <tr style=\"text-align: right;\">\n",
              "      <th></th>\n",
              "      <th>GOL</th>\n",
              "      <th>CVC</th>\n",
              "      <th>WEGE</th>\n",
              "      <th>MGLU</th>\n",
              "      <th>TOTS</th>\n",
              "      <th>BOVA</th>\n",
              "    </tr>\n",
              "  </thead>\n",
              "  <tbody>\n",
              "    <tr>\n",
              "      <th>GOL</th>\n",
              "      <td>1.000000</td>\n",
              "      <td>0.499884</td>\n",
              "      <td>0.319979</td>\n",
              "      <td>0.325900</td>\n",
              "      <td>0.259048</td>\n",
              "      <td>0.590888</td>\n",
              "    </tr>\n",
              "    <tr>\n",
              "      <th>CVC</th>\n",
              "      <td>0.499884</td>\n",
              "      <td>1.000000</td>\n",
              "      <td>0.313461</td>\n",
              "      <td>0.327040</td>\n",
              "      <td>0.263111</td>\n",
              "      <td>0.560705</td>\n",
              "    </tr>\n",
              "    <tr>\n",
              "      <th>WEGE</th>\n",
              "      <td>0.319979</td>\n",
              "      <td>0.313461</td>\n",
              "      <td>1.000000</td>\n",
              "      <td>0.295261</td>\n",
              "      <td>0.299640</td>\n",
              "      <td>0.539577</td>\n",
              "    </tr>\n",
              "    <tr>\n",
              "      <th>MGLU</th>\n",
              "      <td>0.325900</td>\n",
              "      <td>0.327040</td>\n",
              "      <td>0.295261</td>\n",
              "      <td>1.000000</td>\n",
              "      <td>0.199397</td>\n",
              "      <td>0.458245</td>\n",
              "    </tr>\n",
              "    <tr>\n",
              "      <th>TOTS</th>\n",
              "      <td>0.259048</td>\n",
              "      <td>0.263111</td>\n",
              "      <td>0.299640</td>\n",
              "      <td>0.199397</td>\n",
              "      <td>1.000000</td>\n",
              "      <td>0.407193</td>\n",
              "    </tr>\n",
              "    <tr>\n",
              "      <th>BOVA</th>\n",
              "      <td>0.590888</td>\n",
              "      <td>0.560705</td>\n",
              "      <td>0.539577</td>\n",
              "      <td>0.458245</td>\n",
              "      <td>0.407193</td>\n",
              "      <td>1.000000</td>\n",
              "    </tr>\n",
              "  </tbody>\n",
              "</table>\n",
              "</div>\n",
              "      <button class=\"colab-df-convert\" onclick=\"convertToInteractive('df-eeaec2b6-5767-416a-a072-d320d993befb')\"\n",
              "              title=\"Convert this dataframe to an interactive table.\"\n",
              "              style=\"display:none;\">\n",
              "        \n",
              "  <svg xmlns=\"http://www.w3.org/2000/svg\" height=\"24px\"viewBox=\"0 0 24 24\"\n",
              "       width=\"24px\">\n",
              "    <path d=\"M0 0h24v24H0V0z\" fill=\"none\"/>\n",
              "    <path d=\"M18.56 5.44l.94 2.06.94-2.06 2.06-.94-2.06-.94-.94-2.06-.94 2.06-2.06.94zm-11 1L8.5 8.5l.94-2.06 2.06-.94-2.06-.94L8.5 2.5l-.94 2.06-2.06.94zm10 10l.94 2.06.94-2.06 2.06-.94-2.06-.94-.94-2.06-.94 2.06-2.06.94z\"/><path d=\"M17.41 7.96l-1.37-1.37c-.4-.4-.92-.59-1.43-.59-.52 0-1.04.2-1.43.59L10.3 9.45l-7.72 7.72c-.78.78-.78 2.05 0 2.83L4 21.41c.39.39.9.59 1.41.59.51 0 1.02-.2 1.41-.59l7.78-7.78 2.81-2.81c.8-.78.8-2.07 0-2.86zM5.41 20L4 18.59l7.72-7.72 1.47 1.35L5.41 20z\"/>\n",
              "  </svg>\n",
              "      </button>\n",
              "      \n",
              "  <style>\n",
              "    .colab-df-container {\n",
              "      display:flex;\n",
              "      flex-wrap:wrap;\n",
              "      gap: 12px;\n",
              "    }\n",
              "\n",
              "    .colab-df-convert {\n",
              "      background-color: #E8F0FE;\n",
              "      border: none;\n",
              "      border-radius: 50%;\n",
              "      cursor: pointer;\n",
              "      display: none;\n",
              "      fill: #1967D2;\n",
              "      height: 32px;\n",
              "      padding: 0 0 0 0;\n",
              "      width: 32px;\n",
              "    }\n",
              "\n",
              "    .colab-df-convert:hover {\n",
              "      background-color: #E2EBFA;\n",
              "      box-shadow: 0px 1px 2px rgba(60, 64, 67, 0.3), 0px 1px 3px 1px rgba(60, 64, 67, 0.15);\n",
              "      fill: #174EA6;\n",
              "    }\n",
              "\n",
              "    [theme=dark] .colab-df-convert {\n",
              "      background-color: #3B4455;\n",
              "      fill: #D2E3FC;\n",
              "    }\n",
              "\n",
              "    [theme=dark] .colab-df-convert:hover {\n",
              "      background-color: #434B5C;\n",
              "      box-shadow: 0px 1px 3px 1px rgba(0, 0, 0, 0.15);\n",
              "      filter: drop-shadow(0px 1px 2px rgba(0, 0, 0, 0.3));\n",
              "      fill: #FFFFFF;\n",
              "    }\n",
              "  </style>\n",
              "\n",
              "      <script>\n",
              "        const buttonEl =\n",
              "          document.querySelector('#df-eeaec2b6-5767-416a-a072-d320d993befb button.colab-df-convert');\n",
              "        buttonEl.style.display =\n",
              "          google.colab.kernel.accessAllowed ? 'block' : 'none';\n",
              "\n",
              "        async function convertToInteractive(key) {\n",
              "          const element = document.querySelector('#df-eeaec2b6-5767-416a-a072-d320d993befb');\n",
              "          const dataTable =\n",
              "            await google.colab.kernel.invokeFunction('convertToInteractive',\n",
              "                                                     [key], {});\n",
              "          if (!dataTable) return;\n",
              "\n",
              "          const docLinkHtml = 'Like what you see? Visit the ' +\n",
              "            '<a target=\"_blank\" href=https://colab.research.google.com/notebooks/data_table.ipynb>data table notebook</a>'\n",
              "            + ' to learn more about interactive tables.';\n",
              "          element.innerHTML = '';\n",
              "          dataTable['output_type'] = 'display_data';\n",
              "          await google.colab.output.renderOutput(dataTable, element);\n",
              "          const docLink = document.createElement('div');\n",
              "          docLink.innerHTML = docLinkHtml;\n",
              "          element.appendChild(docLink);\n",
              "        }\n",
              "      </script>\n",
              "    </div>\n",
              "  </div>\n",
              "  "
            ],
            "text/plain": [
              "           GOL       CVC      WEGE      MGLU      TOTS      BOVA\n",
              "GOL   1.000000  0.499884  0.319979  0.325900  0.259048  0.590888\n",
              "CVC   0.499884  1.000000  0.313461  0.327040  0.263111  0.560705\n",
              "WEGE  0.319979  0.313461  1.000000  0.295261  0.299640  0.539577\n",
              "MGLU  0.325900  0.327040  0.295261  1.000000  0.199397  0.458245\n",
              "TOTS  0.259048  0.263111  0.299640  0.199397  1.000000  0.407193\n",
              "BOVA  0.590888  0.560705  0.539577  0.458245  0.407193  1.000000"
            ]
          },
          "metadata": {},
          "execution_count": 54
        }
      ]
    },
    {
      "cell_type": "code",
      "metadata": {
        "colab": {
          "base_uri": "https://localhost:8080/",
          "height": 487
        },
        "id": "LGkZkuG8zfcT",
        "outputId": "8ce6b486-80da-467f-a9b7-1f2566e2f5dd"
      },
      "source": [
        "plt.figure(figsize=(8,8))\n",
        "sns.heatmap(taxas_retorno.corr(), annot=True);"
      ],
      "execution_count": 55,
      "outputs": [
        {
          "output_type": "display_data",
          "data": {
            "image/png": "[encoded data removed]",
            "text/plain": [
              "<Figure size 576x576 with 2 Axes>"
            ]
          },
          "metadata": {
            "needs_background": "light"
          }
        }
      ]
    },
    {
      "cell_type": "markdown",
      "metadata": {
        "id": "_leJrS3iJCWQ"
      },
      "source": [
        "## Risco de um portfólio"
      ]
    },
    {
      "cell_type": "markdown",
      "metadata": {
        "id": "OaQ_6HmNYXTX"
      },
      "source": [
        "### Somente duas ações"
      ]
    },
    {
      "cell_type": "code",
      "metadata": {
        "colab": {
          "base_uri": "https://localhost:8080/",
          "height": 424
        },
        "id": "Rl0_pBxZ1iKy",
        "outputId": "8a73fd4a-9642-4568-daa7-8aa11dd7dd4a"
      },
      "source": [
        "taxas_retorno"
      ],
      "execution_count": 56,
      "outputs": [
        {
          "output_type": "execute_result",
          "data": {
            "text/html": [
              "\n",
              "  <div id=\"df-dcc8f7ed-18c5-4d28-bffd-2775c384dccf\">\n",
              "    <div class=\"colab-df-container\">\n",
              "      <div>\n",
              "<style scoped>\n",
              "    .dataframe tbody tr th:only-of-type {\n",
              "        vertical-align: middle;\n",
              "    }\n",
              "\n",
              "    .dataframe tbody tr th {\n",
              "        vertical-align: top;\n",
              "    }\n",
              "\n",
              "    .dataframe thead th {\n",
              "        text-align: right;\n",
              "    }\n",
              "</style>\n",
              "<table border=\"1\" class=\"dataframe\">\n",
              "  <thead>\n",
              "    <tr style=\"text-align: right;\">\n",
              "      <th></th>\n",
              "      <th>GOL</th>\n",
              "      <th>CVC</th>\n",
              "      <th>WEGE</th>\n",
              "      <th>MGLU</th>\n",
              "      <th>TOTS</th>\n",
              "      <th>BOVA</th>\n",
              "    </tr>\n",
              "  </thead>\n",
              "  <tbody>\n",
              "    <tr>\n",
              "      <th>0</th>\n",
              "      <td>NaN</td>\n",
              "      <td>NaN</td>\n",
              "      <td>NaN</td>\n",
              "      <td>NaN</td>\n",
              "      <td>NaN</td>\n",
              "      <td>NaN</td>\n",
              "    </tr>\n",
              "    <tr>\n",
              "      <th>1</th>\n",
              "      <td>-0.009340</td>\n",
              "      <td>-0.013158</td>\n",
              "      <td>0.006812</td>\n",
              "      <td>0.018792</td>\n",
              "      <td>-0.030726</td>\n",
              "      <td>-0.019890</td>\n",
              "    </tr>\n",
              "    <tr>\n",
              "      <th>2</th>\n",
              "      <td>0.024242</td>\n",
              "      <td>-0.013333</td>\n",
              "      <td>-0.014832</td>\n",
              "      <td>-0.013175</td>\n",
              "      <td>-0.062536</td>\n",
              "      <td>0.005613</td>\n",
              "    </tr>\n",
              "    <tr>\n",
              "      <th>3</th>\n",
              "      <td>-0.043392</td>\n",
              "      <td>-0.008784</td>\n",
              "      <td>-0.011455</td>\n",
              "      <td>0.033380</td>\n",
              "      <td>-0.007071</td>\n",
              "      <td>0.033705</td>\n",
              "    </tr>\n",
              "    <tr>\n",
              "      <th>4</th>\n",
              "      <td>-0.019244</td>\n",
              "      <td>-0.035447</td>\n",
              "      <td>0.016883</td>\n",
              "      <td>-0.007752</td>\n",
              "      <td>0.023221</td>\n",
              "      <td>0.007477</td>\n",
              "    </tr>\n",
              "    <tr>\n",
              "      <th>...</th>\n",
              "      <td>...</td>\n",
              "      <td>...</td>\n",
              "      <td>...</td>\n",
              "      <td>...</td>\n",
              "      <td>...</td>\n",
              "      <td>...</td>\n",
              "    </tr>\n",
              "    <tr>\n",
              "      <th>1441</th>\n",
              "      <td>-0.018987</td>\n",
              "      <td>-0.018018</td>\n",
              "      <td>0.005921</td>\n",
              "      <td>-0.000785</td>\n",
              "      <td>0.008136</td>\n",
              "      <td>-0.010024</td>\n",
              "    </tr>\n",
              "    <tr>\n",
              "      <th>1442</th>\n",
              "      <td>-0.090323</td>\n",
              "      <td>-0.098800</td>\n",
              "      <td>-0.049255</td>\n",
              "      <td>-0.032220</td>\n",
              "      <td>-0.035088</td>\n",
              "      <td>-0.035177</td>\n",
              "    </tr>\n",
              "    <tr>\n",
              "      <th>1443</th>\n",
              "      <td>-0.018321</td>\n",
              "      <td>-0.007048</td>\n",
              "      <td>0.011246</td>\n",
              "      <td>0.029639</td>\n",
              "      <td>0.036364</td>\n",
              "      <td>0.005193</td>\n",
              "    </tr>\n",
              "    <tr>\n",
              "      <th>1444</th>\n",
              "      <td>-0.055388</td>\n",
              "      <td>-0.031546</td>\n",
              "      <td>-0.052480</td>\n",
              "      <td>-0.028786</td>\n",
              "      <td>-0.052632</td>\n",
              "      <td>-0.024217</td>\n",
              "    </tr>\n",
              "    <tr>\n",
              "      <th>1445</th>\n",
              "      <td>0.024219</td>\n",
              "      <td>0.011401</td>\n",
              "      <td>0.037452</td>\n",
              "      <td>0.027609</td>\n",
              "      <td>0.034444</td>\n",
              "      <td>0.019303</td>\n",
              "    </tr>\n",
              "  </tbody>\n",
              "</table>\n",
              "<p>1446 rows × 6 columns</p>\n",
              "</div>\n",
              "      <button class=\"colab-df-convert\" onclick=\"convertToInteractive('df-dcc8f7ed-18c5-4d28-bffd-2775c384dccf')\"\n",
              "              title=\"Convert this dataframe to an interactive table.\"\n",
              "              style=\"display:none;\">\n",
              "        \n",
              "  <svg xmlns=\"http://www.w3.org/2000/svg\" height=\"24px\"viewBox=\"0 0 24 24\"\n",
              "       width=\"24px\">\n",
              "    <path d=\"M0 0h24v24H0V0z\" fill=\"none\"/>\n",
              "    <path d=\"M18.56 5.44l.94 2.06.94-2.06 2.06-.94-2.06-.94-.94-2.06-.94 2.06-2.06.94zm-11 1L8.5 8.5l.94-2.06 2.06-.94-2.06-.94L8.5 2.5l-.94 2.06-2.06.94zm10 10l.94 2.06.94-2.06 2.06-.94-2.06-.94-.94-2.06-.94 2.06-2.06.94z\"/><path d=\"M17.41 7.96l-1.37-1.37c-.4-.4-.92-.59-1.43-.59-.52 0-1.04.2-1.43.59L10.3 9.45l-7.72 7.72c-.78.78-.78 2.05 0 2.83L4 21.41c.39.39.9.59 1.41.59.51 0 1.02-.2 1.41-.59l7.78-7.78 2.81-2.81c.8-.78.8-2.07 0-2.86zM5.41 20L4 18.59l7.72-7.72 1.47 1.35L5.41 20z\"/>\n",
              "  </svg>\n",
              "      </button>\n",
              "      \n",
              "  <style>\n",
              "    .colab-df-container {\n",
              "      display:flex;\n",
              "      flex-wrap:wrap;\n",
              "      gap: 12px;\n",
              "    }\n",
              "\n",
              "    .colab-df-convert {\n",
              "      background-color: #E8F0FE;\n",
              "      border: none;\n",
              "      border-radius: 50%;\n",
              "      cursor: pointer;\n",
              "      display: none;\n",
              "      fill: #1967D2;\n",
              "      height: 32px;\n",
              "      padding: 0 0 0 0;\n",
              "      width: 32px;\n",
              "    }\n",
              "\n",
              "    .colab-df-convert:hover {\n",
              "      background-color: #E2EBFA;\n",
              "      box-shadow: 0px 1px 2px rgba(60, 64, 67, 0.3), 0px 1px 3px 1px rgba(60, 64, 67, 0.15);\n",
              "      fill: #174EA6;\n",
              "    }\n",
              "\n",
              "    [theme=dark] .colab-df-convert {\n",
              "      background-color: #3B4455;\n",
              "      fill: #D2E3FC;\n",
              "    }\n",
              "\n",
              "    [theme=dark] .colab-df-convert:hover {\n",
              "      background-color: #434B5C;\n",
              "      box-shadow: 0px 1px 3px 1px rgba(0, 0, 0, 0.15);\n",
              "      filter: drop-shadow(0px 1px 2px rgba(0, 0, 0, 0.3));\n",
              "      fill: #FFFFFF;\n",
              "    }\n",
              "  </style>\n",
              "\n",
              "      <script>\n",
              "        const buttonEl =\n",
              "          document.querySelector('#df-dcc8f7ed-18c5-4d28-bffd-2775c384dccf button.colab-df-convert');\n",
              "        buttonEl.style.display =\n",
              "          google.colab.kernel.accessAllowed ? 'block' : 'none';\n",
              "\n",
              "        async function convertToInteractive(key) {\n",
              "          const element = document.querySelector('#df-dcc8f7ed-18c5-4d28-bffd-2775c384dccf');\n",
              "          const dataTable =\n",
              "            await google.colab.kernel.invokeFunction('convertToInteractive',\n",
              "                                                     [key], {});\n",
              "          if (!dataTable) return;\n",
              "\n",
              "          const docLinkHtml = 'Like what you see? Visit the ' +\n",
              "            '<a target=\"_blank\" href=https://colab.research.google.com/notebooks/data_table.ipynb>data table notebook</a>'\n",
              "            + ' to learn more about interactive tables.';\n",
              "          element.innerHTML = '';\n",
              "          dataTable['output_type'] = 'display_data';\n",
              "          await google.colab.output.renderOutput(dataTable, element);\n",
              "          const docLink = document.createElement('div');\n",
              "          docLink.innerHTML = docLinkHtml;\n",
              "          element.appendChild(docLink);\n",
              "        }\n",
              "      </script>\n",
              "    </div>\n",
              "  </div>\n",
              "  "
            ],
            "text/plain": [
              "           GOL       CVC      WEGE      MGLU      TOTS      BOVA\n",
              "0          NaN       NaN       NaN       NaN       NaN       NaN\n",
              "1    -0.009340 -0.013158  0.006812  0.018792 -0.030726 -0.019890\n",
              "2     0.024242 -0.013333 -0.014832 -0.013175 -0.062536  0.005613\n",
              "3    -0.043392 -0.008784 -0.011455  0.033380 -0.007071  0.033705\n",
              "4    -0.019244 -0.035447  0.016883 -0.007752  0.023221  0.007477\n",
              "...        ...       ...       ...       ...       ...       ...\n",
              "1441 -0.018987 -0.018018  0.005921 -0.000785  0.008136 -0.010024\n",
              "1442 -0.090323 -0.098800 -0.049255 -0.032220 -0.035088 -0.035177\n",
              "1443 -0.018321 -0.007048  0.011246  0.029639  0.036364  0.005193\n",
              "1444 -0.055388 -0.031546 -0.052480 -0.028786 -0.052632 -0.024217\n",
              "1445  0.024219  0.011401  0.037452  0.027609  0.034444  0.019303\n",
              "\n",
              "[1446 rows x 6 columns]"
            ]
          },
          "metadata": {},
          "execution_count": 56
        }
      ]
    },
    {
      "cell_type": "code",
      "metadata": {
        "colab": {
          "base_uri": "https://localhost:8080/",
          "height": 424
        },
        "id": "8zzZJquB1p1P",
        "outputId": "9012f073-0402-43f5-d60f-4623e933474b"
      },
      "source": [
        "taxas_retorno_gol_cvc = taxas_retorno.drop(columns = ['WEGE', 'MGLU', 'TOTS', 'BOVA'])\n",
        "taxas_retorno_gol_cvc"
      ],
      "execution_count": 57,
      "outputs": [
        {
          "output_type": "execute_result",
          "data": {
            "text/html": [
              "\n",
              "  <div id=\"df-f3e997f0-1ae1-45b5-9a69-ecbac3e3c7f7\">\n",
              "    <div class=\"colab-df-container\">\n",
              "      <div>\n",
              "<style scoped>\n",
              "    .dataframe tbody tr th:only-of-type {\n",
              "        vertical-align: middle;\n",
              "    }\n",
              "\n",
              "    .dataframe tbody tr th {\n",
              "        vertical-align: top;\n",
              "    }\n",
              "\n",
              "    .dataframe thead th {\n",
              "        text-align: right;\n",
              "    }\n",
              "</style>\n",
              "<table border=\"1\" class=\"dataframe\">\n",
              "  <thead>\n",
              "    <tr style=\"text-align: right;\">\n",
              "      <th></th>\n",
              "      <th>GOL</th>\n",
              "      <th>CVC</th>\n",
              "    </tr>\n",
              "  </thead>\n",
              "  <tbody>\n",
              "    <tr>\n",
              "      <th>0</th>\n",
              "      <td>NaN</td>\n",
              "      <td>NaN</td>\n",
              "    </tr>\n",
              "    <tr>\n",
              "      <th>1</th>\n",
              "      <td>-0.009340</td>\n",
              "      <td>-0.013158</td>\n",
              "    </tr>\n",
              "    <tr>\n",
              "      <th>2</th>\n",
              "      <td>0.024242</td>\n",
              "      <td>-0.013333</td>\n",
              "    </tr>\n",
              "    <tr>\n",
              "      <th>3</th>\n",
              "      <td>-0.043392</td>\n",
              "      <td>-0.008784</td>\n",
              "    </tr>\n",
              "    <tr>\n",
              "      <th>4</th>\n",
              "      <td>-0.019244</td>\n",
              "      <td>-0.035447</td>\n",
              "    </tr>\n",
              "    <tr>\n",
              "      <th>...</th>\n",
              "      <td>...</td>\n",
              "      <td>...</td>\n",
              "    </tr>\n",
              "    <tr>\n",
              "      <th>1441</th>\n",
              "      <td>-0.018987</td>\n",
              "      <td>-0.018018</td>\n",
              "    </tr>\n",
              "    <tr>\n",
              "      <th>1442</th>\n",
              "      <td>-0.090323</td>\n",
              "      <td>-0.098800</td>\n",
              "    </tr>\n",
              "    <tr>\n",
              "      <th>1443</th>\n",
              "      <td>-0.018321</td>\n",
              "      <td>-0.007048</td>\n",
              "    </tr>\n",
              "    <tr>\n",
              "      <th>1444</th>\n",
              "      <td>-0.055388</td>\n",
              "      <td>-0.031546</td>\n",
              "    </tr>\n",
              "    <tr>\n",
              "      <th>1445</th>\n",
              "      <td>0.024219</td>\n",
              "      <td>0.011401</td>\n",
              "    </tr>\n",
              "  </tbody>\n",
              "</table>\n",
              "<p>1446 rows × 2 columns</p>\n",
              "</div>\n",
              "      <button class=\"colab-df-convert\" onclick=\"convertToInteractive('df-f3e997f0-1ae1-45b5-9a69-ecbac3e3c7f7')\"\n",
              "              title=\"Convert this dataframe to an interactive table.\"\n",
              "              style=\"display:none;\">\n",
              "        \n",
              "  <svg xmlns=\"http://www.w3.org/2000/svg\" height=\"24px\"viewBox=\"0 0 24 24\"\n",
              "       width=\"24px\">\n",
              "    <path d=\"M0 0h24v24H0V0z\" fill=\"none\"/>\n",
              "    <path d=\"M18.56 5.44l.94 2.06.94-2.06 2.06-.94-2.06-.94-.94-2.06-.94 2.06-2.06.94zm-11 1L8.5 8.5l.94-2.06 2.06-.94-2.06-.94L8.5 2.5l-.94 2.06-2.06.94zm10 10l.94 2.06.94-2.06 2.06-.94-2.06-.94-.94-2.06-.94 2.06-2.06.94z\"/><path d=\"M17.41 7.96l-1.37-1.37c-.4-.4-.92-.59-1.43-.59-.52 0-1.04.2-1.43.59L10.3 9.45l-7.72 7.72c-.78.78-.78 2.05 0 2.83L4 21.41c.39.39.9.59 1.41.59.51 0 1.02-.2 1.41-.59l7.78-7.78 2.81-2.81c.8-.78.8-2.07 0-2.86zM5.41 20L4 18.59l7.72-7.72 1.47 1.35L5.41 20z\"/>\n",
              "  </svg>\n",
              "      </button>\n",
              "      \n",
              "  <style>\n",
              "    .colab-df-container {\n",
              "      display:flex;\n",
              "      flex-wrap:wrap;\n",
              "      gap: 12px;\n",
              "    }\n",
              "\n",
              "    .colab-df-convert {\n",
              "      background-color: #E8F0FE;\n",
              "      border: none;\n",
              "      border-radius: 50%;\n",
              "      cursor: pointer;\n",
              "      display: none;\n",
              "      fill: #1967D2;\n",
              "      height: 32px;\n",
              "      padding: 0 0 0 0;\n",
              "      width: 32px;\n",
              "    }\n",
              "\n",
              "    .colab-df-convert:hover {\n",
              "      background-color: #E2EBFA;\n",
              "      box-shadow: 0px 1px 2px rgba(60, 64, 67, 0.3), 0px 1px 3px 1px rgba(60, 64, 67, 0.15);\n",
              "      fill: #174EA6;\n",
              "    }\n",
              "\n",
              "    [theme=dark] .colab-df-convert {\n",
              "      background-color: #3B4455;\n",
              "      fill: #D2E3FC;\n",
              "    }\n",
              "\n",
              "    [theme=dark] .colab-df-convert:hover {\n",
              "      background-color: #434B5C;\n",
              "      box-shadow: 0px 1px 3px 1px rgba(0, 0, 0, 0.15);\n",
              "      filter: drop-shadow(0px 1px 2px rgba(0, 0, 0, 0.3));\n",
              "      fill: #FFFFFF;\n",
              "    }\n",
              "  </style>\n",
              "\n",
              "      <script>\n",
              "        const buttonEl =\n",
              "          document.querySelector('#df-f3e997f0-1ae1-45b5-9a69-ecbac3e3c7f7 button.colab-df-convert');\n",
              "        buttonEl.style.display =\n",
              "          google.colab.kernel.accessAllowed ? 'block' : 'none';\n",
              "\n",
              "        async function convertToInteractive(key) {\n",
              "          const element = document.querySelector('#df-f3e997f0-1ae1-45b5-9a69-ecbac3e3c7f7');\n",
              "          const dataTable =\n",
              "            await google.colab.kernel.invokeFunction('convertToInteractive',\n",
              "                                                     [key], {});\n",
              "          if (!dataTable) return;\n",
              "\n",
              "          const docLinkHtml = 'Like what you see? Visit the ' +\n",
              "            '<a target=\"_blank\" href=https://colab.research.google.com/notebooks/data_table.ipynb>data table notebook</a>'\n",
              "            + ' to learn more about interactive tables.';\n",
              "          element.innerHTML = '';\n",
              "          dataTable['output_type'] = 'display_data';\n",
              "          await google.colab.output.renderOutput(dataTable, element);\n",
              "          const docLink = document.createElement('div');\n",
              "          docLink.innerHTML = docLinkHtml;\n",
              "          element.appendChild(docLink);\n",
              "        }\n",
              "      </script>\n",
              "    </div>\n",
              "  </div>\n",
              "  "
            ],
            "text/plain": [
              "           GOL       CVC\n",
              "0          NaN       NaN\n",
              "1    -0.009340 -0.013158\n",
              "2     0.024242 -0.013333\n",
              "3    -0.043392 -0.008784\n",
              "4    -0.019244 -0.035447\n",
              "...        ...       ...\n",
              "1441 -0.018987 -0.018018\n",
              "1442 -0.090323 -0.098800\n",
              "1443 -0.018321 -0.007048\n",
              "1444 -0.055388 -0.031546\n",
              "1445  0.024219  0.011401\n",
              "\n",
              "[1446 rows x 2 columns]"
            ]
          },
          "metadata": {},
          "execution_count": 57
        }
      ]
    },
    {
      "cell_type": "code",
      "metadata": {
        "colab": {
          "base_uri": "https://localhost:8080/",
          "height": 112
        },
        "id": "pCjrtLl_2FbJ",
        "outputId": "f9a4682b-ffc1-4c1c-d885-fdd3b33260ce"
      },
      "source": [
        "taxas_retorno_gol_cvc.cov()"
      ],
      "execution_count": 58,
      "outputs": [
        {
          "output_type": "execute_result",
          "data": {
            "text/html": [
              "\n",
              "  <div id=\"df-8f2e231d-cb05-452c-a2e2-7d4b14789a4e\">\n",
              "    <div class=\"colab-df-container\">\n",
              "      <div>\n",
              "<style scoped>\n",
              "    .dataframe tbody tr th:only-of-type {\n",
              "        vertical-align: middle;\n",
              "    }\n",
              "\n",
              "    .dataframe tbody tr th {\n",
              "        vertical-align: top;\n",
              "    }\n",
              "\n",
              "    .dataframe thead th {\n",
              "        text-align: right;\n",
              "    }\n",
              "</style>\n",
              "<table border=\"1\" class=\"dataframe\">\n",
              "  <thead>\n",
              "    <tr style=\"text-align: right;\">\n",
              "      <th></th>\n",
              "      <th>GOL</th>\n",
              "      <th>CVC</th>\n",
              "    </tr>\n",
              "  </thead>\n",
              "  <tbody>\n",
              "    <tr>\n",
              "      <th>GOL</th>\n",
              "      <td>0.002662</td>\n",
              "      <td>0.000895</td>\n",
              "    </tr>\n",
              "    <tr>\n",
              "      <th>CVC</th>\n",
              "      <td>0.000895</td>\n",
              "      <td>0.001203</td>\n",
              "    </tr>\n",
              "  </tbody>\n",
              "</table>\n",
              "</div>\n",
              "      <button class=\"colab-df-convert\" onclick=\"convertToInteractive('df-8f2e231d-cb05-452c-a2e2-7d4b14789a4e')\"\n",
              "              title=\"Convert this dataframe to an interactive table.\"\n",
              "              style=\"display:none;\">\n",
              "        \n",
              "  <svg xmlns=\"http://www.w3.org/2000/svg\" height=\"24px\"viewBox=\"0 0 24 24\"\n",
              "       width=\"24px\">\n",
              "    <path d=\"M0 0h24v24H0V0z\" fill=\"none\"/>\n",
              "    <path d=\"M18.56 5.44l.94 2.06.94-2.06 2.06-.94-2.06-.94-.94-2.06-.94 2.06-2.06.94zm-11 1L8.5 8.5l.94-2.06 2.06-.94-2.06-.94L8.5 2.5l-.94 2.06-2.06.94zm10 10l.94 2.06.94-2.06 2.06-.94-2.06-.94-.94-2.06-.94 2.06-2.06.94z\"/><path d=\"M17.41 7.96l-1.37-1.37c-.4-.4-.92-.59-1.43-.59-.52 0-1.04.2-1.43.59L10.3 9.45l-7.72 7.72c-.78.78-.78 2.05 0 2.83L4 21.41c.39.39.9.59 1.41.59.51 0 1.02-.2 1.41-.59l7.78-7.78 2.81-2.81c.8-.78.8-2.07 0-2.86zM5.41 20L4 18.59l7.72-7.72 1.47 1.35L5.41 20z\"/>\n",
              "  </svg>\n",
              "      </button>\n",
              "      \n",
              "  <style>\n",
              "    .colab-df-container {\n",
              "      display:flex;\n",
              "      flex-wrap:wrap;\n",
              "      gap: 12px;\n",
              "    }\n",
              "\n",
              "    .colab-df-convert {\n",
              "      background-color: #E8F0FE;\n",
              "      border: none;\n",
              "      border-radius: 50%;\n",
              "      cursor: pointer;\n",
              "      display: none;\n",
              "      fill: #1967D2;\n",
              "      height: 32px;\n",
              "      padding: 0 0 0 0;\n",
              "      width: 32px;\n",
              "    }\n",
              "\n",
              "    .colab-df-convert:hover {\n",
              "      background-color: #E2EBFA;\n",
              "      box-shadow: 0px 1px 2px rgba(60, 64, 67, 0.3), 0px 1px 3px 1px rgba(60, 64, 67, 0.15);\n",
              "      fill: #174EA6;\n",
              "    }\n",
              "\n",
              "    [theme=dark] .colab-df-convert {\n",
              "      background-color: #3B4455;\n",
              "      fill: #D2E3FC;\n",
              "    }\n",
              "\n",
              "    [theme=dark] .colab-df-convert:hover {\n",
              "      background-color: #434B5C;\n",
              "      box-shadow: 0px 1px 3px 1px rgba(0, 0, 0, 0.15);\n",
              "      filter: drop-shadow(0px 1px 2px rgba(0, 0, 0, 0.3));\n",
              "      fill: #FFFFFF;\n",
              "    }\n",
              "  </style>\n",
              "\n",
              "      <script>\n",
              "        const buttonEl =\n",
              "          document.querySelector('#df-8f2e231d-cb05-452c-a2e2-7d4b14789a4e button.colab-df-convert');\n",
              "        buttonEl.style.display =\n",
              "          google.colab.kernel.accessAllowed ? 'block' : 'none';\n",
              "\n",
              "        async function convertToInteractive(key) {\n",
              "          const element = document.querySelector('#df-8f2e231d-cb05-452c-a2e2-7d4b14789a4e');\n",
              "          const dataTable =\n",
              "            await google.colab.kernel.invokeFunction('convertToInteractive',\n",
              "                                                     [key], {});\n",
              "          if (!dataTable) return;\n",
              "\n",
              "          const docLinkHtml = 'Like what you see? Visit the ' +\n",
              "            '<a target=\"_blank\" href=https://colab.research.google.com/notebooks/data_table.ipynb>data table notebook</a>'\n",
              "            + ' to learn more about interactive tables.';\n",
              "          element.innerHTML = '';\n",
              "          dataTable['output_type'] = 'display_data';\n",
              "          await google.colab.output.renderOutput(dataTable, element);\n",
              "          const docLink = document.createElement('div');\n",
              "          docLink.innerHTML = docLinkHtml;\n",
              "          element.appendChild(docLink);\n",
              "        }\n",
              "      </script>\n",
              "    </div>\n",
              "  </div>\n",
              "  "
            ],
            "text/plain": [
              "          GOL       CVC\n",
              "GOL  0.002662  0.000895\n",
              "CVC  0.000895  0.001203"
            ]
          },
          "metadata": {},
          "execution_count": 58
        }
      ]
    },
    {
      "cell_type": "code",
      "metadata": {
        "colab": {
          "base_uri": "https://localhost:8080/",
          "height": 112
        },
        "id": "G_N-BvVk2UQv",
        "outputId": "100c5d32-62e4-4257-9a15-4248e6ce2453"
      },
      "source": [
        "taxas_retorno_gol_cvc.cov() * 246"
      ],
      "execution_count": 59,
      "outputs": [
        {
          "output_type": "execute_result",
          "data": {
            "text/html": [
              "\n",
              "  <div id=\"df-22caf3b9-1032-4df6-a7a0-98a1acf8a46b\">\n",
              "    <div class=\"colab-df-container\">\n",
              "      <div>\n",
              "<style scoped>\n",
              "    .dataframe tbody tr th:only-of-type {\n",
              "        vertical-align: middle;\n",
              "    }\n",
              "\n",
              "    .dataframe tbody tr th {\n",
              "        vertical-align: top;\n",
              "    }\n",
              "\n",
              "    .dataframe thead th {\n",
              "        text-align: right;\n",
              "    }\n",
              "</style>\n",
              "<table border=\"1\" class=\"dataframe\">\n",
              "  <thead>\n",
              "    <tr style=\"text-align: right;\">\n",
              "      <th></th>\n",
              "      <th>GOL</th>\n",
              "      <th>CVC</th>\n",
              "    </tr>\n",
              "  </thead>\n",
              "  <tbody>\n",
              "    <tr>\n",
              "      <th>GOL</th>\n",
              "      <td>0.654924</td>\n",
              "      <td>0.220052</td>\n",
              "    </tr>\n",
              "    <tr>\n",
              "      <th>CVC</th>\n",
              "      <td>0.220052</td>\n",
              "      <td>0.295884</td>\n",
              "    </tr>\n",
              "  </tbody>\n",
              "</table>\n",
              "</div>\n",
              "      <button class=\"colab-df-convert\" onclick=\"convertToInteractive('df-22caf3b9-1032-4df6-a7a0-98a1acf8a46b')\"\n",
              "              title=\"Convert this dataframe to an interactive table.\"\n",
              "              style=\"display:none;\">\n",
              "        \n",
              "  <svg xmlns=\"http://www.w3.org/2000/svg\" height=\"24px\"viewBox=\"0 0 24 24\"\n",
              "       width=\"24px\">\n",
              "    <path d=\"M0 0h24v24H0V0z\" fill=\"none\"/>\n",
              "    <path d=\"M18.56 5.44l.94 2.06.94-2.06 2.06-.94-2.06-.94-.94-2.06-.94 2.06-2.06.94zm-11 1L8.5 8.5l.94-2.06 2.06-.94-2.06-.94L8.5 2.5l-.94 2.06-2.06.94zm10 10l.94 2.06.94-2.06 2.06-.94-2.06-.94-.94-2.06-.94 2.06-2.06.94z\"/><path d=\"M17.41 7.96l-1.37-1.37c-.4-.4-.92-.59-1.43-.59-.52 0-1.04.2-1.43.59L10.3 9.45l-7.72 7.72c-.78.78-.78 2.05 0 2.83L4 21.41c.39.39.9.59 1.41.59.51 0 1.02-.2 1.41-.59l7.78-7.78 2.81-2.81c.8-.78.8-2.07 0-2.86zM5.41 20L4 18.59l7.72-7.72 1.47 1.35L5.41 20z\"/>\n",
              "  </svg>\n",
              "      </button>\n",
              "      \n",
              "  <style>\n",
              "    .colab-df-container {\n",
              "      display:flex;\n",
              "      flex-wrap:wrap;\n",
              "      gap: 12px;\n",
              "    }\n",
              "\n",
              "    .colab-df-convert {\n",
              "      background-color: #E8F0FE;\n",
              "      border: none;\n",
              "      border-radius: 50%;\n",
              "      cursor: pointer;\n",
              "      display: none;\n",
              "      fill: #1967D2;\n",
              "      height: 32px;\n",
              "      padding: 0 0 0 0;\n",
              "      width: 32px;\n",
              "    }\n",
              "\n",
              "    .colab-df-convert:hover {\n",
              "      background-color: #E2EBFA;\n",
              "      box-shadow: 0px 1px 2px rgba(60, 64, 67, 0.3), 0px 1px 3px 1px rgba(60, 64, 67, 0.15);\n",
              "      fill: #174EA6;\n",
              "    }\n",
              "\n",
              "    [theme=dark] .colab-df-convert {\n",
              "      background-color: #3B4455;\n",
              "      fill: #D2E3FC;\n",
              "    }\n",
              "\n",
              "    [theme=dark] .colab-df-convert:hover {\n",
              "      background-color: #434B5C;\n",
              "      box-shadow: 0px 1px 3px 1px rgba(0, 0, 0, 0.15);\n",
              "      filter: drop-shadow(0px 1px 2px rgba(0, 0, 0, 0.3));\n",
              "      fill: #FFFFFF;\n",
              "    }\n",
              "  </style>\n",
              "\n",
              "      <script>\n",
              "        const buttonEl =\n",
              "          document.querySelector('#df-22caf3b9-1032-4df6-a7a0-98a1acf8a46b button.colab-df-convert');\n",
              "        buttonEl.style.display =\n",
              "          google.colab.kernel.accessAllowed ? 'block' : 'none';\n",
              "\n",
              "        async function convertToInteractive(key) {\n",
              "          const element = document.querySelector('#df-22caf3b9-1032-4df6-a7a0-98a1acf8a46b');\n",
              "          const dataTable =\n",
              "            await google.colab.kernel.invokeFunction('convertToInteractive',\n",
              "                                                     [key], {});\n",
              "          if (!dataTable) return;\n",
              "\n",
              "          const docLinkHtml = 'Like what you see? Visit the ' +\n",
              "            '<a target=\"_blank\" href=https://colab.research.google.com/notebooks/data_table.ipynb>data table notebook</a>'\n",
              "            + ' to learn more about interactive tables.';\n",
              "          element.innerHTML = '';\n",
              "          dataTable['output_type'] = 'display_data';\n",
              "          await google.colab.output.renderOutput(dataTable, element);\n",
              "          const docLink = document.createElement('div');\n",
              "          docLink.innerHTML = docLinkHtml;\n",
              "          element.appendChild(docLink);\n",
              "        }\n",
              "      </script>\n",
              "    </div>\n",
              "  </div>\n",
              "  "
            ],
            "text/plain": [
              "          GOL       CVC\n",
              "GOL  0.654924  0.220052\n",
              "CVC  0.220052  0.295884"
            ]
          },
          "metadata": {},
          "execution_count": 59
        }
      ]
    },
    {
      "cell_type": "code",
      "metadata": {
        "id": "BNzJdylB2gUx"
      },
      "source": [
        "pesos = np.array([0.5, 0.5])"
      ],
      "execution_count": 60,
      "outputs": []
    },
    {
      "cell_type": "code",
      "metadata": {
        "colab": {
          "base_uri": "https://localhost:8080/"
        },
        "id": "SOYUEJdg5AZu",
        "outputId": "cec4b928-aa41-4846-8e41-06c510c7cef1"
      },
      "source": [
        "np.dot(taxas_retorno_gol_cvc.cov() * 246, pesos)"
      ],
      "execution_count": 61,
      "outputs": [
        {
          "output_type": "execute_result",
          "data": {
            "text/plain": [
              "array([0.43748787, 0.25796791])"
            ]
          },
          "metadata": {},
          "execution_count": 61
        }
      ]
    },
    {
      "cell_type": "code",
      "metadata": {
        "colab": {
          "base_uri": "https://localhost:8080/"
        },
        "id": "_kMUpXQf5YdV",
        "outputId": "6bfd42bc-52fc-4a77-8f57-f143fe38c391"
      },
      "source": [
        "np.dot(pesos, np.dot(taxas_retorno_gol_cvc.cov() * 246, pesos))"
      ],
      "execution_count": 62,
      "outputs": [
        {
          "output_type": "execute_result",
          "data": {
            "text/plain": [
              "0.3477278915072454"
            ]
          },
          "metadata": {},
          "execution_count": 62
        }
      ]
    },
    {
      "cell_type": "code",
      "metadata": {
        "colab": {
          "base_uri": "https://localhost:8080/"
        },
        "id": "FVUlcRa25olE",
        "outputId": "c8e1998e-0dbf-4182-8c38-eb7febe52d23"
      },
      "source": [
        "math.sqrt(np.dot(pesos, np.dot(taxas_retorno_gol_cvc.cov() * 246, pesos))) * 100"
      ],
      "execution_count": 63,
      "outputs": [
        {
          "output_type": "execute_result",
          "data": {
            "text/plain": [
              "58.968456950071655"
            ]
          },
          "metadata": {},
          "execution_count": 63
        }
      ]
    },
    {
      "cell_type": "markdown",
      "metadata": {
        "id": "c1wTpHntY717"
      },
      "source": [
        "### Todas as ações"
      ]
    },
    {
      "cell_type": "code",
      "metadata": {
        "colab": {
          "base_uri": "https://localhost:8080/"
        },
        "id": "_gGk8djnGW85",
        "outputId": "09e1150d-4d84-44dc-fa3d-b44f3c954d08"
      },
      "source": [
        "dataset.columns"
      ],
      "execution_count": 64,
      "outputs": [
        {
          "output_type": "execute_result",
          "data": {
            "text/plain": [
              "Index(['GOL', 'CVC', 'WEGE', 'MGLU', 'TOTS', 'BOVA'], dtype='object')"
            ]
          },
          "metadata": {},
          "execution_count": 64
        }
      ]
    },
    {
      "cell_type": "code",
      "metadata": {
        "id": "wl9N5jK1GQCO"
      },
      "source": [
        "pesos1 = np.array([0.2, 0.2, 0.2, 0.2, 0.2, 0.0])"
      ],
      "execution_count": 65,
      "outputs": []
    },
    {
      "cell_type": "code",
      "metadata": {
        "colab": {
          "base_uri": "https://localhost:8080/"
        },
        "id": "sLrPy70XGkaT",
        "outputId": "b00cd0da-acdb-42ec-ec49-8f1bc860735a"
      },
      "source": [
        "pesos1.sum()"
      ],
      "execution_count": 66,
      "outputs": [
        {
          "output_type": "execute_result",
          "data": {
            "text/plain": [
              "1.0"
            ]
          },
          "metadata": {},
          "execution_count": 66
        }
      ]
    },
    {
      "cell_type": "code",
      "metadata": {
        "colab": {
          "base_uri": "https://localhost:8080/",
          "height": 238
        },
        "id": "V-KXY8uyGmoV",
        "outputId": "e7d4ab39-234d-4835-fc8e-a939c91e1172"
      },
      "source": [
        "taxas_retorno.cov() * 246"
      ],
      "execution_count": 67,
      "outputs": [
        {
          "output_type": "execute_result",
          "data": {
            "text/html": [
              "\n",
              "  <div id=\"df-e1ad8df5-636b-4967-87d6-0e0f6243502a\">\n",
              "    <div class=\"colab-df-container\">\n",
              "      <div>\n",
              "<style scoped>\n",
              "    .dataframe tbody tr th:only-of-type {\n",
              "        vertical-align: middle;\n",
              "    }\n",
              "\n",
              "    .dataframe tbody tr th {\n",
              "        vertical-align: top;\n",
              "    }\n",
              "\n",
              "    .dataframe thead th {\n",
              "        text-align: right;\n",
              "    }\n",
              "</style>\n",
              "<table border=\"1\" class=\"dataframe\">\n",
              "  <thead>\n",
              "    <tr style=\"text-align: right;\">\n",
              "      <th></th>\n",
              "      <th>GOL</th>\n",
              "      <th>CVC</th>\n",
              "      <th>WEGE</th>\n",
              "      <th>MGLU</th>\n",
              "      <th>TOTS</th>\n",
              "      <th>BOVA</th>\n",
              "    </tr>\n",
              "  </thead>\n",
              "  <tbody>\n",
              "    <tr>\n",
              "      <th>GOL</th>\n",
              "      <td>0.654924</td>\n",
              "      <td>0.220052</td>\n",
              "      <td>0.090071</td>\n",
              "      <td>0.174658</td>\n",
              "      <td>0.098555</td>\n",
              "      <td>0.129777</td>\n",
              "    </tr>\n",
              "    <tr>\n",
              "      <th>CVC</th>\n",
              "      <td>0.220052</td>\n",
              "      <td>0.295884</td>\n",
              "      <td>0.059308</td>\n",
              "      <td>0.117807</td>\n",
              "      <td>0.067282</td>\n",
              "      <td>0.082774</td>\n",
              "    </tr>\n",
              "    <tr>\n",
              "      <th>WEGE</th>\n",
              "      <td>0.090071</td>\n",
              "      <td>0.059308</td>\n",
              "      <td>0.120987</td>\n",
              "      <td>0.068012</td>\n",
              "      <td>0.048997</td>\n",
              "      <td>0.050935</td>\n",
              "    </tr>\n",
              "    <tr>\n",
              "      <th>MGLU</th>\n",
              "      <td>0.174658</td>\n",
              "      <td>0.117807</td>\n",
              "      <td>0.068012</td>\n",
              "      <td>0.438549</td>\n",
              "      <td>0.062077</td>\n",
              "      <td>0.082358</td>\n",
              "    </tr>\n",
              "    <tr>\n",
              "      <th>TOTS</th>\n",
              "      <td>0.098555</td>\n",
              "      <td>0.067282</td>\n",
              "      <td>0.048997</td>\n",
              "      <td>0.062077</td>\n",
              "      <td>0.221007</td>\n",
              "      <td>0.051952</td>\n",
              "    </tr>\n",
              "    <tr>\n",
              "      <th>BOVA</th>\n",
              "      <td>0.129777</td>\n",
              "      <td>0.082774</td>\n",
              "      <td>0.050935</td>\n",
              "      <td>0.082358</td>\n",
              "      <td>0.051952</td>\n",
              "      <td>0.073654</td>\n",
              "    </tr>\n",
              "  </tbody>\n",
              "</table>\n",
              "</div>\n",
              "      <button class=\"colab-df-convert\" onclick=\"convertToInteractive('df-e1ad8df5-636b-4967-87d6-0e0f6243502a')\"\n",
              "              title=\"Convert this dataframe to an interactive table.\"\n",
              "              style=\"display:none;\">\n",
              "        \n",
              "  <svg xmlns=\"http://www.w3.org/2000/svg\" height=\"24px\"viewBox=\"0 0 24 24\"\n",
              "       width=\"24px\">\n",
              "    <path d=\"M0 0h24v24H0V0z\" fill=\"none\"/>\n",
              "    <path d=\"M18.56 5.44l.94 2.06.94-2.06 2.06-.94-2.06-.94-.94-2.06-.94 2.06-2.06.94zm-11 1L8.5 8.5l.94-2.06 2.06-.94-2.06-.94L8.5 2.5l-.94 2.06-2.06.94zm10 10l.94 2.06.94-2.06 2.06-.94-2.06-.94-.94-2.06-.94 2.06-2.06.94z\"/><path d=\"M17.41 7.96l-1.37-1.37c-.4-.4-.92-.59-1.43-.59-.52 0-1.04.2-1.43.59L10.3 9.45l-7.72 7.72c-.78.78-.78 2.05 0 2.83L4 21.41c.39.39.9.59 1.41.59.51 0 1.02-.2 1.41-.59l7.78-7.78 2.81-2.81c.8-.78.8-2.07 0-2.86zM5.41 20L4 18.59l7.72-7.72 1.47 1.35L5.41 20z\"/>\n",
              "  </svg>\n",
              "      </button>\n",
              "      \n",
              "  <style>\n",
              "    .colab-df-container {\n",
              "      display:flex;\n",
              "      flex-wrap:wrap;\n",
              "      gap: 12px;\n",
              "    }\n",
              "\n",
              "    .colab-df-convert {\n",
              "      background-color: #E8F0FE;\n",
              "      border: none;\n",
              "      border-radius: 50%;\n",
              "      cursor: pointer;\n",
              "      display: none;\n",
              "      fill: #1967D2;\n",
              "      height: 32px;\n",
              "      padding: 0 0 0 0;\n",
              "      width: 32px;\n",
              "    }\n",
              "\n",
              "    .colab-df-convert:hover {\n",
              "      background-color: #E2EBFA;\n",
              "      box-shadow: 0px 1px 2px rgba(60, 64, 67, 0.3), 0px 1px 3px 1px rgba(60, 64, 67, 0.15);\n",
              "      fill: #174EA6;\n",
              "    }\n",
              "\n",
              "    [theme=dark] .colab-df-convert {\n",
              "      background-color: #3B4455;\n",
              "      fill: #D2E3FC;\n",
              "    }\n",
              "\n",
              "    [theme=dark] .colab-df-convert:hover {\n",
              "      background-color: #434B5C;\n",
              "      box-shadow: 0px 1px 3px 1px rgba(0, 0, 0, 0.15);\n",
              "      filter: drop-shadow(0px 1px 2px rgba(0, 0, 0, 0.3));\n",
              "      fill: #FFFFFF;\n",
              "    }\n",
              "  </style>\n",
              "\n",
              "      <script>\n",
              "        const buttonEl =\n",
              "          document.querySelector('#df-e1ad8df5-636b-4967-87d6-0e0f6243502a button.colab-df-convert');\n",
              "        buttonEl.style.display =\n",
              "          google.colab.kernel.accessAllowed ? 'block' : 'none';\n",
              "\n",
              "        async function convertToInteractive(key) {\n",
              "          const element = document.querySelector('#df-e1ad8df5-636b-4967-87d6-0e0f6243502a');\n",
              "          const dataTable =\n",
              "            await google.colab.kernel.invokeFunction('convertToInteractive',\n",
              "                                                     [key], {});\n",
              "          if (!dataTable) return;\n",
              "\n",
              "          const docLinkHtml = 'Like what you see? Visit the ' +\n",
              "            '<a target=\"_blank\" href=https://colab.research.google.com/notebooks/data_table.ipynb>data table notebook</a>'\n",
              "            + ' to learn more about interactive tables.';\n",
              "          element.innerHTML = '';\n",
              "          dataTable['output_type'] = 'display_data';\n",
              "          await google.colab.output.renderOutput(dataTable, element);\n",
              "          const docLink = document.createElement('div');\n",
              "          docLink.innerHTML = docLinkHtml;\n",
              "          element.appendChild(docLink);\n",
              "        }\n",
              "      </script>\n",
              "    </div>\n",
              "  </div>\n",
              "  "
            ],
            "text/plain": [
              "           GOL       CVC      WEGE      MGLU      TOTS      BOVA\n",
              "GOL   0.654924  0.220052  0.090071  0.174658  0.098555  0.129777\n",
              "CVC   0.220052  0.295884  0.059308  0.117807  0.067282  0.082774\n",
              "WEGE  0.090071  0.059308  0.120987  0.068012  0.048997  0.050935\n",
              "MGLU  0.174658  0.117807  0.068012  0.438549  0.062077  0.082358\n",
              "TOTS  0.098555  0.067282  0.048997  0.062077  0.221007  0.051952\n",
              "BOVA  0.129777  0.082774  0.050935  0.082358  0.051952  0.073654"
            ]
          },
          "metadata": {},
          "execution_count": 67
        }
      ]
    },
    {
      "cell_type": "code",
      "metadata": {
        "colab": {
          "base_uri": "https://localhost:8080/"
        },
        "id": "h-C4Z_fXG2q2",
        "outputId": "eab501de-dc4b-4386-cd08-9ff4a1e171d2"
      },
      "source": [
        "np.dot(taxas_retorno.cov() * 246, pesos1)"
      ],
      "execution_count": 68,
      "outputs": [
        {
          "output_type": "execute_result",
          "data": {
            "text/plain": [
              "array([0.24765205, 0.15206665, 0.0774753 , 0.17222065, 0.09958374,\n",
              "       0.07955904])"
            ]
          },
          "metadata": {},
          "execution_count": 68
        }
      ]
    },
    {
      "cell_type": "code",
      "metadata": {
        "colab": {
          "base_uri": "https://localhost:8080/"
        },
        "id": "Rh8Q5vVLHFDe",
        "outputId": "c246fc69-b837-4bc7-cfd7-f4f0a766f266"
      },
      "source": [
        "variancia_portfolio1 = np.dot(pesos1, np.dot(taxas_retorno.cov() * 246, pesos1))\n",
        "variancia_portfolio1"
      ],
      "execution_count": 69,
      "outputs": [
        {
          "output_type": "execute_result",
          "data": {
            "text/plain": [
              "0.14979967843761446"
            ]
          },
          "metadata": {},
          "execution_count": 69
        }
      ]
    },
    {
      "cell_type": "code",
      "metadata": {
        "colab": {
          "base_uri": "https://localhost:8080/"
        },
        "id": "q-u0ph4HHP1L",
        "outputId": "3f17d914-8d3f-45a8-b7b6-0d1728d0214d"
      },
      "source": [
        "volatilidade_portfolio1 = math.sqrt(variancia_portfolio1)\n",
        "volatilidade_portfolio1"
      ],
      "execution_count": 70,
      "outputs": [
        {
          "output_type": "execute_result",
          "data": {
            "text/plain": [
              "0.38703963419476106"
            ]
          },
          "metadata": {},
          "execution_count": 70
        }
      ]
    },
    {
      "cell_type": "code",
      "metadata": {
        "id": "Bz5n1c6VHzwg"
      },
      "source": [
        "pesos2 = np.array([0.0, 0.0, 0.0, 0.0, 0.0, 1.0])"
      ],
      "execution_count": 71,
      "outputs": []
    },
    {
      "cell_type": "code",
      "metadata": {
        "colab": {
          "base_uri": "https://localhost:8080/"
        },
        "id": "otEgx6tgH9li",
        "outputId": "69071677-e175-4257-c576-b19031d7b13b"
      },
      "source": [
        "variancia_portfolio2 = np.dot(pesos2, np.dot(taxas_retorno.cov() * 246, pesos2))\n",
        "variancia_portfolio2"
      ],
      "execution_count": 72,
      "outputs": [
        {
          "output_type": "execute_result",
          "data": {
            "text/plain": [
              "0.07365354752228817"
            ]
          },
          "metadata": {},
          "execution_count": 72
        }
      ]
    },
    {
      "cell_type": "code",
      "metadata": {
        "colab": {
          "base_uri": "https://localhost:8080/"
        },
        "id": "76SNhDpMIqZs",
        "outputId": "bc879125-ab94-42f6-d372-f413c0a90fa1"
      },
      "source": [
        "volatilidade_portfolio2 = math.sqrt(variancia_portfolio2)\n",
        "volatilidade_portfolio2"
      ],
      "execution_count": 73,
      "outputs": [
        {
          "output_type": "execute_result",
          "data": {
            "text/plain": [
              "0.27139187077414123"
            ]
          },
          "metadata": {},
          "execution_count": 73
        }
      ]
    },
    {
      "cell_type": "markdown",
      "metadata": {
        "id": "n7kDc5w4cRK6"
      },
      "source": [
        "## Risco sistemático e não sistemático\n",
        "\n",
        "- Risco sistemático: mudança diária no preço das ações, devido a eventos como recessão da economia, comportamento do cliente (eventos externos). Não pode ser eliminado e pode afetar todas as empresas\n",
        "- Risco não sistemático: Eventos específicos na empresa (depende do tipo de empresa)"
      ]
    },
    {
      "cell_type": "code",
      "metadata": {
        "colab": {
          "base_uri": "https://localhost:8080/",
          "height": 424
        },
        "id": "MSRjmyHqKoHO",
        "outputId": "a8211230-1455-4d9d-c6ca-d844f7abe41a"
      },
      "source": [
        "taxas_retorno"
      ],
      "execution_count": 74,
      "outputs": [
        {
          "output_type": "execute_result",
          "data": {
            "text/html": [
              "\n",
              "  <div id=\"df-74dc02ba-d5e1-4847-8057-bb5a613d29ca\">\n",
              "    <div class=\"colab-df-container\">\n",
              "      <div>\n",
              "<style scoped>\n",
              "    .dataframe tbody tr th:only-of-type {\n",
              "        vertical-align: middle;\n",
              "    }\n",
              "\n",
              "    .dataframe tbody tr th {\n",
              "        vertical-align: top;\n",
              "    }\n",
              "\n",
              "    .dataframe thead th {\n",
              "        text-align: right;\n",
              "    }\n",
              "</style>\n",
              "<table border=\"1\" class=\"dataframe\">\n",
              "  <thead>\n",
              "    <tr style=\"text-align: right;\">\n",
              "      <th></th>\n",
              "      <th>GOL</th>\n",
              "      <th>CVC</th>\n",
              "      <th>WEGE</th>\n",
              "      <th>MGLU</th>\n",
              "      <th>TOTS</th>\n",
              "      <th>BOVA</th>\n",
              "    </tr>\n",
              "  </thead>\n",
              "  <tbody>\n",
              "    <tr>\n",
              "      <th>0</th>\n",
              "      <td>NaN</td>\n",
              "      <td>NaN</td>\n",
              "      <td>NaN</td>\n",
              "      <td>NaN</td>\n",
              "      <td>NaN</td>\n",
              "      <td>NaN</td>\n",
              "    </tr>\n",
              "    <tr>\n",
              "      <th>1</th>\n",
              "      <td>-0.009340</td>\n",
              "      <td>-0.013158</td>\n",
              "      <td>0.006812</td>\n",
              "      <td>0.018792</td>\n",
              "      <td>-0.030726</td>\n",
              "      <td>-0.019890</td>\n",
              "    </tr>\n",
              "    <tr>\n",
              "      <th>2</th>\n",
              "      <td>0.024242</td>\n",
              "      <td>-0.013333</td>\n",
              "      <td>-0.014832</td>\n",
              "      <td>-0.013175</td>\n",
              "      <td>-0.062536</td>\n",
              "      <td>0.005613</td>\n",
              "    </tr>\n",
              "    <tr>\n",
              "      <th>3</th>\n",
              "      <td>-0.043392</td>\n",
              "      <td>-0.008784</td>\n",
              "      <td>-0.011455</td>\n",
              "      <td>0.033380</td>\n",
              "      <td>-0.007071</td>\n",
              "      <td>0.033705</td>\n",
              "    </tr>\n",
              "    <tr>\n",
              "      <th>4</th>\n",
              "      <td>-0.019244</td>\n",
              "      <td>-0.035447</td>\n",
              "      <td>0.016883</td>\n",
              "      <td>-0.007752</td>\n",
              "      <td>0.023221</td>\n",
              "      <td>0.007477</td>\n",
              "    </tr>\n",
              "    <tr>\n",
              "      <th>...</th>\n",
              "      <td>...</td>\n",
              "      <td>...</td>\n",
              "      <td>...</td>\n",
              "      <td>...</td>\n",
              "      <td>...</td>\n",
              "      <td>...</td>\n",
              "    </tr>\n",
              "    <tr>\n",
              "      <th>1441</th>\n",
              "      <td>-0.018987</td>\n",
              "      <td>-0.018018</td>\n",
              "      <td>0.005921</td>\n",
              "      <td>-0.000785</td>\n",
              "      <td>0.008136</td>\n",
              "      <td>-0.010024</td>\n",
              "    </tr>\n",
              "    <tr>\n",
              "      <th>1442</th>\n",
              "      <td>-0.090323</td>\n",
              "      <td>-0.098800</td>\n",
              "      <td>-0.049255</td>\n",
              "      <td>-0.032220</td>\n",
              "      <td>-0.035088</td>\n",
              "      <td>-0.035177</td>\n",
              "    </tr>\n",
              "    <tr>\n",
              "      <th>1443</th>\n",
              "      <td>-0.018321</td>\n",
              "      <td>-0.007048</td>\n",
              "      <td>0.011246</td>\n",
              "      <td>0.029639</td>\n",
              "      <td>0.036364</td>\n",
              "      <td>0.005193</td>\n",
              "    </tr>\n",
              "    <tr>\n",
              "      <th>1444</th>\n",
              "      <td>-0.055388</td>\n",
              "      <td>-0.031546</td>\n",
              "      <td>-0.052480</td>\n",
              "      <td>-0.028786</td>\n",
              "      <td>-0.052632</td>\n",
              "      <td>-0.024217</td>\n",
              "    </tr>\n",
              "    <tr>\n",
              "      <th>1445</th>\n",
              "      <td>0.024219</td>\n",
              "      <td>0.011401</td>\n",
              "      <td>0.037452</td>\n",
              "      <td>0.027609</td>\n",
              "      <td>0.034444</td>\n",
              "      <td>0.019303</td>\n",
              "    </tr>\n",
              "  </tbody>\n",
              "</table>\n",
              "<p>1446 rows × 6 columns</p>\n",
              "</div>\n",
              "      <button class=\"colab-df-convert\" onclick=\"convertToInteractive('df-74dc02ba-d5e1-4847-8057-bb5a613d29ca')\"\n",
              "              title=\"Convert this dataframe to an interactive table.\"\n",
              "              style=\"display:none;\">\n",
              "        \n",
              "  <svg xmlns=\"http://www.w3.org/2000/svg\" height=\"24px\"viewBox=\"0 0 24 24\"\n",
              "       width=\"24px\">\n",
              "    <path d=\"M0 0h24v24H0V0z\" fill=\"none\"/>\n",
              "    <path d=\"M18.56 5.44l.94 2.06.94-2.06 2.06-.94-2.06-.94-.94-2.06-.94 2.06-2.06.94zm-11 1L8.5 8.5l.94-2.06 2.06-.94-2.06-.94L8.5 2.5l-.94 2.06-2.06.94zm10 10l.94 2.06.94-2.06 2.06-.94-2.06-.94-.94-2.06-.94 2.06-2.06.94z\"/><path d=\"M17.41 7.96l-1.37-1.37c-.4-.4-.92-.59-1.43-.59-.52 0-1.04.2-1.43.59L10.3 9.45l-7.72 7.72c-.78.78-.78 2.05 0 2.83L4 21.41c.39.39.9.59 1.41.59.51 0 1.02-.2 1.41-.59l7.78-7.78 2.81-2.81c.8-.78.8-2.07 0-2.86zM5.41 20L4 18.59l7.72-7.72 1.47 1.35L5.41 20z\"/>\n",
              "  </svg>\n",
              "      </button>\n",
              "      \n",
              "  <style>\n",
              "    .colab-df-container {\n",
              "      display:flex;\n",
              "      flex-wrap:wrap;\n",
              "      gap: 12px;\n",
              "    }\n",
              "\n",
              "    .colab-df-convert {\n",
              "      background-color: #E8F0FE;\n",
              "      border: none;\n",
              "      border-radius: 50%;\n",
              "      cursor: pointer;\n",
              "      display: none;\n",
              "      fill: #1967D2;\n",
              "      height: 32px;\n",
              "      padding: 0 0 0 0;\n",
              "      width: 32px;\n",
              "    }\n",
              "\n",
              "    .colab-df-convert:hover {\n",
              "      background-color: #E2EBFA;\n",
              "      box-shadow: 0px 1px 2px rgba(60, 64, 67, 0.3), 0px 1px 3px 1px rgba(60, 64, 67, 0.15);\n",
              "      fill: #174EA6;\n",
              "    }\n",
              "\n",
              "    [theme=dark] .colab-df-convert {\n",
              "      background-color: #3B4455;\n",
              "      fill: #D2E3FC;\n",
              "    }\n",
              "\n",
              "    [theme=dark] .colab-df-convert:hover {\n",
              "      background-color: #434B5C;\n",
              "      box-shadow: 0px 1px 3px 1px rgba(0, 0, 0, 0.15);\n",
              "      filter: drop-shadow(0px 1px 2px rgba(0, 0, 0, 0.3));\n",
              "      fill: #FFFFFF;\n",
              "    }\n",
              "  </style>\n",
              "\n",
              "      <script>\n",
              "        const buttonEl =\n",
              "          document.querySelector('#df-74dc02ba-d5e1-4847-8057-bb5a613d29ca button.colab-df-convert');\n",
              "        buttonEl.style.display =\n",
              "          google.colab.kernel.accessAllowed ? 'block' : 'none';\n",
              "\n",
              "        async function convertToInteractive(key) {\n",
              "          const element = document.querySelector('#df-74dc02ba-d5e1-4847-8057-bb5a613d29ca');\n",
              "          const dataTable =\n",
              "            await google.colab.kernel.invokeFunction('convertToInteractive',\n",
              "                                                     [key], {});\n",
              "          if (!dataTable) return;\n",
              "\n",
              "          const docLinkHtml = 'Like what you see? Visit the ' +\n",
              "            '<a target=\"_blank\" href=https://colab.research.google.com/notebooks/data_table.ipynb>data table notebook</a>'\n",
              "            + ' to learn more about interactive tables.';\n",
              "          element.innerHTML = '';\n",
              "          dataTable['output_type'] = 'display_data';\n",
              "          await google.colab.output.renderOutput(dataTable, element);\n",
              "          const docLink = document.createElement('div');\n",
              "          docLink.innerHTML = docLinkHtml;\n",
              "          element.appendChild(docLink);\n",
              "        }\n",
              "      </script>\n",
              "    </div>\n",
              "  </div>\n",
              "  "
            ],
            "text/plain": [
              "           GOL       CVC      WEGE      MGLU      TOTS      BOVA\n",
              "0          NaN       NaN       NaN       NaN       NaN       NaN\n",
              "1    -0.009340 -0.013158  0.006812  0.018792 -0.030726 -0.019890\n",
              "2     0.024242 -0.013333 -0.014832 -0.013175 -0.062536  0.005613\n",
              "3    -0.043392 -0.008784 -0.011455  0.033380 -0.007071  0.033705\n",
              "4    -0.019244 -0.035447  0.016883 -0.007752  0.023221  0.007477\n",
              "...        ...       ...       ...       ...       ...       ...\n",
              "1441 -0.018987 -0.018018  0.005921 -0.000785  0.008136 -0.010024\n",
              "1442 -0.090323 -0.098800 -0.049255 -0.032220 -0.035088 -0.035177\n",
              "1443 -0.018321 -0.007048  0.011246  0.029639  0.036364  0.005193\n",
              "1444 -0.055388 -0.031546 -0.052480 -0.028786 -0.052632 -0.024217\n",
              "1445  0.024219  0.011401  0.037452  0.027609  0.034444  0.019303\n",
              "\n",
              "[1446 rows x 6 columns]"
            ]
          },
          "metadata": {},
          "execution_count": 74
        }
      ]
    },
    {
      "cell_type": "code",
      "metadata": {
        "colab": {
          "base_uri": "https://localhost:8080/"
        },
        "id": "FCDxowKVKsfS",
        "outputId": "d7aeb4de-4995-46ba-fd4b-a965a6949d95"
      },
      "source": [
        "pesos1"
      ],
      "execution_count": 75,
      "outputs": [
        {
          "output_type": "execute_result",
          "data": {
            "text/plain": [
              "array([0.2, 0.2, 0.2, 0.2, 0.2, 0. ])"
            ]
          },
          "metadata": {},
          "execution_count": 75
        }
      ]
    },
    {
      "cell_type": "code",
      "metadata": {
        "colab": {
          "base_uri": "https://localhost:8080/"
        },
        "id": "cZUl4RjJK408",
        "outputId": "af8c4cf4-935e-4cfe-c800-e531b6a35002"
      },
      "source": [
        "pesos2"
      ],
      "execution_count": 76,
      "outputs": [
        {
          "output_type": "execute_result",
          "data": {
            "text/plain": [
              "array([0., 0., 0., 0., 0., 1.])"
            ]
          },
          "metadata": {},
          "execution_count": 76
        }
      ]
    },
    {
      "cell_type": "code",
      "metadata": {
        "colab": {
          "base_uri": "https://localhost:8080/"
        },
        "id": "RBSTwW0qK8rf",
        "outputId": "597e2b7e-31bd-4582-9328-80ee23af0336"
      },
      "source": [
        "taxas_retorno.var() * 246"
      ],
      "execution_count": 77,
      "outputs": [
        {
          "output_type": "execute_result",
          "data": {
            "text/plain": [
              "GOL     0.654924\n",
              "CVC     0.295884\n",
              "WEGE    0.120987\n",
              "MGLU    0.438549\n",
              "TOTS    0.221007\n",
              "BOVA    0.073654\n",
              "dtype: float64"
            ]
          },
          "metadata": {},
          "execution_count": 77
        }
      ]
    },
    {
      "cell_type": "code",
      "metadata": {
        "colab": {
          "base_uri": "https://localhost:8080/"
        },
        "id": "ANESMtW1LcSA",
        "outputId": "2685a658-0710-41e2-c1fb-11a0bc3c6c20"
      },
      "source": [
        "variancia_pesos1 = (taxas_retorno.var() * 246) * pesos1\n",
        "variancia_pesos1"
      ],
      "execution_count": 78,
      "outputs": [
        {
          "output_type": "execute_result",
          "data": {
            "text/plain": [
              "GOL     0.130985\n",
              "CVC     0.059177\n",
              "WEGE    0.024197\n",
              "MGLU    0.087710\n",
              "TOTS    0.044201\n",
              "BOVA    0.000000\n",
              "dtype: float64"
            ]
          },
          "metadata": {},
          "execution_count": 78
        }
      ]
    },
    {
      "cell_type": "code",
      "metadata": {
        "colab": {
          "base_uri": "https://localhost:8080/"
        },
        "id": "nONXZUzyLzfD",
        "outputId": "4ac0edcb-a4ed-473f-a317-336a36ff6c3a"
      },
      "source": [
        "sub1 = - variancia_pesos1[0] - variancia_pesos1[1] - variancia_pesos1[2] - variancia_pesos1[3] - variancia_pesos1[4] - variancia_pesos1[5] #Atualizado: 02/05/2021\n",
        "sub1"
      ],
      "execution_count": 79,
      "outputs": [
        {
          "output_type": "execute_result",
          "data": {
            "text/plain": [
              "-0.34627025459782085"
            ]
          },
          "metadata": {},
          "execution_count": 79
        }
      ]
    },
    {
      "cell_type": "code",
      "metadata": {
        "colab": {
          "base_uri": "https://localhost:8080/"
        },
        "id": "34Q_JMRMMIUT",
        "outputId": "84d6cfaf-faf1-4022-8b70-6d4091c0615e"
      },
      "source": [
        "variancia_portfolio1"
      ],
      "execution_count": 80,
      "outputs": [
        {
          "output_type": "execute_result",
          "data": {
            "text/plain": [
              "0.14979967843761446"
            ]
          },
          "metadata": {},
          "execution_count": 80
        }
      ]
    },
    {
      "cell_type": "code",
      "metadata": {
        "colab": {
          "base_uri": "https://localhost:8080/"
        },
        "id": "L4q3AgcvMP0h",
        "outputId": "4e647634-a7fd-4353-a7a8-a50761f2ad7b"
      },
      "source": [
        "risco_nao_sistematico1 = (variancia_portfolio1 - sub1)\n",
        "risco_nao_sistematico1"
      ],
      "execution_count": 81,
      "outputs": [
        {
          "output_type": "execute_result",
          "data": {
            "text/plain": [
              "0.49606993303543534"
            ]
          },
          "metadata": {},
          "execution_count": 81
        }
      ]
    },
    {
      "cell_type": "code",
      "metadata": {
        "colab": {
          "base_uri": "https://localhost:8080/"
        },
        "id": "Wak9fBVoMqL7",
        "outputId": "46963cd2-ed19-4ad5-a6d4-be0259ca6e92"
      },
      "source": [
        "variancia_pesos2 = (taxas_retorno.var() * 246) * pesos2\n",
        "variancia_pesos2"
      ],
      "execution_count": 82,
      "outputs": [
        {
          "output_type": "execute_result",
          "data": {
            "text/plain": [
              "GOL     0.000000\n",
              "CVC     0.000000\n",
              "WEGE    0.000000\n",
              "MGLU    0.000000\n",
              "TOTS    0.000000\n",
              "BOVA    0.073654\n",
              "dtype: float64"
            ]
          },
          "metadata": {},
          "execution_count": 82
        }
      ]
    },
    {
      "cell_type": "code",
      "metadata": {
        "colab": {
          "base_uri": "https://localhost:8080/"
        },
        "id": "xWv0vjrAM1Kv",
        "outputId": "9aab21f4-a21d-4308-d5cb-58fb690f7a4f"
      },
      "source": [
        "sub2 = variancia_pesos2[0] - variancia_pesos2[1] - variancia_pesos2[2] - variancia_pesos2[3] - variancia_pesos2[4] - variancia_pesos2[5]\n",
        "sub2"
      ],
      "execution_count": 83,
      "outputs": [
        {
          "output_type": "execute_result",
          "data": {
            "text/plain": [
              "-0.07365354752228802"
            ]
          },
          "metadata": {},
          "execution_count": 83
        }
      ]
    },
    {
      "cell_type": "code",
      "metadata": {
        "colab": {
          "base_uri": "https://localhost:8080/"
        },
        "id": "eS3DGJgAM76q",
        "outputId": "4e0376ad-71c8-4bb3-fec4-db8e39d1a902"
      },
      "source": [
        "variancia_portfolio2"
      ],
      "execution_count": 84,
      "outputs": [
        {
          "output_type": "execute_result",
          "data": {
            "text/plain": [
              "0.07365354752228817"
            ]
          },
          "metadata": {},
          "execution_count": 84
        }
      ]
    },
    {
      "cell_type": "code",
      "metadata": {
        "colab": {
          "base_uri": "https://localhost:8080/"
        },
        "id": "9Aq29L-VNAJ0",
        "outputId": "64c11c39-0941-4d22-e52a-194dcd564634"
      },
      "source": [
        "risco_nao_sistematico2 = (variancia_portfolio2 - sub2)\n",
        "risco_nao_sistematico2"
      ],
      "execution_count": 85,
      "outputs": [
        {
          "output_type": "execute_result",
          "data": {
            "text/plain": [
              "0.14730709504457618"
            ]
          },
          "metadata": {},
          "execution_count": 85
        }
      ]
    },
    {
      "cell_type": "markdown",
      "metadata": {
        "id": "MAEA6W5lqAeu"
      },
      "source": [
        "## Exercício"
      ]
    },
    {
      "cell_type": "code",
      "metadata": {
        "colab": {
          "base_uri": "https://localhost:8080/",
          "height": 397
        },
        "id": "KdBstl18qCA5",
        "outputId": "7b9c9ae8-ee4b-492a-dbbd-3bd10cdcb000"
      },
      "source": [
        "dataset = pd.read_csv('acoes_ex.csv')\n",
        "dataset"
      ],
      "execution_count": 86,
      "outputs": [
        {
          "output_type": "error",
          "ename": "FileNotFoundError",
          "evalue": "ignored",
          "traceback": [
            "\u001b[0;31m---------------------------------------------------------------------------\u001b[0m",
            "\u001b[0;31mFileNotFoundError\u001b[0m                         Traceback (most recent call last)",
            "\u001b[0;32m<ipython-input-86-96b1e2888978>\u001b[0m in \u001b[0;36m<module>\u001b[0;34m()\u001b[0m\n\u001b[0;32m----> 1\u001b[0;31m \u001b[0mdataset\u001b[0m \u001b[0;34m=\u001b[0m \u001b[0mpd\u001b[0m\u001b[0;34m.\u001b[0m\u001b[0mread_csv\u001b[0m\u001b[0;34m(\u001b[0m\u001b[0;34m'acoes_ex.csv'\u001b[0m\u001b[0;34m)\u001b[0m\u001b[0;34m\u001b[0m\u001b[0;34m\u001b[0m\u001b[0m\n\u001b[0m\u001b[1;32m      2\u001b[0m \u001b[0mdataset\u001b[0m\u001b[0;34m\u001b[0m\u001b[0;34m\u001b[0m\u001b[0m\n",
            "\u001b[0;32m/usr/local/lib/python3.7/dist-packages/pandas/util/_decorators.py\u001b[0m in \u001b[0;36mwrapper\u001b[0;34m(*args, **kwargs)\u001b[0m\n\u001b[1;32m    309\u001b[0m                     \u001b[0mstacklevel\u001b[0m\u001b[0;34m=\u001b[0m\u001b[0mstacklevel\u001b[0m\u001b[0;34m,\u001b[0m\u001b[0;34m\u001b[0m\u001b[0;34m\u001b[0m\u001b[0m\n\u001b[1;32m    310\u001b[0m                 )\n\u001b[0;32m--> 311\u001b[0;31m             \u001b[0;32mreturn\u001b[0m \u001b[0mfunc\u001b[0m\u001b[0;34m(\u001b[0m\u001b[0;34m*\u001b[0m\u001b[0margs\u001b[0m\u001b[0;34m,\u001b[0m \u001b[0;34m**\u001b[0m\u001b[0mkwargs\u001b[0m\u001b[0;34m)\u001b[0m\u001b[0;34m\u001b[0m\u001b[0;34m\u001b[0m\u001b[0m\n\u001b[0m\u001b[1;32m    312\u001b[0m \u001b[0;34m\u001b[0m\u001b[0m\n\u001b[1;32m    313\u001b[0m         \u001b[0;32mreturn\u001b[0m \u001b[0mwrapper\u001b[0m\u001b[0;34m\u001b[0m\u001b[0;34m\u001b[0m\u001b[0m\n",
            "\u001b[0;32m/usr/local/lib/python3.7/dist-packages/pandas/io/parsers/readers.py\u001b[0m in \u001b[0;36mread_csv\u001b[0;34m(filepath_or_buffer, sep, delimiter, header, names, index_col, usecols, squeeze, prefix, mangle_dupe_cols, dtype, engine, converters, true_values, false_values, skipinitialspace, skiprows, skipfooter, nrows, na_values, keep_default_na, na_filter, verbose, skip_blank_lines, parse_dates, infer_datetime_format, keep_date_col, date_parser, dayfirst, cache_dates, iterator, chunksize, compression, thousands, decimal, lineterminator, quotechar, quoting, doublequote, escapechar, comment, encoding, encoding_errors, dialect, error_bad_lines, warn_bad_lines, on_bad_lines, delim_whitespace, low_memory, memory_map, float_precision, storage_options)\u001b[0m\n\u001b[1;32m    584\u001b[0m     \u001b[0mkwds\u001b[0m\u001b[0;34m.\u001b[0m\u001b[0mupdate\u001b[0m\u001b[0;34m(\u001b[0m\u001b[0mkwds_defaults\u001b[0m\u001b[0;34m)\u001b[0m\u001b[0;34m\u001b[0m\u001b[0;34m\u001b[0m\u001b[0m\n\u001b[1;32m    585\u001b[0m \u001b[0;34m\u001b[0m\u001b[0m\n\u001b[0;32m--> 586\u001b[0;31m     \u001b[0;32mreturn\u001b[0m \u001b[0m_read\u001b[0m\u001b[0;34m(\u001b[0m\u001b[0mfilepath_or_buffer\u001b[0m\u001b[0;34m,\u001b[0m \u001b[0mkwds\u001b[0m\u001b[0;34m)\u001b[0m\u001b[0;34m\u001b[0m\u001b[0;34m\u001b[0m\u001b[0m\n\u001b[0m\u001b[1;32m    587\u001b[0m \u001b[0;34m\u001b[0m\u001b[0m\n\u001b[1;32m    588\u001b[0m \u001b[0;34m\u001b[0m\u001b[0m\n",
            "\u001b[0;32m/usr/local/lib/python3.7/dist-packages/pandas/io/parsers/readers.py\u001b[0m in \u001b[0;36m_read\u001b[0;34m(filepath_or_buffer, kwds)\u001b[0m\n\u001b[1;32m    480\u001b[0m \u001b[0;34m\u001b[0m\u001b[0m\n\u001b[1;32m    481\u001b[0m     \u001b[0;31m# Create the parser.\u001b[0m\u001b[0;34m\u001b[0m\u001b[0;34m\u001b[0m\u001b[0;34m\u001b[0m\u001b[0m\n\u001b[0;32m--> 482\u001b[0;31m     \u001b[0mparser\u001b[0m \u001b[0;34m=\u001b[0m \u001b[0mTextFileReader\u001b[0m\u001b[0;34m(\u001b[0m\u001b[0mfilepath_or_buffer\u001b[0m\u001b[0;34m,\u001b[0m \u001b[0;34m**\u001b[0m\u001b[0mkwds\u001b[0m\u001b[0;34m)\u001b[0m\u001b[0;34m\u001b[0m\u001b[0;34m\u001b[0m\u001b[0m\n\u001b[0m\u001b[1;32m    483\u001b[0m \u001b[0;34m\u001b[0m\u001b[0m\n\u001b[1;32m    484\u001b[0m     \u001b[0;32mif\u001b[0m \u001b[0mchunksize\u001b[0m \u001b[0;32mor\u001b[0m \u001b[0miterator\u001b[0m\u001b[0;34m:\u001b[0m\u001b[0;34m\u001b[0m\u001b[0;34m\u001b[0m\u001b[0m\n",
            "\u001b[0;32m/usr/local/lib/python3.7/dist-packages/pandas/io/parsers/readers.py\u001b[0m in \u001b[0;36m__init__\u001b[0;34m(self, f, engine, **kwds)\u001b[0m\n\u001b[1;32m    809\u001b[0m             \u001b[0mself\u001b[0m\u001b[0;34m.\u001b[0m\u001b[0moptions\u001b[0m\u001b[0;34m[\u001b[0m\u001b[0;34m\"has_index_names\"\u001b[0m\u001b[0;34m]\u001b[0m \u001b[0;34m=\u001b[0m \u001b[0mkwds\u001b[0m\u001b[0;34m[\u001b[0m\u001b[0;34m\"has_index_names\"\u001b[0m\u001b[0;34m]\u001b[0m\u001b[0;34m\u001b[0m\u001b[0;34m\u001b[0m\u001b[0m\n\u001b[1;32m    810\u001b[0m \u001b[0;34m\u001b[0m\u001b[0m\n\u001b[0;32m--> 811\u001b[0;31m         \u001b[0mself\u001b[0m\u001b[0;34m.\u001b[0m\u001b[0m_engine\u001b[0m \u001b[0;34m=\u001b[0m \u001b[0mself\u001b[0m\u001b[0;34m.\u001b[0m\u001b[0m_make_engine\u001b[0m\u001b[0;34m(\u001b[0m\u001b[0mself\u001b[0m\u001b[0;34m.\u001b[0m\u001b[0mengine\u001b[0m\u001b[0;34m)\u001b[0m\u001b[0;34m\u001b[0m\u001b[0;34m\u001b[0m\u001b[0m\n\u001b[0m\u001b[1;32m    812\u001b[0m \u001b[0;34m\u001b[0m\u001b[0m\n\u001b[1;32m    813\u001b[0m     \u001b[0;32mdef\u001b[0m \u001b[0mclose\u001b[0m\u001b[0;34m(\u001b[0m\u001b[0mself\u001b[0m\u001b[0;34m)\u001b[0m\u001b[0;34m:\u001b[0m\u001b[0;34m\u001b[0m\u001b[0;34m\u001b[0m\u001b[0m\n",
            "\u001b[0;32m/usr/local/lib/python3.7/dist-packages/pandas/io/parsers/readers.py\u001b[0m in \u001b[0;36m_make_engine\u001b[0;34m(self, engine)\u001b[0m\n\u001b[1;32m   1038\u001b[0m             )\n\u001b[1;32m   1039\u001b[0m         \u001b[0;31m# error: Too many arguments for \"ParserBase\"\u001b[0m\u001b[0;34m\u001b[0m\u001b[0;34m\u001b[0m\u001b[0;34m\u001b[0m\u001b[0m\n\u001b[0;32m-> 1040\u001b[0;31m         \u001b[0;32mreturn\u001b[0m \u001b[0mmapping\u001b[0m\u001b[0;34m[\u001b[0m\u001b[0mengine\u001b[0m\u001b[0;34m]\u001b[0m\u001b[0;34m(\u001b[0m\u001b[0mself\u001b[0m\u001b[0;34m.\u001b[0m\u001b[0mf\u001b[0m\u001b[0;34m,\u001b[0m \u001b[0;34m**\u001b[0m\u001b[0mself\u001b[0m\u001b[0;34m.\u001b[0m\u001b[0moptions\u001b[0m\u001b[0;34m)\u001b[0m  \u001b[0;31m# type: ignore[call-arg]\u001b[0m\u001b[0;34m\u001b[0m\u001b[0;34m\u001b[0m\u001b[0m\n\u001b[0m\u001b[1;32m   1041\u001b[0m \u001b[0;34m\u001b[0m\u001b[0m\n\u001b[1;32m   1042\u001b[0m     \u001b[0;32mdef\u001b[0m \u001b[0m_failover_to_python\u001b[0m\u001b[0;34m(\u001b[0m\u001b[0mself\u001b[0m\u001b[0;34m)\u001b[0m\u001b[0;34m:\u001b[0m\u001b[0;34m\u001b[0m\u001b[0;34m\u001b[0m\u001b[0m\n",
            "\u001b[0;32m/usr/local/lib/python3.7/dist-packages/pandas/io/parsers/c_parser_wrapper.py\u001b[0m in \u001b[0;36m__init__\u001b[0;34m(self, src, **kwds)\u001b[0m\n\u001b[1;32m     49\u001b[0m \u001b[0;34m\u001b[0m\u001b[0m\n\u001b[1;32m     50\u001b[0m         \u001b[0;31m# open handles\u001b[0m\u001b[0;34m\u001b[0m\u001b[0;34m\u001b[0m\u001b[0;34m\u001b[0m\u001b[0m\n\u001b[0;32m---> 51\u001b[0;31m         \u001b[0mself\u001b[0m\u001b[0;34m.\u001b[0m\u001b[0m_open_handles\u001b[0m\u001b[0;34m(\u001b[0m\u001b[0msrc\u001b[0m\u001b[0;34m,\u001b[0m \u001b[0mkwds\u001b[0m\u001b[0;34m)\u001b[0m\u001b[0;34m\u001b[0m\u001b[0;34m\u001b[0m\u001b[0m\n\u001b[0m\u001b[1;32m     52\u001b[0m         \u001b[0;32massert\u001b[0m \u001b[0mself\u001b[0m\u001b[0;34m.\u001b[0m\u001b[0mhandles\u001b[0m \u001b[0;32mis\u001b[0m \u001b[0;32mnot\u001b[0m \u001b[0;32mNone\u001b[0m\u001b[0;34m\u001b[0m\u001b[0;34m\u001b[0m\u001b[0m\n\u001b[1;32m     53\u001b[0m \u001b[0;34m\u001b[0m\u001b[0m\n",
            "\u001b[0;32m/usr/local/lib/python3.7/dist-packages/pandas/io/parsers/base_parser.py\u001b[0m in \u001b[0;36m_open_handles\u001b[0;34m(self, src, kwds)\u001b[0m\n\u001b[1;32m    227\u001b[0m             \u001b[0mmemory_map\u001b[0m\u001b[0;34m=\u001b[0m\u001b[0mkwds\u001b[0m\u001b[0;34m.\u001b[0m\u001b[0mget\u001b[0m\u001b[0;34m(\u001b[0m\u001b[0;34m\"memory_map\"\u001b[0m\u001b[0;34m,\u001b[0m \u001b[0;32mFalse\u001b[0m\u001b[0;34m)\u001b[0m\u001b[0;34m,\u001b[0m\u001b[0;34m\u001b[0m\u001b[0;34m\u001b[0m\u001b[0m\n\u001b[1;32m    228\u001b[0m             \u001b[0mstorage_options\u001b[0m\u001b[0;34m=\u001b[0m\u001b[0mkwds\u001b[0m\u001b[0;34m.\u001b[0m\u001b[0mget\u001b[0m\u001b[0;34m(\u001b[0m\u001b[0;34m\"storage_options\"\u001b[0m\u001b[0;34m,\u001b[0m \u001b[0;32mNone\u001b[0m\u001b[0;34m)\u001b[0m\u001b[0;34m,\u001b[0m\u001b[0;34m\u001b[0m\u001b[0;34m\u001b[0m\u001b[0m\n\u001b[0;32m--> 229\u001b[0;31m             \u001b[0merrors\u001b[0m\u001b[0;34m=\u001b[0m\u001b[0mkwds\u001b[0m\u001b[0;34m.\u001b[0m\u001b[0mget\u001b[0m\u001b[0;34m(\u001b[0m\u001b[0;34m\"encoding_errors\"\u001b[0m\u001b[0;34m,\u001b[0m \u001b[0;34m\"strict\"\u001b[0m\u001b[0;34m)\u001b[0m\u001b[0;34m,\u001b[0m\u001b[0;34m\u001b[0m\u001b[0;34m\u001b[0m\u001b[0m\n\u001b[0m\u001b[1;32m    230\u001b[0m         )\n\u001b[1;32m    231\u001b[0m \u001b[0;34m\u001b[0m\u001b[0m\n",
            "\u001b[0;32m/usr/local/lib/python3.7/dist-packages/pandas/io/common.py\u001b[0m in \u001b[0;36mget_handle\u001b[0;34m(path_or_buf, mode, encoding, compression, memory_map, is_text, errors, storage_options)\u001b[0m\n\u001b[1;32m    705\u001b[0m                 \u001b[0mencoding\u001b[0m\u001b[0;34m=\u001b[0m\u001b[0mioargs\u001b[0m\u001b[0;34m.\u001b[0m\u001b[0mencoding\u001b[0m\u001b[0;34m,\u001b[0m\u001b[0;34m\u001b[0m\u001b[0;34m\u001b[0m\u001b[0m\n\u001b[1;32m    706\u001b[0m                 \u001b[0merrors\u001b[0m\u001b[0;34m=\u001b[0m\u001b[0merrors\u001b[0m\u001b[0;34m,\u001b[0m\u001b[0;34m\u001b[0m\u001b[0;34m\u001b[0m\u001b[0m\n\u001b[0;32m--> 707\u001b[0;31m                 \u001b[0mnewline\u001b[0m\u001b[0;34m=\u001b[0m\u001b[0;34m\"\"\u001b[0m\u001b[0;34m,\u001b[0m\u001b[0;34m\u001b[0m\u001b[0;34m\u001b[0m\u001b[0m\n\u001b[0m\u001b[1;32m    708\u001b[0m             )\n\u001b[1;32m    709\u001b[0m         \u001b[0;32melse\u001b[0m\u001b[0;34m:\u001b[0m\u001b[0;34m\u001b[0m\u001b[0;34m\u001b[0m\u001b[0m\n",
            "\u001b[0;31mFileNotFoundError\u001b[0m: [Errno 2] No such file or directory: 'acoes_ex.csv'"
          ]
        }
      ]
    },
    {
      "cell_type": "code",
      "metadata": {
        "id": "w6nJw2ETqKGQ"
      },
      "source": [
        "dataset.drop(labels=['Date'], axis = 1, inplace = True)\n",
        "dataset.head()"
      ],
      "execution_count": null,
      "outputs": []
    },
    {
      "cell_type": "code",
      "metadata": {
        "id": "gKxOPCrxrDPs"
      },
      "source": [
        "taxas_retorno = (dataset / dataset.shift(1)) - 1\n",
        "taxas_retorno"
      ],
      "execution_count": null,
      "outputs": []
    },
    {
      "cell_type": "code",
      "metadata": {
        "id": "hsjpcPaSNvG8"
      },
      "source": [
        "# Empresas BOVA: http://bvmf.bmfbovespa.com.br/indices/ResumoCarteiraQuadrimestre.aspx?Indice=IBOV&idioma=pt-br\n",
        "plt.figure(figsize=(8,8))\n",
        "sns.heatmap(taxas_retorno.corr(), annot=True);"
      ],
      "execution_count": null,
      "outputs": []
    },
    {
      "cell_type": "code",
      "metadata": {
        "id": "sq9Ahe4frGqE"
      },
      "source": [
        "taxas_retorno.std() * math.sqrt(246) # Anualizado"
      ],
      "execution_count": null,
      "outputs": []
    },
    {
      "cell_type": "code",
      "metadata": {
        "id": "0XHlmb4jrMjn"
      },
      "source": [
        "pesos1 = np.array([0.2, 0.2, 0.2, 0.2, 0.2, 0.0])"
      ],
      "execution_count": null,
      "outputs": []
    },
    {
      "cell_type": "code",
      "metadata": {
        "id": "CyzleQy4Qjno"
      },
      "source": [
        "variancia_portfolio1 = np.dot(pesos1, np.dot(taxas_retorno.cov() * 246, pesos1))\n",
        "variancia_portfolio1"
      ],
      "execution_count": null,
      "outputs": []
    },
    {
      "cell_type": "code",
      "metadata": {
        "id": "6V2Le03ZrO0e"
      },
      "source": [
        "volatidade_portfolio1 = math.sqrt(np.dot(pesos1, np.dot(taxas_retorno.cov() * 246, pesos1)))\n",
        "volatidade_portfolio1"
      ],
      "execution_count": null,
      "outputs": []
    },
    {
      "cell_type": "code",
      "metadata": {
        "id": "v-Cd9Oj1rgcL"
      },
      "source": [
        "variancia_acoes1 = (taxas_retorno.var() * 246) * pesos1\n",
        "sub = variancia_acoes1[0] - variancia_acoes1[1] - variancia_acoes1[2] - variancia_acoes1[3] - variancia_acoes1[4] - variancia_acoes1[5] \n",
        "risco_nao_sistematico1 = (variancia_portfolio1 - sub)\n",
        "risco_nao_sistematico1"
      ],
      "execution_count": null,
      "outputs": []
    },
    {
      "cell_type": "code",
      "metadata": {
        "id": "cYGbYfJOrW9Y"
      },
      "source": [
        "pesos2 = np.array([0.0, 0.0, 0.0, 0.0, 0.0, 1.0])"
      ],
      "execution_count": null,
      "outputs": []
    },
    {
      "cell_type": "code",
      "metadata": {
        "id": "-NL-exKcRGAx"
      },
      "source": [
        "variancia_portfolio2 = np.dot(pesos2, np.dot(taxas_retorno.cov() * 246, pesos2))\n",
        "variancia_portfolio2"
      ],
      "execution_count": null,
      "outputs": []
    },
    {
      "cell_type": "code",
      "metadata": {
        "id": "4PBrxmYnraIE"
      },
      "source": [
        "volatidade_portfolio2 = math.sqrt(np.dot(pesos2, np.dot(taxas_retorno.cov() * 246, pesos2)))\n",
        "volatidade_portfolio2"
      ],
      "execution_count": null,
      "outputs": []
    },
    {
      "cell_type": "code",
      "metadata": {
        "id": "kN6M3UXhru9i"
      },
      "source": [
        "variancia_acoes2 = (taxas_retorno.var() * 246) * pesos2\n",
        "sub = variancia_acoes2[0] - variancia_acoes2[1] - variancia_acoes2[2] - variancia_acoes2[3] - variancia_acoes2[4] - variancia_acoes2[5] \n",
        "risco_nao_sistematico2 = (variancia_portfolio2 - sub)\n",
        "risco_nao_sistematico2"
      ],
      "execution_count": null,
      "outputs": []
    }
  ]
}